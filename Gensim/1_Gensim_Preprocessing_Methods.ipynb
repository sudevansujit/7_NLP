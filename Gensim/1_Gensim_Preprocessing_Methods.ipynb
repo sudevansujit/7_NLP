{
 "cells": [
  {
   "cell_type": "code",
   "execution_count": 21,
   "metadata": {},
   "outputs": [],
   "source": [
    "import pandas as pd\n",
    "import numpy as np\n"
   ]
  },
  {
   "cell_type": "code",
   "execution_count": 22,
   "metadata": {},
   "outputs": [
    {
     "data": {
      "text/html": [
       "<div>\n",
       "<style scoped>\n",
       "    .dataframe tbody tr th:only-of-type {\n",
       "        vertical-align: middle;\n",
       "    }\n",
       "\n",
       "    .dataframe tbody tr th {\n",
       "        vertical-align: top;\n",
       "    }\n",
       "\n",
       "    .dataframe thead th {\n",
       "        text-align: right;\n",
       "    }\n",
       "</style>\n",
       "<table border=\"1\" class=\"dataframe\">\n",
       "  <thead>\n",
       "    <tr style=\"text-align: right;\">\n",
       "      <th></th>\n",
       "      <th>category</th>\n",
       "      <th>text</th>\n",
       "    </tr>\n",
       "  </thead>\n",
       "  <tbody>\n",
       "    <tr>\n",
       "      <th>0</th>\n",
       "      <td>tech</td>\n",
       "      <td>tv future in the hands of viewers with home th...</td>\n",
       "    </tr>\n",
       "    <tr>\n",
       "      <th>1</th>\n",
       "      <td>business</td>\n",
       "      <td>worldcom boss  left books alone  former worldc...</td>\n",
       "    </tr>\n",
       "    <tr>\n",
       "      <th>2</th>\n",
       "      <td>sport</td>\n",
       "      <td>tigers wary of farrell  gamble  leicester say ...</td>\n",
       "    </tr>\n",
       "    <tr>\n",
       "      <th>3</th>\n",
       "      <td>sport</td>\n",
       "      <td>yeading face newcastle in fa cup premiership s...</td>\n",
       "    </tr>\n",
       "    <tr>\n",
       "      <th>4</th>\n",
       "      <td>entertainment</td>\n",
       "      <td>ocean s twelve raids box office ocean s twelve...</td>\n",
       "    </tr>\n",
       "  </tbody>\n",
       "</table>\n",
       "</div>"
      ],
      "text/plain": [
       "        category                                               text\n",
       "0           tech  tv future in the hands of viewers with home th...\n",
       "1       business  worldcom boss  left books alone  former worldc...\n",
       "2          sport  tigers wary of farrell  gamble  leicester say ...\n",
       "3          sport  yeading face newcastle in fa cup premiership s...\n",
       "4  entertainment  ocean s twelve raids box office ocean s twelve..."
      ]
     },
     "execution_count": 22,
     "metadata": {},
     "output_type": "execute_result"
    }
   ],
   "source": [
    "data = pd.read_csv('bbc-text.csv')\n",
    "data[:5]"
   ]
  },
  {
   "cell_type": "code",
   "execution_count": 23,
   "metadata": {},
   "outputs": [
    {
     "data": {
      "text/plain": [
       "'tv future in the hands of viewers with home theatre systems  plasma high-definition tvs  and digital video recorders moving into the living room  the way people watch tv will be radically different in five years  time.  that is according to an expert panel which gathered at the annual consumer electronics show in las vegas to discuss how these new technologies will impact one of our favourite pastimes. with the us leading the trend  programmes and other content will be delivered to viewers via home networks  through cable  satellite  telecoms companies  and broadband service providers to front rooms and portable devices.  one of the most talked-about technologies of ces has been digital and personal video recorders (dvr and pvr). these set-top boxes  like the us s tivo and the uk s sky+ system  allow people to record  store  play  pause and forward wind tv programmes when they want.  essentially  the technology allows for much more personalised tv. they are also being built-in to high-definition tv sets  which are big business in japan and the us  but slower to take off in europe because of the lack of high-definition programming. not only can people forward wind through adverts  they can also forget about abiding by network and channel schedules  putting together their own a-la-carte entertainment. but some us networks and cable and satellite companies are worried about what it means for them in terms of advertising revenues as well as  brand identity  and viewer loyalty to channels. although the us leads in this technology at the moment  it is also a concern that is being raised in europe  particularly with the growing uptake of services like sky+.  what happens here today  we will see in nine months to a years  time in the uk   adam hume  the bbc broadcast s futurologist told the bbc news website. for the likes of the bbc  there are no issues of lost advertising revenue yet. it is a more pressing issue at the moment for commercial uk broadcasters  but brand loyalty is important for everyone.  we will be talking more about content brands rather than network brands   said tim hanlon  from brand communications firm starcom mediavest.  the reality is that with broadband connections  anybody can be the producer of content.  he added:  the challenge now is that it is hard to promote a programme with so much choice.   what this means  said stacey jolna  senior vice president of tv guide tv group  is that the way people find the content they want to watch has to be simplified for tv viewers. it means that networks  in us terms  or channels could take a leaf out of google s book and be the search engine of the future  instead of the scheduler to help people find what they want to watch. this kind of channel model might work for the younger ipod generation which is used to taking control of their gadgets and what they play on them. but it might not suit everyone  the panel recognised. older generations are more comfortable with familiar schedules and channel brands because they know what they are getting. they perhaps do not want so much of the choice put into their hands  mr hanlon suggested.  on the other end  you have the kids just out of diapers who are pushing buttons already - everything is possible and available to them   said mr hanlon.  ultimately  the consumer will tell the market they want.   of the 50 000 new gadgets and technologies being showcased at ces  many of them are about enhancing the tv-watching experience. high-definition tv sets are everywhere and many new models of lcd (liquid crystal display) tvs have been launched with dvr capability built into them  instead of being external boxes. one such example launched at the show is humax s 26-inch lcd tv with an 80-hour tivo dvr and dvd recorder. one of the us s biggest satellite tv companies  directtv  has even launched its own branded dvr at the show with 100-hours of recording capability  instant replay  and a search function. the set can pause and rewind tv for up to 90 hours. and microsoft chief bill gates announced in his pre-show keynote speech a partnership with tivo  called tivotogo  which means people can play recorded programmes on windows pcs and mobile devices. all these reflect the increasing trend of freeing up multimedia so that people can watch what they want  when they want.'"
      ]
     },
     "execution_count": 23,
     "metadata": {},
     "output_type": "execute_result"
    }
   ],
   "source": [
    "mydata = data.text.loc[0]\n",
    "mydata"
   ]
  },
  {
   "cell_type": "code",
   "execution_count": 24,
   "metadata": {},
   "outputs": [
    {
     "data": {
      "text/plain": [
       "4333"
      ]
     },
     "execution_count": 24,
     "metadata": {},
     "output_type": "execute_result"
    }
   ],
   "source": [
    "len(mydata)"
   ]
  },
  {
   "cell_type": "markdown",
   "metadata": {},
   "source": [
    "### 1. Remove_Stopwords"
   ]
  },
  {
   "cell_type": "code",
   "execution_count": 25,
   "metadata": {},
   "outputs": [],
   "source": [
    "from gensim.parsing.preprocessing import remove_stopwords"
   ]
  },
  {
   "cell_type": "code",
   "execution_count": 26,
   "metadata": {},
   "outputs": [
    {
     "data": {
      "text/plain": [
       "'tv future hands viewers home theatre systems plasma high-definition tvs digital video recorders moving living room way people watch tv radically different years time. according expert panel gathered annual consumer electronics las vegas discuss new technologies impact favourite pastimes. leading trend programmes content delivered viewers home networks cable satellite telecoms companies broadband service providers rooms portable devices. talked-about technologies ces digital personal video recorders (dvr pvr). set-top boxes like s tivo uk s sky+ allow people record store play pause forward wind tv programmes want. essentially technology allows personalised tv. built-in high-definition tv sets big business japan slower europe lack high-definition programming. people forward wind adverts forget abiding network channel schedules putting a-la-carte entertainment. networks cable satellite companies worried means terms advertising revenues brand identity viewer loyalty channels. leads technology moment concern raised europe particularly growing uptake services like sky+. happens today months years time uk adam hume bbc broadcast s futurologist told bbc news website. likes bbc issues lost advertising revenue yet. pressing issue moment commercial uk broadcasters brand loyalty important everyone. talking content brands network brands said tim hanlon brand communications firm starcom mediavest. reality broadband connections anybody producer content. added: challenge hard promote programme choice. means said stacey jolna senior vice president tv guide tv group way people content want watch simplified tv viewers. means networks terms channels leaf google s book search engine future instead scheduler help people want watch. kind channel model work younger ipod generation taking control gadgets play them. suit panel recognised. older generations comfortable familiar schedules channel brands know getting. want choice hands mr hanlon suggested. end kids diapers pushing buttons - possible available said mr hanlon. ultimately consumer tell market want. 50 000 new gadgets technologies showcased ces enhancing tv-watching experience. high-definition tv sets new models lcd (liquid crystal display) tvs launched dvr capability built instead external boxes. example launched humax s 26-inch lcd tv 80-hour tivo dvr dvd recorder. s biggest satellite tv companies directtv launched branded dvr 100-hours recording capability instant replay search function. set pause rewind tv 90 hours. microsoft chief gates announced pre-show keynote speech partnership tivo called tivotogo means people play recorded programmes windows pcs mobile devices. reflect increasing trend freeing multimedia people watch want want.'"
      ]
     },
     "execution_count": 26,
     "metadata": {},
     "output_type": "execute_result"
    }
   ],
   "source": [
    "mydata_stopremoved = remove_stopwords(mydata)\n",
    "mydata_stopremoved"
   ]
  },
  {
   "cell_type": "code",
   "execution_count": 27,
   "metadata": {},
   "outputs": [
    {
     "data": {
      "text/plain": [
       "2721"
      ]
     },
     "execution_count": 27,
     "metadata": {},
     "output_type": "execute_result"
    }
   ],
   "source": [
    "len(mydata_stopremoved)"
   ]
  },
  {
   "cell_type": "markdown",
   "metadata": {},
   "source": [
    "### 2. Preprocess_string"
   ]
  },
  {
   "cell_type": "code",
   "execution_count": 28,
   "metadata": {},
   "outputs": [],
   "source": [
    "from gensim.parsing.preprocessing import preprocess_string"
   ]
  },
  {
   "cell_type": "code",
   "execution_count": 29,
   "metadata": {},
   "outputs": [
    {
     "data": {
      "text/plain": [
       "['hel', 'rld', 'weather', 'todai', 'isn']"
      ]
     },
     "execution_count": 29,
     "metadata": {},
     "output_type": "execute_result"
    }
   ],
   "source": [
    "preprocess_string(\"<i>Hel 9lo</i> <b>Wo9 rld</b>! Th3     weather_is really g00d today, isn't it?\")"
   ]
  },
  {
   "cell_type": "code",
   "execution_count": 30,
   "metadata": {},
   "outputs": [
    {
     "data": {
      "text/plain": [
       "['futur',\n",
       " 'hand',\n",
       " 'viewer',\n",
       " 'home',\n",
       " 'theatr',\n",
       " 'system',\n",
       " 'plasma',\n",
       " 'high',\n",
       " 'definit',\n",
       " 'tv',\n",
       " 'digit',\n",
       " 'video',\n",
       " 'record',\n",
       " 'move',\n",
       " 'live',\n",
       " 'room',\n",
       " 'wai',\n",
       " 'peopl',\n",
       " 'watch',\n",
       " 'radic',\n",
       " 'differ',\n",
       " 'year',\n",
       " 'time',\n",
       " 'accord',\n",
       " 'expert',\n",
       " 'panel',\n",
       " 'gather',\n",
       " 'annual',\n",
       " 'consum',\n",
       " 'electron',\n",
       " 'la',\n",
       " 'vega',\n",
       " 'discuss',\n",
       " 'new',\n",
       " 'technolog',\n",
       " 'impact',\n",
       " 'favourit',\n",
       " 'pastim',\n",
       " 'lead',\n",
       " 'trend',\n",
       " 'programm',\n",
       " 'content',\n",
       " 'deliv',\n",
       " 'viewer',\n",
       " 'home',\n",
       " 'network',\n",
       " 'cabl',\n",
       " 'satellit',\n",
       " 'telecom',\n",
       " 'compani',\n",
       " 'broadband',\n",
       " 'servic',\n",
       " 'provid',\n",
       " 'room',\n",
       " 'portabl',\n",
       " 'devic',\n",
       " 'talk',\n",
       " 'technolog',\n",
       " 'ce',\n",
       " 'digit',\n",
       " 'person',\n",
       " 'video',\n",
       " 'record',\n",
       " 'dvr',\n",
       " 'pvr',\n",
       " 'set',\n",
       " 'box',\n",
       " 'like',\n",
       " 'tivo',\n",
       " 'sky',\n",
       " 'allow',\n",
       " 'peopl',\n",
       " 'record',\n",
       " 'store',\n",
       " 'plai',\n",
       " 'paus',\n",
       " 'forward',\n",
       " 'wind',\n",
       " 'programm',\n",
       " 'want',\n",
       " 'essenti',\n",
       " 'technolog',\n",
       " 'allow',\n",
       " 'personalis',\n",
       " 'built',\n",
       " 'high',\n",
       " 'definit',\n",
       " 'set',\n",
       " 'big',\n",
       " 'busi',\n",
       " 'japan',\n",
       " 'slower',\n",
       " 'europ',\n",
       " 'lack',\n",
       " 'high',\n",
       " 'definit',\n",
       " 'program',\n",
       " 'peopl',\n",
       " 'forward',\n",
       " 'wind',\n",
       " 'advert',\n",
       " 'forget',\n",
       " 'abid',\n",
       " 'network',\n",
       " 'channel',\n",
       " 'schedul',\n",
       " 'put',\n",
       " 'cart',\n",
       " 'entertain',\n",
       " 'network',\n",
       " 'cabl',\n",
       " 'satellit',\n",
       " 'compani',\n",
       " 'worri',\n",
       " 'mean',\n",
       " 'term',\n",
       " 'advertis',\n",
       " 'revenu',\n",
       " 'brand',\n",
       " 'ident',\n",
       " 'viewer',\n",
       " 'loyalti',\n",
       " 'channel',\n",
       " 'lead',\n",
       " 'technolog',\n",
       " 'moment',\n",
       " 'concern',\n",
       " 'rais',\n",
       " 'europ',\n",
       " 'particularli',\n",
       " 'grow',\n",
       " 'uptak',\n",
       " 'servic',\n",
       " 'like',\n",
       " 'sky',\n",
       " 'happen',\n",
       " 'todai',\n",
       " 'month',\n",
       " 'year',\n",
       " 'time',\n",
       " 'adam',\n",
       " 'hume',\n",
       " 'bbc',\n",
       " 'broadcast',\n",
       " 'futurologist',\n",
       " 'told',\n",
       " 'bbc',\n",
       " 'new',\n",
       " 'websit',\n",
       " 'like',\n",
       " 'bbc',\n",
       " 'issu',\n",
       " 'lost',\n",
       " 'advertis',\n",
       " 'revenu',\n",
       " 'press',\n",
       " 'issu',\n",
       " 'moment',\n",
       " 'commerci',\n",
       " 'broadcast',\n",
       " 'brand',\n",
       " 'loyalti',\n",
       " 'import',\n",
       " 'talk',\n",
       " 'content',\n",
       " 'brand',\n",
       " 'network',\n",
       " 'brand',\n",
       " 'said',\n",
       " 'tim',\n",
       " 'hanlon',\n",
       " 'brand',\n",
       " 'commun',\n",
       " 'firm',\n",
       " 'starcom',\n",
       " 'mediavest',\n",
       " 'realiti',\n",
       " 'broadband',\n",
       " 'connect',\n",
       " 'anybodi',\n",
       " 'produc',\n",
       " 'content',\n",
       " 'ad',\n",
       " 'challeng',\n",
       " 'hard',\n",
       " 'promot',\n",
       " 'programm',\n",
       " 'choic',\n",
       " 'mean',\n",
       " 'said',\n",
       " 'stacei',\n",
       " 'jolna',\n",
       " 'senior',\n",
       " 'vice',\n",
       " 'presid',\n",
       " 'guid',\n",
       " 'group',\n",
       " 'wai',\n",
       " 'peopl',\n",
       " 'content',\n",
       " 'want',\n",
       " 'watch',\n",
       " 'simplifi',\n",
       " 'viewer',\n",
       " 'mean',\n",
       " 'network',\n",
       " 'term',\n",
       " 'channel',\n",
       " 'leaf',\n",
       " 'googl',\n",
       " 'book',\n",
       " 'search',\n",
       " 'engin',\n",
       " 'futur',\n",
       " 'instead',\n",
       " 'schedul',\n",
       " 'help',\n",
       " 'peopl',\n",
       " 'want',\n",
       " 'watch',\n",
       " 'kind',\n",
       " 'channel',\n",
       " 'model',\n",
       " 'work',\n",
       " 'younger',\n",
       " 'ipod',\n",
       " 'gener',\n",
       " 'take',\n",
       " 'control',\n",
       " 'gadget',\n",
       " 'plai',\n",
       " 'suit',\n",
       " 'panel',\n",
       " 'recognis',\n",
       " 'older',\n",
       " 'gener',\n",
       " 'comfort',\n",
       " 'familiar',\n",
       " 'schedul',\n",
       " 'channel',\n",
       " 'brand',\n",
       " 'know',\n",
       " 'get',\n",
       " 'want',\n",
       " 'choic',\n",
       " 'hand',\n",
       " 'hanlon',\n",
       " 'suggest',\n",
       " 'end',\n",
       " 'kid',\n",
       " 'diaper',\n",
       " 'push',\n",
       " 'button',\n",
       " 'possibl',\n",
       " 'avail',\n",
       " 'said',\n",
       " 'hanlon',\n",
       " 'ultim',\n",
       " 'consum',\n",
       " 'tell',\n",
       " 'market',\n",
       " 'want',\n",
       " 'new',\n",
       " 'gadget',\n",
       " 'technolog',\n",
       " 'showcas',\n",
       " 'ce',\n",
       " 'enhanc',\n",
       " 'watch',\n",
       " 'experi',\n",
       " 'high',\n",
       " 'definit',\n",
       " 'set',\n",
       " 'new',\n",
       " 'model',\n",
       " 'lcd',\n",
       " 'liquid',\n",
       " 'crystal',\n",
       " 'displai',\n",
       " 'tv',\n",
       " 'launch',\n",
       " 'dvr',\n",
       " 'capabl',\n",
       " 'built',\n",
       " 'instead',\n",
       " 'extern',\n",
       " 'box',\n",
       " 'exampl',\n",
       " 'launch',\n",
       " 'humax',\n",
       " 'inch',\n",
       " 'lcd',\n",
       " 'hour',\n",
       " 'tivo',\n",
       " 'dvr',\n",
       " 'dvd',\n",
       " 'record',\n",
       " 'biggest',\n",
       " 'satellit',\n",
       " 'compani',\n",
       " 'directtv',\n",
       " 'launch',\n",
       " 'brand',\n",
       " 'dvr',\n",
       " 'hour',\n",
       " 'record',\n",
       " 'capabl',\n",
       " 'instant',\n",
       " 'replai',\n",
       " 'search',\n",
       " 'function',\n",
       " 'set',\n",
       " 'paus',\n",
       " 'rewind',\n",
       " 'hour',\n",
       " 'microsoft',\n",
       " 'chief',\n",
       " 'gate',\n",
       " 'announc',\n",
       " 'pre',\n",
       " 'keynot',\n",
       " 'speech',\n",
       " 'partnership',\n",
       " 'tivo',\n",
       " 'call',\n",
       " 'tivotogo',\n",
       " 'mean',\n",
       " 'peopl',\n",
       " 'plai',\n",
       " 'record',\n",
       " 'programm',\n",
       " 'window',\n",
       " 'pc',\n",
       " 'mobil',\n",
       " 'devic',\n",
       " 'reflect',\n",
       " 'increas',\n",
       " 'trend',\n",
       " 'free',\n",
       " 'multimedia',\n",
       " 'peopl',\n",
       " 'watch',\n",
       " 'want',\n",
       " 'want']"
      ]
     },
     "execution_count": 30,
     "metadata": {},
     "output_type": "execute_result"
    }
   ],
   "source": [
    "mydata_process_string = preprocess_string(mydata)\n",
    "mydata_process_string"
   ]
  },
  {
   "cell_type": "code",
   "execution_count": 31,
   "metadata": {},
   "outputs": [
    {
     "data": {
      "text/plain": [
       "344"
      ]
     },
     "execution_count": 31,
     "metadata": {},
     "output_type": "execute_result"
    }
   ],
   "source": [
    "len(mydata_process_string)"
   ]
  },
  {
   "cell_type": "code",
   "execution_count": 37,
   "metadata": {},
   "outputs": [],
   "source": [
    "from gensim.parsing.preprocessing import strip_tags, strip_punctuation"
   ]
  },
  {
   "cell_type": "code",
   "execution_count": 38,
   "metadata": {},
   "outputs": [
    {
     "data": {
      "text/plain": [
       "['hel',\n",
       " '9lo',\n",
       " 'wo9',\n",
       " 'rld',\n",
       " 'th3',\n",
       " 'weather',\n",
       " 'is',\n",
       " 'really',\n",
       " 'g00d',\n",
       " 'today',\n",
       " 'isn',\n",
       " 't',\n",
       " 'it']"
      ]
     },
     "execution_count": 38,
     "metadata": {},
     "output_type": "execute_result"
    }
   ],
   "source": [
    "s = \"<i>Hel 9lo</i> <b>Wo9 rld</b>! Th3     weather_is really g00d today, isn't it?\"\n",
    "CUSTOM_FILTERS = [lambda x: x.lower(), strip_tags, strip_punctuation]\n",
    "preprocess_string(s, CUSTOM_FILTERS)"
   ]
  },
  {
   "cell_type": "markdown",
   "metadata": {},
   "source": [
    "### 3. Preprocess_documents"
   ]
  },
  {
   "cell_type": "code",
   "execution_count": 32,
   "metadata": {},
   "outputs": [],
   "source": [
    "from gensim.parsing.preprocessing import preprocess_documents"
   ]
  },
  {
   "cell_type": "code",
   "execution_count": 33,
   "metadata": {},
   "outputs": [
    {
     "data": {
      "text/plain": [
       "[['hel', 'rld'], ['weather', 'todai', 'isn']]"
      ]
     },
     "execution_count": 33,
     "metadata": {},
     "output_type": "execute_result"
    }
   ],
   "source": [
    "preprocess_documents([\"<i>Hel 9lo</i> <b>Wo9 rld</b>!\", \"Th3     weather_is really g00d today, isn't it?\"])"
   ]
  },
  {
   "cell_type": "code",
   "execution_count": 34,
   "metadata": {},
   "outputs": [
    {
     "data": {
      "text/plain": [
       "['tv future in the hands of viewers with home theatre systems',\n",
       " 'plasma high-definition tvs',\n",
       " 'and digital video recorders moving into the living room',\n",
       " 'the way people watch tv will be radically different in five years',\n",
       " 'time.',\n",
       " 'that is according to an expert panel which gathered at the annual consumer electronics show in las vegas to discuss how these new technologies will impact one of our favourite pastimes. with the us leading the trend',\n",
       " 'programmes and other content will be delivered to viewers via home networks',\n",
       " 'through cable',\n",
       " 'satellite',\n",
       " 'telecoms companies',\n",
       " 'and broadband service providers to front rooms and portable devices.',\n",
       " 'one of the most talked-about technologies of ces has been digital and personal video recorders (dvr and pvr). these set-top boxes',\n",
       " 'like the us s tivo and the uk s sky+ system',\n",
       " 'allow people to record',\n",
       " 'store',\n",
       " 'play',\n",
       " 'pause and forward wind tv programmes when they want.',\n",
       " 'essentially',\n",
       " 'the technology allows for much more personalised tv. they are also being built-in to high-definition tv sets',\n",
       " 'which are big business in japan and the us',\n",
       " 'but slower to take off in europe because of the lack of high-definition programming. not only can people forward wind through adverts',\n",
       " 'they can also forget about abiding by network and channel schedules',\n",
       " 'putting together their own a-la-carte entertainment. but some us networks and cable and satellite companies are worried about what it means for them in terms of advertising revenues as well as',\n",
       " 'brand identity',\n",
       " 'and viewer loyalty to channels. although the us leads in this technology at the moment',\n",
       " 'it is also a concern that is being raised in europe',\n",
       " 'particularly with the growing uptake of services like sky+.',\n",
       " 'what happens here today',\n",
       " 'we will see in nine months to a years',\n",
       " 'time in the uk',\n",
       " ' adam hume',\n",
       " 'the bbc broadcast s futurologist told the bbc news website. for the likes of the bbc',\n",
       " 'there are no issues of lost advertising revenue yet. it is a more pressing issue at the moment for commercial uk broadcasters',\n",
       " 'but brand loyalty is important for everyone.',\n",
       " 'we will be talking more about content brands rather than network brands',\n",
       " ' said tim hanlon',\n",
       " 'from brand communications firm starcom mediavest.',\n",
       " 'the reality is that with broadband connections',\n",
       " 'anybody can be the producer of content.',\n",
       " 'he added:',\n",
       " 'the challenge now is that it is hard to promote a programme with so much choice.',\n",
       " ' what this means',\n",
       " 'said stacey jolna',\n",
       " 'senior vice president of tv guide tv group',\n",
       " 'is that the way people find the content they want to watch has to be simplified for tv viewers. it means that networks',\n",
       " 'in us terms',\n",
       " 'or channels could take a leaf out of google s book and be the search engine of the future',\n",
       " 'instead of the scheduler to help people find what they want to watch. this kind of channel model might work for the younger ipod generation which is used to taking control of their gadgets and what they play on them. but it might not suit everyone',\n",
       " 'the panel recognised. older generations are more comfortable with familiar schedules and channel brands because they know what they are getting. they perhaps do not want so much of the choice put into their hands',\n",
       " 'mr hanlon suggested.',\n",
       " 'on the other end',\n",
       " 'you have the kids just out of diapers who are pushing buttons already - everything is possible and available to them',\n",
       " ' said mr hanlon.',\n",
       " 'ultimately',\n",
       " 'the consumer will tell the market they want.',\n",
       " ' of the 50 000 new gadgets and technologies being showcased at ces',\n",
       " 'many of them are about enhancing the tv-watching experience. high-definition tv sets are everywhere and many new models of lcd (liquid crystal display) tvs have been launched with dvr capability built into them',\n",
       " 'instead of being external boxes. one such example launched at the show is humax s 26-inch lcd tv with an 80-hour tivo dvr and dvd recorder. one of the us s biggest satellite tv companies',\n",
       " 'directtv',\n",
       " 'has even launched its own branded dvr at the show with 100-hours of recording capability',\n",
       " 'instant replay',\n",
       " 'and a search function. the set can pause and rewind tv for up to 90 hours. and microsoft chief bill gates announced in his pre-show keynote speech a partnership with tivo',\n",
       " 'called tivotogo',\n",
       " 'which means people can play recorded programmes on windows pcs and mobile devices. all these reflect the increasing trend of freeing up multimedia so that people can watch what they want',\n",
       " 'when they want.']"
      ]
     },
     "execution_count": 34,
     "metadata": {},
     "output_type": "execute_result"
    }
   ],
   "source": [
    "mydata_preprocess_documents = mydata.split('  ')\n",
    "mydata_preprocess_documents"
   ]
  },
  {
   "cell_type": "code",
   "execution_count": 35,
   "metadata": {},
   "outputs": [
    {
     "data": {
      "text/plain": [
       "[['futur', 'hand', 'viewer', 'home', 'theatr', 'system'],\n",
       " ['plasma', 'high', 'definit', 'tv'],\n",
       " ['digit', 'video', 'record', 'move', 'live', 'room'],\n",
       " ['wai', 'peopl', 'watch', 'radic', 'differ', 'year'],\n",
       " ['time'],\n",
       " ['accord',\n",
       "  'expert',\n",
       "  'panel',\n",
       "  'gather',\n",
       "  'annual',\n",
       "  'consum',\n",
       "  'electron',\n",
       "  'la',\n",
       "  'vega',\n",
       "  'discuss',\n",
       "  'new',\n",
       "  'technolog',\n",
       "  'impact',\n",
       "  'favourit',\n",
       "  'pastim',\n",
       "  'lead',\n",
       "  'trend'],\n",
       " ['programm', 'content', 'deliv', 'viewer', 'home', 'network'],\n",
       " ['cabl'],\n",
       " ['satellit'],\n",
       " ['telecom', 'compani'],\n",
       " ['broadband', 'servic', 'provid', 'room', 'portabl', 'devic'],\n",
       " ['talk',\n",
       "  'technolog',\n",
       "  'ce',\n",
       "  'digit',\n",
       "  'person',\n",
       "  'video',\n",
       "  'record',\n",
       "  'dvr',\n",
       "  'pvr',\n",
       "  'set',\n",
       "  'box'],\n",
       " ['like', 'tivo', 'sky'],\n",
       " ['allow', 'peopl', 'record'],\n",
       " ['store'],\n",
       " ['plai'],\n",
       " ['paus', 'forward', 'wind', 'programm', 'want'],\n",
       " ['essenti'],\n",
       " ['technolog', 'allow', 'personalis', 'built', 'high', 'definit', 'set'],\n",
       " ['big', 'busi', 'japan'],\n",
       " ['slower',\n",
       "  'europ',\n",
       "  'lack',\n",
       "  'high',\n",
       "  'definit',\n",
       "  'program',\n",
       "  'peopl',\n",
       "  'forward',\n",
       "  'wind',\n",
       "  'advert'],\n",
       " ['forget', 'abid', 'network', 'channel', 'schedul'],\n",
       " ['put',\n",
       "  'cart',\n",
       "  'entertain',\n",
       "  'network',\n",
       "  'cabl',\n",
       "  'satellit',\n",
       "  'compani',\n",
       "  'worri',\n",
       "  'mean',\n",
       "  'term',\n",
       "  'advertis',\n",
       "  'revenu'],\n",
       " ['brand', 'ident'],\n",
       " ['viewer', 'loyalti', 'channel', 'lead', 'technolog', 'moment'],\n",
       " ['concern', 'rais', 'europ'],\n",
       " ['particularli', 'grow', 'uptak', 'servic', 'like', 'sky'],\n",
       " ['happen', 'todai'],\n",
       " ['month', 'year'],\n",
       " ['time'],\n",
       " ['adam', 'hume'],\n",
       " ['bbc',\n",
       "  'broadcast',\n",
       "  'futurologist',\n",
       "  'told',\n",
       "  'bbc',\n",
       "  'new',\n",
       "  'websit',\n",
       "  'like',\n",
       "  'bbc'],\n",
       " ['issu',\n",
       "  'lost',\n",
       "  'advertis',\n",
       "  'revenu',\n",
       "  'press',\n",
       "  'issu',\n",
       "  'moment',\n",
       "  'commerci',\n",
       "  'broadcast'],\n",
       " ['brand', 'loyalti', 'import'],\n",
       " ['talk', 'content', 'brand', 'network', 'brand'],\n",
       " ['said', 'tim', 'hanlon'],\n",
       " ['brand', 'commun', 'firm', 'starcom', 'mediavest'],\n",
       " ['realiti', 'broadband', 'connect'],\n",
       " ['anybodi', 'produc', 'content'],\n",
       " ['ad'],\n",
       " ['challeng', 'hard', 'promot', 'programm', 'choic'],\n",
       " ['mean'],\n",
       " ['said', 'stacei', 'jolna'],\n",
       " ['senior', 'vice', 'presid', 'guid', 'group'],\n",
       " ['wai',\n",
       "  'peopl',\n",
       "  'content',\n",
       "  'want',\n",
       "  'watch',\n",
       "  'simplifi',\n",
       "  'viewer',\n",
       "  'mean',\n",
       "  'network'],\n",
       " ['term'],\n",
       " ['channel', 'leaf', 'googl', 'book', 'search', 'engin', 'futur'],\n",
       " ['instead',\n",
       "  'schedul',\n",
       "  'help',\n",
       "  'peopl',\n",
       "  'want',\n",
       "  'watch',\n",
       "  'kind',\n",
       "  'channel',\n",
       "  'model',\n",
       "  'work',\n",
       "  'younger',\n",
       "  'ipod',\n",
       "  'gener',\n",
       "  'take',\n",
       "  'control',\n",
       "  'gadget',\n",
       "  'plai',\n",
       "  'suit'],\n",
       " ['panel',\n",
       "  'recognis',\n",
       "  'older',\n",
       "  'gener',\n",
       "  'comfort',\n",
       "  'familiar',\n",
       "  'schedul',\n",
       "  'channel',\n",
       "  'brand',\n",
       "  'know',\n",
       "  'get',\n",
       "  'want',\n",
       "  'choic',\n",
       "  'hand'],\n",
       " ['hanlon', 'suggest'],\n",
       " ['end'],\n",
       " ['kid', 'diaper', 'push', 'button', 'possibl', 'avail'],\n",
       " ['said', 'hanlon'],\n",
       " ['ultim'],\n",
       " ['consum', 'tell', 'market', 'want'],\n",
       " ['new', 'gadget', 'technolog', 'showcas', 'ce'],\n",
       " ['enhanc',\n",
       "  'watch',\n",
       "  'experi',\n",
       "  'high',\n",
       "  'definit',\n",
       "  'set',\n",
       "  'new',\n",
       "  'model',\n",
       "  'lcd',\n",
       "  'liquid',\n",
       "  'crystal',\n",
       "  'displai',\n",
       "  'tv',\n",
       "  'launch',\n",
       "  'dvr',\n",
       "  'capabl',\n",
       "  'built'],\n",
       " ['instead',\n",
       "  'extern',\n",
       "  'box',\n",
       "  'exampl',\n",
       "  'launch',\n",
       "  'humax',\n",
       "  'inch',\n",
       "  'lcd',\n",
       "  'hour',\n",
       "  'tivo',\n",
       "  'dvr',\n",
       "  'dvd',\n",
       "  'record',\n",
       "  'biggest',\n",
       "  'satellit',\n",
       "  'compani'],\n",
       " ['directtv'],\n",
       " ['launch', 'brand', 'dvr', 'hour', 'record', 'capabl'],\n",
       " ['instant', 'replai'],\n",
       " ['search',\n",
       "  'function',\n",
       "  'set',\n",
       "  'paus',\n",
       "  'rewind',\n",
       "  'hour',\n",
       "  'microsoft',\n",
       "  'chief',\n",
       "  'gate',\n",
       "  'announc',\n",
       "  'pre',\n",
       "  'keynot',\n",
       "  'speech',\n",
       "  'partnership',\n",
       "  'tivo'],\n",
       " ['call', 'tivotogo'],\n",
       " ['mean',\n",
       "  'peopl',\n",
       "  'plai',\n",
       "  'record',\n",
       "  'programm',\n",
       "  'window',\n",
       "  'pc',\n",
       "  'mobil',\n",
       "  'devic',\n",
       "  'reflect',\n",
       "  'increas',\n",
       "  'trend',\n",
       "  'free',\n",
       "  'multimedia',\n",
       "  'peopl',\n",
       "  'watch',\n",
       "  'want'],\n",
       " ['want']]"
      ]
     },
     "execution_count": 35,
     "metadata": {},
     "output_type": "execute_result"
    }
   ],
   "source": [
    "preprocess_documents(mydata_preprocess_documents)"
   ]
  },
  {
   "cell_type": "markdown",
   "metadata": {},
   "source": [
    "### 4. Split_Alphanum"
   ]
  },
  {
   "cell_type": "code",
   "execution_count": 39,
   "metadata": {},
   "outputs": [
    {
     "data": {
      "text/plain": [
       "'24.0 hours 7 days 365 a 1 b 2 c 3'"
      ]
     },
     "execution_count": 39,
     "metadata": {},
     "output_type": "execute_result"
    }
   ],
   "source": [
    "from gensim.parsing.preprocessing import split_alphanum\n",
    "split_alphanum(\"24.0hours7 days365 a1b2c3\")"
   ]
  },
  {
   "cell_type": "code",
   "execution_count": 41,
   "metadata": {},
   "outputs": [
    {
     "data": {
      "text/plain": [
       "'tv future in the hands of viewers with home theatre systems  plasma high-definition tvs  and digital video recorders moving into the living room  the way people watch tv will be radically different in five years  time.  that is according to an expert panel which gathered at the annual consumer electronics show in las vegas to discuss how these new technologies will impact one of our favourite pastimes. with the us leading the trend  programmes and other content will be delivered to viewers via home networks  through cable  satellite  telecoms companies  and broadband service providers to front rooms and portable devices.  one of the most talked-about technologies of ces has been digital and personal video recorders (dvr and pvr). these set-top boxes  like the us s tivo and the uk s sky+ system  allow people to record  store  play  pause and forward wind tv programmes when they want.  essentially  the technology allows for much more personalised tv. they are also being built-in to high-definition tv sets  which are big business in japan and the us  but slower to take off in europe because of the lack of high-definition programming. not only can people forward wind through adverts  they can also forget about abiding by network and channel schedules  putting together their own a-la-carte entertainment. but some us networks and cable and satellite companies are worried about what it means for them in terms of advertising revenues as well as  brand identity  and viewer loyalty to channels. although the us leads in this technology at the moment  it is also a concern that is being raised in europe  particularly with the growing uptake of services like sky+.  what happens here today  we will see in nine months to a years  time in the uk   adam hume  the bbc broadcast s futurologist told the bbc news website. for the likes of the bbc  there are no issues of lost advertising revenue yet. it is a more pressing issue at the moment for commercial uk broadcasters  but brand loyalty is important for everyone.  we will be talking more about content brands rather than network brands   said tim hanlon  from brand communications firm starcom mediavest.  the reality is that with broadband connections  anybody can be the producer of content.  he added:  the challenge now is that it is hard to promote a programme with so much choice.   what this means  said stacey jolna  senior vice president of tv guide tv group  is that the way people find the content they want to watch has to be simplified for tv viewers. it means that networks  in us terms  or channels could take a leaf out of google s book and be the search engine of the future  instead of the scheduler to help people find what they want to watch. this kind of channel model might work for the younger ipod generation which is used to taking control of their gadgets and what they play on them. but it might not suit everyone  the panel recognised. older generations are more comfortable with familiar schedules and channel brands because they know what they are getting. they perhaps do not want so much of the choice put into their hands  mr hanlon suggested.  on the other end  you have the kids just out of diapers who are pushing buttons already - everything is possible and available to them   said mr hanlon.  ultimately  the consumer will tell the market they want.   of the 50 000 new gadgets and technologies being showcased at ces  many of them are about enhancing the tv-watching experience. high-definition tv sets are everywhere and many new models of lcd (liquid crystal display) tvs have been launched with dvr capability built into them  instead of being external boxes. one such example launched at the show is humax s 26-inch lcd tv with an 80-hour tivo dvr and dvd recorder. one of the us s biggest satellite tv companies  directtv  has even launched its own branded dvr at the show with 100-hours of recording capability  instant replay  and a search function. the set can pause and rewind tv for up to 90 hours. and microsoft chief bill gates announced in his pre-show keynote speech a partnership with tivo  called tivotogo  which means people can play recorded programmes on windows pcs and mobile devices. all these reflect the increasing trend of freeing up multimedia so that people can watch what they want  when they want.'"
      ]
     },
     "execution_count": 41,
     "metadata": {},
     "output_type": "execute_result"
    }
   ],
   "source": [
    "#If the number is adjacent to text then space comes in between, not applicable for '.' and '-'\n",
    "split_alphanum(mydata)"
   ]
  },
  {
   "cell_type": "markdown",
   "metadata": {},
   "source": [
    "### 5. Stem_Text"
   ]
  },
  {
   "cell_type": "code",
   "execution_count": 42,
   "metadata": {},
   "outputs": [
    {
     "data": {
      "text/plain": [
       "'while it is quit us to be abl to search a larg collect of document almost instantly.'"
      ]
     },
     "execution_count": 42,
     "metadata": {},
     "output_type": "execute_result"
    }
   ],
   "source": [
    "from gensim.parsing.preprocessing import stem_text\n",
    "stem_text(\"While it is quite useful to be able to search a large collection of documents almost instantly.\")"
   ]
  },
  {
   "cell_type": "code",
   "execution_count": 43,
   "metadata": {},
   "outputs": [
    {
     "data": {
      "text/plain": [
       "'tv futur in the hand of viewer with home theatr system plasma high-definit tv and digit video record move into the live room the wai peopl watch tv will be radic differ in five year time. that is accord to an expert panel which gather at the annual consum electron show in la vega to discuss how these new technolog will impact on of our favourit pastimes. with the us lead the trend programm and other content will be deliv to viewer via home network through cabl satellit telecom compani and broadband servic provid to front room and portabl devices. on of the most talked-about technolog of ce ha been digit and person video record (dvr and pvr). these set-top box like the us s tivo and the uk s sky+ system allow peopl to record store plai paus and forward wind tv programm when thei want. essenti the technolog allow for much more personalis tv. thei ar also be built-in to high-definit tv set which ar big busi in japan and the us but slower to take off in europ becaus of the lack of high-definit programming. not onli can peopl forward wind through advert thei can also forget about abid by network and channel schedul put togeth their own a-la-cart entertainment. but some us network and cabl and satellit compani ar worri about what it mean for them in term of advertis revenu as well as brand ident and viewer loyalti to channels. although the us lead in thi technolog at the moment it is also a concern that is be rais in europ particularli with the grow uptak of servic like sky+. what happen here todai we will see in nine month to a year time in the uk adam hume the bbc broadcast s futurologist told the bbc new website. for the like of the bbc there ar no issu of lost advertis revenu yet. it is a more press issu at the moment for commerci uk broadcast but brand loyalti is import for everyone. we will be talk more about content brand rather than network brand said tim hanlon from brand commun firm starcom mediavest. the realiti is that with broadband connect anybodi can be the produc of content. he added: the challeng now is that it is hard to promot a programm with so much choice. what thi mean said stacei jolna senior vice presid of tv guid tv group is that the wai peopl find the content thei want to watch ha to be simplifi for tv viewers. it mean that network in us term or channel could take a leaf out of googl s book and be the search engin of the futur instead of the schedul to help peopl find what thei want to watch. thi kind of channel model might work for the younger ipod gener which is us to take control of their gadget and what thei plai on them. but it might not suit everyon the panel recognised. older gener ar more comfort with familiar schedul and channel brand becaus thei know what thei ar getting. thei perhap do not want so much of the choic put into their hand mr hanlon suggested. on the other end you have the kid just out of diaper who ar push button alreadi - everyth is possibl and avail to them said mr hanlon. ultim the consum will tell the market thei want. of the 50 000 new gadget and technolog be showcas at ce mani of them ar about enhanc the tv-watch experience. high-definit tv set ar everywher and mani new model of lcd (liquid crystal display) tv have been launch with dvr capabl built into them instead of be extern boxes. on such exampl launch at the show is humax s 26-inch lcd tv with an 80-hour tivo dvr and dvd recorder. on of the us s biggest satellit tv compani directtv ha even launch it own brand dvr at the show with 100-hour of record capabl instant replai and a search function. the set can paus and rewind tv for up to 90 hours. and microsoft chief bill gate announc in hi pre-show keynot speech a partnership with tivo call tivotogo which mean peopl can plai record programm on window pc and mobil devices. all these reflect the increas trend of free up multimedia so that peopl can watch what thei want when thei want.'"
      ]
     },
     "execution_count": 43,
     "metadata": {},
     "output_type": "execute_result"
    }
   ],
   "source": [
    "stem_text(mydata)"
   ]
  },
  {
   "cell_type": "markdown",
   "metadata": {},
   "source": [
    "### 6. Strip_Multiple_Whitespaces"
   ]
  },
  {
   "cell_type": "code",
   "execution_count": 44,
   "metadata": {},
   "outputs": [
    {
     "data": {
      "text/plain": [
       "'salut les loulous!'"
      ]
     },
     "execution_count": 44,
     "metadata": {},
     "output_type": "execute_result"
    }
   ],
   "source": [
    "from gensim.parsing.preprocessing import strip_multiple_whitespaces\n",
    "strip_multiple_whitespaces(\"salut\" + '\\r' + \" les\" + '\\n' + \"         loulous!\")\n"
   ]
  },
  {
   "cell_type": "code",
   "execution_count": 45,
   "metadata": {},
   "outputs": [
    {
     "data": {
      "text/plain": [
       "'tv future in the hands of viewers with home theatre systems plasma high-definition tvs and digital video recorders moving into the living room the way people watch tv will be radically different in five years time. that is according to an expert panel which gathered at the annual consumer electronics show in las vegas to discuss how these new technologies will impact one of our favourite pastimes. with the us leading the trend programmes and other content will be delivered to viewers via home networks through cable satellite telecoms companies and broadband service providers to front rooms and portable devices. one of the most talked-about technologies of ces has been digital and personal video recorders (dvr and pvr). these set-top boxes like the us s tivo and the uk s sky+ system allow people to record store play pause and forward wind tv programmes when they want. essentially the technology allows for much more personalised tv. they are also being built-in to high-definition tv sets which are big business in japan and the us but slower to take off in europe because of the lack of high-definition programming. not only can people forward wind through adverts they can also forget about abiding by network and channel schedules putting together their own a-la-carte entertainment. but some us networks and cable and satellite companies are worried about what it means for them in terms of advertising revenues as well as brand identity and viewer loyalty to channels. although the us leads in this technology at the moment it is also a concern that is being raised in europe particularly with the growing uptake of services like sky+. what happens here today we will see in nine months to a years time in the uk adam hume the bbc broadcast s futurologist told the bbc news website. for the likes of the bbc there are no issues of lost advertising revenue yet. it is a more pressing issue at the moment for commercial uk broadcasters but brand loyalty is important for everyone. we will be talking more about content brands rather than network brands said tim hanlon from brand communications firm starcom mediavest. the reality is that with broadband connections anybody can be the producer of content. he added: the challenge now is that it is hard to promote a programme with so much choice. what this means said stacey jolna senior vice president of tv guide tv group is that the way people find the content they want to watch has to be simplified for tv viewers. it means that networks in us terms or channels could take a leaf out of google s book and be the search engine of the future instead of the scheduler to help people find what they want to watch. this kind of channel model might work for the younger ipod generation which is used to taking control of their gadgets and what they play on them. but it might not suit everyone the panel recognised. older generations are more comfortable with familiar schedules and channel brands because they know what they are getting. they perhaps do not want so much of the choice put into their hands mr hanlon suggested. on the other end you have the kids just out of diapers who are pushing buttons already - everything is possible and available to them said mr hanlon. ultimately the consumer will tell the market they want. of the 50 000 new gadgets and technologies being showcased at ces many of them are about enhancing the tv-watching experience. high-definition tv sets are everywhere and many new models of lcd (liquid crystal display) tvs have been launched with dvr capability built into them instead of being external boxes. one such example launched at the show is humax s 26-inch lcd tv with an 80-hour tivo dvr and dvd recorder. one of the us s biggest satellite tv companies directtv has even launched its own branded dvr at the show with 100-hours of recording capability instant replay and a search function. the set can pause and rewind tv for up to 90 hours. and microsoft chief bill gates announced in his pre-show keynote speech a partnership with tivo called tivotogo which means people can play recorded programmes on windows pcs and mobile devices. all these reflect the increasing trend of freeing up multimedia so that people can watch what they want when they want.'"
      ]
     },
     "execution_count": 45,
     "metadata": {},
     "output_type": "execute_result"
    }
   ],
   "source": [
    "strip_multiple_whitespaces(mydata)"
   ]
  },
  {
   "cell_type": "markdown",
   "metadata": {},
   "source": [
    "### 7. Strip_Non_Alphanum"
   ]
  },
  {
   "cell_type": "code",
   "execution_count": 47,
   "metadata": {},
   "outputs": [
    {
     "data": {
      "text/plain": [
       "'if you can read this then this method works'"
      ]
     },
     "execution_count": 47,
     "metadata": {},
     "output_type": "execute_result"
    }
   ],
   "source": [
    "from gensim.parsing.preprocessing import strip_non_alphanum\n",
    "strip_non_alphanum(\"if-you#can%read$this&then@this#method^works\")"
   ]
  },
  {
   "cell_type": "code",
   "execution_count": 48,
   "metadata": {},
   "outputs": [
    {
     "data": {
      "text/plain": [
       "'tv future in the hands of viewers with home theatre systems  plasma high definition tvs  and digital video recorders moving into the living room  the way people watch tv will be radically different in five years  time   that is according to an expert panel which gathered at the annual consumer electronics show in las vegas to discuss how these new technologies will impact one of our favourite pastimes  with the us leading the trend  programmes and other content will be delivered to viewers via home networks  through cable  satellite  telecoms companies  and broadband service providers to front rooms and portable devices   one of the most talked about technologies of ces has been digital and personal video recorders  dvr and pvr   these set top boxes  like the us s tivo and the uk s sky  system  allow people to record  store  play  pause and forward wind tv programmes when they want   essentially  the technology allows for much more personalised tv  they are also being built in to high definition tv sets  which are big business in japan and the us  but slower to take off in europe because of the lack of high definition programming  not only can people forward wind through adverts  they can also forget about abiding by network and channel schedules  putting together their own a la carte entertainment  but some us networks and cable and satellite companies are worried about what it means for them in terms of advertising revenues as well as  brand identity  and viewer loyalty to channels  although the us leads in this technology at the moment  it is also a concern that is being raised in europe  particularly with the growing uptake of services like sky    what happens here today  we will see in nine months to a years  time in the uk   adam hume  the bbc broadcast s futurologist told the bbc news website  for the likes of the bbc  there are no issues of lost advertising revenue yet  it is a more pressing issue at the moment for commercial uk broadcasters  but brand loyalty is important for everyone   we will be talking more about content brands rather than network brands   said tim hanlon  from brand communications firm starcom mediavest   the reality is that with broadband connections  anybody can be the producer of content   he added   the challenge now is that it is hard to promote a programme with so much choice    what this means  said stacey jolna  senior vice president of tv guide tv group  is that the way people find the content they want to watch has to be simplified for tv viewers  it means that networks  in us terms  or channels could take a leaf out of google s book and be the search engine of the future  instead of the scheduler to help people find what they want to watch  this kind of channel model might work for the younger ipod generation which is used to taking control of their gadgets and what they play on them  but it might not suit everyone  the panel recognised  older generations are more comfortable with familiar schedules and channel brands because they know what they are getting  they perhaps do not want so much of the choice put into their hands  mr hanlon suggested   on the other end  you have the kids just out of diapers who are pushing buttons already   everything is possible and available to them   said mr hanlon   ultimately  the consumer will tell the market they want    of the 50 000 new gadgets and technologies being showcased at ces  many of them are about enhancing the tv watching experience  high definition tv sets are everywhere and many new models of lcd  liquid crystal display  tvs have been launched with dvr capability built into them  instead of being external boxes  one such example launched at the show is humax s 26 inch lcd tv with an 80 hour tivo dvr and dvd recorder  one of the us s biggest satellite tv companies  directtv  has even launched its own branded dvr at the show with 100 hours of recording capability  instant replay  and a search function  the set can pause and rewind tv for up to 90 hours  and microsoft chief bill gates announced in his pre show keynote speech a partnership with tivo  called tivotogo  which means people can play recorded programmes on windows pcs and mobile devices  all these reflect the increasing trend of freeing up multimedia so that people can watch what they want  when they want '"
      ]
     },
     "execution_count": 48,
     "metadata": {},
     "output_type": "execute_result"
    }
   ],
   "source": [
    "strip_non_alphanum(mydata)"
   ]
  },
  {
   "cell_type": "markdown",
   "metadata": {},
   "source": [
    "### 8. Strip_Numeric"
   ]
  },
  {
   "cell_type": "code",
   "execution_count": 49,
   "metadata": {},
   "outputs": [
    {
     "data": {
      "text/plain": [
       "'textgensimtest'"
      ]
     },
     "execution_count": 49,
     "metadata": {},
     "output_type": "execute_result"
    }
   ],
   "source": [
    "from gensim.parsing.preprocessing import strip_numeric\n",
    "strip_numeric(\"0text24gensim365test\")"
   ]
  },
  {
   "cell_type": "code",
   "execution_count": 50,
   "metadata": {},
   "outputs": [
    {
     "data": {
      "text/plain": [
       "'tv future in the hands of viewers with home theatre systems  plasma high-definition tvs  and digital video recorders moving into the living room  the way people watch tv will be radically different in five years  time.  that is according to an expert panel which gathered at the annual consumer electronics show in las vegas to discuss how these new technologies will impact one of our favourite pastimes. with the us leading the trend  programmes and other content will be delivered to viewers via home networks  through cable  satellite  telecoms companies  and broadband service providers to front rooms and portable devices.  one of the most talked-about technologies of ces has been digital and personal video recorders (dvr and pvr). these set-top boxes  like the us s tivo and the uk s sky+ system  allow people to record  store  play  pause and forward wind tv programmes when they want.  essentially  the technology allows for much more personalised tv. they are also being built-in to high-definition tv sets  which are big business in japan and the us  but slower to take off in europe because of the lack of high-definition programming. not only can people forward wind through adverts  they can also forget about abiding by network and channel schedules  putting together their own a-la-carte entertainment. but some us networks and cable and satellite companies are worried about what it means for them in terms of advertising revenues as well as  brand identity  and viewer loyalty to channels. although the us leads in this technology at the moment  it is also a concern that is being raised in europe  particularly with the growing uptake of services like sky+.  what happens here today  we will see in nine months to a years  time in the uk   adam hume  the bbc broadcast s futurologist told the bbc news website. for the likes of the bbc  there are no issues of lost advertising revenue yet. it is a more pressing issue at the moment for commercial uk broadcasters  but brand loyalty is important for everyone.  we will be talking more about content brands rather than network brands   said tim hanlon  from brand communications firm starcom mediavest.  the reality is that with broadband connections  anybody can be the producer of content.  he added:  the challenge now is that it is hard to promote a programme with so much choice.   what this means  said stacey jolna  senior vice president of tv guide tv group  is that the way people find the content they want to watch has to be simplified for tv viewers. it means that networks  in us terms  or channels could take a leaf out of google s book and be the search engine of the future  instead of the scheduler to help people find what they want to watch. this kind of channel model might work for the younger ipod generation which is used to taking control of their gadgets and what they play on them. but it might not suit everyone  the panel recognised. older generations are more comfortable with familiar schedules and channel brands because they know what they are getting. they perhaps do not want so much of the choice put into their hands  mr hanlon suggested.  on the other end  you have the kids just out of diapers who are pushing buttons already - everything is possible and available to them   said mr hanlon.  ultimately  the consumer will tell the market they want.   of the   new gadgets and technologies being showcased at ces  many of them are about enhancing the tv-watching experience. high-definition tv sets are everywhere and many new models of lcd (liquid crystal display) tvs have been launched with dvr capability built into them  instead of being external boxes. one such example launched at the show is humax s -inch lcd tv with an -hour tivo dvr and dvd recorder. one of the us s biggest satellite tv companies  directtv  has even launched its own branded dvr at the show with -hours of recording capability  instant replay  and a search function. the set can pause and rewind tv for up to  hours. and microsoft chief bill gates announced in his pre-show keynote speech a partnership with tivo  called tivotogo  which means people can play recorded programmes on windows pcs and mobile devices. all these reflect the increasing trend of freeing up multimedia so that people can watch what they want  when they want.'"
      ]
     },
     "execution_count": 50,
     "metadata": {},
     "output_type": "execute_result"
    }
   ],
   "source": [
    "strip_numeric(mydata)"
   ]
  },
  {
   "cell_type": "markdown",
   "metadata": {},
   "source": [
    "### 9. Strip_Punctuation"
   ]
  },
  {
   "cell_type": "code",
   "execution_count": 51,
   "metadata": {},
   "outputs": [
    {
     "data": {
      "text/plain": [
       "'A semicolon is a stronger break than a comma  but not as much as a full stop '"
      ]
     },
     "execution_count": 51,
     "metadata": {},
     "output_type": "execute_result"
    }
   ],
   "source": [
    "from gensim.parsing.preprocessing import strip_punctuation\n",
    "strip_punctuation(\"A semicolon is a stronger break than a comma, but not as much as a full stop!\")"
   ]
  },
  {
   "cell_type": "code",
   "execution_count": 52,
   "metadata": {},
   "outputs": [
    {
     "data": {
      "text/plain": [
       "'tv future in the hands of viewers with home theatre systems  plasma high definition tvs  and digital video recorders moving into the living room  the way people watch tv will be radically different in five years  time   that is according to an expert panel which gathered at the annual consumer electronics show in las vegas to discuss how these new technologies will impact one of our favourite pastimes  with the us leading the trend  programmes and other content will be delivered to viewers via home networks  through cable  satellite  telecoms companies  and broadband service providers to front rooms and portable devices   one of the most talked about technologies of ces has been digital and personal video recorders  dvr and pvr  these set top boxes  like the us s tivo and the uk s sky  system  allow people to record  store  play  pause and forward wind tv programmes when they want   essentially  the technology allows for much more personalised tv  they are also being built in to high definition tv sets  which are big business in japan and the us  but slower to take off in europe because of the lack of high definition programming  not only can people forward wind through adverts  they can also forget about abiding by network and channel schedules  putting together their own a la carte entertainment  but some us networks and cable and satellite companies are worried about what it means for them in terms of advertising revenues as well as  brand identity  and viewer loyalty to channels  although the us leads in this technology at the moment  it is also a concern that is being raised in europe  particularly with the growing uptake of services like sky   what happens here today  we will see in nine months to a years  time in the uk   adam hume  the bbc broadcast s futurologist told the bbc news website  for the likes of the bbc  there are no issues of lost advertising revenue yet  it is a more pressing issue at the moment for commercial uk broadcasters  but brand loyalty is important for everyone   we will be talking more about content brands rather than network brands   said tim hanlon  from brand communications firm starcom mediavest   the reality is that with broadband connections  anybody can be the producer of content   he added   the challenge now is that it is hard to promote a programme with so much choice    what this means  said stacey jolna  senior vice president of tv guide tv group  is that the way people find the content they want to watch has to be simplified for tv viewers  it means that networks  in us terms  or channels could take a leaf out of google s book and be the search engine of the future  instead of the scheduler to help people find what they want to watch  this kind of channel model might work for the younger ipod generation which is used to taking control of their gadgets and what they play on them  but it might not suit everyone  the panel recognised  older generations are more comfortable with familiar schedules and channel brands because they know what they are getting  they perhaps do not want so much of the choice put into their hands  mr hanlon suggested   on the other end  you have the kids just out of diapers who are pushing buttons already   everything is possible and available to them   said mr hanlon   ultimately  the consumer will tell the market they want    of the 50 000 new gadgets and technologies being showcased at ces  many of them are about enhancing the tv watching experience  high definition tv sets are everywhere and many new models of lcd  liquid crystal display  tvs have been launched with dvr capability built into them  instead of being external boxes  one such example launched at the show is humax s 26 inch lcd tv with an 80 hour tivo dvr and dvd recorder  one of the us s biggest satellite tv companies  directtv  has even launched its own branded dvr at the show with 100 hours of recording capability  instant replay  and a search function  the set can pause and rewind tv for up to 90 hours  and microsoft chief bill gates announced in his pre show keynote speech a partnership with tivo  called tivotogo  which means people can play recorded programmes on windows pcs and mobile devices  all these reflect the increasing trend of freeing up multimedia so that people can watch what they want  when they want '"
      ]
     },
     "execution_count": 52,
     "metadata": {},
     "output_type": "execute_result"
    }
   ],
   "source": [
    "strip_punctuation(mydata)"
   ]
  },
  {
   "cell_type": "markdown",
   "metadata": {},
   "source": [
    "### 10. Strip_Short"
   ]
  },
  {
   "cell_type": "code",
   "execution_count": 53,
   "metadata": {},
   "outputs": [
    {
     "data": {
      "text/plain": [
       "'salut les amis'"
      ]
     },
     "execution_count": 53,
     "metadata": {},
     "output_type": "execute_result"
    }
   ],
   "source": [
    "from gensim.parsing.preprocessing import strip_short\n",
    "strip_short(\"salut les amis du 59\")"
   ]
  },
  {
   "cell_type": "code",
   "execution_count": 54,
   "metadata": {},
   "outputs": [
    {
     "data": {
      "text/plain": [
       "'future the hands viewers with home theatre systems plasma high-definition tvs and digital video recorders moving into the living room the way people watch will radically different five years time. that according expert panel which gathered the annual consumer electronics show las vegas discuss how these new technologies will impact one our favourite pastimes. with the leading the trend programmes and other content will delivered viewers via home networks through cable satellite telecoms companies and broadband service providers front rooms and portable devices. one the most talked-about technologies ces has been digital and personal video recorders (dvr and pvr). these set-top boxes like the tivo and the sky+ system allow people record store play pause and forward wind programmes when they want. essentially the technology allows for much more personalised tv. they are also being built-in high-definition sets which are big business japan and the but slower take off europe because the lack high-definition programming. not only can people forward wind through adverts they can also forget about abiding network and channel schedules putting together their own a-la-carte entertainment. but some networks and cable and satellite companies are worried about what means for them terms advertising revenues well brand identity and viewer loyalty channels. although the leads this technology the moment also concern that being raised europe particularly with the growing uptake services like sky+. what happens here today will see nine months years time the adam hume the bbc broadcast futurologist told the bbc news website. for the likes the bbc there are issues lost advertising revenue yet. more pressing issue the moment for commercial broadcasters but brand loyalty important for everyone. will talking more about content brands rather than network brands said tim hanlon from brand communications firm starcom mediavest. the reality that with broadband connections anybody can the producer content. added: the challenge now that hard promote programme with much choice. what this means said stacey jolna senior vice president guide group that the way people find the content they want watch has simplified for viewers. means that networks terms channels could take leaf out google book and the search engine the future instead the scheduler help people find what they want watch. this kind channel model might work for the younger ipod generation which used taking control their gadgets and what they play them. but might not suit everyone the panel recognised. older generations are more comfortable with familiar schedules and channel brands because they know what they are getting. they perhaps not want much the choice put into their hands hanlon suggested. the other end you have the kids just out diapers who are pushing buttons already everything possible and available them said hanlon. ultimately the consumer will tell the market they want. the 000 new gadgets and technologies being showcased ces many them are about enhancing the tv-watching experience. high-definition sets are everywhere and many new models lcd (liquid crystal display) tvs have been launched with dvr capability built into them instead being external boxes. one such example launched the show humax 26-inch lcd with 80-hour tivo dvr and dvd recorder. one the biggest satellite companies directtv has even launched its own branded dvr the show with 100-hours recording capability instant replay and search function. the set can pause and rewind for hours. and microsoft chief bill gates announced his pre-show keynote speech partnership with tivo called tivotogo which means people can play recorded programmes windows pcs and mobile devices. all these reflect the increasing trend freeing multimedia that people can watch what they want when they want.'"
      ]
     },
     "execution_count": 54,
     "metadata": {},
     "output_type": "execute_result"
    }
   ],
   "source": [
    "strip_short(mydata)"
   ]
  },
  {
   "cell_type": "markdown",
   "metadata": {},
   "source": [
    "## 11. Strip_Tags"
   ]
  },
  {
   "cell_type": "code",
   "execution_count": 55,
   "metadata": {},
   "outputs": [
    {
     "data": {
      "text/plain": [
       "'Hello World!'"
      ]
     },
     "execution_count": 55,
     "metadata": {},
     "output_type": "execute_result"
    }
   ],
   "source": [
    "from gensim.parsing.preprocessing import strip_tags\n",
    "strip_tags(\"<i>Hello</i> <b>World</b>!\")"
   ]
  },
  {
   "cell_type": "code",
   "execution_count": null,
   "metadata": {},
   "outputs": [],
   "source": []
  }
 ],
 "metadata": {
  "kernelspec": {
   "display_name": "Python 3",
   "language": "python",
   "name": "python3"
  },
  "language_info": {
   "codemirror_mode": {
    "name": "ipython",
    "version": 3
   },
   "file_extension": ".py",
   "mimetype": "text/x-python",
   "name": "python",
   "nbconvert_exporter": "python",
   "pygments_lexer": "ipython3",
   "version": "3.7.3"
  }
 },
 "nbformat": 4,
 "nbformat_minor": 2
}
