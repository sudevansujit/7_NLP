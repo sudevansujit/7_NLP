{
 "cells": [
  {
   "cell_type": "markdown",
   "metadata": {},
   "source": [
    "# Name Gender Identifier"
   ]
  },
  {
   "cell_type": "code",
   "execution_count": 58,
   "metadata": {},
   "outputs": [],
   "source": [
    "def gender_features(word):\n",
    "    return {'last_letter' : word[-2:]}\n",
    "\n"
   ]
  },
  {
   "cell_type": "code",
   "execution_count": 59,
   "metadata": {},
   "outputs": [
    {
     "data": {
      "text/plain": [
       "{'last_letter': 'RD'}"
      ]
     },
     "execution_count": 59,
     "metadata": {},
     "output_type": "execute_result"
    }
   ],
   "source": [
    "gender_features('WORD')"
   ]
  },
  {
   "cell_type": "markdown",
   "metadata": {},
   "source": [
    "#### The returned dictionary is known as a feature set."
   ]
  },
  {
   "cell_type": "markdown",
   "metadata": {},
   "source": [
    "## Exploring the names corpus¶"
   ]
  },
  {
   "cell_type": "code",
   "execution_count": 60,
   "metadata": {},
   "outputs": [
    {
     "name": "stderr",
     "output_type": "stream",
     "text": [
      "[nltk_data] Downloading package names to\n",
      "[nltk_data]     C:\\Users\\Dell\\AppData\\Roaming\\nltk_data...\n",
      "[nltk_data]   Package names is already up-to-date!\n"
     ]
    },
    {
     "data": {
      "text/plain": [
       "True"
      ]
     },
     "execution_count": 60,
     "metadata": {},
     "output_type": "execute_result"
    }
   ],
   "source": [
    "import nltk\n",
    "nltk.download('names')"
   ]
  },
  {
   "cell_type": "code",
   "execution_count": 61,
   "metadata": {},
   "outputs": [],
   "source": [
    "from nltk.corpus import names"
   ]
  },
  {
   "cell_type": "code",
   "execution_count": 62,
   "metadata": {},
   "outputs": [
    {
     "data": {
      "text/plain": [
       "'Names Corpus, Version 1.3 (1994-03-29) Copyright (C) 1991 Mark Kantrowitz Additions by Bill Ross  This corpus contains 5001 female names and 2943 male names, sorted alphabetically, one per line.  You may use the lists of names for any purpose, so long as credit is given in any published work. You may also redistribute the list if you provide the recipients with a copy of this README file. The lists are not in the public domain (I retain the copyright on the lists) but are freely redistributable.  If you have any additions to the lists of names, I would appreciate receiving them.  Mark Kantrowitz <mkant+@cs.cmu.edu> http://www-2.cs.cmu.edu/afs/cs/project/ai-repository/ai/areas/nlp/corpora/names/'"
      ]
     },
     "execution_count": 62,
     "metadata": {},
     "output_type": "execute_result"
    }
   ],
   "source": [
    "names.readme().replace('\\n', ' ')"
   ]
  },
  {
   "cell_type": "code",
   "execution_count": 63,
   "metadata": {},
   "outputs": [
    {
     "data": {
      "text/plain": [
       "['female.txt', 'male.txt']"
      ]
     },
     "execution_count": 63,
     "metadata": {},
     "output_type": "execute_result"
    }
   ],
   "source": [
    "names.fileids()"
   ]
  },
  {
   "cell_type": "code",
   "execution_count": 64,
   "metadata": {},
   "outputs": [
    {
     "data": {
      "text/plain": [
       "['Abagael',\n",
       " 'Abagail',\n",
       " 'Abbe',\n",
       " 'Abbey',\n",
       " 'Abbi',\n",
       " 'Abbie',\n",
       " 'Abby',\n",
       " 'Abigael',\n",
       " 'Abigail',\n",
       " 'Abigale']"
      ]
     },
     "execution_count": 64,
     "metadata": {},
     "output_type": "execute_result"
    }
   ],
   "source": [
    "names.words('female.txt')[:10]"
   ]
  },
  {
   "cell_type": "markdown",
   "metadata": {},
   "source": [
    "## Building the classifier¶"
   ]
  },
  {
   "cell_type": "code",
   "execution_count": 65,
   "metadata": {},
   "outputs": [
    {
     "data": {
      "text/plain": [
       "[('Abagael', 'female'),\n",
       " ('Abagail', 'female'),\n",
       " ('Abbe', 'female'),\n",
       " ('Abbey', 'female'),\n",
       " ('Abbi', 'female')]"
      ]
     },
     "execution_count": 65,
     "metadata": {},
     "output_type": "execute_result"
    }
   ],
   "source": [
    "labeled_names = ([(name, 'female') for name in names.words('female.txt')] + [(name, 'male') for name in names.words('male.txt')])\n",
    "labeled_names[:5]"
   ]
  },
  {
   "cell_type": "code",
   "execution_count": 66,
   "metadata": {},
   "outputs": [
    {
     "data": {
      "text/plain": [
       "[('Jehu', 'male'),\n",
       " ('Pieter', 'male'),\n",
       " ('Gerianne', 'female'),\n",
       " ('Sholom', 'male'),\n",
       " ('Romeo', 'male')]"
      ]
     },
     "execution_count": 66,
     "metadata": {},
     "output_type": "execute_result"
    }
   ],
   "source": [
    "import random\n",
    "random.shuffle(labeled_names)\n",
    "labeled_names[:5]"
   ]
  },
  {
   "cell_type": "code",
   "execution_count": 67,
   "metadata": {},
   "outputs": [
    {
     "data": {
      "text/plain": [
       "[({'last_letter': 'hu'}, 'male'),\n",
       " ({'last_letter': 'er'}, 'male'),\n",
       " ({'last_letter': 'ne'}, 'female'),\n",
       " ({'last_letter': 'om'}, 'male'),\n",
       " ({'last_letter': 'eo'}, 'male')]"
      ]
     },
     "execution_count": 67,
     "metadata": {},
     "output_type": "execute_result"
    }
   ],
   "source": [
    "feature_set = [(gender_features(n), gender) for (n, gender) in labeled_names]\n",
    "feature_set[:5]"
   ]
  },
  {
   "cell_type": "code",
   "execution_count": 68,
   "metadata": {},
   "outputs": [
    {
     "data": {
      "text/plain": [
       "7944"
      ]
     },
     "execution_count": 68,
     "metadata": {},
     "output_type": "execute_result"
    }
   ],
   "source": [
    "len(feature_set)"
   ]
  },
  {
   "cell_type": "code",
   "execution_count": 69,
   "metadata": {},
   "outputs": [],
   "source": [
    "from nltk import NaiveBayesClassifier"
   ]
  },
  {
   "cell_type": "code",
   "execution_count": 70,
   "metadata": {},
   "outputs": [
    {
     "data": {
      "text/plain": [
       "5561"
      ]
     },
     "execution_count": 70,
     "metadata": {},
     "output_type": "execute_result"
    }
   ],
   "source": [
    "train_set = round(len(feature_set) * 0.7)\n",
    "train_set"
   ]
  },
  {
   "cell_type": "code",
   "execution_count": 71,
   "metadata": {},
   "outputs": [],
   "source": [
    "train_data, test_data = feature_set[: train_set], feature_set[train_set:]"
   ]
  },
  {
   "cell_type": "code",
   "execution_count": 84,
   "metadata": {},
   "outputs": [
    {
     "data": {
      "text/plain": [
       "[({'last_letter': 'hu'}, 'male'),\n",
       " ({'last_letter': 'er'}, 'male'),\n",
       " ({'last_letter': 'ne'}, 'female'),\n",
       " ({'last_letter': 'om'}, 'male'),\n",
       " ({'last_letter': 'eo'}, 'male')]"
      ]
     },
     "execution_count": 84,
     "metadata": {},
     "output_type": "execute_result"
    }
   ],
   "source": [
    "train_data[:5]"
   ]
  },
  {
   "cell_type": "code",
   "execution_count": 85,
   "metadata": {},
   "outputs": [
    {
     "data": {
      "text/plain": [
       "[({'last_letter': 'el'}, 'male'),\n",
       " ({'last_letter': 'da'}, 'female'),\n",
       " ({'last_letter': 'el'}, 'male'),\n",
       " ({'last_letter': 'an'}, 'male'),\n",
       " ({'last_letter': 'ey'}, 'male')]"
      ]
     },
     "execution_count": 85,
     "metadata": {},
     "output_type": "execute_result"
    }
   ],
   "source": [
    "test_data[:5]"
   ]
  },
  {
   "cell_type": "code",
   "execution_count": 72,
   "metadata": {},
   "outputs": [],
   "source": [
    "classifier = NaiveBayesClassifier.train(train_data)"
   ]
  },
  {
   "cell_type": "code",
   "execution_count": 73,
   "metadata": {},
   "outputs": [],
   "source": [
    "# Last one word\n",
    "# classifier.show_most_informative_features(10)"
   ]
  },
  {
   "cell_type": "code",
   "execution_count": 74,
   "metadata": {},
   "outputs": [
    {
     "name": "stdout",
     "output_type": "stream",
     "text": [
      "Most Informative Features\n",
      "             last_letter = 'na'           female : male   =    122.7 : 1.0\n",
      "             last_letter = 'la'           female : male   =     57.6 : 1.0\n",
      "             last_letter = 'us'             male : female =     53.0 : 1.0\n",
      "             last_letter = 'ta'           female : male   =     35.0 : 1.0\n",
      "             last_letter = 'ia'           female : male   =     32.0 : 1.0\n",
      "             last_letter = 'rt'             male : female =     25.9 : 1.0\n",
      "             last_letter = 'rd'             male : female =     23.2 : 1.0\n",
      "             last_letter = 'ch'             male : female =     21.3 : 1.0\n",
      "             last_letter = 'ra'           female : male   =     20.0 : 1.0\n",
      "             last_letter = 'ld'             male : female =     18.0 : 1.0\n"
     ]
    }
   ],
   "source": [
    "# Last two words\n",
    "classifier.show_most_informative_features(10)"
   ]
  },
  {
   "cell_type": "code",
   "execution_count": 75,
   "metadata": {},
   "outputs": [
    {
     "name": "stdout",
     "output_type": "stream",
     "text": [
      "Most Informative Features\n",
      "             last_letter = 'na'           female : male   =    122.7 : 1.0\n",
      "             last_letter = 'la'           female : male   =     57.6 : 1.0\n",
      "             last_letter = 'us'             male : female =     53.0 : 1.0\n",
      "             last_letter = 'ta'           female : male   =     35.0 : 1.0\n",
      "             last_letter = 'ia'           female : male   =     32.0 : 1.0\n",
      "             last_letter = 'rt'             male : female =     25.9 : 1.0\n",
      "             last_letter = 'rd'             male : female =     23.2 : 1.0\n",
      "             last_letter = 'ch'             male : female =     21.3 : 1.0\n",
      "             last_letter = 'ra'           female : male   =     20.0 : 1.0\n",
      "             last_letter = 'ld'             male : female =     18.0 : 1.0\n"
     ]
    }
   ],
   "source": [
    "# Last three words\n",
    "classifier.show_most_informative_features(10)"
   ]
  },
  {
   "cell_type": "markdown",
   "metadata": {},
   "source": [
    "### Testing the classifier"
   ]
  },
  {
   "cell_type": "code",
   "execution_count": 76,
   "metadata": {},
   "outputs": [
    {
     "data": {
      "text/plain": [
       "['male', 'female']"
      ]
     },
     "execution_count": 76,
     "metadata": {},
     "output_type": "execute_result"
    }
   ],
   "source": [
    "classifier.labels()"
   ]
  },
  {
   "cell_type": "code",
   "execution_count": 77,
   "metadata": {},
   "outputs": [
    {
     "data": {
      "text/plain": [
       "0.77"
      ]
     },
     "execution_count": 77,
     "metadata": {},
     "output_type": "execute_result"
    }
   ],
   "source": [
    "from nltk.classify import accuracy\n",
    "\n",
    "round(accuracy(classifier, test_data), 2)"
   ]
  },
  {
   "cell_type": "code",
   "execution_count": 78,
   "metadata": {},
   "outputs": [
    {
     "data": {
      "text/plain": [
       "'female'"
      ]
     },
     "execution_count": 78,
     "metadata": {},
     "output_type": "execute_result"
    }
   ],
   "source": [
    "classifier.classify(gender_features('Laura'))"
   ]
  },
  {
   "cell_type": "code",
   "execution_count": 79,
   "metadata": {},
   "outputs": [
    {
     "data": {
      "text/plain": [
       "'male'"
      ]
     },
     "execution_count": 79,
     "metadata": {},
     "output_type": "execute_result"
    }
   ],
   "source": [
    "classifier.classify(gender_features('Jobin'))"
   ]
  },
  {
   "cell_type": "markdown",
   "metadata": {},
   "source": [
    "## Edit Distance"
   ]
  },
  {
   "cell_type": "code",
   "execution_count": 80,
   "metadata": {},
   "outputs": [
    {
     "data": {
      "text/plain": [
       "1"
      ]
     },
     "execution_count": 80,
     "metadata": {},
     "output_type": "execute_result"
    }
   ],
   "source": [
    "from nltk.metrics import edit_distance\n",
    "\n",
    "edit_distance(\"John\", \"Joan\")"
   ]
  },
  {
   "cell_type": "code",
   "execution_count": 81,
   "metadata": {},
   "outputs": [
    {
     "name": "stdout",
     "output_type": "stream",
     "text": [
      "  ==> Training (25 iterations)\n",
      "\n",
      "      Iteration    Log Likelihood    Accuracy\n",
      "      ---------------------------------------\n",
      "             1          -0.69315        0.373\n",
      "             2          -0.34780        0.810\n",
      "             3          -0.33436        0.810\n",
      "             4          -0.32638        0.810\n",
      "             5          -0.32109        0.810\n",
      "             6          -0.31733        0.810\n",
      "             7          -0.31452        0.810\n",
      "             8          -0.31234        0.810\n",
      "             9          -0.31060        0.810\n",
      "            10          -0.30918        0.810\n",
      "            11          -0.30799        0.810\n",
      "            12          -0.30699        0.810\n",
      "            13          -0.30614        0.810\n",
      "            14          -0.30540        0.810\n",
      "            15          -0.30475        0.810\n",
      "            16          -0.30418        0.810\n",
      "            17          -0.30367        0.810\n",
      "            18          -0.30321        0.810\n",
      "            19          -0.30280        0.810\n",
      "            20          -0.30243        0.810\n",
      "            21          -0.30210        0.810\n",
      "            22          -0.30179        0.810\n",
      "            23          -0.30151        0.810\n",
      "            24          -0.30125        0.810\n",
      "         Final          -0.30101        0.810\n"
     ]
    }
   ],
   "source": [
    "from nltk import MaxentClassifier\n",
    "\n",
    "me_classifier = MaxentClassifier.train(train_data, max_iter=25)"
   ]
  },
  {
   "cell_type": "code",
   "execution_count": 82,
   "metadata": {},
   "outputs": [
    {
     "data": {
      "text/plain": [
       "0.77"
      ]
     },
     "execution_count": 82,
     "metadata": {},
     "output_type": "execute_result"
    }
   ],
   "source": [
    "round(accuracy(me_classifier, test_data), 2)"
   ]
  },
  {
   "cell_type": "code",
   "execution_count": 83,
   "metadata": {},
   "outputs": [
    {
     "name": "stdout",
     "output_type": "stream",
     "text": [
      "  -7.238 last_letter=='na' and label is 'male'\n",
      "  -6.150 last_letter=='la' and label is 'male'\n",
      "  -5.180 last_letter=='ta' and label is 'male'\n",
      "  -4.954 last_letter=='ia' and label is 'male'\n",
      "   4.644 last_letter=='da' and label is 'female'\n",
      "   4.644 last_letter=='sa' and label is 'female'\n",
      "   4.644 last_letter=='om' and label is 'male'\n",
      "   4.644 last_letter=='dd' and label is 'male'\n",
      "   4.644 last_letter=='no' and label is 'male'\n",
      "   4.644 last_letter=='os' and label is 'male'\n"
     ]
    }
   ],
   "source": [
    "me_classifier.show_most_informative_features(10)"
   ]
  },
  {
   "cell_type": "code",
   "execution_count": null,
   "metadata": {},
   "outputs": [],
   "source": []
  }
 ],
 "metadata": {
  "kernelspec": {
   "display_name": "Python 3",
   "language": "python",
   "name": "python3"
  },
  "language_info": {
   "codemirror_mode": {
    "name": "ipython",
    "version": 3
   },
   "file_extension": ".py",
   "mimetype": "text/x-python",
   "name": "python",
   "nbconvert_exporter": "python",
   "pygments_lexer": "ipython3",
   "version": "3.7.3"
  }
 },
 "nbformat": 4,
 "nbformat_minor": 2
}
