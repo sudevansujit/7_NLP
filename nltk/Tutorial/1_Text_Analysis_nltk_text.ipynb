{
 "cells": [
  {
   "cell_type": "markdown",
   "metadata": {},
   "source": [
    "# Text Analysis Using nltk.text"
   ]
  },
  {
   "cell_type": "code",
   "execution_count": 46,
   "metadata": {},
   "outputs": [
    {
     "name": "stderr",
     "output_type": "stream",
     "text": [
      "[nltk_data] Downloading package reuters to\n",
      "[nltk_data]     C:\\Users\\Dell\\AppData\\Roaming\\nltk_data...\n"
     ]
    },
    {
     "data": {
      "text/plain": [
       "True"
      ]
     },
     "execution_count": 46,
     "metadata": {},
     "output_type": "execute_result"
    }
   ],
   "source": [
    "from nltk.tokenize import word_tokenize\n",
    "from nltk.text import Text\n",
    "import nltk\n",
    "nltk.download('reuters')"
   ]
  },
  {
   "cell_type": "code",
   "execution_count": 57,
   "metadata": {},
   "outputs": [],
   "source": [
    "my_string = \"\"\"Two plus two is four, minus one that's three — quick maths. Every day man's on the block. \n",
    "Smoke trees. See your girl in the park, that girl is an uckers.\n",
    "When the thing went quack quack quack, your men were ducking! Hold tight Asznee, my brother. \n",
    "He's got a pumpy. Hold tight my man, my guy. He's got a frisbee. I trap, trap, trap on the phone.\n",
    "Moving that cornflakes, rice crispies. Hold tight my girl Whitney.\"\"\"\n"
   ]
  },
  {
   "cell_type": "markdown",
   "metadata": {},
   "source": [
    "### Tokenizing Text"
   ]
  },
  {
   "cell_type": "code",
   "execution_count": 5,
   "metadata": {},
   "outputs": [
    {
     "data": {
      "text/plain": [
       "102"
      ]
     },
     "execution_count": 5,
     "metadata": {},
     "output_type": "execute_result"
    }
   ],
   "source": [
    "tokens = word_tokenize(my_string)\n",
    "len(tokens)"
   ]
  },
  {
   "cell_type": "code",
   "execution_count": 6,
   "metadata": {},
   "outputs": [
    {
     "data": {
      "text/plain": [
       "list"
      ]
     },
     "execution_count": 6,
     "metadata": {},
     "output_type": "execute_result"
    }
   ],
   "source": [
    "type(tokens)"
   ]
  },
  {
   "cell_type": "code",
   "execution_count": 7,
   "metadata": {},
   "outputs": [
    {
     "name": "stdout",
     "output_type": "stream",
     "text": [
      "['Two', 'plus', 'two', 'is', 'four', ',', 'minus', 'one', 'that', \"'s\", 'three', '—', 'quick', 'maths', '.', 'Every', 'day', 'man', \"'s\", 'on', 'the', 'block', '.', 'Smoke', 'trees', '.', 'See', 'your', 'girl', 'in', 'the', 'park', ',', 'that', 'girl', 'is', 'an', 'uckers', '.', 'When', 'the', 'thing', 'went', 'quack', 'quack', 'quack', ',', 'your', 'men', 'were', 'ducking', '!', 'Hold', 'tight', 'Asznee', ',', 'my', 'brother', '.', 'He', \"'s\", 'got', 'a', 'pumpy', '.', 'Hold', 'tight', 'my', 'man', ',', 'my', 'guy', '.', 'He', \"'s\", 'got', 'a', 'frisbee', '.', 'I', 'trap', ',', 'trap', ',', 'trap', 'on', 'the', 'phone', '.', 'Moving', 'that', 'cornflakes', ',', 'rice', 'crispies', '.', 'Hold', 'tight', 'my', 'girl', 'Whitney', '.']\n"
     ]
    }
   ],
   "source": [
    "print(tokens)"
   ]
  },
  {
   "cell_type": "code",
   "execution_count": 10,
   "metadata": {},
   "outputs": [
    {
     "name": "stdout",
     "output_type": "stream",
     "text": [
      "['two', 'plus', 'two', 'is', 'four', 'minus', 'one', 'that', 'three', 'quick', 'maths', 'every', 'day', 'man', 'on', 'the', 'block', 'smoke', 'trees', 'see', 'your', 'girl', 'in', 'the', 'park', 'that', 'girl', 'is', 'an', 'uckers', 'when', 'the', 'thing', 'went', 'quack', 'quack', 'quack', 'your', 'men', 'were', 'ducking', 'hold', 'tight', 'asznee', 'my', 'brother', 'he', 'got', 'a', 'pumpy', 'hold', 'tight', 'my', 'man', 'my', 'guy', 'he', 'got', 'a', 'frisbee', 'i', 'trap', 'trap', 'trap', 'on', 'the', 'phone', 'moving', 'that', 'cornflakes', 'rice', 'crispies', 'hold', 'tight', 'my', 'girl', 'whitney']\n"
     ]
    }
   ],
   "source": [
    "tokens = [word.lower() for word in tokens if word.isalpha()]\n",
    "print(tokens)"
   ]
  },
  {
   "cell_type": "markdown",
   "metadata": {},
   "source": [
    "### Text"
   ]
  },
  {
   "cell_type": "code",
   "execution_count": 13,
   "metadata": {},
   "outputs": [
    {
     "name": "stdout",
     "output_type": "stream",
     "text": [
      "<Text: two plus two is four minus one that...>\n"
     ]
    }
   ],
   "source": [
    "t = Text(tokens)\n",
    "print(t)"
   ]
  },
  {
   "cell_type": "raw",
   "metadata": {},
   "source": [
    "Text\n",
    "A wrapper around a sequence of simple (string) tokens, which is\n",
    " |  intended to support initial exploration of texts (via the\n",
    " |  interactive console).  Its methods perform a variety of analyses\n",
    " |  on the text's contexts \n",
    " \n",
    " (e.g., counting, concordancing, collocation discovery), and display the results.  \n",
    " \n",
    " |  If you wish to write a\n",
    " |  program which makes use of these analyses, then you should bypass\n",
    " |  the ``Text`` class, and use the appropriate analysis function or\n",
    " |  class directly instead."
   ]
  },
  {
   "cell_type": "markdown",
   "metadata": {},
   "source": [
    "#### Concordance"
   ]
  },
  {
   "cell_type": "code",
   "execution_count": 16,
   "metadata": {},
   "outputs": [
    {
     "name": "stdout",
     "output_type": "stream",
     "text": [
      "Displaying 1 of 1 matches:\n",
      "ur girl in the park that girl is an uckers when the thing went quack quack qua\n"
     ]
    }
   ],
   "source": [
    "# concordance() is a method of the Text class of NLTK. \n",
    "#It finds words and displays a context window. Word matching is not case-sensitive.\n",
    "# concordance() is defined as follows: concordance(self, word, width=79, lines=25). Note default values for optional params.\n",
    "# width is total length of text\n",
    "\n",
    "t.concordance('uckers')"
   ]
  },
  {
   "cell_type": "markdown",
   "metadata": {},
   "source": [
    "#### Collocations"
   ]
  },
  {
   "cell_type": "code",
   "execution_count": 17,
   "metadata": {},
   "outputs": [
    {
     "name": "stdout",
     "output_type": "stream",
     "text": [
      "hold tight; quack quack; trap trap\n"
     ]
    }
   ],
   "source": [
    "# def collocations(self, num=20, window_size=2). num is the max no. of collocations to print.\n",
    "\n",
    "t.collocations() "
   ]
  },
  {
   "cell_type": "markdown",
   "metadata": {},
   "source": [
    "#### Count"
   ]
  },
  {
   "cell_type": "code",
   "execution_count": 18,
   "metadata": {},
   "outputs": [
    {
     "data": {
      "text/plain": [
       "3"
      ]
     },
     "execution_count": 18,
     "metadata": {},
     "output_type": "execute_result"
    }
   ],
   "source": [
    "t.count('quack')"
   ]
  },
  {
   "cell_type": "markdown",
   "metadata": {},
   "source": [
    "#### Index"
   ]
  },
  {
   "cell_type": "code",
   "execution_count": 20,
   "metadata": {},
   "outputs": [
    {
     "data": {
      "text/plain": [
       "5"
      ]
     },
     "execution_count": 20,
     "metadata": {},
     "output_type": "execute_result"
    }
   ],
   "source": [
    "t.index('minus')"
   ]
  },
  {
   "cell_type": "markdown",
   "metadata": {},
   "source": [
    "#### Similar"
   ]
  },
  {
   "cell_type": "code",
   "execution_count": 35,
   "metadata": {},
   "outputs": [
    {
     "name": "stdout",
     "output_type": "stream",
     "text": [
      "guy\n"
     ]
    }
   ],
   "source": [
    "# similar(self, word, num=20). Distributional similarity: \n",
    "# find other words which appear in the same contexts as the specified word; \n",
    "#list most similar words first.\n",
    "\n",
    "t.similar('brother')"
   ]
  },
  {
   "cell_type": "markdown",
   "metadata": {},
   "source": [
    "#### Dispersion Plot"
   ]
  },
  {
   "cell_type": "code",
   "execution_count": 41,
   "metadata": {},
   "outputs": [
    {
     "data": {
      "image/png": "[encoded data removed]",
      "text/plain": [
       "<Figure size 432x288 with 1 Axes>"
      ]
     },
     "metadata": {
      "needs_background": "light"
     },
     "output_type": "display_data"
    }
   ],
   "source": [
    "# Reveals patterns in word positions. Each stripe represents an instance of a word, and each row represents the entire text.\n",
    "\n",
    "t.dispersion_plot(['man', 'thing', 'quack']) "
   ]
  },
  {
   "cell_type": "markdown",
   "metadata": {},
   "source": [
    "#### Plot"
   ]
  },
  {
   "cell_type": "code",
   "execution_count": 42,
   "metadata": {},
   "outputs": [
    {
     "data": {
      "image/png": "[encoded data removed]",
      "text/plain": [
       "<Figure size 432x288 with 1 Axes>"
      ]
     },
     "metadata": {
      "needs_background": "light"
     },
     "output_type": "display_data"
    }
   ],
   "source": [
    "# plots 20 most common tokens\n",
    "\n",
    "t.plot(20) "
   ]
  },
  {
   "cell_type": "markdown",
   "metadata": {},
   "source": [
    "#### Vocab"
   ]
  },
  {
   "cell_type": "code",
   "execution_count": 43,
   "metadata": {},
   "outputs": [
    {
     "data": {
      "text/plain": [
       "FreqDist({'the': 4, 'my': 4, 'that': 3, 'girl': 3, 'quack': 3, 'hold': 3, 'tight': 3, 'trap': 3, 'two': 2, 'is': 2, ...})"
      ]
     },
     "execution_count": 43,
     "metadata": {},
     "output_type": "execute_result"
    }
   ],
   "source": [
    "t.vocab()"
   ]
  },
  {
   "cell_type": "markdown",
   "metadata": {},
   "source": [
    "#### NLTK comes with several interesting corpora, which are large collections of text. You can check out what kinds of corpora are found in nltk.corpus\n",
    "\n",
    "http://www.nltk.org/book/ch02.html"
   ]
  },
  {
   "cell_type": "code",
   "execution_count": 44,
   "metadata": {},
   "outputs": [],
   "source": [
    "from nltk.corpus import reuters"
   ]
  },
  {
   "cell_type": "code",
   "execution_count": 47,
   "metadata": {},
   "outputs": [],
   "source": [
    "# .words() is one method corpus readers provide for reading data from a corpus. \n",
    "\n",
    "text = Text(reuters.words()) "
   ]
  },
  {
   "cell_type": "code",
   "execution_count": 48,
   "metadata": {},
   "outputs": [
    {
     "data": {
      "text/plain": [
       "1720901"
      ]
     },
     "execution_count": 48,
     "metadata": {},
     "output_type": "execute_result"
    }
   ],
   "source": [
    "len(text)"
   ]
  },
  {
   "cell_type": "code",
   "execution_count": 49,
   "metadata": {},
   "outputs": [
    {
     "name": "stdout",
     "output_type": "stream",
     "text": [
      "in_1986 and_and by_. begins_1 paid_1986 in_, early_. or_, /_shipment\n",
      "of_. last_. for_shipment for_to on_3 on_12 on_19 last_when in_.\n",
      "in_1987 -_.\n"
     ]
    }
   ],
   "source": [
    "# It seems that .common_contexts() takes 2 words which are used similarly and displays where they are used similarly.\n",
    "# It also seems that '_' indicates where the words would be in the text.\n",
    "\n",
    "text.common_contexts(['August', 'June']) "
   ]
  },
  {
   "cell_type": "code",
   "execution_count": 50,
   "metadata": {},
   "outputs": [
    {
     "name": "stdout",
     "output_type": "stream",
     "text": [
      ")_to\n"
     ]
    }
   ],
   "source": [
    "text.common_contexts(['how', 'are'])"
   ]
  },
  {
   "cell_type": "code",
   "execution_count": 51,
   "metadata": {},
   "outputs": [
    {
     "name": "stdout",
     "output_type": "stream",
     "text": [
      ",_in ,_through ,_from ,_the\n"
     ]
    }
   ],
   "source": [
    "text.common_contexts(['either', 'or'])"
   ]
  },
  {
   "cell_type": "code",
   "execution_count": 54,
   "metadata": {},
   "outputs": [
    {
     "data": {
      "image/png": "[encoded data removed]",
      "text/plain": [
       "<Figure size 432x288 with 1 Axes>"
      ]
     },
     "metadata": {
      "needs_background": "light"
     },
     "output_type": "display_data"
    }
   ],
   "source": [
    "text.dispersion_plot(['eventually', 'responsible', 'reversible'])"
   ]
  },
  {
   "cell_type": "code",
   "execution_count": 55,
   "metadata": {},
   "outputs": [
    {
     "data": {
      "image/png": "[encoded data removed]",
      "text/plain": [
       "<Figure size 432x288 with 1 Axes>"
      ]
     },
     "metadata": {
      "needs_background": "light"
     },
     "output_type": "display_data"
    }
   ],
   "source": [
    "text.plot(10)"
   ]
  },
  {
   "cell_type": "code",
   "execution_count": null,
   "metadata": {},
   "outputs": [],
   "source": []
  }
 ],
 "metadata": {
  "kernelspec": {
   "display_name": "Python 3",
   "language": "python",
   "name": "python3"
  },
  "language_info": {
   "codemirror_mode": {
    "name": "ipython",
    "version": 3
   },
   "file_extension": ".py",
   "mimetype": "text/x-python",
   "name": "python",
   "nbconvert_exporter": "python",
   "pygments_lexer": "ipython3",
   "version": "3.7.3"
  }
 },
 "nbformat": 4,
 "nbformat_minor": 2
}
