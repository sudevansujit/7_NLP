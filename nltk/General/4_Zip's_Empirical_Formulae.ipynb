{
 "cells": [
  {
   "cell_type": "markdown",
   "metadata": {},
   "source": [
    "## Zipf's Empirical Formulae"
   ]
  },
  {
   "cell_type": "code",
   "execution_count": 49,
   "metadata": {},
   "outputs": [],
   "source": [
    "import re\n",
    "from operator import itemgetter\n",
    "import nltk\n",
    "import pandas as pd\n"
   ]
  },
  {
   "cell_type": "code",
   "execution_count": 42,
   "metadata": {},
   "outputs": [],
   "source": [
    "frequency = {}\n",
    "words_emma = nltk.Text(nltk.corpus.gutenberg.words('austen-emma.txt'))"
   ]
  },
  {
   "cell_type": "code",
   "execution_count": 43,
   "metadata": {},
   "outputs": [],
   "source": [
    "for word in words_emma:\n",
    "    if word not in frequency:\n",
    "        frequency[word] =  1\n",
    "    else:\n",
    "        frequency[word] += 1"
   ]
  },
  {
   "cell_type": "code",
   "execution_count": 44,
   "metadata": {},
   "outputs": [
    {
     "data": {
      "text/plain": [
       "[(',', 11454),\n",
       " ('.', 6928),\n",
       " ('to', 5183),\n",
       " ('the', 4844),\n",
       " ('and', 4672),\n",
       " ('of', 4279),\n",
       " ('I', 3178),\n",
       " ('a', 3004),\n",
       " ('was', 2385),\n",
       " ('her', 2381)]"
      ]
     },
     "execution_count": 44,
     "metadata": {},
     "output_type": "execute_result"
    }
   ],
   "source": [
    "from collections import Counter\n",
    "freq = Counter(frequency)\n",
    "freq.most_common(10)"
   ]
  },
  {
   "cell_type": "code",
   "execution_count": 45,
   "metadata": {},
   "outputs": [
    {
     "data": {
      "text/html": [
       "<div>\n",
       "<style scoped>\n",
       "    .dataframe tbody tr th:only-of-type {\n",
       "        vertical-align: middle;\n",
       "    }\n",
       "\n",
       "    .dataframe tbody tr th {\n",
       "        vertical-align: top;\n",
       "    }\n",
       "\n",
       "    .dataframe thead th {\n",
       "        text-align: right;\n",
       "    }\n",
       "</style>\n",
       "<table border=\"1\" class=\"dataframe\">\n",
       "  <thead>\n",
       "    <tr style=\"text-align: right;\">\n",
       "      <th></th>\n",
       "      <th>Rank</th>\n",
       "      <th>Freq</th>\n",
       "      <th>Rank*Freq</th>\n",
       "    </tr>\n",
       "  </thead>\n",
       "  <tbody>\n",
       "  </tbody>\n",
       "</table>\n",
       "</div>"
      ],
      "text/plain": [
       "Empty DataFrame\n",
       "Columns: [Rank, Freq, Rank*Freq]\n",
       "Index: []"
      ]
     },
     "execution_count": 45,
     "metadata": {},
     "output_type": "execute_result"
    }
   ],
   "source": [
    "col_name = ['Rank', 'Freq', 'Rank*Freq']\n",
    "data = pd.DataFrame(columns = col_name)\n",
    "data.head()"
   ]
  },
  {
   "cell_type": "code",
   "execution_count": 46,
   "metadata": {},
   "outputs": [],
   "source": [
    "for  rank, (word, frq) in enumerate(freq.most_common(len(freq)), start = 1):\n",
    "    data.loc[word] = [rank, frq, rank*frq]"
   ]
  },
  {
   "cell_type": "code",
   "execution_count": 47,
   "metadata": {},
   "outputs": [
    {
     "name": "stdout",
     "output_type": "stream",
     "text": [
      "                 Rank   Freq Rank*Freq\n",
      ",                   1  11454     11454\n",
      ".                   2   6928     13856\n",
      "to                  3   5183     15549\n",
      "the                 4   4844     19376\n",
      "and                 5   4672     23360\n",
      "of                  6   4279     25674\n",
      "I                   7   3178     22246\n",
      "a                   8   3004     24032\n",
      "was                 9   2385     21465\n",
      "her                10   2381     23810\n",
      ";                  11   2199     24189\n",
      "it                 12   2128     25536\n",
      "in                 13   2118     27534\n",
      "not                14   2101     29414\n",
      "\"                  15   2004     30060\n",
      "be                 16   1970     31520\n",
      "she                17   1778     30226\n",
      "that               18   1730     31140\n",
      "you                19   1677     31863\n",
      "had                20   1606     32120\n",
      "as                 21   1387     29127\n",
      "--                 22   1382     30404\n",
      "he                 23   1365     31395\n",
      "for                24   1321     31704\n",
      "have               25   1301     32525\n",
      "is                 26   1220     31720\n",
      "with               27   1187     32049\n",
      "Mr                 28   1153     32284\n",
      "very               29   1151     33379\n",
      "but                30   1148     34440\n",
      "...               ...    ...       ...\n",
      "nobility         7782      1      7782\n",
      "liberally        7783      1      7783\n",
      "created          7784      1      7784\n",
      "gradual          7785      1      7785\n",
      "impair           7786      1      7786\n",
      "clergyman        7787      1      7787\n",
      "altar            7788      1      7788\n",
      "intermediate     7789      1      7789\n",
      "seaside          7790      1      7790\n",
      "sounded          7791      1      7791\n",
      "hopeless         7792      1      7792\n",
      "resignation      7793      1      7793\n",
      "acquiesced       7794      1      7794\n",
      "befriended       7795      1      7795\n",
      "illumination     7796      1      7796\n",
      "robbed           7797      1      7797\n",
      "turkeys          7798      1      7798\n",
      "Other            7799      1      7799\n",
      "Pilfering        7800      1      7800\n",
      "_housebreaking_  7801      1      7801\n",
      "protected        7802      1      7802\n",
      "weddings         7803      1      7803\n",
      "detailed         7804      1      7804\n",
      "satin            7805      1      7805\n",
      "veils            7806      1      7806\n",
      "stare            7807      1      7807\n",
      "deficiencies     7808      1      7808\n",
      "predictions      7809      1      7809\n",
      "band             7810      1      7810\n",
      "FINIS            7811      1      7811\n",
      "\n",
      "[7811 rows x 3 columns]\n"
     ]
    }
   ],
   "source": [
    "print(data)"
   ]
  },
  {
   "cell_type": "markdown",
   "metadata": {},
   "source": [
    "# 2nd Method"
   ]
  },
  {
   "cell_type": "code",
   "execution_count": 48,
   "metadata": {},
   "outputs": [],
   "source": [
    "import re\n",
    "from operator import itemgetter\n",
    "import nltk\n",
    "import pandas as pd"
   ]
  },
  {
   "cell_type": "code",
   "execution_count": 50,
   "metadata": {},
   "outputs": [],
   "source": [
    "frequency = {}\n",
    "words_emma = nltk.Text(nltk.corpus.gutenberg.words('austen-emma.txt'))"
   ]
  },
  {
   "cell_type": "code",
   "execution_count": 51,
   "metadata": {},
   "outputs": [],
   "source": [
    "for word in words_emma:\n",
    "    count = frequency.get(word, 0)\n",
    "    frequency[word] = count + 1"
   ]
  },
  {
   "cell_type": "code",
   "execution_count": 52,
   "metadata": {},
   "outputs": [],
   "source": [
    "rank = 1\n",
    "column_header = ['Rank', 'Frequency', 'Frequency*Rank']\n",
    "df = pd.DataFrame(columns = column_header)\n"
   ]
  },
  {
   "cell_type": "code",
   "execution_count": 53,
   "metadata": {},
   "outputs": [],
   "source": [
    "for word, freq in reversed(sorted(frequency.items(), key = itemgetter(1))):\n",
    "    df.loc[word] = [rank, freq, rank * freq]\n",
    "    rank += 1"
   ]
  },
  {
   "cell_type": "code",
   "execution_count": 54,
   "metadata": {},
   "outputs": [
    {
     "name": "stdout",
     "output_type": "stream",
     "text": [
      "                Rank Frequency Frequency*Rank\n",
      ",                  1     11454          11454\n",
      ".                  2      6928          13856\n",
      "to                 3      5183          15549\n",
      "the                4      4844          19376\n",
      "and                5      4672          23360\n",
      "of                 6      4279          25674\n",
      "I                  7      3178          22246\n",
      "a                  8      3004          24032\n",
      "was                9      2385          21465\n",
      "her               10      2381          23810\n",
      ";                 11      2199          24189\n",
      "it                12      2128          25536\n",
      "in                13      2118          27534\n",
      "not               14      2101          29414\n",
      "\"                 15      2004          30060\n",
      "be                16      1970          31520\n",
      "she               17      1778          30226\n",
      "that              18      1730          31140\n",
      "you               19      1677          31863\n",
      "had               20      1606          32120\n",
      "as                21      1387          29127\n",
      "--                22      1382          30404\n",
      "he                23      1365          31395\n",
      "for               24      1321          31704\n",
      "have              25      1301          32525\n",
      "is                26      1220          31720\n",
      "with              27      1187          32049\n",
      "Mr                28      1153          32284\n",
      "very              29      1151          33379\n",
      "but               30      1148          34440\n",
      "...              ...       ...            ...\n",
      "speck           7782         1           7782\n",
      "Dirty           7783         1           7783\n",
      "bangs           7784         1           7784\n",
      "lock            7785         1           7785\n",
      "needlework      7786         1           7786\n",
      "curtseys        7787         1           7787\n",
      "housemaid       7788         1           7788\n",
      "chatted         7789         1           7789\n",
      "Matrimony       7790         1           7790\n",
      "awoke           7791         1           7791\n",
      "lieu            7792         1           7792\n",
      "equals          7793         1           7793\n",
      "amounting       7794         1           7794\n",
      "valetudinarian  7795         1           7795\n",
      "tenderer        7796         1           7796\n",
      "debt            7797         1           7797\n",
      "mournful        7798         1           7798\n",
      "Sorrow          7799         1           7799\n",
      "misfortunes     7800         1           7800\n",
      "disadvantages   7801         1           7801\n",
      "esteeming       7802         1           7802\n",
      "impose          7803         1           7803\n",
      "mildness        7804         1           7804\n",
      "nominal         7805         1           7805\n",
      "caresses        7806         1           7806\n",
      "indistinct      7807         1           7807\n",
      "vex             7808         1           7808\n",
      "]               7809         1           7809\n",
      "1816            7810         1           7810\n",
      "Austen          7811         1           7811\n",
      "\n",
      "[7811 rows x 3 columns]\n"
     ]
    }
   ],
   "source": [
    "print(df)"
   ]
  },
  {
   "cell_type": "code",
   "execution_count": 55,
   "metadata": {},
   "outputs": [
    {
     "data": {
      "text/plain": [
       "1"
      ]
     },
     "execution_count": 55,
     "metadata": {},
     "output_type": "execute_result"
    }
   ],
   "source": [
    "frequency['Austen']"
   ]
  },
  {
   "cell_type": "code",
   "execution_count": null,
   "metadata": {},
   "outputs": [],
   "source": []
  }
 ],
 "metadata": {
  "kernelspec": {
   "display_name": "Python 3",
   "language": "python",
   "name": "python3"
  },
  "language_info": {
   "codemirror_mode": {
    "name": "ipython",
    "version": 3
   },
   "file_extension": ".py",
   "mimetype": "text/x-python",
   "name": "python",
   "nbconvert_exporter": "python",
   "pygments_lexer": "ipython3",
   "version": "3.7.3"
  }
 },
 "nbformat": 4,
 "nbformat_minor": 2
}
