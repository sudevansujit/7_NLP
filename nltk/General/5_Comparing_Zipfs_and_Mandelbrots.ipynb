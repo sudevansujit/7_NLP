{
 "cells": [
  {
   "cell_type": "markdown",
   "metadata": {},
   "source": [
    "## Comparing Zipf's Empirical Formulae and Mandelbrot's Approximation"
   ]
  },
  {
   "cell_type": "code",
   "execution_count": 1,
   "metadata": {},
   "outputs": [],
   "source": [
    "import re\n",
    "from operator import itemgetter\n",
    "import nltk\n",
    "import pandas as pd\n"
   ]
  },
  {
   "cell_type": "code",
   "execution_count": 2,
   "metadata": {},
   "outputs": [],
   "source": [
    "frequency = {}\n",
    "words_emma = nltk.Text(nltk.corpus.gutenberg.words('austen-emma.txt'))"
   ]
  },
  {
   "cell_type": "code",
   "execution_count": 3,
   "metadata": {},
   "outputs": [],
   "source": [
    "for word in words_emma:\n",
    "    if word not in frequency:\n",
    "        frequency[word] =  1\n",
    "    else:\n",
    "        frequency[word] += 1"
   ]
  },
  {
   "cell_type": "code",
   "execution_count": 4,
   "metadata": {},
   "outputs": [
    {
     "data": {
      "text/plain": [
       "[(',', 11454),\n",
       " ('.', 6928),\n",
       " ('to', 5183),\n",
       " ('the', 4844),\n",
       " ('and', 4672),\n",
       " ('of', 4279),\n",
       " ('I', 3178),\n",
       " ('a', 3004),\n",
       " ('was', 2385),\n",
       " ('her', 2381)]"
      ]
     },
     "execution_count": 4,
     "metadata": {},
     "output_type": "execute_result"
    }
   ],
   "source": [
    "from collections import Counter\n",
    "freq = Counter(frequency)\n",
    "freq.most_common(10)"
   ]
  },
  {
   "cell_type": "code",
   "execution_count": 10,
   "metadata": {},
   "outputs": [
    {
     "data": {
      "text/html": [
       "<div>\n",
       "<style scoped>\n",
       "    .dataframe tbody tr th:only-of-type {\n",
       "        vertical-align: middle;\n",
       "    }\n",
       "\n",
       "    .dataframe tbody tr th {\n",
       "        vertical-align: top;\n",
       "    }\n",
       "\n",
       "    .dataframe thead th {\n",
       "        text-align: right;\n",
       "    }\n",
       "</style>\n",
       "<table border=\"1\" class=\"dataframe\">\n",
       "  <thead>\n",
       "    <tr style=\"text-align: right;\">\n",
       "      <th></th>\n",
       "      <th>Rank</th>\n",
       "      <th>Freq</th>\n",
       "      <th>Zipf's</th>\n",
       "      <th>Mandelbrot's</th>\n",
       "    </tr>\n",
       "  </thead>\n",
       "  <tbody>\n",
       "  </tbody>\n",
       "</table>\n",
       "</div>"
      ],
      "text/plain": [
       "Empty DataFrame\n",
       "Columns: [Rank, Freq, Zipf's, Mandelbrot's]\n",
       "Index: []"
      ]
     },
     "execution_count": 10,
     "metadata": {},
     "output_type": "execute_result"
    }
   ],
   "source": [
    "col_name = ['Rank', 'Freq', \"Zipf's\", \"Mandelbrot's\"]\n",
    "data = pd.DataFrame(columns = col_name)\n",
    "data.head()"
   ]
  },
  {
   "cell_type": "code",
   "execution_count": 11,
   "metadata": {},
   "outputs": [],
   "source": [
    "for  rank, (word, frq) in enumerate(freq.most_common(len(freq)), start = 1):\n",
    "    data.loc[word] = [rank, frq, rank*frq, frq*(rank+2.7)]"
   ]
  },
  {
   "cell_type": "code",
   "execution_count": 12,
   "metadata": {},
   "outputs": [
    {
     "name": "stdout",
     "output_type": "stream",
     "text": [
      "                   Rank     Freq   Zipf's  Mandelbrot's\n",
      ",                   1.0  11454.0  11454.0       42379.8\n",
      ".                   2.0   6928.0  13856.0       32561.6\n",
      "to                  3.0   5183.0  15549.0       29543.1\n",
      "the                 4.0   4844.0  19376.0       32454.8\n",
      "and                 5.0   4672.0  23360.0       35974.4\n",
      "of                  6.0   4279.0  25674.0       37227.3\n",
      "I                   7.0   3178.0  22246.0       30826.6\n",
      "a                   8.0   3004.0  24032.0       32142.8\n",
      "was                 9.0   2385.0  21465.0       27904.5\n",
      "her                10.0   2381.0  23810.0       30238.7\n",
      ";                  11.0   2199.0  24189.0       30126.3\n",
      "it                 12.0   2128.0  25536.0       31281.6\n",
      "in                 13.0   2118.0  27534.0       33252.6\n",
      "not                14.0   2101.0  29414.0       35086.7\n",
      "\"                  15.0   2004.0  30060.0       35470.8\n",
      "be                 16.0   1970.0  31520.0       36839.0\n",
      "she                17.0   1778.0  30226.0       35026.6\n",
      "that               18.0   1730.0  31140.0       35811.0\n",
      "you                19.0   1677.0  31863.0       36390.9\n",
      "had                20.0   1606.0  32120.0       36456.2\n",
      "as                 21.0   1387.0  29127.0       32871.9\n",
      "--                 22.0   1382.0  30404.0       34135.4\n",
      "he                 23.0   1365.0  31395.0       35080.5\n",
      "for                24.0   1321.0  31704.0       35270.7\n",
      "have               25.0   1301.0  32525.0       36037.7\n",
      "is                 26.0   1220.0  31720.0       35014.0\n",
      "with               27.0   1187.0  32049.0       35253.9\n",
      "Mr                 28.0   1153.0  32284.0       35397.1\n",
      "very               29.0   1151.0  33379.0       36486.7\n",
      "but                30.0   1148.0  34440.0       37539.6\n",
      "...                 ...      ...      ...           ...\n",
      "nobility         7782.0      1.0   7782.0        7784.7\n",
      "liberally        7783.0      1.0   7783.0        7785.7\n",
      "created          7784.0      1.0   7784.0        7786.7\n",
      "gradual          7785.0      1.0   7785.0        7787.7\n",
      "impair           7786.0      1.0   7786.0        7788.7\n",
      "clergyman        7787.0      1.0   7787.0        7789.7\n",
      "altar            7788.0      1.0   7788.0        7790.7\n",
      "intermediate     7789.0      1.0   7789.0        7791.7\n",
      "seaside          7790.0      1.0   7790.0        7792.7\n",
      "sounded          7791.0      1.0   7791.0        7793.7\n",
      "hopeless         7792.0      1.0   7792.0        7794.7\n",
      "resignation      7793.0      1.0   7793.0        7795.7\n",
      "acquiesced       7794.0      1.0   7794.0        7796.7\n",
      "befriended       7795.0      1.0   7795.0        7797.7\n",
      "illumination     7796.0      1.0   7796.0        7798.7\n",
      "robbed           7797.0      1.0   7797.0        7799.7\n",
      "turkeys          7798.0      1.0   7798.0        7800.7\n",
      "Other            7799.0      1.0   7799.0        7801.7\n",
      "Pilfering        7800.0      1.0   7800.0        7802.7\n",
      "_housebreaking_  7801.0      1.0   7801.0        7803.7\n",
      "protected        7802.0      1.0   7802.0        7804.7\n",
      "weddings         7803.0      1.0   7803.0        7805.7\n",
      "detailed         7804.0      1.0   7804.0        7806.7\n",
      "satin            7805.0      1.0   7805.0        7807.7\n",
      "veils            7806.0      1.0   7806.0        7808.7\n",
      "stare            7807.0      1.0   7807.0        7809.7\n",
      "deficiencies     7808.0      1.0   7808.0        7810.7\n",
      "predictions      7809.0      1.0   7809.0        7811.7\n",
      "band             7810.0      1.0   7810.0        7812.7\n",
      "FINIS            7811.0      1.0   7811.0        7813.7\n",
      "\n",
      "[7811 rows x 4 columns]\n"
     ]
    }
   ],
   "source": [
    "print(data)"
   ]
  },
  {
   "cell_type": "code",
   "execution_count": null,
   "metadata": {},
   "outputs": [],
   "source": []
  }
 ],
 "metadata": {
  "kernelspec": {
   "display_name": "Python 3",
   "language": "python",
   "name": "python3"
  },
  "language_info": {
   "codemirror_mode": {
    "name": "ipython",
    "version": 3
   },
   "file_extension": ".py",
   "mimetype": "text/x-python",
   "name": "python",
   "nbconvert_exporter": "python",
   "pygments_lexer": "ipython3",
   "version": "3.7.3"
  }
 },
 "nbformat": 4,
 "nbformat_minor": 2
}
