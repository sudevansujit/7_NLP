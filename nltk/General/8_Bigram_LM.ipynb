{
 "cells": [
  {
   "cell_type": "markdown",
   "metadata": {},
   "source": [
    "# Bigram_LM"
   ]
  },
  {
   "cell_type": "code",
   "execution_count": 68,
   "metadata": {},
   "outputs": [],
   "source": [
    "import numpy as np\n",
    "import pandas as pd\n",
    "import matplotlib.pyplot as plt\n",
    "import nltk\n",
    "from nltk import bigrams\n",
    "import collections\n",
    "from collections import Counter\n",
    "from nltk.corpus.reader.plaintext import PlaintextCorpusReader"
   ]
  },
  {
   "cell_type": "code",
   "execution_count": 69,
   "metadata": {},
   "outputs": [
    {
     "data": {
      "text/plain": [
       "776625"
      ]
     },
     "execution_count": 69,
     "metadata": {},
     "output_type": "execute_result"
    }
   ],
   "source": [
    "myfile = open('taleof2cities.txt', 'r').read()\n",
    "len(myfile)"
   ]
  },
  {
   "cell_type": "code",
   "execution_count": 70,
   "metadata": {},
   "outputs": [],
   "source": [
    "your_corpus = PlaintextCorpusReader('C:\\\\Users\\\\Dell\\\\NLP\\\\2_Python_Pandas\\\\100_Applied_NLP\\\\taleof2cities.txt', '.*' )\n"
   ]
  },
  {
   "cell_type": "code",
   "execution_count": 71,
   "metadata": {},
   "outputs": [
    {
     "data": {
      "text/plain": [
       "nltk.corpus.reader.plaintext.PlaintextCorpusReader"
      ]
     },
     "execution_count": 71,
     "metadata": {},
     "output_type": "execute_result"
    }
   ],
   "source": [
    "type(your_corpus)"
   ]
  },
  {
   "cell_type": "code",
   "execution_count": 83,
   "metadata": {},
   "outputs": [],
   "source": [
    "#compute the bigram model\n",
    "def build_bigram_model():\n",
    "    bigram_model = collections.defaultdict(lambda: collections.defaultdict(lambda: 0))\n",
    "    for sentence in your_corpus.sents('.')[:5000]:\n",
    "        sentence = [word.lower() for word in sentence if word.isalpha()]  # get alpha only\n",
    "        #Collect all bigrams counts for (w1,w2)\n",
    "        for w1, w2 in bigrams(sentence):\n",
    "            bigram_model[w1][w2] += 1\n",
    "        #compute the probability for the bigram starting with w1\n",
    "        for w1 in bigram_model:\n",
    "            #total count of bigrams starting with w1\n",
    "            bigram_count_4_w1 = float(sum(bigram_model[w1].values()))\n",
    "            #distribute the probability mass for all bigrams starting with w1\n",
    "            for w2 in bigram_model[w1]:\n",
    "                bigram_model[w1][w2] /= bigram_count_4_w1\n",
    "    return bigram_model\n",
    "\n",
    "\n"
   ]
  },
  {
   "cell_type": "code",
   "execution_count": 84,
   "metadata": {},
   "outputs": [],
   "source": [
    "def predict_next_word(first_word):\n",
    "    #buikd the model\n",
    "    model = build_bigram_model()\n",
    "    #get the next for the bigram starting with 'word'\n",
    "    second_word = model[first_word]\n",
    "    #get the top 10 words whose first word is 'first_word'\n",
    "    top10words = Counter(second_word).most_common(10)\n",
    "\n",
    "\n",
    "    predicted_words = list(zip(*top10words))[0]\n",
    "    probability_score = list(zip(*top10words))[1]\n",
    "    x_pos = np.arange(len(predicted_words))\n",
    "\n",
    "    # calculate slope and intercept for the linear trend line\n",
    "    slope, intercept = np.polyfit(x_pos, probability_score, 1)\n",
    "\n",
    "    plt.bar(x_pos, probability_score,align='center')\n",
    "    plt.xticks(x_pos, predicted_words)\n",
    "    plt.ylabel('Probability Score')\n",
    "    plt.xlabel('Predicted Words')\n",
    "    plt.title('Predicted words for ' + first_word)\n",
    "    plt.show()"
   ]
  },
  {
   "cell_type": "code",
   "execution_count": 85,
   "metadata": {},
   "outputs": [
    {
     "data": {
      "image/png": "[encoded data removed]",
      "text/plain": [
       "<Figure size 432x288 with 1 Axes>"
      ]
     },
     "metadata": {
      "needs_background": "light"
     },
     "output_type": "display_data"
    }
   ],
   "source": [
    "predict_next_word('home')"
   ]
  },
  {
   "cell_type": "markdown",
   "metadata": {},
   "source": [
    "## Code Break Analysis"
   ]
  },
  {
   "cell_type": "code",
   "execution_count": 86,
   "metadata": {},
   "outputs": [
    {
     "data": {
      "text/plain": [
       "defaultdict(<function __main__.<lambda>()>, {})"
      ]
     },
     "execution_count": 86,
     "metadata": {},
     "output_type": "execute_result"
    }
   ],
   "source": [
    "collections.defaultdict(lambda: 0)"
   ]
  },
  {
   "cell_type": "code",
   "execution_count": 91,
   "metadata": {},
   "outputs": [
    {
     "data": {
      "text/plain": [
       "defaultdict(<function __main__.<lambda>()>, {})"
      ]
     },
     "execution_count": 91,
     "metadata": {},
     "output_type": "execute_result"
    }
   ],
   "source": [
    "bigram_model = collections.defaultdict(lambda: collections.defaultdict(lambda: 0))\n",
    "bigram_model"
   ]
  },
  {
   "cell_type": "code",
   "execution_count": 93,
   "metadata": {},
   "outputs": [
    {
     "data": {
      "text/plain": [
       "collections.defaultdict"
      ]
     },
     "execution_count": 93,
     "metadata": {},
     "output_type": "execute_result"
    }
   ],
   "source": [
    "type(bigram_model)"
   ]
  },
  {
   "cell_type": "code",
   "execution_count": 94,
   "metadata": {},
   "outputs": [
    {
     "name": "stdout",
     "output_type": "stream",
     "text": [
      "['the', 'project', 'gutenberg', 'ebook', 'of', 'a', 'tale', 'of', 'two', 'cities', 'by', 'charles', 'dickens']\n"
     ]
    }
   ],
   "source": [
    "for sentence in your_corpus.sents('.')[:5000]:\n",
    "    sentence = [word.lower() for word in sentence if word.isalpha()]\n",
    "    print(sentence)\n",
    "    break"
   ]
  },
  {
   "cell_type": "code",
   "execution_count": 98,
   "metadata": {},
   "outputs": [
    {
     "name": "stdout",
     "output_type": "stream",
     "text": [
      "defaultdict(<function <lambda> at 0x000000001493FB70>, {'the': defaultdict(<function <lambda>.<locals>.<lambda> at 0x0000000014675378>, {'project': 3}), 'project': defaultdict(<function <lambda>.<locals>.<lambda> at 0x0000000014675510>, {'gutenberg': 1})})\n",
      "defaultdict(<function <lambda> at 0x000000001493FB70>, {'the': defaultdict(<function <lambda>.<locals>.<lambda> at 0x0000000014675378>, {'project': 3}), 'project': defaultdict(<function <lambda>.<locals>.<lambda> at 0x0000000014675510>, {'gutenberg': 2})})\n",
      "defaultdict(<function <lambda> at 0x000000001493FB70>, {'the': defaultdict(<function <lambda>.<locals>.<lambda> at 0x0000000014675378>, {'project': 3}), 'project': defaultdict(<function <lambda>.<locals>.<lambda> at 0x0000000014675510>, {'gutenberg': 2}), 'gutenberg': defaultdict(<function <lambda>.<locals>.<lambda> at 0x0000000014294620>, {'ebook': 1})})\n",
      "defaultdict(<function <lambda> at 0x000000001493FB70>, {'the': defaultdict(<function <lambda>.<locals>.<lambda> at 0x0000000014675378>, {'project': 3}), 'project': defaultdict(<function <lambda>.<locals>.<lambda> at 0x0000000014675510>, {'gutenberg': 2}), 'gutenberg': defaultdict(<function <lambda>.<locals>.<lambda> at 0x0000000014294620>, {'ebook': 1}), 'ebook': defaultdict(<function <lambda>.<locals>.<lambda> at 0x0000000014294488>, {'of': 1})})\n"
     ]
    }
   ],
   "source": [
    "count = 0\n",
    "for w1, w2 in bigrams(sentence):\n",
    "    bigram_model[w1][w2] += 1\n",
    "    count += 1\n",
    "    print(bigram_model)\n",
    "    if count == 4:\n",
    "        break"
   ]
  },
  {
   "cell_type": "code",
   "execution_count": 99,
   "metadata": {},
   "outputs": [
    {
     "name": "stdout",
     "output_type": "stream",
     "text": [
      "3.0\n",
      "2.0\n",
      "1.0\n",
      "1.0\n"
     ]
    }
   ],
   "source": [
    "for w1 in bigram_model:\n",
    "    #total count of bigrams starting with w1\n",
    "    bigram_count_4_w1 = float(sum(bigram_model[w1].values()))\n",
    "    print(bigram_count_4_w1)"
   ]
  },
  {
   "cell_type": "code",
   "execution_count": 108,
   "metadata": {},
   "outputs": [
    {
     "name": "stdout",
     "output_type": "stream",
     "text": [
      "defaultdict(<function <lambda> at 0x000000001493FB70>, {'the': defaultdict(<function <lambda>.<locals>.<lambda> at 0x0000000014675378>, {'project': 3}), 'project': defaultdict(<function <lambda>.<locals>.<lambda> at 0x0000000014675510>, {'gutenberg': 2}), 'gutenberg': defaultdict(<function <lambda>.<locals>.<lambda> at 0x0000000014294620>, {'ebook': 1}), 'ebook': defaultdict(<function <lambda>.<locals>.<lambda> at 0x0000000014294488>, {'of': 1.0})})\n"
     ]
    }
   ],
   "source": [
    "for w2 in bigram_model[w1]:\n",
    "    bigram_model[w1][w2] /= bigram_count_4_w1\n",
    "    print(bigram_model)"
   ]
  },
  {
   "cell_type": "code",
   "execution_count": 109,
   "metadata": {},
   "outputs": [
    {
     "data": {
      "text/plain": [
       "1.0"
      ]
     },
     "execution_count": 109,
     "metadata": {},
     "output_type": "execute_result"
    }
   ],
   "source": [
    "bigram_model[w1][w2]"
   ]
  },
  {
   "cell_type": "code",
   "execution_count": null,
   "metadata": {},
   "outputs": [],
   "source": []
  }
 ],
 "metadata": {
  "kernelspec": {
   "display_name": "Python 3",
   "language": "python",
   "name": "python3"
  },
  "language_info": {
   "codemirror_mode": {
    "name": "ipython",
    "version": 3
   },
   "file_extension": ".py",
   "mimetype": "text/x-python",
   "name": "python",
   "nbconvert_exporter": "python",
   "pygments_lexer": "ipython3",
   "version": "3.7.3"
  }
 },
 "nbformat": 4,
 "nbformat_minor": 2
}
