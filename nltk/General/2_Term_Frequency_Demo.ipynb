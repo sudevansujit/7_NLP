{
 "cells": [
  {
   "cell_type": "markdown",
   "metadata": {},
   "source": [
    "## Term Frequency Demo"
   ]
  },
  {
   "cell_type": "code",
   "execution_count": 31,
   "metadata": {},
   "outputs": [],
   "source": [
    "import nltk \n",
    "from nltk.probability import FreqDist\n",
    "from nltk.corpus import stopwords"
   ]
  },
  {
   "cell_type": "code",
   "execution_count": 32,
   "metadata": {},
   "outputs": [
    {
     "data": {
      "text/plain": [
       "{'a',\n",
       " 'about',\n",
       " 'above',\n",
       " 'after',\n",
       " 'again',\n",
       " 'against',\n",
       " 'ain',\n",
       " 'all',\n",
       " 'am',\n",
       " 'an',\n",
       " 'and',\n",
       " 'any',\n",
       " 'are',\n",
       " 'aren',\n",
       " \"aren't\",\n",
       " 'as',\n",
       " 'at',\n",
       " 'be',\n",
       " 'because',\n",
       " 'been',\n",
       " 'before',\n",
       " 'being',\n",
       " 'below',\n",
       " 'between',\n",
       " 'both',\n",
       " 'but',\n",
       " 'by',\n",
       " 'can',\n",
       " 'couldn',\n",
       " \"couldn't\",\n",
       " 'd',\n",
       " 'did',\n",
       " 'didn',\n",
       " \"didn't\",\n",
       " 'do',\n",
       " 'does',\n",
       " 'doesn',\n",
       " \"doesn't\",\n",
       " 'doing',\n",
       " 'don',\n",
       " \"don't\",\n",
       " 'down',\n",
       " 'during',\n",
       " 'each',\n",
       " 'few',\n",
       " 'for',\n",
       " 'from',\n",
       " 'further',\n",
       " 'had',\n",
       " 'hadn',\n",
       " \"hadn't\",\n",
       " 'has',\n",
       " 'hasn',\n",
       " \"hasn't\",\n",
       " 'have',\n",
       " 'haven',\n",
       " \"haven't\",\n",
       " 'having',\n",
       " 'he',\n",
       " 'her',\n",
       " 'here',\n",
       " 'hers',\n",
       " 'herself',\n",
       " 'him',\n",
       " 'himself',\n",
       " 'his',\n",
       " 'how',\n",
       " 'i',\n",
       " 'if',\n",
       " 'in',\n",
       " 'into',\n",
       " 'is',\n",
       " 'isn',\n",
       " \"isn't\",\n",
       " 'it',\n",
       " \"it's\",\n",
       " 'its',\n",
       " 'itself',\n",
       " 'just',\n",
       " 'll',\n",
       " 'm',\n",
       " 'ma',\n",
       " 'me',\n",
       " 'mightn',\n",
       " \"mightn't\",\n",
       " 'more',\n",
       " 'most',\n",
       " 'mustn',\n",
       " \"mustn't\",\n",
       " 'my',\n",
       " 'myself',\n",
       " 'needn',\n",
       " \"needn't\",\n",
       " 'no',\n",
       " 'nor',\n",
       " 'not',\n",
       " 'now',\n",
       " 'o',\n",
       " 'of',\n",
       " 'off',\n",
       " 'on',\n",
       " 'once',\n",
       " 'only',\n",
       " 'or',\n",
       " 'other',\n",
       " 'our',\n",
       " 'ours',\n",
       " 'ourselves',\n",
       " 'out',\n",
       " 'over',\n",
       " 'own',\n",
       " 're',\n",
       " 's',\n",
       " 'same',\n",
       " 'shan',\n",
       " \"shan't\",\n",
       " 'she',\n",
       " \"she's\",\n",
       " 'should',\n",
       " \"should've\",\n",
       " 'shouldn',\n",
       " \"shouldn't\",\n",
       " 'so',\n",
       " 'some',\n",
       " 'such',\n",
       " 't',\n",
       " 'than',\n",
       " 'that',\n",
       " \"that'll\",\n",
       " 'the',\n",
       " 'their',\n",
       " 'theirs',\n",
       " 'them',\n",
       " 'themselves',\n",
       " 'then',\n",
       " 'there',\n",
       " 'these',\n",
       " 'they',\n",
       " 'this',\n",
       " 'those',\n",
       " 'through',\n",
       " 'to',\n",
       " 'too',\n",
       " 'under',\n",
       " 'until',\n",
       " 'up',\n",
       " 've',\n",
       " 'very',\n",
       " 'was',\n",
       " 'wasn',\n",
       " \"wasn't\",\n",
       " 'we',\n",
       " 'were',\n",
       " 'weren',\n",
       " \"weren't\",\n",
       " 'what',\n",
       " 'when',\n",
       " 'where',\n",
       " 'which',\n",
       " 'while',\n",
       " 'who',\n",
       " 'whom',\n",
       " 'why',\n",
       " 'will',\n",
       " 'with',\n",
       " 'won',\n",
       " \"won't\",\n",
       " 'wouldn',\n",
       " \"wouldn't\",\n",
       " 'y',\n",
       " 'you',\n",
       " \"you'd\",\n",
       " \"you'll\",\n",
       " \"you're\",\n",
       " \"you've\",\n",
       " 'your',\n",
       " 'yours',\n",
       " 'yourself',\n",
       " 'yourselves'}"
      ]
     },
     "execution_count": 32,
     "metadata": {},
     "output_type": "execute_result"
    }
   ],
   "source": [
    "stop_words = set(stopwords.words('english'))\n",
    "stop_words"
   ]
  },
  {
   "cell_type": "code",
   "execution_count": 33,
   "metadata": {},
   "outputs": [],
   "source": [
    "# Read the Corpus\n",
    "nltk.download('gutenberg')\n",
    "words = nltk.Text(nltk.corpus.gutenberg.words('bryant-stories.txt'))\n"
   ]
  },
  {
   "cell_type": "code",
   "execution_count": 50,
   "metadata": {},
   "outputs": [
    {
     "name": "stdout",
     "output_type": "stream",
     "text": [
      "['[', 'Stories', 'to', 'Tell', 'to', 'Children', 'by', 'Sara', 'Cone', 'Bryant', '1918', ']', 'TWO', 'LITTLE', 'RIDDLES', 'IN', 'RHYME', 'There', \"'\", 's', 'a', 'garden', 'that', 'I', 'ken', ',', 'Full', 'of', 'little', 'gentlemen', ';', 'Little', 'caps', 'of', 'blue', 'they', 'wear', ',', 'And', 'green', 'ribbons', ',', 'very', 'fair', '.', '(', 'Flax', '.)', 'From', 'house', 'to', 'house', 'he', 'goes', ',', 'A', 'messenger', 'small', 'and', 'slight', ',', 'And', 'whether', 'it', 'rains', 'or', 'snows', ',', 'He', 'sleeps', 'outside', 'in', 'the', 'night', '.', '(', 'The', 'path', '.)', 'THE', 'LITTLE', 'YELLOW', 'TULIP', 'Once', 'there', 'was', 'a', 'little', 'yellow', 'Tulip', ',', 'and', 'she', 'lived', 'down', 'in', 'a', 'little', 'dark', 'house', 'under', 'the', 'ground', '.', 'One', 'day', 'she', 'was', 'sitting', 'there', ',', 'all', 'by', 'herself', ',', 'and', 'it', 'was', 'very', 'still', '.', 'Suddenly', ',', 'she', 'heard', 'a', 'little', '_tap', ',', 'tap', ',', 'tap_', ',', 'at', 'the', 'door', '.', '\"', 'Who', 'is', 'that', '?\"', 'she', 'said', '.', '\"', 'It', \"'\", 's', 'the', 'Rain', ',', 'and', 'I', 'want', 'to', 'come', 'in', ',\"', 'said', 'a', 'soft', ',', 'sad', ',', 'little', 'voice', '.', '\"', 'No', ',', 'you', 'can', \"'\", 't', 'come', 'in', ',\"', 'the', 'little', 'Tulip', 'said', '.', 'By', 'and', 'by', 'she', 'heard', 'another', 'little', '_tap', ',', 'tap', ',', 'tap_', 'on', 'the', 'window', '-', 'pane', '.', '\"', 'Who', 'is', 'there', '?\"', 'she', 'said', '.', 'The', 'same', 'soft', 'little', 'voice', 'answered', ',', '\"', 'It', \"'\", 's', 'the', 'Rain', ',', 'and', 'I', 'want', 'to', 'come', 'in', '!\"', '\"', 'No', ',', 'you', 'can', \"'\", 't', 'come', 'in', ',\"', 'said', 'the', 'little', 'Tulip', '.', 'Then', 'it', 'was', 'very', 'still', 'for', 'a', 'long', 'time', '.', 'At', 'last', ',', 'there', 'came', 'a', 'little', 'rustling', ',', 'whispering', 'sound', ',', 'all', 'round', 'the', 'window', ':', '_rustle', ',', 'whisper', ',', 'whisper_', '.', '\"', 'Who', 'is', 'there', '?\"', 'said', 'the', 'little', 'Tulip', '.', '\"', 'It', \"'\", 's', 'the', 'Sunshine', ',\"', 'said', 'a', 'little', ',', 'soft', ',', 'cheery', 'voice', ',', '\"', 'and', 'I', 'want', 'to', 'come', 'in', '!\"', '\"', 'N', '--', 'no', ',\"', 'said', 'the', 'little', 'Tulip', ',', '\"', 'you', 'can', \"'\", 't', 'come', 'in', '.\"', 'And', 'she', 'sat', 'still', 'again', '.', 'Pretty', 'soon', 'she', 'heard', 'the', 'sweet', 'little', 'rustling', 'noise', 'at', 'the', 'keyhole', '.', '\"', 'Who', 'is', 'there', '?\"', 'she', 'said', '.', '\"', 'It', \"'\", 's', 'the', 'Sunshine', ',\"', 'said', 'the', 'cheery', 'little', 'voice', ',', '\"', 'and', 'I', 'want', 'to', 'come', 'in', ',', 'I', 'want', 'to', 'come', 'in', '!\"', '\"', 'No', ',', 'no', ',\"', 'said', 'the', 'little', 'Tulip', ',', '\"', 'you', 'cannot', 'come', 'in', '.\"', 'By', 'and', 'by', ',', 'as', 'she', 'sat', 'so', 'still', ',', 'she', 'heard', '_tap', ',', 'tap', ',', 'tap_', ',', 'and', '_rustle', ',', 'whisper', ',', 'rustle_', ',', 'up', 'and', 'down', 'the', 'window', '-', 'pane', ',', 'and', 'on', 'the', 'door', 'and', 'at', 'the', 'keyhole', '.', '\"', '_Who', 'is', 'there', '?', '_', '\"', 'she', 'said', '.', '\"', 'It', \"'\", 's', 'the', 'Rain', 'and', 'the', 'Sun', ',', 'the', 'Rain', 'and', 'the', 'Sun', ',\"', 'said', 'two', 'little', 'voices', ',', 'together', ',', '\"', 'and', 'we', 'want', 'to', 'come', 'in', '!', 'We', 'want', 'to', 'come', 'in', '!', 'We', 'want', 'to', 'come', 'in', '!\"', '\"', 'Dear', ',', 'dear', '!\"']\n"
     ]
    }
   ],
   "source": [
    "print(words[:500])"
   ]
  },
  {
   "cell_type": "code",
   "execution_count": 8,
   "metadata": {},
   "outputs": [],
   "source": [
    "# Convert to small letters\n",
    "words = [word.lower() for word in words if word.isalpha()]\n",
    "words = [word.lower() for word in words if word not in stop_words]"
   ]
  },
  {
   "cell_type": "code",
   "execution_count": 9,
   "metadata": {},
   "outputs": [],
   "source": [
    "fDist = FreqDist(words)"
   ]
  },
  {
   "cell_type": "code",
   "execution_count": 10,
   "metadata": {},
   "outputs": [
    {
     "name": "stdout",
     "output_type": "stream",
     "text": [
      "21718\n"
     ]
    }
   ],
   "source": [
    "print(len(words))"
   ]
  },
  {
   "cell_type": "code",
   "execution_count": 11,
   "metadata": {},
   "outputs": [
    {
     "name": "stdout",
     "output_type": "stream",
     "text": [
      "3688\n"
     ]
    }
   ],
   "source": [
    "print(len(set(words)))"
   ]
  },
  {
   "cell_type": "code",
   "execution_count": 15,
   "metadata": {},
   "outputs": [
    {
     "name": "stdout",
     "output_type": "stream",
     "text": [
      "little    597       \n",
      "said      453       \n",
      "came      191       \n",
      "one       183       \n",
      "could     158       \n",
      "king      141       \n",
      "went      122       \n",
      "would     112       \n",
      "great     110       \n",
      "day       107       \n"
     ]
    }
   ],
   "source": [
    "for x, v in fDist.most_common(10):\n",
    "    print('{:<10}{:<10}'.format(x, v))"
   ]
  },
  {
   "cell_type": "code",
   "execution_count": 16,
   "metadata": {},
   "outputs": [
    {
     "name": "stdout",
     "output_type": "stream",
     "text": [
      "little    0.1618763557483731\n",
      "said      0.12283080260303687\n",
      "came      0.05178958785249458\n",
      "one       0.04962039045553145\n",
      "could     0.042841648590021694\n",
      "king      0.038232104121475055\n",
      "went      0.03308026030368764\n",
      "would     0.03036876355748373\n",
      "great     0.02982646420824295\n",
      "day       0.02901301518438178\n"
     ]
    }
   ],
   "source": [
    "for x, v in fDist.most_common(10):\n",
    "    print('{:<10}{:<10}'.format(x, v/len(fDist)))"
   ]
  },
  {
   "cell_type": "code",
   "execution_count": 17,
   "metadata": {},
   "outputs": [
    {
     "data": {
      "text/plain": [
       "FreqDist({'little': 597, 'said': 453, 'came': 191, 'one': 183, 'could': 158, 'king': 141, 'went': 122, 'would': 112, 'great': 110, 'day': 107, ...})"
      ]
     },
     "execution_count": 17,
     "metadata": {},
     "output_type": "execute_result"
    }
   ],
   "source": [
    "fDist"
   ]
  },
  {
   "cell_type": "code",
   "execution_count": 18,
   "metadata": {},
   "outputs": [
    {
     "data": {
      "text/plain": [
       "597"
      ]
     },
     "execution_count": 18,
     "metadata": {},
     "output_type": "execute_result"
    }
   ],
   "source": [
    "fDist['little']"
   ]
  },
  {
   "cell_type": "code",
   "execution_count": 19,
   "metadata": {},
   "outputs": [
    {
     "data": {
      "text/plain": [
       "dict_items([('stories', 14), ('tell', 28), ('children', 39), ('sara', 1), ('cone', 1), ('bryant', 1), ('two', 64), ('little', 597), ('riddles', 1), ('rhyme', 1), ('garden', 48), ('ken', 1), ('full', 15), ('gentlemen', 1), ('caps', 4), ('blue', 9), ('wear', 4), ('green', 19), ('ribbons', 1), ('fair', 12), ('flax', 1), ('house', 51), ('goes', 2), ('messenger', 5), ('small', 28), ('slight', 1), ('whether', 6), ('rains', 1), ('snows', 1), ('sleeps', 1), ('outside', 9), ('night', 43), ('path', 10), ('yellow', 11), ('tulip', 8), ('lived', 36), ('dark', 18), ('ground', 37), ('one', 183), ('day', 107), ('sitting', 10), ('still', 46), ('suddenly', 19), ('heard', 49), ('tap', 6), ('door', 52), ('said', 453), ('rain', 13), ('want', 33), ('come', 83), ('soft', 14), ('sad', 13), ('voice', 31), ('another', 35), ('window', 18), ('pane', 2), ('answered', 14), ('long', 58), ('time', 97), ('last', 55), ('came', 191), ('rustling', 3), ('whispering', 2), ('sound', 14), ('round', 41), ('whisper', 3), ('sunshine', 2), ('cheery', 2), ('n', 1), ('sat', 24), ('pretty', 30), ('soon', 37), ('sweet', 24), ('noise', 3), ('keyhole', 4), ('cannot', 22), ('sun', 19), ('voices', 7), ('together', 14), ('dear', 47), ('pose', 1), ('shall', 44), ('let', 36), ('opened', 18), ('wee', 13), ('crack', 5), ('took', 57), ('hands', 20), ('hand', 29), ('ran', 69), ('right', 30), ('top', 10), ('poke', 1), ('head', 51), ('poked', 4), ('midst', 9), ('beautiful', 47), ('early', 12), ('springtime', 1), ('flowers', 18), ('seen', 16), ('birds', 4), ('sing', 36), ('shine', 3), ('upon', 47), ('pleased', 9), ('exclaimed', 4), ('pleasure', 2), ('knew', 32), ('spring', 6), ('cock', 3), ('doo', 6), ('dle', 3), ('boy', 71), ('made', 89), ('story', 34), ('told', 32), ('papa', 6), ('think', 43), ('littlest', 1), ('ones', 5), ('like', 92), ('wanted', 28), ('fly', 8), ('sky', 14), ('get', 34), ('wings', 6), ('tail', 17), ('cloud', 13), ('hot', 7), ('summer', 9), ('morning', 27), ('rose', 10), ('sea', 20), ('floated', 4), ('lightly', 3), ('happily', 5), ('across', 15), ('far', 26), ('lay', 14), ('earth', 30), ('brown', 17), ('dry', 4), ('desolate', 2), ('drought', 1), ('could', 158), ('see', 97), ('poor', 41), ('people', 76), ('working', 6), ('suffering', 2), ('fields', 17), ('breeze', 4), ('hither', 1), ('thither', 1), ('without', 19), ('care', 20), ('oh', 53), ('help', 44), ('thought', 65), ('make', 67), ('work', 47), ('easier', 3), ('give', 30), ('hungry', 6), ('food', 20), ('thirsty', 2), ('drink', 5), ('passed', 10), ('became', 19), ('larger', 3), ('wish', 16), ('something', 39), ('ever', 34), ('greater', 4), ('heart', 25), ('grew', 36), ('hotter', 6), ('burned', 4), ('fiercely', 1), ('fainting', 1), ('rays', 3), ('seemed', 14), ('must', 39), ('die', 12), ('heat', 2), ('yet', 10), ('obliged', 1), ('go', 77), ('sometimes', 10), ('stood', 46), ('looked', 76), ('praying', 5), ('saying', 11), ('ah', 7), ('us', 31), ('began', 52), ('sink', 3), ('softly', 10), ('toward', 12), ('remembered', 11), ('tiny', 29), ('child', 28), ('lap', 3), ('mother', 90), ('ocean', 4), ('whispered', 8), ('clouds', 3), ('near', 20), ('held', 9), ('sinking', 2), ('swayed', 1), ('thinking', 11), ('quite', 27), ('spoke', 10), ('boldly', 1), ('proudly', 2), ('men', 51), ('may', 22), ('marvellously', 2), ('big', 69), ('strong', 24), ('powerful', 6), ('never', 58), ('dreamed', 5), ('mighty', 14), ('angel', 12), ('blessing', 3), ('lifted', 2), ('spread', 3), ('woods', 11), ('great', 110), ('majestic', 2), ('animals', 7), ('awe', 1), ('struck', 23), ('sight', 15), ('trees', 30), ('grasses', 2), ('bowed', 8), ('creatures', 2), ('felt', 32), ('meant', 9), ('well', 35), ('yes', 28), ('cried', 28), ('take', 51), ('life', 30), ('words', 14), ('wonderful', 19), ('light', 20), ('glowed', 1), ('thunder', 2), ('rolled', 13), ('love', 13), ('filled', 10), ('close', 5), ('swept', 4), ('gave', 28), ('blessed', 3), ('healing', 1), ('shower', 1), ('deed', 5), ('death', 21), ('also', 4), ('glory', 5), ('whole', 17), ('country', 30), ('side', 16), ('fell', 17), ('lovely', 16), ('rainbow', 1), ('sprang', 10), ('arch', 1), ('brightest', 1), ('heaven', 3), ('colours', 2), ('greeting', 2), ('sacrificed', 1), ('gone', 26), ('afterward', 5), ('saved', 11), ('kept', 27), ('hearts', 1), ('red', 42), ('hen', 26), ('farmyard', 1), ('chickens', 3), ('found', 32), ('grain', 7), ('wheat', 7), ('plant', 10), ('goose', 4), ('duck', 4), ('planted', 8), ('ripe', 7), ('mill', 6), ('brought', 25), ('flour', 4), ('home', 63), ('bread', 21), ('baked', 1), ('eat', 41), ('cluck', 2), ('called', 36), ('gingerbread', 36), ('man', 107), ('old', 104), ('woman', 26), ('alone', 15), ('girls', 11), ('boys', 2), ('chocolate', 1), ('jacket', 4), ('put', 61), ('raisins', 1), ('buttons', 3), ('eyes', 35), ('fine', 20), ('fat', 4), ('currants', 1), ('mouth', 11), ('coloured', 4), ('sugar', 13), ('gay', 7), ('cap', 8), ('orange', 1), ('candy', 2), ('dressed', 6), ('pinched', 1), ('shoes', 14), ('shape', 5), ('pan', 3), ('oven', 2), ('shut', 13), ('done', 24), ('pulled', 8), ('jumped', 11), ('floor', 9), ('away', 91), ('street', 3), ('fast', 30), ('laughed', 25), ('shouted', 13), ('run', 35), ('catch', 23), ('cow', 21), ('roadside', 2), ('stop', 7), ('chased', 2), ('shoulder', 12), ('till', 38), ('horse', 33), ('pasture', 1), ('please', 10), ('look', 46), ('good', 84), ('loud', 7), ('oho', 4), ('barn', 6), ('threshers', 6), ('smelt', 2), ('tried', 17), ('pick', 5), ('harder', 9), ('ahead', 8), ('turned', 27), ('back', 56), ('faster', 7), ('field', 23), ('mowers', 5), ('saw', 92), ('calling', 3), ('wait', 22), ('bit', 14), ('wind', 31), ('proud', 5), ('anybody', 2), ('fox', 49), ('coming', 15), ('chuckled', 1), ('would', 112), ('disturbing', 1), ('river', 25), ('swim', 5), ('keep', 18), ('running', 8), ('jump', 5), ('way', 57), ('bank', 4), ('heavy', 7), ('fear', 12), ('wet', 1), ('farther', 5), ('afraid', 7), ('water', 47), ('cover', 7), ('middle', 13), ('stream', 3), ('nose', 5), ('hold', 22), ('minute', 12), ('reached', 4), ('threw', 10), ('snap', 2), ('quarter', 3), ('next', 31), ('half', 37), ('goodness', 4), ('gracious', 2), ('three', 26), ('quarters', 1), ('anything', 25), ('jackals', 5), ('lion', 59), ('jungle', 7), ('king', 141), ('whenever', 6), ('cave', 2), ('stones', 10), ('roared', 8), ('times', 15), ('frightened', 11), ('holes', 5), ('hiding', 5), ('places', 4), ('course', 12), ('pounced', 1), ('killed', 18), ('gobbled', 2), ('often', 13), ('single', 5), ('thing', 41), ('left', 37), ('alive', 3), ('besides', 3), ('except', 12), ('father', 77), ('jackal', 80), ('many', 43), ('thin', 13), ('tired', 14), ('b', 1), ('lieve', 1), ('surely', 11), ('pooh', 2), ('nonsense', 2), ('nearer', 8), ('almost', 15), ('sure', 13), ('going', 30), ('fret', 1), ('cunning', 1), ('towards', 1), ('terrible', 17), ('miserable', 2), ('wretches', 1), ('eaten', 4), ('low', 13), ('indeed', 19), ('ought', 3), ('every', 62), ('started', 10), ('dreadful', 4), ('mean', 13), ('know', 66), ('everybody', 13), ('thinks', 4), ('much', 57), ('bigger', 7), ('face', 23), ('roar', 1), ('fearful', 1), ('shook', 9), ('danced', 8), ('stalked', 2), ('behind', 17), ('led', 2), ('place', 30), ('deep', 9), ('clear', 6), ('went', 122), ('lives', 8), ('mane', 3), ('showed', 5), ('teeth', 5), ('growled', 1), ('stand', 4), ('leaped', 5), ('reflection', 1), ('floundered', 2), ('steep', 1), ('sides', 9), ('drowned', 3), ('sang', 14), ('dead', 16), ('ao', 3), ('mouse', 59), ('city', 33), ('invited', 2), ('visit', 3), ('dinner', 10), ('surprised', 2), ('find', 25), ('nothing', 25), ('barley', 2), ('really', 17), ('live', 16), ('sorts', 1), ('things', 27), ('nice', 15), ('glad', 11), ('friend', 29), ('first', 32), ('kitchen', 4), ('cupboard', 3), ('lowest', 1), ('shelf', 6), ('stone', 18), ('jars', 2), ('paper', 5), ('bag', 21), ('gnawed', 1), ('hole', 16), ('nibble', 3), ('mice', 1), ('nibbled', 3), ('tasted', 1), ('delicious', 3), ('lucky', 1), ('bang', 1), ('cook', 6), ('shaking', 1), ('got', 43), ('safely', 7), ('stole', 9), ('new', 23), ('show', 15), ('corner', 5), ('jar', 2), ('dried', 4), ('prunes', 2), ('open', 21), ('tugging', 1), ('pulling', 3), ('large', 6), ('prune', 1), ('even', 27), ('better', 19), ('liked', 15), ('taste', 3), ('hardly', 6), ('enough', 39), ('eating', 5), ('scratching', 1), ('sharp', 6), ('sh', 1), ('danger', 3), ('cat', 2), ('best', 17), ('mouser', 1), ('town', 8), ('gets', 2), ('lost', 7), ('cellar', 2), ('specially', 1), ('stairs', 6), ('shelves', 2), ('butter', 10), ('cheeses', 3), ('bags', 2), ('overhead', 5), ('hung', 4), ('bunches', 1), ('sausages', 1), ('spicy', 1), ('apples', 2), ('barrels', 1), ('standing', 4), ('along', 38), ('cheese', 7), ('especially', 2), ('rich', 10), ('smelling', 2), ('piece', 11), ('queer', 4), ('point', 1), ('putting', 2), ('trap', 5), ('stopped', 14), ('touch', 2), ('comes', 7), ('hard', 35), ('excuse', 1), ('rather', 6), ('peace', 5), ('comfort', 4), ('stayed', 2), ('rest', 18), ('jack', 17), ('rollaround', 14), ('slept', 4), ('trundle', 11), ('bed', 28), ('castors', 1), ('world', 26), ('cry', 4), ('roll', 17), ('around', 21), ('push', 5), ('forth', 7), ('asleep', 6), ('crying', 9), ('pushed', 8), ('sleep', 6), ('slumber', 3), ('moon', 21), ('peeped', 2), ('funny', 9), ('lying', 8), ('leg', 5), ('mast', 5), ('fastened', 1), ('shirt', 1), ('sail', 1), ('blowing', 3), ('might', 23), ('slowly', 10), ('boat', 9), ('move', 10), ('sailed', 5), ('wall', 8), ('ceiling', 3), ('shone', 11), ('broad', 2), ('band', 3), ('beam', 4), ('sailing', 2), ('streets', 2), ('main', 1), ('village', 8), ('past', 3), ('hall', 9), ('schoolhouse', 1), ('church', 10), ('nobody', 10), ('high', 12), ('steeple', 3), ('weather', 1), ('vane', 1), ('decent', 1), ('folk', 5), ('beds', 7), ('forest', 8), ('trundling', 1), ('among', 8), ('wood', 15), ('scaring', 1), ('squirrels', 1), ('startling', 1), ('leaves', 30), ('bad', 14), ('tree', 49), ('trunks', 1), ('hurry', 4), ('beasts', 7), ('white', 45), ('owl', 3), ('blew', 5), ('end', 29), ('late', 8), ('kind', 26), ('bright', 12), ('stars', 7), ('lamps', 1), ('naughty', 1), ('tease', 2), ('straight', 13), ('bumped', 4), ('lamp', 1), ('treat', 1), ('behaved', 1), ('worse', 4), ('steered', 2), ('pitch', 3), ('black', 7), ('word', 11), ('steer', 1), ('rolling', 4), ('criss', 1), ('cross', 5), ('knocking', 1), ('planets', 1), ('stumbling', 2), ('edge', 8), ('begin', 8), ('aha', 5), ('youngster', 1), ('picked', 6), ('suppose', 4), ('unless', 6), ('somebody', 3), ('brother', 32), ('rabbit', 10), ('fooled', 1), ('whale', 16), ('elephant', 18), ('sand', 1), ('lippety', 4), ('talking', 3), ('crouched', 4), ('listened', 8), ('biggest', 4), ('land', 21), ('join', 1), ('rule', 5), ('everything', 18), ('trumpeted', 2), ('suits', 1), ('sniggered', 1), ('rope', 9), ('drum', 7), ('hid', 6), ('bushes', 4), ('beach', 2), ('mr', 12), ('kindness', 2), ('favour', 3), ('stuck', 7), ('mud', 10), ('mile', 2), ('pull', 18), ('obliging', 2), ('venture', 1), ('trust', 3), ('compliment', 1), ('tie', 4), ('ready', 9), ('beat', 8), ('hear', 23), ('huh', 1), ('grunted', 2), ('horns', 2), ('tied', 8), ('kindly', 2), ('making', 7), ('bow', 5), ('asked', 40), ('certainly', 8), ('grandly', 1), ('trunk', 3), ('tightly', 2), ('twenty', 3), ('cows', 3), ('politely', 1), ('gently', 7), ('jiffy', 2), ('tightened', 1), ('stretched', 3), ('remarkably', 2), ('fetch', 3), ('braced', 2), ('forefeet', 1), ('tremendous', 2), ('tight', 5), ('drove', 12), ('marvellous', 4), ('sliding', 3), ('reason', 2), ('solid', 3), ('brace', 2), ('beside', 10), ('turn', 7), ('provoked', 1), ('dived', 2), ('bottom', 2), ('jerked', 2), ('feet', 14), ('slipping', 1), ('surf', 1), ('terribly', 5), ('angry', 6), ('jerk', 1), ('spouted', 1), ('teach', 3), ('play', 14), ('fool', 2), ('fumed', 1), ('broke', 9), ('somersault', 1), ('backward', 6), ('ashamed', 3), ('neither', 6), ('speak', 6), ('bargain', 1), ('chick', 27), ('spanish', 1), ('hatched', 1), ('looks', 11), ('shell', 6), ('plump', 1), ('fluffy', 2), ('fourth', 2), ('wing', 4), ('eye', 3), ('chicken', 3), ('happen', 5), ('protect', 1), ('harm', 5), ('walk', 7), ('headstrong', 2), ('spirit', 2), ('brothers', 10), ('mind', 7), ('wherever', 2), ('walked', 9), ('hoppity', 16), ('kick', 16), ('madrid', 6), ('bye', 6), ('foolish', 7), ('naughtily', 1), ('seeing', 2), ('quiet', 2), ('distance', 4), ('brook', 5), ('caught', 10), ('weeds', 7), ('trouble', 9), ('choked', 2), ('room', 22), ('sticks', 7), ('bill', 2), ('idea', 6), ('bothered', 2), ('spite', 4), ('begging', 2), ('fire', 9), ('smothered', 1), ('damp', 1), ('distress', 3), ('save', 12), ('air', 19), ('fan', 2), ('beg', 7), ('laughing', 3), ('kicked', 3), ('clump', 1), ('whimpering', 2), ('set', 26), ('free', 12), ('brush', 1), ('aside', 7), ('twigs', 6), ('breath', 4), ('quickly', 8), ('ho', 3), ('bother', 2), ('leaving', 2), ('smother', 1), ('palace', 18), ('skipped', 1), ('sentry', 1), ('gate', 3), ('crossed', 4), ('court', 23), ('passing', 2), ('windows', 8), ('needing', 1), ('seized', 3), ('kettle', 8), ('feathers', 1), ('uncomfortable', 2), ('drown', 2), ('stay', 11), ('higher', 2), ('warm', 7), ('frightfully', 1), ('burn', 2), ('burning', 1), ('suffocate', 1), ('cinder', 1), ('taken', 11), ('twirled', 2), ('dizzy', 4), ('perish', 1), ('blow', 4), ('stands', 3), ('turns', 1), ('blows', 5), ('keeps', 2), ('says', 14), ('blackberry', 7), ('bush', 7), ('knees', 7), ('western', 2), ('looking', 12), ('autumn', 2), ('golden', 10), ('elm', 1), ('scattered', 3), ('grass', 17), ('gravel', 1), ('knitting', 1), ('stocking', 1), ('fingers', 13), ('moved', 7), ('needles', 3), ('fixed', 1), ('evening', 12), ('darkness', 4), ('gathered', 5), ('laid', 6), ('leaned', 3), ('forward', 4), ('watching', 5), ('earnestly', 1), ('waved', 2), ('tall', 7), ('spray', 1), ('fence', 2), ('darling', 2), ('smoothing', 1), ('honey', 1), ('hair', 9), ('mamma', 4), ('say', 22), ('nodding', 6), ('happy', 24), ('lighted', 3), ('cold', 6), ('lonely', 2), ('safe', 9), ('nod', 6), ('wonder', 9), ('knows', 9), ('crimson', 1), ('wither', 2), ('weak', 3), ('scarcely', 1), ('cling', 1), ('branches', 9), ('north', 5), ('tear', 3), ('remember', 10), ('snow', 11), ('wrap', 3), ('melt', 2), ('icy', 1), ('clothe', 1), ('bitter', 2), ('rattle', 1), ('bare', 6), ('pass', 3), ('dreary', 2), ('nights', 4), ('days', 11), ('plays', 5), ('books', 4), ('toys', 3), ('cherish', 1), ('nestles', 1), ('firelight', 1), ('read', 13), ('songs', 4), ('peep', 2), ('ruddy', 3), ('shutter', 1), ('patiently', 3), ('sorry', 4), ('roots', 8), ('feel', 6), ('warmth', 1), ('store', 2), ('greenness', 1), ('beauty', 8), ('buds', 2), ('melts', 1), ('grows', 3), ('slow', 8), ('sap', 1), ('stirring', 1), ('warmer', 1), ('grow', 13), ('sunbeams', 2), ('softer', 1), ('blades', 1), ('creep', 1), ('thick', 3), ('helps', 1), ('swell', 2), ('shining', 8), ('burst', 3), ('dress', 2), ('joy', 11), ('pride', 4), ('cries', 3), ('watch', 12), ('shake', 5), ('blossoms', 2), ('fragrant', 1), ('drop', 4), ('petals', 1), ('lo', 1), ('berries', 2), ('carefully', 12), ('gather', 3), ('dew', 2), ('ripen', 1), ('redder', 1), ('darker', 2), ('dancing', 5), ('shouts', 2), ('gathers', 1), ('runs', 1), ('share', 1), ('patient', 3), ('bore', 4), ('content', 2), ('watches', 1), ('smiled', 5), ('arms', 6), ('supper', 8), ('fairies', 11), ('airy', 2), ('mountain', 16), ('rushy', 2), ('glen', 2), ('daren', 2), ('hunting', 5), ('trooping', 2), ('feather', 2), ('rocky', 1), ('shore', 6), ('crispy', 1), ('pancakes', 1), ('tide', 1), ('foam', 1), ('reeds', 1), ('lake', 8), ('frogs', 6), ('dogs', 1), ('awake', 6), ('hilltop', 1), ('sits', 1), ('gray', 2), ('nigh', 2), ('wits', 2), ('bridge', 1), ('mist', 1), ('columbkill', 1), ('crosses', 1), ('stately', 1), ('journeys', 2), ('slieveleague', 1), ('rosses', 1), ('music', 18), ('starry', 1), ('sup', 1), ('queen', 6), ('northern', 2), ('lights', 6), ('bridget', 1), ('seven', 3), ('years', 22), ('friends', 6), ('morrow', 6), ('sorrow', 5), ('since', 11), ('within', 6), ('flag', 1), ('wake', 1), ('craggy', 1), ('hillside', 2), ('mosses', 1), ('thorn', 1), ('daring', 1), ('dig', 5), ('sharpest', 1), ('thorns', 1), ('adventures', 1), ('poking', 1), ('smooth', 4), ('shiny', 9), ('acorn', 14), ('paw', 11), ('oak', 1), ('root', 5), ('slipped', 5), ('tapping', 1), ('foot', 9), ('inside', 8), ('hurried', 3), ('closing', 1), ('odd', 1), ('points', 1), ('toes', 2), ('prisoner', 1), ('steal', 1), ('locked', 9), ('key', 8), ('servant', 7), ('sweep', 4), ('broth', 6), ('cooked', 1), ('afternoon', 1), ('always', 37), ('carried', 19), ('latched', 1), ('lock', 3), ('noticing', 1), ('chance', 9), ('everywhere', 2), ('drawer', 1), ('drawers', 1), ('hunted', 2), ('closet', 1), ('finally', 8), ('climbed', 3), ('chair', 3), ('chimney', 2), ('forepaws', 1), ('table', 8), ('expect', 2), ('exactly', 10), ('box', 6), ('necklace', 3), ('jewels', 3), ('lady', 6), ('sister', 5), ('perfectly', 6), ('wearing', 7), ('become', 6), ('farm', 6), ('crafty', 3), ('sly', 1), ('den', 1), ('rocks', 3), ('hill', 7), ('used', 26), ('lie', 7), ('boil', 1), ('wise', 13), ('market', 2), ('apron', 2), ('pocket', 3), ('scissors', 3), ('boiling', 7), ('bringing', 4), ('slung', 3), ('firewood', 5), ('pile', 5), ('bent', 3), ('stick', 3), ('scurried', 1), ('ugly', 3), ('whiff', 1), ('scared', 1), ('dropped', 7), ('apronful', 2), ('flew', 12), ('perched', 1), ('though', 8), ('underneath', 3), ('circle', 2), ('spun', 3), ('perch', 6), ('dizziness', 1), ('whisked', 2), ('snip', 1), ('cut', 20), ('spot', 7), ('quick', 4), ('wink', 2), ('farmhouse', 2), ('carrying', 4), ('difference', 4), ('fall', 2), ('pop', 2), ('splash', 4), ('thump', 1), ('scalded', 1), ('rid', 12), ('hin', 11), ('ould', 8), ('yees', 3), ('ha', 1), ('nivir', 3), ('bin', 1), ('shure', 7), ('harrum', 1), ('alane', 1), ('worked', 14), ('farrum', 1), ('er', 1), ('din', 3), ('shly', 2), ('wicked', 13), ('folly', 1), ('iv', 2), ('rashkill', 2), ('tuk', 3), ('whin', 2), ('wint', 4), ('thaught', 3), ('foine', 1), ('twad', 1), ('bile', 1), ('marm', 1), ('nothin', 1), ('jist', 6), ('bones', 2), ('shkin', 1), ('pit', 4), ('schame', 1), ('intil', 1), ('mither', 2), ('pot', 7), ('bilin', 3), ('agin', 1), ('ate', 10), ('bring', 10), ('wid', 7), ('saftly', 1), ('track', 2), ('alang', 1), ('craping', 1), ('shtill', 1), ('shnug', 1), ('hersel', 2), ('shticks', 2), ('begorra', 1), ('widout', 1), ('throuble', 1), ('shlips', 1), ('unbeknownst', 1), ('hides', 1), ('ind', 2), ('afther', 2), ('shuts', 2), ('locks', 3), ('tarns', 1), ('shtands', 1), ('shpread', 1), ('schared', 1), ('wondrous', 1), ('fright', 3), ('bame', 1), ('ye', 9), ('marched', 2), ('whiruled', 1), ('fashter', 3), ('lookin', 1), ('whipped', 1), ('dag', 1), ('tracked', 1), ('shmotherin', 1), ('sorra', 1), ('knowed', 1), ('awhere', 1), ('biled', 1), ('pay', 1), ('betho', 1), ('schissors', 1), ('shnipped', 1), ('fore', 1), ('lept', 1), ('shtone', 3), ('popped', 1), ('instid', 1), ('rins', 1), ('tugged', 2), ('hivy', 1), ('thimpin', 1), ('shoulders', 3), ('watchin', 1), ('shpied', 1), ('shtand', 1), ('lid', 1), ('shtring', 1), ('hild', 1), ('yis', 1), ('dash', 1), ('wather', 1), ('ker', 1), ('schalted', 1), ('em', 2), ('brathe', 1), ('epaminondas', 33), ('auntie', 9), ('nearly', 5), ('mammy', 20), ('cake', 6), ('gold', 35), ('fist', 1), ('crunched', 1), ('fistful', 1), ('crumbs', 1), ('sense', 6), ('born', 12), ('carry', 13), ('hat', 7), ('pound', 1), ('fresh', 3), ('wrapped', 2), ('melted', 3), ('forehead', 4), ('ears', 1), ('neck', 5), ('law', 4), ('sake', 4), ('cool', 8), ('careful', 5), ('puppy', 7), ('dog', 14), ('cooled', 3), ('sakes', 1), ('string', 9), ('loaf', 3), ('crusty', 1), ('imitate', 2), ('dragging', 2), ('laws', 3), ('massy', 1), ('gwine', 1), ('ways', 4), ('truck', 1), ('self', 2), ('six', 4), ('mince', 2), ('pies', 3), ('doorstep', 2), ('step', 2), ('bonnet', 2), ('shawl', 3), ('basket', 5), ('cooling', 1), ('row', 9), ('stepped', 2), ('happened', 19), ('person', 7), ('guess', 1), ('wolf', 11), ('shepherd', 7), ('flock', 4), ('trick', 3), ('villagers', 6), ('fun', 6), ('expense', 1), ('wolves', 2), ('lambs', 3), ('pains', 2), ('break', 2), ('fold', 1), ('killing', 3), ('screamed', 1), ('paid', 3), ('least', 3), ('attention', 2), ('sheep', 8), ('happens', 1), ('truth', 1), ('believes', 1), ('frog', 1), ('certain', 3), ('swamp', 2), ('decided', 3), ('needed', 5), ('minds', 1), ('sent', 23), ('jove', 6), ('begged', 11), ('send', 6), ('stupid', 2), ('tossed', 1), ('log', 2), ('pond', 3), ('hide', 5), ('hurt', 2), ('despise', 1), ('ask', 12), ('eel', 4), ('deal', 8), ('wriggling', 1), ('swimming', 1), ('harmless', 2), ('fearing', 1), ('respecting', 1), ('third', 7), ('worth', 3), ('stupidity', 1), ('deserve', 1), ('stork', 3), ('surface', 2), ('greet', 2), ('bobbing', 1), ('worthy', 3), ('quarrel', 1), ('stronger', 2), ('believed', 2), ('arguing', 1), ('traveller', 7), ('walking', 3), ('highway', 1), ('cloak', 8), ('test', 1), ('strength', 6), ('acknowledged', 1), ('agreed', 4), ('instantly', 4), ('puffed', 1), ('raised', 7), ('storm', 1), ('hail', 1), ('colder', 3), ('stormed', 1), ('tighter', 1), ('beams', 1), ('unfastened', 1), ('alligator', 32), ('fond', 4), ('fish', 5), ('hunt', 4), ('edges', 1), ('crabs', 12), ('crab', 12), ('jaws', 2), ('gobble', 1), ('deceive', 1), ('cheerful', 2), ('matter', 8), ('clever', 5), ('smart', 2), ('bulrush', 2), ('hope', 6), ('tender', 3), ('hidden', 12), ('beneath', 1), ('pshaw', 1), ('mistake', 4), ('thank', 10), ('lashed', 1), ('snapped', 1), ('reach', 4), ('week', 4), ('appetite', 2), ('else', 10), ('chances', 2), ('talk', 10), ('generally', 1), ('sticking', 2), ('pretend', 3), ('puts', 1), ('snout', 1), ('waited', 2), ('elsewhere', 1), ('foamed', 1), ('weeks', 1), ('feeling', 4), ('satisfy', 1), ('cautiously', 1), ('sign', 6), ('usually', 2), ('bubbles', 6), ('puff', 1), ('juicy', 3), ('easy', 4), ('blast', 1), ('perfect', 7), ('whirlpool', 2), ('fizzing', 1), ('swirling', 1), ('kindest', 1), ('nicely', 3), ('breakfast', 1), ('part', 10), ('furious', 3), ('crawled', 4), ('risk', 1), ('wild', 8), ('figs', 9), ('instead', 8), ('trying', 4), ('crept', 7), ('dragged', 4), ('huge', 2), ('fig', 3), ('h', 1), ('singularly', 1), ('investigate', 2), ('heap', 3), ('suspicious', 1), ('moves', 1), ('humped', 1), ('flying', 3), ('second', 4), ('rage', 5), ('vowed', 1), ('presently', 12), ('raked', 3), ('crushed', 2), ('broken', 7), ('loudly', 3), ('strange', 14), ('wrong', 4), ('pleasant', 4), ('hullo', 1), ('pleasantly', 1), ('piled', 2), ('smoked', 3), ('herring', 1), ('larks', 7), ('cornfield', 2), ('family', 7), ('nest', 3), ('corn', 12), ('lark', 5), ('watched', 6), ('reapers', 2), ('knives', 1), ('baby', 17), ('listen', 1), ('closely', 4), ('farmer', 8), ('call', 6), ('neighbours', 7), ('son', 9), ('reap', 2), ('waits', 2), ('plenty', 3), ('trembling', 2), ('moment', 10), ('getting', 3), ('relatives', 2), ('uncles', 2), ('cousins', 2), ('worry', 2), ('reaping', 1), ('use', 4), ('hire', 1), ('begins', 1), ('business', 7), ('asking', 3), ('true', 8), ('girl', 19), ('four', 9), ('happiest', 1), ('money', 20), ('taught', 5), ('lessons', 3), ('merry', 3), ('shadowy', 3), ('named', 12), ('louisa', 17), ('miles', 1), ('splendid', 5), ('brain', 1), ('study', 2), ('interesting', 2), ('thoughts', 5), ('sit', 9), ('write', 4), ('diary', 2), ('diaries', 1), ('verses', 2), ('sisters', 6), ('finished', 9), ('helped', 10), ('wash', 1), ('sew', 4), ('theatricals', 2), ('theatre', 1), ('grown', 10), ('acted', 4), ('climb', 1), ('hay', 1), ('loft', 4), ('stage', 1), ('chairs', 3), ('ladder', 2), ('vine', 1), ('beanstalk', 2), ('giant', 26), ('follow', 6), ('tumbling', 1), ('pillows', 2), ('fierce', 2), ('clothes', 10), ('pumpkin', 1), ('wheelbarrow', 1), ('trimmed', 2), ('cinderella', 1), ('fairy', 21), ('godmother', 1), ('wand', 1), ('understand', 9), ('fashioned', 2), ('shells', 1), ('hats', 1), ('pilgrimage', 2), ('pilgrims', 1), ('lanes', 1), ('nuts', 2), ('loved', 13), ('wrote', 10), ('act', 1), ('writing', 2), ('housework', 2), ('someone', 2), ('weary', 5), ('ill', 4), ('suffered', 1), ('helping', 2), ('earn', 3), ('sewed', 2), ('older', 3), ('papers', 1), ('earned', 4), ('year', 7), ('unselfish', 1), ('wasting', 1), ('publisher', 3), ('book', 7), ('try', 5), ('jolly', 1), ('written', 3), ('famous', 6), ('real', 10), ('bought', 9), ('europe', 2), ('able', 13), ('beloved', 1), ('happiness', 7), ('alcott', 1), ('name', 12), ('women', 12), ('america', 3), ('telling', 2), ('kingdom', 7), ('princess', 5), ('unkind', 1), ('dissatisfied', 1), ('playing', 2), ('enemies', 3), ('soldiers', 10), ('patience', 3), ('duty', 1), ('maybe', 1), ('poem', 1), ('fourteen', 1), ('possess', 2), ('feelings', 1), ('dwell', 2), ('task', 3), ('governing', 1), ('passion', 2), ('tempts', 1), ('troubles', 2), ('wayward', 1), ('misleads', 1), ('selfishness', 1), ('shadow', 4), ('casts', 1), ('deeds', 2), ('learn', 5), ('honest', 4), ('brave', 4), ('tire', 2), ('sunny', 1), ('soul', 12), ('tune', 6), ('sweetly', 1), ('casteth', 1), ('lean', 3), ('thee', 9), ('thou', 17), ('art', 8), ('temptation', 1), ('unseen', 1), ('childish', 1), ('grief', 1), ('infinite', 1), ('doth', 1), ('soothe', 1), ('crown', 11), ('win', 2), ('seek', 4), ('conquer', 2), ('guide', 1), ('thy', 10), ('dare', 4), ('command', 3), ('piccola', 9), ('tis', 1), ('seldom', 1), ('fortune', 9), ('grants', 1), ('maid', 8), ('france', 2), ('twas', 2), ('christmas', 17), ('parents', 2), ('drive', 2), ('striving', 2), ('poverty', 1), ('pain', 2), ('gifts', 6), ('dawned', 2), ('stir', 3), ('st', 2), ('nicholas', 2), ('doubted', 1), ('befall', 1), ('dawn', 2), ('faith', 1), ('woke', 4), ('shoe', 2), ('sounds', 6), ('gladness', 2), ('plain', 3), ('rushed', 4), ('joyful', 1), ('saint', 2), ('shivering', 2), ('bird', 8), ('sparrow', 2), ('starving', 2), ('fed', 2), ('warmed', 1), ('rapture', 1), ('charmed', 1), ('fir', 37), ('probably', 1), ('hans', 1), ('christian', 1), ('andersen', 4), ('childhood', 1), ('loss', 3), ('spending', 1), ('holiday', 2), ('mental', 1), ('search', 1), ('buried', 2), ('treasure', 5), ('ensued', 1), ('impressions', 1), ('experiences', 1), ('forthwith', 1), ('wove', 1), ('supposed', 3), ('reproduction', 1), ('original', 1), ('latter', 1), ('wholly', 1), ('faded', 2), ('memory', 3), ('suit', 1), ('tastes', 1), ('audience', 1), ('gradually', 2), ('several', 3), ('later', 3), ('rereading', 1), ('purposes', 2), ('amused', 1), ('somewhat', 1), ('distressed', 1), ('wandered', 1), ('text', 1), ('explanation', 1), ('reader', 1), ('presume', 2), ('offer', 5), ('tale', 1), ('follows', 1), ('adaptation', 1), ('plainly', 1), ('memories', 1), ('slim', 1), ('pointed', 3), ('unhappy', 4), ('others', 9), ('lit', 3), ('built', 8), ('nests', 1), ('singing', 7), ('rocked', 1), ('swung', 2), ('tops', 2), ('murmured', 1), ('winter', 4), ('covered', 7), ('coats', 3), ('worst', 4), ('sledges', 1), ('teams', 1), ('horses', 7), ('talked', 2), ('nodded', 3), ('heads', 6), ('ship', 5), ('greatly', 4), ('sledge', 3), ('none', 6), ('pricked', 2), ('touched', 9), ('wondering', 6), ('contentedly', 1), ('upright', 1), ('tub', 3), ('placed', 4), ('spent', 2), ('doors', 9), ('ladies', 8), ('aprons', 1), ('dresses', 1), ('parcels', 1), ('touches', 1), ('silver', 6), ('chains', 2), ('strings', 5), ('stuff', 1), ('drooping', 2), ('pink', 7), ('rosy', 1), ('balls', 1), ('candles', 6), ('floating', 3), ('doll', 1), ('breathe', 1), ('dusk', 1), ('closed', 3), ('beginning', 4), ('smoothly', 2), ('sudden', 2), ('propped', 1), ('wheeled', 1), ('hobbling', 1), ('wondered', 2), ('hospital', 1), ('shout', 5), ('quivered', 1), ('needle', 2), ('nicest', 2), ('moses', 3), ('thousands', 1), ('ago', 11), ('david', 43), ('adviser', 1), ('egypt', 2), ('numbers', 2), ('israelites', 9), ('settle', 2), ('israelitish', 3), ('hated', 1), ('number', 2), ('egyptians', 2), ('rulers', 2), ('slaves', 1), ('tasks', 1), ('proper', 1), ('hoped', 2), ('hardship', 2), ('kill', 14), ('young', 15), ('families', 2), ('race', 5), ('dwindle', 1), ('remained', 1), ('ordered', 6), ('fight', 12), ('order', 4), ('babies', 7), ('somehow', 3), ('contrived', 1), ('months', 2), ('possible', 3), ('longer', 4), ('plan', 3), ('bulrushes', 1), ('daubed', 1), ('flags', 3), ('brink', 1), ('kissed', 2), ('seeming', 2), ('laughter', 4), ('train', 2), ('daughter', 8), ('bathe', 1), ('maidens', 10), ('helpless', 3), ('pitied', 1), ('cruel', 5), ('hebrews', 1), ('nurse', 4), ('hebrew', 1), ('whose', 6), ('perhaps', 9), ('guessed', 2), ('events', 1), ('maiden', 1), ('wages', 3), ('known', 2), ('adopted', 2), ('given', 9), ('strangest', 2), ('rescued', 1), ('ten', 11), ('elsa', 22), ('foolishly', 1), ('seam', 2), ('laugh', 7), ('married', 2), ('dears', 4), ('either', 1), ('mistress', 2), ('idle', 1), ('husband', 7), ('muddle', 1), ('bitterly', 4), ('sobbed', 2), ('grey', 14), ('learned', 5), ('pouf', 1), ('hopped', 3), ('servants', 22), ('faithful', 4), ('stare', 1), ('questions', 3), ('chaps', 1), ('useless', 4), ('stretch', 2), ('names', 4), ('thumb', 2), ('forefinger', 2), ('thimble', 2), ('finger', 15), ('ring', 14), ('hop', 3), ('knee', 1), ('palms', 1), ('whisk', 1), ('remaining', 2), ('restless', 1), ('stirred', 2), ('cooking', 1), ('board', 3), ('sooner', 2), ('measured', 1), ('mixed', 1), ('kneaded', 1), ('loaves', 3), ('rise', 2), ('quicker', 1), ('broom', 1), ('twinkling', 2), ('clean', 2), ('beautifully', 6), ('badly', 1), ('crossness', 1), ('grandmother', 1), ('housekeeper', 2), ('candle', 1), ('wife', 26), ('elves', 7), ('shoemaker', 12), ('leather', 6), ('pair', 2), ('stitch', 3), ('bench', 10), ('prayers', 5), ('trusting', 2), ('finish', 1), ('sell', 3), ('anyone', 7), ('customer', 2), ('buy', 1), ('pairs', 7), ('pieces', 5), ('prosperous', 2), ('satisfied', 3), ('grateful', 3), ('curtain', 1), ('clock', 13), ('twelve', 5), ('naked', 4), ('hammers', 2), ('thread', 2), ('stitched', 1), ('aloud', 1), ('commenced', 2), ('weeny', 2), ('waistcoats', 1), ('trousers', 1), ('bits', 1), ('dainty', 3), ('stitches', 1), ('eve', 1), ('cleaned', 1), ('sets', 1), ('promptly', 1), ('midnight', 4), ('coat', 6), ('kinds', 3), ('motions', 1), ('delight', 4), ('dance', 6), ('luck', 2), ('otter', 9), ('deer', 9), ('flat', 2), ('taking', 2), ('chief', 6), ('dancer', 2), ('war', 13), ('woodpecker', 6), ('sounded', 6), ('gong', 5), ('forgot', 4), ('trod', 2), ('solomon', 6), ('punished', 2), ('majesty', 9), ('beater', 1), ('lizard', 5), ('sword', 9), ('protector', 1), ('wore', 7), ('tortoise', 16), ('mail', 4), ('trailing', 2), ('edged', 2), ('pike', 2), ('crayfish', 3), ('shouldered', 1), ('lance', 2), ('immediately', 5), ('case', 1), ('blamed', 1), ('braid', 1), ('fro', 1), ('braiding', 1), ('winds', 2), ('pats', 1), ('brahmin', 44), ('tiger', 37), ('gentle', 5), ('india', 1), ('treats', 1), ('brahmins', 1), ('road', 7), ('iron', 2), ('cage', 21), ('wickedness', 3), ('ungrateful', 3), ('unlocked', 1), ('promised', 5), ('however', 5), ('argued', 1), ('five', 5), ('meet', 5), ('abide', 1), ('decision', 1), ('banyan', 4), ('wayside', 2), ('fruit', 5), ('eagerly', 5), ('seem', 5), ('shade', 2), ('refresh', 1), ('falls', 2), ('rested', 2), ('scatter', 1), ('boughs', 1), ('bullock', 4), ('freed', 1), ('grumbling', 1), ('master', 4), ('served', 1), ('loads', 1), ('thankless', 1), ('lot', 5), ('grumbled', 2), ('eagle', 4), ('imploringly', 1), ('seems', 3), ('frightful', 1), ('soared', 1), ('lower', 2), ('eyrie', 1), ('rob', 1), ('shoot', 1), ('arrows', 1), ('breed', 1), ('persuade', 2), ('slime', 1), ('snorted', 1), ('pigeon', 1), ('sees', 3), ('throws', 1), ('pokes', 1), ('jeers', 1), ('worthless', 4), ('remind', 2), ('fifth', 1), ('met', 6), ('gaily', 1), ('opinion', 4), ('pardon', 3), ('raising', 1), ('vacantly', 1), ('understanding', 1), ('altogether', 1), ('interrupted', 1), ('sort', 2), ('ordinary', 1), ('gives', 1), ('situation', 2), ('position', 3), ('leaping', 1), ('makes', 4), ('clearer', 1), ('forgive', 1), ('works', 1), ('pushing', 2), ('bolted', 1), ('advise', 1), ('lies', 2), ('mine', 5), ('camel', 17), ('exceedingly', 1), ('cane', 7), ('manage', 2), ('willing', 2), ('swam', 2), ('swiftly', 1), ('noticed', 3), ('consequently', 1), ('fill', 1), ('barely', 1), ('mouthful', 1), ('hullabaloo', 1), ('destroy', 1), ('stoned', 1), ('somewhere', 1), ('shouting', 5), ('deepest', 1), ('crazy', 3), ('sins', 2), ('gulls', 8), ('salt', 11), ('company', 3), ('pioneers', 2), ('atlantic', 1), ('coast', 1), ('mississippi', 1), ('journeyed', 1), ('plains', 1), ('central', 1), ('wagons', 2), ('succeeded', 1), ('climbing', 1), ('rockies', 1), ('valley', 6), ('mountains', 2), ('desert', 2), ('soil', 7), ('climate', 1), ('streams', 2), ('pure', 2), ('jewel', 1), ('hills', 2), ('inland', 1), ('settled', 4), ('huts', 1), ('cabins', 1), ('journey', 4), ('died', 13), ('weariness', 2), ('illness', 1), ('provisions', 1), ('living', 7), ('partly', 1), ('dug', 4), ('depended', 1), ('crops', 4), ('vegetables', 5), ('raise', 1), ('barren', 2), ('fertile', 1), ('spreading', 2), ('irrigating', 1), ('sprouting', 1), ('hopes', 1), ('seeds', 12), ('sprouted', 1), ('carpet', 1), ('growing', 4), ('shoots', 2), ('flourished', 1), ('watering', 1), ('crickets', 10), ('swarming', 1), ('gardens', 3), ('nearest', 2), ('hopping', 2), ('army', 7), ('crawling', 1), ('streaming', 1), ('beating', 5), ('news', 2), ('fires', 1), ('trenches', 4), ('wildly', 1), ('fought', 2), ('armies', 7), ('attacked', 2), ('wept', 3), ('despair', 2), ('starvation', 1), ('knelt', 3), ('pray', 1), ('joined', 1), ('weeping', 2), ('struggles', 1), ('kneeling', 3), ('deliverance', 1), ('plague', 1), ('flapping', 1), ('louder', 5), ('startled', 2), ('rising', 1), ('soaring', 1), ('hundreds', 7), ('circled', 1), ('shrill', 1), ('chorus', 2), ('outspread', 1), ('hovering', 1), ('breasts', 1), ('cultivated', 2), ('woe', 2), ('strip', 4), ('branch', 1), ('devoured', 1), ('dozens', 1), ('swarms', 1), ('gorged', 1), ('heavily', 1), ('stripped', 1), ('pioneer', 1), ('drawing', 1), ('weaving', 1), ('schools', 2), ('design', 1), ('picture', 2), ('cricket', 1), ('gull', 1), ('nightingale', 53), ('emperor', 48), ('china', 1), ('crystal', 3), ('loveliest', 1), ('taller', 1), ('song', 21), ('chamberlain', 7), ('important', 1), ('lords', 4), ('pages', 2), ('trampled', 2), ('scraps', 1), ('beyond', 2), ('followed', 5), ('moo', 1), ('creature', 4), ('mooing', 1), ('bullfrogs', 2), ('courtiers', 24), ('bells', 7), ('croaking', 1), ('hush', 2), ('pale', 2), ('colour', 1), ('greenwood', 2), ('imagine', 2), ('rows', 6), ('tinkled', 1), ('wax', 1), ('throne', 9), ('throat', 3), ('tears', 10), ('emperors', 1), ('easily', 2), ('cheeks', 2), ('success', 1), ('singer', 1), ('allowed', 1), ('twice', 4), ('appointed', 2), ('silken', 2), ('mouths', 1), ('glu', 1), ('halls', 1), ('ingale', 1), ('conversation', 1), ('package', 1), ('artificial', 3), ('rubies', 1), ('emeralds', 1), ('diamonds', 2), ('wound', 2), ('played', 3), ('waltz', 4), ('thirty', 2), ('anywhere', 1), ('listening', 3), ('tunes', 3), ('whistle', 1), ('nightingales', 1), ('r', 1), ('doctor', 1), ('maker', 1), ('patch', 3), ('shaky', 1), ('chose', 3), ('velvet', 2), ('curtains', 1), ('candlesticks', 1), ('congratulate', 1), ('weight', 3), ('chest', 1), ('sceptre', 5), ('banner', 2), ('hollow', 1), ('shadows', 2), ('faces', 4), ('whispers', 3), ('blood', 3), ('flow', 1), ('limbs', 3), ('flown', 2), ('obtained', 2), ('churchyard', 1), ('leave', 2), ('tells', 2), ('royal', 10), ('robes', 6), ('margery', 73), ('building', 1), ('pots', 1), ('roofs', 1), ('dearly', 1), ('sunday', 1), ('park', 1), ('flower', 5), ('wishing', 1), ('nine', 2), ('removed', 1), ('short', 4), ('delighted', 3), ('eager', 3), ('expected', 1), ('attended', 1), ('cottage', 4), ('apple', 1), ('plum', 1), ('pear', 1), ('rough', 3), ('leading', 1), ('plot', 1), ('peas', 5), ('beans', 3), ('salad', 6), ('salads', 1), ('lettuce', 8), ('endive', 1), ('mustard', 1), ('cress', 1), ('parsley', 1), ('radishes', 6), ('beetroot', 1), ('onions', 1), ('pencil', 1), ('drew', 10), ('diagram', 2), ('page', 2), ('footpath', 3), ('weed', 2), ('wider', 2), ('glorious', 2), ('weeding', 3), ('illustration', 3), ('evenings', 1), ('ramble', 1), ('postman', 4), ('happening', 1), ('label', 1), ('miss', 1), ('primrose', 1), ('narcissus', 1), ('colchester', 1), ('plants', 9), ('reading', 1), ('packages', 3), ('printed', 1), ('labels', 1), ('nasturtium', 1), ('helianthus', 3), ('canariensis', 3), ('calendula', 2), ('canterbury', 2), ('french', 1), ('carrots', 2), ('wallflowers', 1), ('smell', 1), ('posies', 1), ('excited', 2), ('sunflower', 1), ('bell', 1), ('shaped', 2), ('grand', 3), ('sturdy', 2), ('everydayish', 1), ('marigold', 1), ('takes', 1), ('surprise', 6), ('sow', 2), ('seed', 7), ('driving', 2), ('wagon', 1), ('plough', 13), ('ploughs', 1), ('interest', 1), ('cart', 8), ('harnessed', 2), ('cornered', 2), ('steel', 1), ('handles', 1), ('virgin', 1), ('means', 1), ('ploughed', 3), ('hours', 1), ('firmly', 2), ('line', 7), ('fascinating', 1), ('knife', 4), ('skill', 1), ('avoid', 1), ('tough', 1), ('unloaded', 1), ('implement', 1), ('platform', 2), ('curved', 1), ('rake', 4), ('harrow', 2), ('steady', 3), ('scratch', 1), ('ridges', 1), ('scrambles', 1), ('needs', 2), ('scrambling', 1), ('fewer', 1), ('ploughing', 3), ('harrowing', 2), ('afternoons', 1), ('afford', 1), ('spade', 2), ('clods', 1), ('fork', 1), ('shaken', 1), ('thrown', 2), ('rotted', 1), ('fertiliser', 2), ('cord', 3), ('stake', 3), ('hoed', 2), ('trench', 2), ('inches', 2), ('length', 2), ('lined', 1), ('handful', 1), ('stooping', 2), ('letting', 1), ('trickle', 2), ('photograph', 2), ('teacher', 1), ('sower', 1), ('spinach', 1), ('parsnips', 1), ('tomato', 1), ('transplanted', 1), ('sown', 1), ('hoe', 1), ('loose', 7), ('particular', 4), ('begun', 1), ('turf', 1), ('shovelled', 1), ('raking', 1), ('fertilising', 1), ('lines', 2), ('footpaths', 1), ('marked', 3), ('actions', 3), ('gardeners', 1), ('square', 9), ('steps', 3), ('tramped', 1), ('wide', 2), ('shallow', 1), ('arrangement', 1), ('designed', 1), ('screen', 2), ('hedge', 1), ('sunflowers', 1), ('front', 4), ('nasturtiums', 1), ('planned', 1), ('vegetable', 2), ('corners', 1), ('creeper', 1), ('patches', 2), ('london', 1), ('bachelor', 1), ('marigolds', 1), ('larkspur', 1), ('asters', 1), ('hollyhocks', 1), ('stocks', 1), ('grandmothers', 1), ('mrs', 1), ('ends', 2), ('labelled', 1), ('beets', 2), ('dreamland', 1), ('cotyledons', 1), ('sprout', 1), ('seedlings', 2), ('mornings', 1), ('opening', 2), ('crust', 4), ('radish', 8), ('examined', 2), ('nail', 1), ('twos', 1), ('stem', 4), ('peeping', 1), ('faintly', 1), ('regular', 1), ('apart', 2), ('alike', 8), ('examine', 2), ('searching', 1), ('signs', 2), ('discovered', 1), ('irregular', 1), ('hints', 1), ('beet', 3), ('wrinkled', 1), ('precisely', 1), ('size', 2), ('anxious', 1), ('unpleasant', 1), ('roundish', 1), ('twinkle', 2), ('dicotyledonous', 4), ('drawl', 1), ('waiting', 2), ('pockets', 1), ('draw', 3), ('substitutes', 1), ('folded', 1), ('special', 2), ('divided', 2), ('leaf', 2), ('monocotyledonous', 1), ('dicotyledons', 2), ('different', 8), ('birch', 3), ('nurseries', 1), ('forests', 1), ('parks', 1), ('workmen', 4), ('trained', 1), ('dimpling', 1), ('soberly', 1), ('believe', 5), ('talkative', 1), ('ducks', 8), ('enjoyed', 1), ('season', 2), ('region', 1), ('bid', 1), ('stout', 2), ('burden', 1), ('treetops', 1), ('shines', 2), ('tongue', 1), ('robert', 26), ('sicily', 17), ('legend', 2), ('pope', 6), ('rome', 4), ('allemaine', 3), ('selfish', 3), ('cared', 2), ('pleasures', 1), ('greatness', 1), ('god', 27), ('vesper', 1), ('service', 8), ('garments', 2), ('choir', 1), ('chanting', 2), ('latin', 4), ('swelled', 2), ('verse', 2), ('repeated', 1), ('clerk', 2), ('hath', 6), ('seats', 3), ('exalted', 3), ('degree', 1), ('angrily', 1), ('power', 6), ('seat', 2), ('sneered', 2), ('deeply', 2), ('awoke', 2), ('dim', 1), ('aisles', 1), ('madly', 1), ('sexton', 3), ('pounding', 1), ('drunken', 1), ('vagabond', 1), ('stolen', 4), ('keys', 1), ('hoarse', 1), ('peering', 1), ('figure', 3), ('tattered', 1), ('scanty', 2), ('unkempt', 1), ('wildness', 1), ('haste', 4), ('fluttering', 1), ('rags', 1), ('knowing', 1), ('gates', 1), ('blind', 1), ('stair', 1), ('corridors', 1), ('ragged', 2), ('fled', 5), ('banquet', 4), ('feast', 2), ('tables', 1), ('delicate', 1), ('human', 1), ('kingship', 1), ('stared', 1), ('fury', 2), ('dost', 1), ('impostor', 2), ('swords', 1), ('insulted', 1), ('jester', 12), ('companion', 2), ('ape', 4), ('wretched', 2), ('dream', 3), ('coarse', 1), ('straw', 2), ('cheek', 2), ('pillow', 1), ('stable', 3), ('question', 2), ('stern', 2), ('meeting', 1), ('procession', 2), ('horsemen', 1), ('footmen', 1), ('finer', 1), ('armour', 5), ('riders', 1), ('cloaks', 1), ('silk', 1), ('presents', 3), ('rode', 3), ('villages', 1), ('received', 3), ('trains', 2), ('peter', 1), ('welcome', 3), ('greeted', 4), ('crowd', 3), ('pity', 4), ('dangerous', 1), ('madman', 1), ('serving', 2), ('holy', 6), ('services', 3), ('cathedral', 1), ('presence', 4), ('easter', 2), ('churches', 3), ('incense', 1), ('choirs', 2), ('angels', 1), ('earnest', 1), ('praise', 4), ('heavenly', 10), ('humblest', 1), ('chant', 2), ('softened', 1), ('realised', 1), ('festivities', 2), ('monks', 2), ('thanksgiving', 1), ('subjects', 3), ('commanded', 3), ('knowest', 1), ('sinned', 1), ('sank', 6), ('change', 3), ('smiling', 1), ('radiance', 1), ('smile', 5), ('melody', 1), ('throbbing', 1), ('absorbed', 1), ('silent', 2), ('prayer', 8), ('jealous', 4), ('anecdote', 1), ('artist', 12), ('duesseldorf', 3), ('elector', 5), ('prince', 47), ('johann', 1), ('wilhelm', 1), ('portrait', 5), ('statue', 17), ('horseback', 1), ('bronze', 2), ('overjoyed', 2), ('commission', 1), ('public', 2), ('view', 1), ('favourite', 2), ('castle', 22), ('unveiled', 2), ('herr', 5), ('grupello', 5), ('fame', 2), ('friendly', 1), ('jealousy', 1), ('bounds', 1), ('humiliate', 1), ('dared', 3), ('flaws', 2), ('declared', 1), ('frankness', 1), ('highness', 1), ('permit', 3), ('successful', 2), ('proportion', 2), ('awkward', 1), ('hind', 2), ('improvement', 1), ('fault', 2), ('quietly', 1), ('assented', 1), ('temporary', 1), ('assistants', 1), ('undisturbed', 1), ('hammering', 4), ('steadily', 1), ('enclosure', 1), ('credit', 1), ('saving', 1), ('artistic', 1), ('summoned', 1), ('flaw', 1), ('graceful', 1), ('rear', 1), ('adds', 1), ('considered', 1), ('improved', 2), ('changes', 1), ('fact', 1), ('changed', 3), ('reputation', 2), ('simply', 1), ('hammered', 1), ('heartily', 1), ('slunk', 1), ('cherry', 20), ('visited', 1), ('dearest', 2), ('grant', 1), ('whatever', 1), ('gladly', 1), ('choose', 5), ('richest', 1), ('alas', 4), ('advice', 4), ('reprove', 1), ('punish', 2), ('wills', 1), ('rejoiced', 1), ('friendship', 1), ('grieved', 1), ('vision', 2), ('clad', 1), ('dazzling', 1), ('wreath', 1), ('roses', 1), ('candide', 4), ('gift', 2), ('welfare', 1), ('evil', 5), ('prick', 6), ('heed', 1), ('warnings', 1), ('enemy', 2), ('vanished', 3), ('spoiled', 1), ('game', 1), ('temper', 2), ('scolded', 1), ('pet', 1), ('crossly', 1), ('petted', 2), ('kiss', 1), ('instant', 4), ('pin', 1), ('ear', 2), ('guilty', 1), ('cruelty', 2), ('sharply', 2), ('recognised', 3), ('willed', 1), ('urged', 1), ('ruin', 2), ('seize', 1), ('treated', 3), ('carelessly', 1), ('cruelly', 2), ('annoyed', 1), ('embarrassing', 1), ('less', 5), ('zelia', 15), ('astonishment', 1), ('refused', 2), ('pleasing', 1), ('handsome', 2), ('charming', 2), ('prison', 2), ('dungeon', 3), ('flattered', 1), ('slave', 2), ('disgrace', 2), ('innocent', 1), ('disobey', 1), ('courtier', 1), ('cleverly', 1), ('trait', 1), ('prepared', 1), ('tutor', 2), ('suliman', 6), ('rebuked', 1), ('fetters', 1), ('clash', 1), ('blinding', 1), ('rang', 1), ('trumpet', 1), ('baser', 1), ('revengeful', 1), ('serpent', 2), ('greedy', 2), ('brutal', 1), ('bull', 2), ('therefore', 2), ('resemble', 1), ('horror', 3), ('transformed', 2), ('monster', 4), ('rush', 1), ('sadly', 4), ('submission', 1), ('transported', 2), ('distant', 2), ('image', 1), ('gazed', 2), ('deformed', 1), ('beast', 9), ('stumbled', 1), ('bear', 9), ('catchers', 1), ('trappers', 1), ('curiosity', 1), ('courtyard', 1), ('buzzing', 1), ('gossip', 1), ('lightning', 1), ('struggled', 1), ('offered', 1), ('speaking', 1), ('tainted', 1), ('corrupt', 1), ('repent', 2), ('tearing', 1), ('keepers', 1), ('lead', 2), ('menagerie', 1), ('hurting', 1), ('keeper', 8), ('repented', 3), ('unrewarded', 2), ('starved', 2), ('although', 3), ('retired', 1), ('refreshed', 1), ('kennel', 1), ('wished', 3), ('rescue', 1), ('bark', 1), ('bite', 1), ('heels', 3), ('prevented', 1), ('throw', 5), ('meat', 1), ('devour', 1), ('snatched', 1), ('poisoned', 1), ('dove', 2), ('sought', 1), ('lands', 2), ('eastern', 1), ('tent', 2), ('haired', 5), ('hermit', 27), ('caressed', 1), ('beak', 3), ('cooed', 1), ('modesty', 2), ('flowing', 1), ('spell', 1), ('bade', 8), ('trice', 1), ('ruled', 2), ('bleed', 1), ('orchard', 9), ('olive', 5), ('industrious', 5), ('prospered', 1), ('sons', 8), ('despised', 1), ('wealth', 7), ('adventure', 1), ('wandering', 1), ('disappointed', 1), ('cultivating', 1), ('digging', 1), ('quality', 1), ('sold', 2), ('understood', 1), ('margaret', 16), ('orleans', 6), ('banks', 1), ('shops', 1), ('hotels', 2), ('leans', 1), ('wears', 1), ('common', 1), ('chinned', 1), ('irish', 1), ('surprising', 1), ('honour', 3), ('monuments', 1), ('queens', 1), ('princesses', 1), ('richly', 2), ('haughery', 2), ('remembers', 1), ('monument', 1), ('ironed', 1), ('laundry', 2), ('motherless', 2), ('orphan', 4), ('asylum', 6), ('sickness', 3), ('mothers', 2), ('fathers', 1), ('orphans', 2), ('possibly', 1), ('delivery', 1), ('milk', 3), ('customers', 1), ('houses', 1), ('hardest', 1), ('giving', 4), ('bakery', 1), ('civil', 1), ('despite', 1), ('steam', 1), ('factory', 1), ('office', 2), ('calico', 1), ('gown', 1), ('penny', 1), ('asylums', 1), ('jews', 1), ('catholics', 1), ('protestants', 1), ('signed', 1), ('wisdom', 1), ('dagda', 15), ('harp', 16), ('countries', 1), ('ireland', 2), ('thousand', 2), ('mines', 1), ('weave', 1), ('cloth', 1), ('ornaments', 1), ('kings', 2), ('fights', 1), ('mixtures', 1), ('prettiest', 1), ('legends', 1), ('fomorians', 7), ('slender', 1), ('spears', 3), ('eyed', 1), ('blunt', 1), ('dull', 1), ('metal', 1), ('chieftain', 1), ('priest', 1), ('magic', 9), ('rare', 1), ('ornamented', 1), ('battle', 10), ('warrior', 3), ('buckle', 1), ('wounded', 2), ('strike', 2), ('chords', 2), ('wounds', 1), ('comrade', 1), ('safety', 2), ('cup', 2), ('guarded', 1), ('usual', 1), ('chieftains', 1), ('wives', 1), ('battlefield', 1), ('vacant', 1), ('hanging', 2), ('warriors', 6), ('banqueting', 1), ('grasp', 3), ('weapon', 1), ('whirling', 1), ('sweeping', 1), ('solemn', 1), ('wailing', 1), ('harmony', 1), ('smote', 2), ('mirth', 2), ('cups', 1), ('wine', 1), ('flowed', 1), ('bowls', 1), ('excess', 1), ('glee', 1), ('dreams', 1), ('fomorian', 1), ('laps', 1), ('drooped', 1), ('homes', 2), ('tailor', 47), ('galway', 2), ('dublin', 8), ('saluted', 2), ('build', 3), ('giants', 6), ('garraun', 6), ('kiln', 1), ('shovel', 1), ('fit', 2), ('remain', 1), ('lift', 1), ('foxes', 1), ('allow', 1), ('axe', 2), ('crate', 1), ('lions', 1), ('harvest', 1), ('ploughman', 1), ('clapped', 1), ('peg', 1), ('fix', 1), ('arrived', 2), ('engaged', 1), ('contrivance', 1), ('workpeople', 1), ('arriving', 1), ('throwing', 3), ('manoeuvring', 1), ('skull', 1), ('delay', 1), ('swallow', 1), ('hour', 1), ('commence', 1), ('sheepskin', 1), ('gallon', 3), ('drank', 2), ('poured', 1), ('skin', 4), ('drunk', 1), ('drinking', 1), ('prod', 2), ('stomach', 1), ('desired', 1), ('yesterday', 1), ('swifter', 4), ('overtake', 3), ('released', 2), ('pursued', 3), ('coach', 1), ('returned', 1), ('forefathers', 1), ('dragon', 1), ('ships', 1), ('england', 1), ('apt', 1), ('invent', 1), ('account', 1), ('peculiar', 1), ('loving', 1), ('remarked', 2), ('peculiarity', 1), ('rivers', 1), ('steams', 1), ('accounted', 1), ('showing', 2), ('childlike', 1), ('inquiry', 1), ('answer', 3), ('riddle', 1), ('nature', 1), ('odin', 2), ('frode', 12), ('denmark', 3), ('millstones', 8), ('grind', 8), ('letters', 1), ('precious', 4), ('miller', 1), ('messengers', 2), ('grudge', 1), ('directly', 1), ('hunger', 1), ('swift', 1), ('moan', 1), ('abundant', 1), ('riches', 1), ('behold', 3), ('performing', 1), ('diligently', 1), ('grinding', 5), ('pause', 1), ('harsh', 1), ('cease', 1), ('cuckoo', 2), ('waxed', 1), ('wroth', 1), ('resumed', 1), ('labours', 1), ('hardness', 1), ('household', 1), ('pitiless', 1), ('east', 3), ('curlews', 1), ('note', 2), ('warning', 1), ('host', 5), ('approaches', 1), ('dwelling', 1), ('rings', 1), ('revenge', 1), ('bloodshed', 1), ('terror', 2), ('tramp', 1), ('advancing', 1), ('escape', 1), ('braces', 1), ('trembled', 1), ('shock', 1), ('breaking', 2), ('crash', 1), ('slew', 4), ('plundered', 1), ('sacked', 1), ('roughly', 1), ('effect', 1), ('arose', 4), ('whence', 1), ('south', 1), ('west', 1), ('throughout', 1), ('waters', 2), ('travellers', 2), ('lazy', 16), ('fellow', 2), ('worker', 1), ('heights', 1), ('glistening', 1), ('towers', 4), ('gleamed', 2), ('marble', 1), ('glancing', 1), ('longed', 3), ('butterfly', 1), ('robed', 2), ('cobwebs', 1), ('ball', 1), ('discontented', 1), ('sigh', 2), ('hem', 1), ('robe', 2), ('whither', 1), ('waste', 2), ('stroke', 1), ('receive', 1), ('stride', 2), ('wistfully', 1), ('sighed', 1), ('nosing', 1), ('whinny', 1), ('finely', 1), ('saddled', 1), ('bridled', 1), ('hello', 1), ('headed', 1), ('pace', 3), ('minutes', 2), ('overtook', 1), ('plodding', 1), ('shank', 1), ('pony', 1), ('noon', 2), ('shady', 1), ('grove', 2), ('rider', 3), ('moderation', 1), ('example', 1), ('dismounted', 1), ('moss', 1), ('lunch', 1), ('pouch', 1), ('comfortably', 1), ('drowsy', 1), ('ride', 2), ('nap', 1), ('sleepers', 1), ('entered', 2), ('fireworks', 2), ('rubbing', 1), ('setting', 1), ('bony', 1), ('donkey', 11), ('whistled', 1), ('appeared', 1), ('mounted', 5), ('slower', 5), ('budge', 1), ('coaxing', 1), ('scolding', 1), ('stony', 1), ('groaning', 1), ('assure', 1), ('aching', 1), ('comfortable', 1), ('blankets', 1), ('bestir', 1), ('fallen', 1), ('scratched', 1), ('stumps', 1), ('tore', 1), ('briers', 1), ('howls', 1), ('saddle', 2), ('grasped', 1), ('thankfully', 1), ('mount', 1), ('moist', 1), ('slimy', 1), ('shudder', 2), ('hesitated', 2), ('striking', 1), ('eleven', 2), ('steed', 3), ('animal', 3), ('ablaze', 1), ('ray', 2), ('riding', 1), ('gigantic', 2), ('snail', 4), ('calf', 1), ('body', 1), ('horrid', 1), ('strokes', 1), ('mark', 1), ('frantic', 1), ('curled', 1), ('wailed', 1), ('rattling', 1), ('harness', 1), ('threshold', 1), ('waving', 2), ('beckoning', 1), ('eight', 1), ('slide', 1), ('reaching', 1), ('moonlight', 1), ('clang', 1), ('cares', 1), ('goliath', 2), ('modest', 3), ('guard', 2), ('pastures', 2), ('philistines', 5), ('israel', 11), ('ephah', 2), ('parched', 3), ('camp', 5), ('captain', 2), ('fare', 1), ('pecks', 1), ('baggage', 1), ('amongst', 1), ('tumult', 1), ('confusion', 1), ('slope', 1), ('opposite', 2), ('striding', 1), ('philistine', 15), ('taunting', 1), ('largest', 1), ('helmet', 2), ('brass', 4), ('armed', 3), ('greaves', 1), ('legs', 1), ('target', 1), ('spear', 3), ('staff', 3), ('weaver', 1), ('shield', 3), ('gath', 1), ('champion', 2), ('forty', 5), ('challenged', 1), ('combat', 1), ('dares', 1), ('warfare', 1), ('challenge', 1), ('scornfully', 1), ('array', 1), ('saul', 13), ('prevail', 1), ('serve', 3), ('defy', 3), ('dismayed', 1), ('sore', 1), ('murmuring', 1), ('killeth', 1), ('marriage', 1), ('anger', 1), ('officers', 1), ('youth', 3), ('shame', 2), ('mere', 2), ('fail', 1), ('keeping', 3), ('lamb', 2), ('delivered', 2), ('beard', 1), ('defied', 2), ('lord', 9), ('deliver', 2), ('girded', 1), ('sling', 2), ('disdained', 1), ('countenance', 1), ('comest', 2), ('cudgel', 1), ('curses', 1), ('flesh', 1), ('unto', 2), ('fowls', 2), ('hosts', 1), ('hast', 1), ('smite', 1), ('carcasses', 1), ('assembly', 1), ('saveth', 1), ('thence', 1), ('sheath', 1), ('victory', 2), ('herd', 1), ('battles', 1), ('wickedly', 1), ('soldier', 1), ('forbore', 1), ('continued', 2), ('wars', 1), ('trusted', 2), ('deserted', 1), ('thankful', 1), ('forgotten', 1), ('hundred', 1), ('psalms', 2), ('musician', 1), ('worship', 1), ('singers', 1), ('choruses', 1), ('processions', 1), ('loves', 1), ('spend', 1), ('maketh', 1), ('leadeth', 2), ('restoreth', 1), ('paths', 1), ('righteousness', 1), ('yea', 1), ('rod', 1), ('preparest', 1), ('anointest', 1), ('oil', 2), ('runneth', 1), ('mercy', 1), ('mountainside', 1), ('acorns', 1), ('peasant', 1), ('preaching', 1), ('comforting', 1), ('worshipping', 2), ('temple', 1), ('longing', 1), ('prayed', 4), ('shown', 1), ('grace', 2), ('selfsame', 3), ('measure', 2), ('celestial', 3), ('mountebank', 1), ('clown', 13), ('stature', 1), ('fooling', 1), ('tiring', 1), ('silly', 1), ('tricks', 3), ('sadness', 1), ('grin', 1), ('earning', 1), ('painfully', 1), ('thief', 2), ('belonged', 1), ('robbers', 1), ('tormented', 1), ('robber', 1), ('streamed', 1), ('utter', 1), ('pleaded', 1), ('convent', 2), ('nuns', 1), ('ransom', 1), ('piteously', 1), ('imploring', 1), ('pierced', 1), ('hopeless', 1), ('bound', 1), ('wrist', 1), ('bonds', 1), ('knocked', 1), ('preached', 1), ('mock', 1), ('transfigured', 1), ('forgiven', 1), ('hut', 1), ('fasting', 1), ('souls', 3), ('everyone', 1), ('honoured', 2), ('porch', 1), ('age', 1), ('husbands', 1), ('despaired', 1), ('poorer', 1), ('younger', 1), ('timidly', 2), ('thanks', 2), ('hermits', 1), ('cells', 1), ('repentance', 1), ('faithfully', 1), ('humble', 2), ('endless', 2), ('star', 1), ('glow', 1), ('gottlieb', 10), ('germany', 1), ('plying', 1), ('difficult', 1), ('provide', 1), ('clothing', 1), ('shelter', 1), ('stool', 1), ('comforted', 1), ('troubled', 1), ('brood', 1), ('lump', 1), ('fancy', 1), ('christ', 9), ('birthday', 3), ('cast', 1), ('dreaming', 1), ('inspiration', 1), ('stealing', 1), ('pen', 1), ('learnt', 1), ('spelt', 1), ('letter', 5), ('addressed', 1), ('puzzled', 1), ('sorted', 1), ('burgomaster', 3), ('burly', 1), ('chain', 1), ('envelope', 1), ('gruffly', 1), ('doubt', 1), ('gentleman', 1), ('perceived', 1), ('unusual', 1), ('objects', 1), ('hearth', 1), ('loaded', 1), ('dainties', 1), ('imagined', 1), ('stranger', 1), ('bless', 1), ('generous', 1), ('widow', 1), ('nay', 2), ('dame', 1), ('visitor', 1), ('aid', 2), ('humbly', 1), ('sir', 2), ('longingly', 1), ('prickly', 1), ('occur', 1), ('laden', 1), ('humility', 1), ('chosen', 1), ('truly', 1), ('babe', 4), ('blessings', 1), ('goodwill', 1), ('wherein', 1), ('palm', 1), ('manger', 1), ('waft', 1), ('sprinkle', 1), ('sticky', 1), ('lowly', 1), ('envy', 1), ('resolved', 1), ('heavens', 1), ('silvery', 1), ('forms', 1), ('guardians', 1), ('illumined', 1), ('forget', 2), ('celebrate', 1), ('rewarded', 1), ('meekness', 1), ('diamond', 11), ('dewdrop', 9), ('costly', 1), ('sparkled', 2), ('amid', 1), ('oxeye', 1), ('daisies', 1), ('clung', 1), ('blade', 2), ('blazing', 1), ('noonday', 1), ('blush', 1), ('fixedly', 1), ('gem', 1), ('feared', 1), ('address', 1), ('consequence', 1), ('beetle', 6), ('rambles', 1), ('chanced', 1), ('espy', 1), ('rank', 5), ('importance', 1), ('sire', 3), ('tha', 1), ('nks', 1), ('responded', 1), ('languid', 1), ('tones', 1), ('affectation', 1), ('profound', 1), ('gaze', 1), ('alight', 1), ('relative', 1), ('affably', 1), ('feelers', 1), ('direction', 1), ('rude', 1), ('contemptuous', 1), ('absurd', 1), ('declare', 1), ('loftily', 1), ('grovelling', 1), ('distasteful', 1), ('placing', 1), ('level', 1), ('insignificant', 1), ('utterly', 1), ('valueless', 1), ('fairly', 1), ('ventured', 1), ('interpose', 1), ('timid', 1), ('beau', 1), ('ty', 1), ('flashed', 1), ('disdain', 1), ('impudent', 1), ('merely', 1), ('apes', 1), ('imitates', 1), ('consolation', 1), ('imitation', 1), ('sincerest', 1), ('flattery', 1), ('ridiculous', 1), ('carriage', 1), ('combine', 1), ('secret', 1), ('vivid', 1), ('violet', 1), ('flashes', 1), ('silently', 1), ('splashed', 1), ('dust', 1), ('skylark', 1), ('fluttered', 1), ('darted', 1), ('piped', 1), ('sob', 1), ('disappointment', 1), ('thirst', 1), ('noble', 1), ('resolve', 1), ('slid', 1), ('tumbled', 1), ('swallowed', 1), ('pondered', 1), ('homeward', 1), ('lesson', 1), ('simple', 1), ('unselfishness', 1), ('virtues', 1), ('absent', 1)])"
      ]
     },
     "execution_count": 19,
     "metadata": {},
     "output_type": "execute_result"
    }
   ],
   "source": [
    "fDist.items()"
   ]
  },
  {
   "cell_type": "code",
   "execution_count": 20,
   "metadata": {},
   "outputs": [
    {
     "data": {
      "text/plain": [
       "dict_keys(['stories', 'tell', 'children', 'sara', 'cone', 'bryant', 'two', 'little', 'riddles', 'rhyme', 'garden', 'ken', 'full', 'gentlemen', 'caps', 'blue', 'wear', 'green', 'ribbons', 'fair', 'flax', 'house', 'goes', 'messenger', 'small', 'slight', 'whether', 'rains', 'snows', 'sleeps', 'outside', 'night', 'path', 'yellow', 'tulip', 'lived', 'dark', 'ground', 'one', 'day', 'sitting', 'still', 'suddenly', 'heard', 'tap', 'door', 'said', 'rain', 'want', 'come', 'soft', 'sad', 'voice', 'another', 'window', 'pane', 'answered', 'long', 'time', 'last', 'came', 'rustling', 'whispering', 'sound', 'round', 'whisper', 'sunshine', 'cheery', 'n', 'sat', 'pretty', 'soon', 'sweet', 'noise', 'keyhole', 'cannot', 'sun', 'voices', 'together', 'dear', 'pose', 'shall', 'let', 'opened', 'wee', 'crack', 'took', 'hands', 'hand', 'ran', 'right', 'top', 'poke', 'head', 'poked', 'midst', 'beautiful', 'early', 'springtime', 'flowers', 'seen', 'birds', 'sing', 'shine', 'upon', 'pleased', 'exclaimed', 'pleasure', 'knew', 'spring', 'cock', 'doo', 'dle', 'boy', 'made', 'story', 'told', 'papa', 'think', 'littlest', 'ones', 'like', 'wanted', 'fly', 'sky', 'get', 'wings', 'tail', 'cloud', 'hot', 'summer', 'morning', 'rose', 'sea', 'floated', 'lightly', 'happily', 'across', 'far', 'lay', 'earth', 'brown', 'dry', 'desolate', 'drought', 'could', 'see', 'poor', 'people', 'working', 'suffering', 'fields', 'breeze', 'hither', 'thither', 'without', 'care', 'oh', 'help', 'thought', 'make', 'work', 'easier', 'give', 'hungry', 'food', 'thirsty', 'drink', 'passed', 'became', 'larger', 'wish', 'something', 'ever', 'greater', 'heart', 'grew', 'hotter', 'burned', 'fiercely', 'fainting', 'rays', 'seemed', 'must', 'die', 'heat', 'yet', 'obliged', 'go', 'sometimes', 'stood', 'looked', 'praying', 'saying', 'ah', 'us', 'began', 'sink', 'softly', 'toward', 'remembered', 'tiny', 'child', 'lap', 'mother', 'ocean', 'whispered', 'clouds', 'near', 'held', 'sinking', 'swayed', 'thinking', 'quite', 'spoke', 'boldly', 'proudly', 'men', 'may', 'marvellously', 'big', 'strong', 'powerful', 'never', 'dreamed', 'mighty', 'angel', 'blessing', 'lifted', 'spread', 'woods', 'great', 'majestic', 'animals', 'awe', 'struck', 'sight', 'trees', 'grasses', 'bowed', 'creatures', 'felt', 'meant', 'well', 'yes', 'cried', 'take', 'life', 'words', 'wonderful', 'light', 'glowed', 'thunder', 'rolled', 'love', 'filled', 'close', 'swept', 'gave', 'blessed', 'healing', 'shower', 'deed', 'death', 'also', 'glory', 'whole', 'country', 'side', 'fell', 'lovely', 'rainbow', 'sprang', 'arch', 'brightest', 'heaven', 'colours', 'greeting', 'sacrificed', 'gone', 'afterward', 'saved', 'kept', 'hearts', 'red', 'hen', 'farmyard', 'chickens', 'found', 'grain', 'wheat', 'plant', 'goose', 'duck', 'planted', 'ripe', 'mill', 'brought', 'flour', 'home', 'bread', 'baked', 'eat', 'cluck', 'called', 'gingerbread', 'man', 'old', 'woman', 'alone', 'girls', 'boys', 'chocolate', 'jacket', 'put', 'raisins', 'buttons', 'eyes', 'fine', 'fat', 'currants', 'mouth', 'coloured', 'sugar', 'gay', 'cap', 'orange', 'candy', 'dressed', 'pinched', 'shoes', 'shape', 'pan', 'oven', 'shut', 'done', 'pulled', 'jumped', 'floor', 'away', 'street', 'fast', 'laughed', 'shouted', 'run', 'catch', 'cow', 'roadside', 'stop', 'chased', 'shoulder', 'till', 'horse', 'pasture', 'please', 'look', 'good', 'loud', 'oho', 'barn', 'threshers', 'smelt', 'tried', 'pick', 'harder', 'ahead', 'turned', 'back', 'faster', 'field', 'mowers', 'saw', 'calling', 'wait', 'bit', 'wind', 'proud', 'anybody', 'fox', 'coming', 'chuckled', 'would', 'disturbing', 'river', 'swim', 'keep', 'running', 'jump', 'way', 'bank', 'heavy', 'fear', 'wet', 'farther', 'afraid', 'water', 'cover', 'middle', 'stream', 'nose', 'hold', 'minute', 'reached', 'threw', 'snap', 'quarter', 'next', 'half', 'goodness', 'gracious', 'three', 'quarters', 'anything', 'jackals', 'lion', 'jungle', 'king', 'whenever', 'cave', 'stones', 'roared', 'times', 'frightened', 'holes', 'hiding', 'places', 'course', 'pounced', 'killed', 'gobbled', 'often', 'single', 'thing', 'left', 'alive', 'besides', 'except', 'father', 'jackal', 'many', 'thin', 'tired', 'b', 'lieve', 'surely', 'pooh', 'nonsense', 'nearer', 'almost', 'sure', 'going', 'fret', 'cunning', 'towards', 'terrible', 'miserable', 'wretches', 'eaten', 'low', 'indeed', 'ought', 'every', 'started', 'dreadful', 'mean', 'know', 'everybody', 'thinks', 'much', 'bigger', 'face', 'roar', 'fearful', 'shook', 'danced', 'stalked', 'behind', 'led', 'place', 'deep', 'clear', 'went', 'lives', 'mane', 'showed', 'teeth', 'growled', 'stand', 'leaped', 'reflection', 'floundered', 'steep', 'sides', 'drowned', 'sang', 'dead', 'ao', 'mouse', 'city', 'invited', 'visit', 'dinner', 'surprised', 'find', 'nothing', 'barley', 'really', 'live', 'sorts', 'things', 'nice', 'glad', 'friend', 'first', 'kitchen', 'cupboard', 'lowest', 'shelf', 'stone', 'jars', 'paper', 'bag', 'gnawed', 'hole', 'nibble', 'mice', 'nibbled', 'tasted', 'delicious', 'lucky', 'bang', 'cook', 'shaking', 'got', 'safely', 'stole', 'new', 'show', 'corner', 'jar', 'dried', 'prunes', 'open', 'tugging', 'pulling', 'large', 'prune', 'even', 'better', 'liked', 'taste', 'hardly', 'enough', 'eating', 'scratching', 'sharp', 'sh', 'danger', 'cat', 'best', 'mouser', 'town', 'gets', 'lost', 'cellar', 'specially', 'stairs', 'shelves', 'butter', 'cheeses', 'bags', 'overhead', 'hung', 'bunches', 'sausages', 'spicy', 'apples', 'barrels', 'standing', 'along', 'cheese', 'especially', 'rich', 'smelling', 'piece', 'queer', 'point', 'putting', 'trap', 'stopped', 'touch', 'comes', 'hard', 'excuse', 'rather', 'peace', 'comfort', 'stayed', 'rest', 'jack', 'rollaround', 'slept', 'trundle', 'bed', 'castors', 'world', 'cry', 'roll', 'around', 'push', 'forth', 'asleep', 'crying', 'pushed', 'sleep', 'slumber', 'moon', 'peeped', 'funny', 'lying', 'leg', 'mast', 'fastened', 'shirt', 'sail', 'blowing', 'might', 'slowly', 'boat', 'move', 'sailed', 'wall', 'ceiling', 'shone', 'broad', 'band', 'beam', 'sailing', 'streets', 'main', 'village', 'past', 'hall', 'schoolhouse', 'church', 'nobody', 'high', 'steeple', 'weather', 'vane', 'decent', 'folk', 'beds', 'forest', 'trundling', 'among', 'wood', 'scaring', 'squirrels', 'startling', 'leaves', 'bad', 'tree', 'trunks', 'hurry', 'beasts', 'white', 'owl', 'blew', 'end', 'late', 'kind', 'bright', 'stars', 'lamps', 'naughty', 'tease', 'straight', 'bumped', 'lamp', 'treat', 'behaved', 'worse', 'steered', 'pitch', 'black', 'word', 'steer', 'rolling', 'criss', 'cross', 'knocking', 'planets', 'stumbling', 'edge', 'begin', 'aha', 'youngster', 'picked', 'suppose', 'unless', 'somebody', 'brother', 'rabbit', 'fooled', 'whale', 'elephant', 'sand', 'lippety', 'talking', 'crouched', 'listened', 'biggest', 'land', 'join', 'rule', 'everything', 'trumpeted', 'suits', 'sniggered', 'rope', 'drum', 'hid', 'bushes', 'beach', 'mr', 'kindness', 'favour', 'stuck', 'mud', 'mile', 'pull', 'obliging', 'venture', 'trust', 'compliment', 'tie', 'ready', 'beat', 'hear', 'huh', 'grunted', 'horns', 'tied', 'kindly', 'making', 'bow', 'asked', 'certainly', 'grandly', 'trunk', 'tightly', 'twenty', 'cows', 'politely', 'gently', 'jiffy', 'tightened', 'stretched', 'remarkably', 'fetch', 'braced', 'forefeet', 'tremendous', 'tight', 'drove', 'marvellous', 'sliding', 'reason', 'solid', 'brace', 'beside', 'turn', 'provoked', 'dived', 'bottom', 'jerked', 'feet', 'slipping', 'surf', 'terribly', 'angry', 'jerk', 'spouted', 'teach', 'play', 'fool', 'fumed', 'broke', 'somersault', 'backward', 'ashamed', 'neither', 'speak', 'bargain', 'chick', 'spanish', 'hatched', 'looks', 'shell', 'plump', 'fluffy', 'fourth', 'wing', 'eye', 'chicken', 'happen', 'protect', 'harm', 'walk', 'headstrong', 'spirit', 'brothers', 'mind', 'wherever', 'walked', 'hoppity', 'kick', 'madrid', 'bye', 'foolish', 'naughtily', 'seeing', 'quiet', 'distance', 'brook', 'caught', 'weeds', 'trouble', 'choked', 'room', 'sticks', 'bill', 'idea', 'bothered', 'spite', 'begging', 'fire', 'smothered', 'damp', 'distress', 'save', 'air', 'fan', 'beg', 'laughing', 'kicked', 'clump', 'whimpering', 'set', 'free', 'brush', 'aside', 'twigs', 'breath', 'quickly', 'ho', 'bother', 'leaving', 'smother', 'palace', 'skipped', 'sentry', 'gate', 'crossed', 'court', 'passing', 'windows', 'needing', 'seized', 'kettle', 'feathers', 'uncomfortable', 'drown', 'stay', 'higher', 'warm', 'frightfully', 'burn', 'burning', 'suffocate', 'cinder', 'taken', 'twirled', 'dizzy', 'perish', 'blow', 'stands', 'turns', 'blows', 'keeps', 'says', 'blackberry', 'bush', 'knees', 'western', 'looking', 'autumn', 'golden', 'elm', 'scattered', 'grass', 'gravel', 'knitting', 'stocking', 'fingers', 'moved', 'needles', 'fixed', 'evening', 'darkness', 'gathered', 'laid', 'leaned', 'forward', 'watching', 'earnestly', 'waved', 'tall', 'spray', 'fence', 'darling', 'smoothing', 'honey', 'hair', 'mamma', 'say', 'nodding', 'happy', 'lighted', 'cold', 'lonely', 'safe', 'nod', 'wonder', 'knows', 'crimson', 'wither', 'weak', 'scarcely', 'cling', 'branches', 'north', 'tear', 'remember', 'snow', 'wrap', 'melt', 'icy', 'clothe', 'bitter', 'rattle', 'bare', 'pass', 'dreary', 'nights', 'days', 'plays', 'books', 'toys', 'cherish', 'nestles', 'firelight', 'read', 'songs', 'peep', 'ruddy', 'shutter', 'patiently', 'sorry', 'roots', 'feel', 'warmth', 'store', 'greenness', 'beauty', 'buds', 'melts', 'grows', 'slow', 'sap', 'stirring', 'warmer', 'grow', 'sunbeams', 'softer', 'blades', 'creep', 'thick', 'helps', 'swell', 'shining', 'burst', 'dress', 'joy', 'pride', 'cries', 'watch', 'shake', 'blossoms', 'fragrant', 'drop', 'petals', 'lo', 'berries', 'carefully', 'gather', 'dew', 'ripen', 'redder', 'darker', 'dancing', 'shouts', 'gathers', 'runs', 'share', 'patient', 'bore', 'content', 'watches', 'smiled', 'arms', 'supper', 'fairies', 'airy', 'mountain', 'rushy', 'glen', 'daren', 'hunting', 'trooping', 'feather', 'rocky', 'shore', 'crispy', 'pancakes', 'tide', 'foam', 'reeds', 'lake', 'frogs', 'dogs', 'awake', 'hilltop', 'sits', 'gray', 'nigh', 'wits', 'bridge', 'mist', 'columbkill', 'crosses', 'stately', 'journeys', 'slieveleague', 'rosses', 'music', 'starry', 'sup', 'queen', 'northern', 'lights', 'bridget', 'seven', 'years', 'friends', 'morrow', 'sorrow', 'since', 'within', 'flag', 'wake', 'craggy', 'hillside', 'mosses', 'thorn', 'daring', 'dig', 'sharpest', 'thorns', 'adventures', 'poking', 'smooth', 'shiny', 'acorn', 'paw', 'oak', 'root', 'slipped', 'tapping', 'foot', 'inside', 'hurried', 'closing', 'odd', 'points', 'toes', 'prisoner', 'steal', 'locked', 'key', 'servant', 'sweep', 'broth', 'cooked', 'afternoon', 'always', 'carried', 'latched', 'lock', 'noticing', 'chance', 'everywhere', 'drawer', 'drawers', 'hunted', 'closet', 'finally', 'climbed', 'chair', 'chimney', 'forepaws', 'table', 'expect', 'exactly', 'box', 'necklace', 'jewels', 'lady', 'sister', 'perfectly', 'wearing', 'become', 'farm', 'crafty', 'sly', 'den', 'rocks', 'hill', 'used', 'lie', 'boil', 'wise', 'market', 'apron', 'pocket', 'scissors', 'boiling', 'bringing', 'slung', 'firewood', 'pile', 'bent', 'stick', 'scurried', 'ugly', 'whiff', 'scared', 'dropped', 'apronful', 'flew', 'perched', 'though', 'underneath', 'circle', 'spun', 'perch', 'dizziness', 'whisked', 'snip', 'cut', 'spot', 'quick', 'wink', 'farmhouse', 'carrying', 'difference', 'fall', 'pop', 'splash', 'thump', 'scalded', 'rid', 'hin', 'ould', 'yees', 'ha', 'nivir', 'bin', 'shure', 'harrum', 'alane', 'worked', 'farrum', 'er', 'din', 'shly', 'wicked', 'folly', 'iv', 'rashkill', 'tuk', 'whin', 'wint', 'thaught', 'foine', 'twad', 'bile', 'marm', 'nothin', 'jist', 'bones', 'shkin', 'pit', 'schame', 'intil', 'mither', 'pot', 'bilin', 'agin', 'ate', 'bring', 'wid', 'saftly', 'track', 'alang', 'craping', 'shtill', 'shnug', 'hersel', 'shticks', 'begorra', 'widout', 'throuble', 'shlips', 'unbeknownst', 'hides', 'ind', 'afther', 'shuts', 'locks', 'tarns', 'shtands', 'shpread', 'schared', 'wondrous', 'fright', 'bame', 'ye', 'marched', 'whiruled', 'fashter', 'lookin', 'whipped', 'dag', 'tracked', 'shmotherin', 'sorra', 'knowed', 'awhere', 'biled', 'pay', 'betho', 'schissors', 'shnipped', 'fore', 'lept', 'shtone', 'popped', 'instid', 'rins', 'tugged', 'hivy', 'thimpin', 'shoulders', 'watchin', 'shpied', 'shtand', 'lid', 'shtring', 'hild', 'yis', 'dash', 'wather', 'ker', 'schalted', 'em', 'brathe', 'epaminondas', 'auntie', 'nearly', 'mammy', 'cake', 'gold', 'fist', 'crunched', 'fistful', 'crumbs', 'sense', 'born', 'carry', 'hat', 'pound', 'fresh', 'wrapped', 'melted', 'forehead', 'ears', 'neck', 'law', 'sake', 'cool', 'careful', 'puppy', 'dog', 'cooled', 'sakes', 'string', 'loaf', 'crusty', 'imitate', 'dragging', 'laws', 'massy', 'gwine', 'ways', 'truck', 'self', 'six', 'mince', 'pies', 'doorstep', 'step', 'bonnet', 'shawl', 'basket', 'cooling', 'row', 'stepped', 'happened', 'person', 'guess', 'wolf', 'shepherd', 'flock', 'trick', 'villagers', 'fun', 'expense', 'wolves', 'lambs', 'pains', 'break', 'fold', 'killing', 'screamed', 'paid', 'least', 'attention', 'sheep', 'happens', 'truth', 'believes', 'frog', 'certain', 'swamp', 'decided', 'needed', 'minds', 'sent', 'jove', 'begged', 'send', 'stupid', 'tossed', 'log', 'pond', 'hide', 'hurt', 'despise', 'ask', 'eel', 'deal', 'wriggling', 'swimming', 'harmless', 'fearing', 'respecting', 'third', 'worth', 'stupidity', 'deserve', 'stork', 'surface', 'greet', 'bobbing', 'worthy', 'quarrel', 'stronger', 'believed', 'arguing', 'traveller', 'walking', 'highway', 'cloak', 'test', 'strength', 'acknowledged', 'agreed', 'instantly', 'puffed', 'raised', 'storm', 'hail', 'colder', 'stormed', 'tighter', 'beams', 'unfastened', 'alligator', 'fond', 'fish', 'hunt', 'edges', 'crabs', 'crab', 'jaws', 'gobble', 'deceive', 'cheerful', 'matter', 'clever', 'smart', 'bulrush', 'hope', 'tender', 'hidden', 'beneath', 'pshaw', 'mistake', 'thank', 'lashed', 'snapped', 'reach', 'week', 'appetite', 'else', 'chances', 'talk', 'generally', 'sticking', 'pretend', 'puts', 'snout', 'waited', 'elsewhere', 'foamed', 'weeks', 'feeling', 'satisfy', 'cautiously', 'sign', 'usually', 'bubbles', 'puff', 'juicy', 'easy', 'blast', 'perfect', 'whirlpool', 'fizzing', 'swirling', 'kindest', 'nicely', 'breakfast', 'part', 'furious', 'crawled', 'risk', 'wild', 'figs', 'instead', 'trying', 'crept', 'dragged', 'huge', 'fig', 'h', 'singularly', 'investigate', 'heap', 'suspicious', 'moves', 'humped', 'flying', 'second', 'rage', 'vowed', 'presently', 'raked', 'crushed', 'broken', 'loudly', 'strange', 'wrong', 'pleasant', 'hullo', 'pleasantly', 'piled', 'smoked', 'herring', 'larks', 'cornfield', 'family', 'nest', 'corn', 'lark', 'watched', 'reapers', 'knives', 'baby', 'listen', 'closely', 'farmer', 'call', 'neighbours', 'son', 'reap', 'waits', 'plenty', 'trembling', 'moment', 'getting', 'relatives', 'uncles', 'cousins', 'worry', 'reaping', 'use', 'hire', 'begins', 'business', 'asking', 'true', 'girl', 'four', 'happiest', 'money', 'taught', 'lessons', 'merry', 'shadowy', 'named', 'louisa', 'miles', 'splendid', 'brain', 'study', 'interesting', 'thoughts', 'sit', 'write', 'diary', 'diaries', 'verses', 'sisters', 'finished', 'helped', 'wash', 'sew', 'theatricals', 'theatre', 'grown', 'acted', 'climb', 'hay', 'loft', 'stage', 'chairs', 'ladder', 'vine', 'beanstalk', 'giant', 'follow', 'tumbling', 'pillows', 'fierce', 'clothes', 'pumpkin', 'wheelbarrow', 'trimmed', 'cinderella', 'fairy', 'godmother', 'wand', 'understand', 'fashioned', 'shells', 'hats', 'pilgrimage', 'pilgrims', 'lanes', 'nuts', 'loved', 'wrote', 'act', 'writing', 'housework', 'someone', 'weary', 'ill', 'suffered', 'helping', 'earn', 'sewed', 'older', 'papers', 'earned', 'year', 'unselfish', 'wasting', 'publisher', 'book', 'try', 'jolly', 'written', 'famous', 'real', 'bought', 'europe', 'able', 'beloved', 'happiness', 'alcott', 'name', 'women', 'america', 'telling', 'kingdom', 'princess', 'unkind', 'dissatisfied', 'playing', 'enemies', 'soldiers', 'patience', 'duty', 'maybe', 'poem', 'fourteen', 'possess', 'feelings', 'dwell', 'task', 'governing', 'passion', 'tempts', 'troubles', 'wayward', 'misleads', 'selfishness', 'shadow', 'casts', 'deeds', 'learn', 'honest', 'brave', 'tire', 'sunny', 'soul', 'tune', 'sweetly', 'casteth', 'lean', 'thee', 'thou', 'art', 'temptation', 'unseen', 'childish', 'grief', 'infinite', 'doth', 'soothe', 'crown', 'win', 'seek', 'conquer', 'guide', 'thy', 'dare', 'command', 'piccola', 'tis', 'seldom', 'fortune', 'grants', 'maid', 'france', 'twas', 'christmas', 'parents', 'drive', 'striving', 'poverty', 'pain', 'gifts', 'dawned', 'stir', 'st', 'nicholas', 'doubted', 'befall', 'dawn', 'faith', 'woke', 'shoe', 'sounds', 'gladness', 'plain', 'rushed', 'joyful', 'saint', 'shivering', 'bird', 'sparrow', 'starving', 'fed', 'warmed', 'rapture', 'charmed', 'fir', 'probably', 'hans', 'christian', 'andersen', 'childhood', 'loss', 'spending', 'holiday', 'mental', 'search', 'buried', 'treasure', 'ensued', 'impressions', 'experiences', 'forthwith', 'wove', 'supposed', 'reproduction', 'original', 'latter', 'wholly', 'faded', 'memory', 'suit', 'tastes', 'audience', 'gradually', 'several', 'later', 'rereading', 'purposes', 'amused', 'somewhat', 'distressed', 'wandered', 'text', 'explanation', 'reader', 'presume', 'offer', 'tale', 'follows', 'adaptation', 'plainly', 'memories', 'slim', 'pointed', 'unhappy', 'others', 'lit', 'built', 'nests', 'singing', 'rocked', 'swung', 'tops', 'murmured', 'winter', 'covered', 'coats', 'worst', 'sledges', 'teams', 'horses', 'talked', 'nodded', 'heads', 'ship', 'greatly', 'sledge', 'none', 'pricked', 'touched', 'wondering', 'contentedly', 'upright', 'tub', 'placed', 'spent', 'doors', 'ladies', 'aprons', 'dresses', 'parcels', 'touches', 'silver', 'chains', 'strings', 'stuff', 'drooping', 'pink', 'rosy', 'balls', 'candles', 'floating', 'doll', 'breathe', 'dusk', 'closed', 'beginning', 'smoothly', 'sudden', 'propped', 'wheeled', 'hobbling', 'wondered', 'hospital', 'shout', 'quivered', 'needle', 'nicest', 'moses', 'thousands', 'ago', 'david', 'adviser', 'egypt', 'numbers', 'israelites', 'settle', 'israelitish', 'hated', 'number', 'egyptians', 'rulers', 'slaves', 'tasks', 'proper', 'hoped', 'hardship', 'kill', 'young', 'families', 'race', 'dwindle', 'remained', 'ordered', 'fight', 'order', 'babies', 'somehow', 'contrived', 'months', 'possible', 'longer', 'plan', 'bulrushes', 'daubed', 'flags', 'brink', 'kissed', 'seeming', 'laughter', 'train', 'daughter', 'bathe', 'maidens', 'helpless', 'pitied', 'cruel', 'hebrews', 'nurse', 'hebrew', 'whose', 'perhaps', 'guessed', 'events', 'maiden', 'wages', 'known', 'adopted', 'given', 'strangest', 'rescued', 'ten', 'elsa', 'foolishly', 'seam', 'laugh', 'married', 'dears', 'either', 'mistress', 'idle', 'husband', 'muddle', 'bitterly', 'sobbed', 'grey', 'learned', 'pouf', 'hopped', 'servants', 'faithful', 'stare', 'questions', 'chaps', 'useless', 'stretch', 'names', 'thumb', 'forefinger', 'thimble', 'finger', 'ring', 'hop', 'knee', 'palms', 'whisk', 'remaining', 'restless', 'stirred', 'cooking', 'board', 'sooner', 'measured', 'mixed', 'kneaded', 'loaves', 'rise', 'quicker', 'broom', 'twinkling', 'clean', 'beautifully', 'badly', 'crossness', 'grandmother', 'housekeeper', 'candle', 'wife', 'elves', 'shoemaker', 'leather', 'pair', 'stitch', 'bench', 'prayers', 'trusting', 'finish', 'sell', 'anyone', 'customer', 'buy', 'pairs', 'pieces', 'prosperous', 'satisfied', 'grateful', 'curtain', 'clock', 'twelve', 'naked', 'hammers', 'thread', 'stitched', 'aloud', 'commenced', 'weeny', 'waistcoats', 'trousers', 'bits', 'dainty', 'stitches', 'eve', 'cleaned', 'sets', 'promptly', 'midnight', 'coat', 'kinds', 'motions', 'delight', 'dance', 'luck', 'otter', 'deer', 'flat', 'taking', 'chief', 'dancer', 'war', 'woodpecker', 'sounded', 'gong', 'forgot', 'trod', 'solomon', 'punished', 'majesty', 'beater', 'lizard', 'sword', 'protector', 'wore', 'tortoise', 'mail', 'trailing', 'edged', 'pike', 'crayfish', 'shouldered', 'lance', 'immediately', 'case', 'blamed', 'braid', 'fro', 'braiding', 'winds', 'pats', 'brahmin', 'tiger', 'gentle', 'india', 'treats', 'brahmins', 'road', 'iron', 'cage', 'wickedness', 'ungrateful', 'unlocked', 'promised', 'however', 'argued', 'five', 'meet', 'abide', 'decision', 'banyan', 'wayside', 'fruit', 'eagerly', 'seem', 'shade', 'refresh', 'falls', 'rested', 'scatter', 'boughs', 'bullock', 'freed', 'grumbling', 'master', 'served', 'loads', 'thankless', 'lot', 'grumbled', 'eagle', 'imploringly', 'seems', 'frightful', 'soared', 'lower', 'eyrie', 'rob', 'shoot', 'arrows', 'breed', 'persuade', 'slime', 'snorted', 'pigeon', 'sees', 'throws', 'pokes', 'jeers', 'worthless', 'remind', 'fifth', 'met', 'gaily', 'opinion', 'pardon', 'raising', 'vacantly', 'understanding', 'altogether', 'interrupted', 'sort', 'ordinary', 'gives', 'situation', 'position', 'leaping', 'makes', 'clearer', 'forgive', 'works', 'pushing', 'bolted', 'advise', 'lies', 'mine', 'camel', 'exceedingly', 'cane', 'manage', 'willing', 'swam', 'swiftly', 'noticed', 'consequently', 'fill', 'barely', 'mouthful', 'hullabaloo', 'destroy', 'stoned', 'somewhere', 'shouting', 'deepest', 'crazy', 'sins', 'gulls', 'salt', 'company', 'pioneers', 'atlantic', 'coast', 'mississippi', 'journeyed', 'plains', 'central', 'wagons', 'succeeded', 'climbing', 'rockies', 'valley', 'mountains', 'desert', 'soil', 'climate', 'streams', 'pure', 'jewel', 'hills', 'inland', 'settled', 'huts', 'cabins', 'journey', 'died', 'weariness', 'illness', 'provisions', 'living', 'partly', 'dug', 'depended', 'crops', 'vegetables', 'raise', 'barren', 'fertile', 'spreading', 'irrigating', 'sprouting', 'hopes', 'seeds', 'sprouted', 'carpet', 'growing', 'shoots', 'flourished', 'watering', 'crickets', 'swarming', 'gardens', 'nearest', 'hopping', 'army', 'crawling', 'streaming', 'beating', 'news', 'fires', 'trenches', 'wildly', 'fought', 'armies', 'attacked', 'wept', 'despair', 'starvation', 'knelt', 'pray', 'joined', 'weeping', 'struggles', 'kneeling', 'deliverance', 'plague', 'flapping', 'louder', 'startled', 'rising', 'soaring', 'hundreds', 'circled', 'shrill', 'chorus', 'outspread', 'hovering', 'breasts', 'cultivated', 'woe', 'strip', 'branch', 'devoured', 'dozens', 'swarms', 'gorged', 'heavily', 'stripped', 'pioneer', 'drawing', 'weaving', 'schools', 'design', 'picture', 'cricket', 'gull', 'nightingale', 'emperor', 'china', 'crystal', 'loveliest', 'taller', 'song', 'chamberlain', 'important', 'lords', 'pages', 'trampled', 'scraps', 'beyond', 'followed', 'moo', 'creature', 'mooing', 'bullfrogs', 'courtiers', 'bells', 'croaking', 'hush', 'pale', 'colour', 'greenwood', 'imagine', 'rows', 'tinkled', 'wax', 'throne', 'throat', 'tears', 'emperors', 'easily', 'cheeks', 'success', 'singer', 'allowed', 'twice', 'appointed', 'silken', 'mouths', 'glu', 'halls', 'ingale', 'conversation', 'package', 'artificial', 'rubies', 'emeralds', 'diamonds', 'wound', 'played', 'waltz', 'thirty', 'anywhere', 'listening', 'tunes', 'whistle', 'nightingales', 'r', 'doctor', 'maker', 'patch', 'shaky', 'chose', 'velvet', 'curtains', 'candlesticks', 'congratulate', 'weight', 'chest', 'sceptre', 'banner', 'hollow', 'shadows', 'faces', 'whispers', 'blood', 'flow', 'limbs', 'flown', 'obtained', 'churchyard', 'leave', 'tells', 'royal', 'robes', 'margery', 'building', 'pots', 'roofs', 'dearly', 'sunday', 'park', 'flower', 'wishing', 'nine', 'removed', 'short', 'delighted', 'eager', 'expected', 'attended', 'cottage', 'apple', 'plum', 'pear', 'rough', 'leading', 'plot', 'peas', 'beans', 'salad', 'salads', 'lettuce', 'endive', 'mustard', 'cress', 'parsley', 'radishes', 'beetroot', 'onions', 'pencil', 'drew', 'diagram', 'page', 'footpath', 'weed', 'wider', 'glorious', 'weeding', 'illustration', 'evenings', 'ramble', 'postman', 'happening', 'label', 'miss', 'primrose', 'narcissus', 'colchester', 'plants', 'reading', 'packages', 'printed', 'labels', 'nasturtium', 'helianthus', 'canariensis', 'calendula', 'canterbury', 'french', 'carrots', 'wallflowers', 'smell', 'posies', 'excited', 'sunflower', 'bell', 'shaped', 'grand', 'sturdy', 'everydayish', 'marigold', 'takes', 'surprise', 'sow', 'seed', 'driving', 'wagon', 'plough', 'ploughs', 'interest', 'cart', 'harnessed', 'cornered', 'steel', 'handles', 'virgin', 'means', 'ploughed', 'hours', 'firmly', 'line', 'fascinating', 'knife', 'skill', 'avoid', 'tough', 'unloaded', 'implement', 'platform', 'curved', 'rake', 'harrow', 'steady', 'scratch', 'ridges', 'scrambles', 'needs', 'scrambling', 'fewer', 'ploughing', 'harrowing', 'afternoons', 'afford', 'spade', 'clods', 'fork', 'shaken', 'thrown', 'rotted', 'fertiliser', 'cord', 'stake', 'hoed', 'trench', 'inches', 'length', 'lined', 'handful', 'stooping', 'letting', 'trickle', 'photograph', 'teacher', 'sower', 'spinach', 'parsnips', 'tomato', 'transplanted', 'sown', 'hoe', 'loose', 'particular', 'begun', 'turf', 'shovelled', 'raking', 'fertilising', 'lines', 'footpaths', 'marked', 'actions', 'gardeners', 'square', 'steps', 'tramped', 'wide', 'shallow', 'arrangement', 'designed', 'screen', 'hedge', 'sunflowers', 'front', 'nasturtiums', 'planned', 'vegetable', 'corners', 'creeper', 'patches', 'london', 'bachelor', 'marigolds', 'larkspur', 'asters', 'hollyhocks', 'stocks', 'grandmothers', 'mrs', 'ends', 'labelled', 'beets', 'dreamland', 'cotyledons', 'sprout', 'seedlings', 'mornings', 'opening', 'crust', 'radish', 'examined', 'nail', 'twos', 'stem', 'peeping', 'faintly', 'regular', 'apart', 'alike', 'examine', 'searching', 'signs', 'discovered', 'irregular', 'hints', 'beet', 'wrinkled', 'precisely', 'size', 'anxious', 'unpleasant', 'roundish', 'twinkle', 'dicotyledonous', 'drawl', 'waiting', 'pockets', 'draw', 'substitutes', 'folded', 'special', 'divided', 'leaf', 'monocotyledonous', 'dicotyledons', 'different', 'birch', 'nurseries', 'forests', 'parks', 'workmen', 'trained', 'dimpling', 'soberly', 'believe', 'talkative', 'ducks', 'enjoyed', 'season', 'region', 'bid', 'stout', 'burden', 'treetops', 'shines', 'tongue', 'robert', 'sicily', 'legend', 'pope', 'rome', 'allemaine', 'selfish', 'cared', 'pleasures', 'greatness', 'god', 'vesper', 'service', 'garments', 'choir', 'chanting', 'latin', 'swelled', 'verse', 'repeated', 'clerk', 'hath', 'seats', 'exalted', 'degree', 'angrily', 'power', 'seat', 'sneered', 'deeply', 'awoke', 'dim', 'aisles', 'madly', 'sexton', 'pounding', 'drunken', 'vagabond', 'stolen', 'keys', 'hoarse', 'peering', 'figure', 'tattered', 'scanty', 'unkempt', 'wildness', 'haste', 'fluttering', 'rags', 'knowing', 'gates', 'blind', 'stair', 'corridors', 'ragged', 'fled', 'banquet', 'feast', 'tables', 'delicate', 'human', 'kingship', 'stared', 'fury', 'dost', 'impostor', 'swords', 'insulted', 'jester', 'companion', 'ape', 'wretched', 'dream', 'coarse', 'straw', 'cheek', 'pillow', 'stable', 'question', 'stern', 'meeting', 'procession', 'horsemen', 'footmen', 'finer', 'armour', 'riders', 'cloaks', 'silk', 'presents', 'rode', 'villages', 'received', 'trains', 'peter', 'welcome', 'greeted', 'crowd', 'pity', 'dangerous', 'madman', 'serving', 'holy', 'services', 'cathedral', 'presence', 'easter', 'churches', 'incense', 'choirs', 'angels', 'earnest', 'praise', 'heavenly', 'humblest', 'chant', 'softened', 'realised', 'festivities', 'monks', 'thanksgiving', 'subjects', 'commanded', 'knowest', 'sinned', 'sank', 'change', 'smiling', 'radiance', 'smile', 'melody', 'throbbing', 'absorbed', 'silent', 'prayer', 'jealous', 'anecdote', 'artist', 'duesseldorf', 'elector', 'prince', 'johann', 'wilhelm', 'portrait', 'statue', 'horseback', 'bronze', 'overjoyed', 'commission', 'public', 'view', 'favourite', 'castle', 'unveiled', 'herr', 'grupello', 'fame', 'friendly', 'jealousy', 'bounds', 'humiliate', 'dared', 'flaws', 'declared', 'frankness', 'highness', 'permit', 'successful', 'proportion', 'awkward', 'hind', 'improvement', 'fault', 'quietly', 'assented', 'temporary', 'assistants', 'undisturbed', 'hammering', 'steadily', 'enclosure', 'credit', 'saving', 'artistic', 'summoned', 'flaw', 'graceful', 'rear', 'adds', 'considered', 'improved', 'changes', 'fact', 'changed', 'reputation', 'simply', 'hammered', 'heartily', 'slunk', 'cherry', 'visited', 'dearest', 'grant', 'whatever', 'gladly', 'choose', 'richest', 'alas', 'advice', 'reprove', 'punish', 'wills', 'rejoiced', 'friendship', 'grieved', 'vision', 'clad', 'dazzling', 'wreath', 'roses', 'candide', 'gift', 'welfare', 'evil', 'prick', 'heed', 'warnings', 'enemy', 'vanished', 'spoiled', 'game', 'temper', 'scolded', 'pet', 'crossly', 'petted', 'kiss', 'instant', 'pin', 'ear', 'guilty', 'cruelty', 'sharply', 'recognised', 'willed', 'urged', 'ruin', 'seize', 'treated', 'carelessly', 'cruelly', 'annoyed', 'embarrassing', 'less', 'zelia', 'astonishment', 'refused', 'pleasing', 'handsome', 'charming', 'prison', 'dungeon', 'flattered', 'slave', 'disgrace', 'innocent', 'disobey', 'courtier', 'cleverly', 'trait', 'prepared', 'tutor', 'suliman', 'rebuked', 'fetters', 'clash', 'blinding', 'rang', 'trumpet', 'baser', 'revengeful', 'serpent', 'greedy', 'brutal', 'bull', 'therefore', 'resemble', 'horror', 'transformed', 'monster', 'rush', 'sadly', 'submission', 'transported', 'distant', 'image', 'gazed', 'deformed', 'beast', 'stumbled', 'bear', 'catchers', 'trappers', 'curiosity', 'courtyard', 'buzzing', 'gossip', 'lightning', 'struggled', 'offered', 'speaking', 'tainted', 'corrupt', 'repent', 'tearing', 'keepers', 'lead', 'menagerie', 'hurting', 'keeper', 'repented', 'unrewarded', 'starved', 'although', 'retired', 'refreshed', 'kennel', 'wished', 'rescue', 'bark', 'bite', 'heels', 'prevented', 'throw', 'meat', 'devour', 'snatched', 'poisoned', 'dove', 'sought', 'lands', 'eastern', 'tent', 'haired', 'hermit', 'caressed', 'beak', 'cooed', 'modesty', 'flowing', 'spell', 'bade', 'trice', 'ruled', 'bleed', 'orchard', 'olive', 'industrious', 'prospered', 'sons', 'despised', 'wealth', 'adventure', 'wandering', 'disappointed', 'cultivating', 'digging', 'quality', 'sold', 'understood', 'margaret', 'orleans', 'banks', 'shops', 'hotels', 'leans', 'wears', 'common', 'chinned', 'irish', 'surprising', 'honour', 'monuments', 'queens', 'princesses', 'richly', 'haughery', 'remembers', 'monument', 'ironed', 'laundry', 'motherless', 'orphan', 'asylum', 'sickness', 'mothers', 'fathers', 'orphans', 'possibly', 'delivery', 'milk', 'customers', 'houses', 'hardest', 'giving', 'bakery', 'civil', 'despite', 'steam', 'factory', 'office', 'calico', 'gown', 'penny', 'asylums', 'jews', 'catholics', 'protestants', 'signed', 'wisdom', 'dagda', 'harp', 'countries', 'ireland', 'thousand', 'mines', 'weave', 'cloth', 'ornaments', 'kings', 'fights', 'mixtures', 'prettiest', 'legends', 'fomorians', 'slender', 'spears', 'eyed', 'blunt', 'dull', 'metal', 'chieftain', 'priest', 'magic', 'rare', 'ornamented', 'battle', 'warrior', 'buckle', 'wounded', 'strike', 'chords', 'wounds', 'comrade', 'safety', 'cup', 'guarded', 'usual', 'chieftains', 'wives', 'battlefield', 'vacant', 'hanging', 'warriors', 'banqueting', 'grasp', 'weapon', 'whirling', 'sweeping', 'solemn', 'wailing', 'harmony', 'smote', 'mirth', 'cups', 'wine', 'flowed', 'bowls', 'excess', 'glee', 'dreams', 'fomorian', 'laps', 'drooped', 'homes', 'tailor', 'galway', 'dublin', 'saluted', 'build', 'giants', 'garraun', 'kiln', 'shovel', 'fit', 'remain', 'lift', 'foxes', 'allow', 'axe', 'crate', 'lions', 'harvest', 'ploughman', 'clapped', 'peg', 'fix', 'arrived', 'engaged', 'contrivance', 'workpeople', 'arriving', 'throwing', 'manoeuvring', 'skull', 'delay', 'swallow', 'hour', 'commence', 'sheepskin', 'gallon', 'drank', 'poured', 'skin', 'drunk', 'drinking', 'prod', 'stomach', 'desired', 'yesterday', 'swifter', 'overtake', 'released', 'pursued', 'coach', 'returned', 'forefathers', 'dragon', 'ships', 'england', 'apt', 'invent', 'account', 'peculiar', 'loving', 'remarked', 'peculiarity', 'rivers', 'steams', 'accounted', 'showing', 'childlike', 'inquiry', 'answer', 'riddle', 'nature', 'odin', 'frode', 'denmark', 'millstones', 'grind', 'letters', 'precious', 'miller', 'messengers', 'grudge', 'directly', 'hunger', 'swift', 'moan', 'abundant', 'riches', 'behold', 'performing', 'diligently', 'grinding', 'pause', 'harsh', 'cease', 'cuckoo', 'waxed', 'wroth', 'resumed', 'labours', 'hardness', 'household', 'pitiless', 'east', 'curlews', 'note', 'warning', 'host', 'approaches', 'dwelling', 'rings', 'revenge', 'bloodshed', 'terror', 'tramp', 'advancing', 'escape', 'braces', 'trembled', 'shock', 'breaking', 'crash', 'slew', 'plundered', 'sacked', 'roughly', 'effect', 'arose', 'whence', 'south', 'west', 'throughout', 'waters', 'travellers', 'lazy', 'fellow', 'worker', 'heights', 'glistening', 'towers', 'gleamed', 'marble', 'glancing', 'longed', 'butterfly', 'robed', 'cobwebs', 'ball', 'discontented', 'sigh', 'hem', 'robe', 'whither', 'waste', 'stroke', 'receive', 'stride', 'wistfully', 'sighed', 'nosing', 'whinny', 'finely', 'saddled', 'bridled', 'hello', 'headed', 'pace', 'minutes', 'overtook', 'plodding', 'shank', 'pony', 'noon', 'shady', 'grove', 'rider', 'moderation', 'example', 'dismounted', 'moss', 'lunch', 'pouch', 'comfortably', 'drowsy', 'ride', 'nap', 'sleepers', 'entered', 'fireworks', 'rubbing', 'setting', 'bony', 'donkey', 'whistled', 'appeared', 'mounted', 'slower', 'budge', 'coaxing', 'scolding', 'stony', 'groaning', 'assure', 'aching', 'comfortable', 'blankets', 'bestir', 'fallen', 'scratched', 'stumps', 'tore', 'briers', 'howls', 'saddle', 'grasped', 'thankfully', 'mount', 'moist', 'slimy', 'shudder', 'hesitated', 'striking', 'eleven', 'steed', 'animal', 'ablaze', 'ray', 'riding', 'gigantic', 'snail', 'calf', 'body', 'horrid', 'strokes', 'mark', 'frantic', 'curled', 'wailed', 'rattling', 'harness', 'threshold', 'waving', 'beckoning', 'eight', 'slide', 'reaching', 'moonlight', 'clang', 'cares', 'goliath', 'modest', 'guard', 'pastures', 'philistines', 'israel', 'ephah', 'parched', 'camp', 'captain', 'fare', 'pecks', 'baggage', 'amongst', 'tumult', 'confusion', 'slope', 'opposite', 'striding', 'philistine', 'taunting', 'largest', 'helmet', 'brass', 'armed', 'greaves', 'legs', 'target', 'spear', 'staff', 'weaver', 'shield', 'gath', 'champion', 'forty', 'challenged', 'combat', 'dares', 'warfare', 'challenge', 'scornfully', 'array', 'saul', 'prevail', 'serve', 'defy', 'dismayed', 'sore', 'murmuring', 'killeth', 'marriage', 'anger', 'officers', 'youth', 'shame', 'mere', 'fail', 'keeping', 'lamb', 'delivered', 'beard', 'defied', 'lord', 'deliver', 'girded', 'sling', 'disdained', 'countenance', 'comest', 'cudgel', 'curses', 'flesh', 'unto', 'fowls', 'hosts', 'hast', 'smite', 'carcasses', 'assembly', 'saveth', 'thence', 'sheath', 'victory', 'herd', 'battles', 'wickedly', 'soldier', 'forbore', 'continued', 'wars', 'trusted', 'deserted', 'thankful', 'forgotten', 'hundred', 'psalms', 'musician', 'worship', 'singers', 'choruses', 'processions', 'loves', 'spend', 'maketh', 'leadeth', 'restoreth', 'paths', 'righteousness', 'yea', 'rod', 'preparest', 'anointest', 'oil', 'runneth', 'mercy', 'mountainside', 'acorns', 'peasant', 'preaching', 'comforting', 'worshipping', 'temple', 'longing', 'prayed', 'shown', 'grace', 'selfsame', 'measure', 'celestial', 'mountebank', 'clown', 'stature', 'fooling', 'tiring', 'silly', 'tricks', 'sadness', 'grin', 'earning', 'painfully', 'thief', 'belonged', 'robbers', 'tormented', 'robber', 'streamed', 'utter', 'pleaded', 'convent', 'nuns', 'ransom', 'piteously', 'imploring', 'pierced', 'hopeless', 'bound', 'wrist', 'bonds', 'knocked', 'preached', 'mock', 'transfigured', 'forgiven', 'hut', 'fasting', 'souls', 'everyone', 'honoured', 'porch', 'age', 'husbands', 'despaired', 'poorer', 'younger', 'timidly', 'thanks', 'hermits', 'cells', 'repentance', 'faithfully', 'humble', 'endless', 'star', 'glow', 'gottlieb', 'germany', 'plying', 'difficult', 'provide', 'clothing', 'shelter', 'stool', 'comforted', 'troubled', 'brood', 'lump', 'fancy', 'christ', 'birthday', 'cast', 'dreaming', 'inspiration', 'stealing', 'pen', 'learnt', 'spelt', 'letter', 'addressed', 'puzzled', 'sorted', 'burgomaster', 'burly', 'chain', 'envelope', 'gruffly', 'doubt', 'gentleman', 'perceived', 'unusual', 'objects', 'hearth', 'loaded', 'dainties', 'imagined', 'stranger', 'bless', 'generous', 'widow', 'nay', 'dame', 'visitor', 'aid', 'humbly', 'sir', 'longingly', 'prickly', 'occur', 'laden', 'humility', 'chosen', 'truly', 'babe', 'blessings', 'goodwill', 'wherein', 'palm', 'manger', 'waft', 'sprinkle', 'sticky', 'lowly', 'envy', 'resolved', 'heavens', 'silvery', 'forms', 'guardians', 'illumined', 'forget', 'celebrate', 'rewarded', 'meekness', 'diamond', 'dewdrop', 'costly', 'sparkled', 'amid', 'oxeye', 'daisies', 'clung', 'blade', 'blazing', 'noonday', 'blush', 'fixedly', 'gem', 'feared', 'address', 'consequence', 'beetle', 'rambles', 'chanced', 'espy', 'rank', 'importance', 'sire', 'tha', 'nks', 'responded', 'languid', 'tones', 'affectation', 'profound', 'gaze', 'alight', 'relative', 'affably', 'feelers', 'direction', 'rude', 'contemptuous', 'absurd', 'declare', 'loftily', 'grovelling', 'distasteful', 'placing', 'level', 'insignificant', 'utterly', 'valueless', 'fairly', 'ventured', 'interpose', 'timid', 'beau', 'ty', 'flashed', 'disdain', 'impudent', 'merely', 'apes', 'imitates', 'consolation', 'imitation', 'sincerest', 'flattery', 'ridiculous', 'carriage', 'combine', 'secret', 'vivid', 'violet', 'flashes', 'silently', 'splashed', 'dust', 'skylark', 'fluttered', 'darted', 'piped', 'sob', 'disappointment', 'thirst', 'noble', 'resolve', 'slid', 'tumbled', 'swallowed', 'pondered', 'homeward', 'lesson', 'simple', 'unselfishness', 'virtues', 'absent'])"
      ]
     },
     "execution_count": 20,
     "metadata": {},
     "output_type": "execute_result"
    }
   ],
   "source": [
    "fDist.keys()"
   ]
  },
  {
   "cell_type": "code",
   "execution_count": 22,
   "metadata": {},
   "outputs": [
    {
     "data": {
      "text/plain": [
       "28"
      ]
     },
     "execution_count": 22,
     "metadata": {},
     "output_type": "execute_result"
    }
   ],
   "source": [
    "fDist.get('yes')"
   ]
  },
  {
   "cell_type": "code",
   "execution_count": 27,
   "metadata": {},
   "outputs": [],
   "source": [
    "from nltk.tokenize import word_tokenize\n",
    "from nltk.probability import FreqDist\n",
    "sent = 'This is an example sentence'\n",
    "fdist = FreqDist()\n",
    "for word in word_tokenize(sent):\n",
    "    fdist[word.lower()] += 1"
   ]
  },
  {
   "cell_type": "code",
   "execution_count": 28,
   "metadata": {},
   "outputs": [
    {
     "data": {
      "text/plain": [
       "FreqDist({'this': 1, 'is': 1, 'an': 1, 'example': 1, 'sentence': 1})"
      ]
     },
     "execution_count": 28,
     "metadata": {},
     "output_type": "execute_result"
    }
   ],
   "source": [
    "fdist"
   ]
  },
  {
   "cell_type": "code",
   "execution_count": 30,
   "metadata": {},
   "outputs": [
    {
     "data": {
      "text/plain": [
       "FreqDist({'this': 1, 'is': 1, 'an': 1, 'example': 1, 'sentence': 1})"
      ]
     },
     "execution_count": 30,
     "metadata": {},
     "output_type": "execute_result"
    }
   ],
   "source": [
    "# An equivalent way to do this is with the initializer:\n",
    "\n",
    "fdist = FreqDist(word.lower() for word in word_tokenize(sent)) \n",
    "fdist"
   ]
  },
  {
   "cell_type": "markdown",
   "metadata": {},
   "source": [
    "### Add"
   ]
  },
  {
   "cell_type": "code",
   "execution_count": 35,
   "metadata": {},
   "outputs": [
    {
     "data": {
      "text/plain": [
       "FreqDist({'b': 4, 'c': 2, 'a': 1})"
      ]
     },
     "execution_count": 35,
     "metadata": {},
     "output_type": "execute_result"
    }
   ],
   "source": [
    "#Add\n",
    "FreqDist('abbb') + FreqDist('bcc')"
   ]
  },
  {
   "cell_type": "markdown",
   "metadata": {},
   "source": [
    "### Finding frequency of Common Alphabets/Words in two strings"
   ]
  },
  {
   "cell_type": "code",
   "execution_count": 36,
   "metadata": {},
   "outputs": [
    {
     "data": {
      "text/plain": [
       "FreqDist({'b': 1})"
      ]
     },
     "execution_count": 36,
     "metadata": {},
     "output_type": "execute_result"
    }
   ],
   "source": [
    "# Intersection\n",
    "FreqDist('abbb') & FreqDist('bcc')"
   ]
  },
  {
   "cell_type": "code",
   "execution_count": 39,
   "metadata": {},
   "outputs": [
    {
     "data": {
      "text/plain": [
       "FreqDist({'o': 4, ' ': 4, 'h': 2, 'e': 2, 'l': 2, 'y': 1, 'w': 1, 'a': 1, 'r': 1, 'u': 1})"
      ]
     },
     "execution_count": 39,
     "metadata": {},
     "output_type": "execute_result"
    }
   ],
   "source": [
    "FreqDist('hello boy how are you') & FreqDist('hello girl who are you')"
   ]
  },
  {
   "cell_type": "code",
   "execution_count": 40,
   "metadata": {},
   "outputs": [
    {
     "data": {
      "text/plain": [
       "FreqDist({'hello': 1, 'are': 1, 'you': 1})"
      ]
     },
     "execution_count": 40,
     "metadata": {},
     "output_type": "execute_result"
    }
   ],
   "source": [
    "FreqDist('hello boy how are you'.split()) & FreqDist('hello hello girl who are you'.split())"
   ]
  },
  {
   "cell_type": "markdown",
   "metadata": {},
   "source": [
    "### Union"
   ]
  },
  {
   "cell_type": "code",
   "execution_count": 41,
   "metadata": {},
   "outputs": [
    {
     "data": {
      "text/plain": [
       "FreqDist({'b': 3, 'c': 2, 'a': 1})"
      ]
     },
     "execution_count": 41,
     "metadata": {},
     "output_type": "execute_result"
    }
   ],
   "source": [
    "# Union\n",
    "FreqDist('abbb') | FreqDist('bcc')"
   ]
  },
  {
   "cell_type": "markdown",
   "metadata": {},
   "source": [
    "### Substract"
   ]
  },
  {
   "cell_type": "code",
   "execution_count": 42,
   "metadata": {},
   "outputs": [
    {
     "data": {
      "text/plain": [
       "FreqDist({'b': 2, 'a': 1})"
      ]
     },
     "execution_count": 42,
     "metadata": {},
     "output_type": "execute_result"
    }
   ],
   "source": [
    "# Substract\n",
    "FreqDist('abbbc') - FreqDist('bccd')"
   ]
  },
  {
   "cell_type": "code",
   "execution_count": null,
   "metadata": {},
   "outputs": [],
   "source": []
  }
 ],
 "metadata": {
  "kernelspec": {
   "display_name": "Python 3",
   "language": "python",
   "name": "python3"
  },
  "language_info": {
   "codemirror_mode": {
    "name": "ipython",
    "version": 3
   },
   "file_extension": ".py",
   "mimetype": "text/x-python",
   "name": "python",
   "nbconvert_exporter": "python",
   "pygments_lexer": "ipython3",
   "version": "3.7.3"
  }
 },
 "nbformat": 4,
 "nbformat_minor": 2
}
