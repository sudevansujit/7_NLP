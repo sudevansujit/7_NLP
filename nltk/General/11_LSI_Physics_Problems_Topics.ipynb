{
 "cells": [
  {
   "cell_type": "markdown",
   "metadata": {},
   "source": [
    "# LSI_Physics_Problems"
   ]
  },
  {
   "cell_type": "code",
   "execution_count": 39,
   "metadata": {},
   "outputs": [],
   "source": [
    "import os, gensim\n",
    "from gensim.models import LsiModel\n",
    "from gensim import models, corpora\n",
    "from gensim.utils import lemmatize\n",
    "from gensim.parsing.preprocessing import remove_stopwords, stem_text\n",
    "\n",
    "import nltk\n",
    "from nltk.corpus import stopwords\n",
    "from nltk.stem import PorterStemmer\n",
    "from nltk.corpus import wordnet as wn\n",
    "\n",
    "import numpy as np\n",
    "import pandas as pd\n",
    "from pprint import pprint\n",
    "from urllib.request import urlopen"
   ]
  },
  {
   "cell_type": "code",
   "execution_count": 40,
   "metadata": {},
   "outputs": [],
   "source": [
    "stop_words = stopwords.words('english') + ['km','m','seconds','h','hour','meter','meters','mi','mile',\n",
    "                                           'miles','minute','minutes','ms','s²','________','second','sec','seconds','e','r','s',\n",
    "                                           'hour','hours','cm','hr','b','min','n','nd','degree','degrees','v']"
   ]
  },
  {
   "cell_type": "code",
   "execution_count": 41,
   "metadata": {},
   "outputs": [],
   "source": [
    "cor = pd.read_csv('phy_corpus.txt', sep = '\\n',header = None)[0]\n"
   ]
  },
  {
   "cell_type": "code",
   "execution_count": 42,
   "metadata": {},
   "outputs": [
    {
     "data": {
      "text/plain": [
       "0    An airplane accelerates down a runway at 3.20 ...\n",
       "1    A car starts from rest and accelerates uniform...\n",
       "2    Upton Chuck is riding the Giant Drop at Great ...\n",
       "3    A race car accelerates uniformly from 18.5 m/s...\n",
       "4    A feather is dropped on the moon from a height...\n",
       "5    Rocket-powered sleds are used to test the huma...\n",
       "6    A bike accelerates uniformly from rest to a sp...\n",
       "7    An engineer is designing the runway for an air...\n",
       "8    A car traveling at 22.4 m/s skids to a stop in...\n",
       "9    A kangaroo is capable of jumping to a height o...\n",
       "Name: 0, dtype: object"
      ]
     },
     "execution_count": 42,
     "metadata": {},
     "output_type": "execute_result"
    }
   ],
   "source": [
    "cor[:10]"
   ]
  },
  {
   "cell_type": "code",
   "execution_count": 43,
   "metadata": {},
   "outputs": [],
   "source": [
    "def get_lemma(word):\n",
    "    lemma = wn.morphy(word)\n",
    "    if lemma == None:\n",
    "        return word\n",
    "    else:\n",
    "        return lemma"
   ]
  },
  {
   "cell_type": "code",
   "execution_count": 45,
   "metadata": {},
   "outputs": [],
   "source": [
    "porter = PorterStemmer()"
   ]
  },
  {
   "cell_type": "code",
   "execution_count": 46,
   "metadata": {},
   "outputs": [],
   "source": [
    "def iter_documents():\n",
    "    \"\"\"Iterate over all documents yielding a document(UTF8 - text) at a time\"\"\"\n",
    "    for document in cor:\n",
    "        yield gensim.utils.tokenize(document, lower = True)"
   ]
  },
  {
   "cell_type": "code",
   "execution_count": 47,
   "metadata": {},
   "outputs": [],
   "source": [
    "def remove_stopwords(corpus):\n",
    "    stop_ids = [corpus.dictionary.token2id[stopword] for stopword in stop_words if stopword in corpus.dictionary.token2id ]\n",
    "    corpus.dictionary.filter_tokens(stop_ids)\n",
    "    return corpus"
   ]
  },
  {
   "cell_type": "code",
   "execution_count": 51,
   "metadata": {},
   "outputs": [
    {
     "name": "stdout",
     "output_type": "stream",
     "text": [
      "[(0,\n",
      "  '-0.307*\"it\" + -0.296*\"at\" + -0.278*\"velocity\" + -0.243*\"how\" + -0.239*\"in\" '\n",
      "  '+ -0.236*\"what\" + -0.229*\"and\" + -0.227*\"from\" + -0.179*\"ground\" + '\n",
      "  '-0.172*\"an\"'),\n",
      " (1,\n",
      "  '0.418*\"it\" + 0.300*\"how\" + -0.267*\"car\" + 0.254*\"ground\" + 0.228*\"ball\" + '\n",
      "  '-0.204*\"what\" + -0.184*\"at\" + -0.170*\"km\" + -0.169*\"velocity\" + '\n",
      "  '-0.162*\"for\"'),\n",
      " (2,\n",
      "  '-0.415*\"velocity\" + -0.315*\"ball\" + 0.258*\"how\" + 0.248*\"in\" + 0.239*\"car\" '\n",
      "  '+ -0.209*\"an\" + -0.201*\"initial\" + -0.198*\"with\" + -0.167*\"ground\" + '\n",
      "  '0.165*\"km\"'),\n",
      " (3,\n",
      "  '0.421*\"car\" + -0.400*\"in\" + -0.316*\"and\" + 0.281*\"at\" + 0.232*\"ball\" + '\n",
      "  '-0.213*\"you\" + -0.174*\"average\" + 0.129*\"from\" + -0.126*\"air\" + '\n",
      "  '-0.119*\"an\"'),\n",
      " (4,\n",
      "  '0.495*\"speed\" + -0.306*\"seconds\" + -0.279*\"velocity\" + 0.253*\"ball\" + '\n",
      "  '-0.243*\"car\" + -0.198*\"in\" + 0.187*\"an\" + 0.185*\"with\" + 0.136*\"take\" + '\n",
      "  '0.121*\"time\"'),\n",
      " (5,\n",
      "  '0.400*\"ball\" + 0.307*\"what\" + 0.286*\"at\" + 0.284*\"you\" + 0.263*\"in\" + '\n",
      "  '-0.226*\"velocity\" + -0.174*\"and\" + 0.152*\"are\" + -0.150*\"find\" + '\n",
      "  '-0.141*\"it\"'),\n",
      " (6,\n",
      "  '0.343*\"and\" + -0.262*\"how\" + -0.260*\"velocity\" + 0.256*\"from\" + '\n",
      "  '0.242*\"what\" + 0.240*\"ground\" + -0.209*\"an\" + 0.177*\"seconds\" + -0.175*\"at\" '\n",
      "  '+ 0.170*\"time\"'),\n",
      " (7,\n",
      "  '-0.408*\"at\" + 0.380*\"ball\" + -0.216*\"for\" + 0.212*\"in\" + 0.184*\"km\" + '\n",
      "  '0.177*\"from\" + 0.174*\"car\" + 0.160*\"with\" + 0.156*\"velocity\" + '\n",
      "  '-0.135*\"rock\"'),\n",
      " (8,\n",
      "  '0.381*\"what\" + -0.367*\"and\" + -0.260*\"you\" + 0.212*\"take\" + -0.209*\"at\" + '\n",
      "  '0.161*\"ground\" + 0.158*\"long\" + 0.149*\"in\" + 0.139*\"piece\" + 0.134*\"glass\"'),\n",
      " (9,\n",
      "  '-0.370*\"it\" + 0.331*\"from\" + -0.245*\"ball\" + 0.223*\"ground\" + 0.184*\"at\" + '\n",
      "  '-0.177*\"seconds\" + 0.168*\"rock\" + 0.160*\"above\" + 0.148*\"how\" + '\n",
      "  '0.132*\"you\"'),\n",
      " (10,\n",
      "  '-0.449*\"ground\" + -0.337*\"km\" + -0.267*\"h\" + -0.179*\"before\" + '\n",
      "  '-0.170*\"above\" + -0.158*\"vehicle\" + 0.145*\"acceleration\" + 0.137*\"rock\" + '\n",
      "  '-0.119*\"light\" + -0.118*\"intersection\"'),\n",
      " (11,\n",
      "  '-0.381*\"for\" + 0.254*\"initial\" + 0.234*\"speed\" + 0.195*\"rock\" + 0.180*\"an\" '\n",
      "  '+ -0.175*\"you\" + -0.174*\"determine\" + -0.173*\"velocity\" + 0.172*\"was\" + '\n",
      "  '0.171*\"car\"'),\n",
      " (12,\n",
      "  '0.336*\"car\" + 0.258*\"ground\" + 0.237*\"you\" + 0.224*\"speed\" + -0.201*\"will\" '\n",
      "  '+ 0.185*\"when\" + -0.173*\"what\" + -0.170*\"from\" + -0.159*\"and\" + '\n",
      "  '0.140*\"acceleration\"'),\n",
      " (13,\n",
      "  '0.256*\"car\" + 0.246*\"seconds\" + 0.240*\"for\" + -0.225*\"distance\" + '\n",
      "  '0.185*\"cliff\" + -0.180*\"from\" + -0.172*\"it\" + -0.165*\"km\" + 0.162*\"and\" + '\n",
      "  '-0.161*\"rock\"'),\n",
      " (14,\n",
      "  '-0.426*\"from\" + 0.315*\"was\" + 0.249*\"when\" + -0.208*\"an\" + -0.175*\"you\" + '\n",
      "  '0.161*\"and\" + 0.156*\"rock\" + 0.142*\"has\" + -0.130*\"find\" + '\n",
      "  '-0.129*\"initial\"'),\n",
      " (15,\n",
      "  '-0.284*\"you\" + 0.275*\"at\" + -0.249*\"what\" + 0.235*\"in\" + -0.191*\"was\" + '\n",
      "  '-0.175*\"are\" + -0.164*\"for\" + 0.164*\"and\" + -0.162*\"acceleration\" + '\n",
      "  '-0.141*\"it\"'),\n",
      " (16,\n",
      "  '0.241*\"are\" + -0.241*\"rock\" + -0.234*\"km\" + 0.228*\"acceleration\" + '\n",
      "  '-0.219*\"on\" + 0.180*\"an\" + -0.175*\"h\" + 0.158*\"and\" + -0.157*\"average\" + '\n",
      "  '-0.147*\"mi\"'),\n",
      " (17,\n",
      "  '0.261*\"was\" + -0.218*\"with\" + 0.218*\"component\" + -0.202*\"an\" + '\n",
      "  '-0.198*\"acceleration\" + 0.191*\"time\" + -0.172*\"seconds\" + 0.170*\"for\" + '\n",
      "  '0.153*\"horizontal\" + -0.142*\"on\"'),\n",
      " (18,\n",
      "  '0.279*\"for\" + -0.224*\"time\" + -0.218*\"take\" + -0.207*\"you\" + 0.201*\"in\" + '\n",
      "  '0.199*\"from\" + -0.174*\"km\" + 0.171*\"an\" + 0.145*\"was\" + 0.144*\"average\"'),\n",
      " (19,\n",
      "  '-0.257*\"cliff\" + 0.208*\"air\" + 0.206*\"rock\" + -0.196*\"in\" + -0.181*\"it\" + '\n",
      "  '0.163*\"car\" + 0.163*\"will\" + 0.157*\"with\" + 0.154*\"dropped\" + -0.144*\"off\"')]\n"
     ]
    }
   ],
   "source": [
    "class build_my_corpus(object):\n",
    "    def __init__(self):\n",
    "        self.dictionary = gensim.corpora.Dictionary(iter_documents())\n",
    "        self.dictionary.filter_extremes(no_below=1, keep_n=30000) # check API docs for pruning params\n",
    "\n",
    "    def __iter__(self):\n",
    "        for tokens in iter_documents():\n",
    "            yield self.dictionary.doc2bow(tokens)\n",
    "\n",
    "def build_corpus():\n",
    "    corpus = build_my_corpus() # create a dictionary\n",
    "    return corpus\n",
    "\n",
    "\n",
    "def build_LSI_Model(corpus):\n",
    "    model = LsiModel(corpus, id2word=corpus.dictionary,num_topics=100,decay=0.5)\n",
    "    model.save('phy_corpus.txt' +'physics.model.gensim')\n",
    "\n",
    "corpus = build_corpus()\n",
    "lsi_model = build_LSI_Model(corpus)\n",
    "phy_lsi_model = LsiModel.load('phy_corpus.txt' +'physics.model.gensim')\n",
    "pprint(phy_lsi_model.print_topics())\n"
   ]
  },
  {
   "cell_type": "code",
   "execution_count": null,
   "metadata": {},
   "outputs": [],
   "source": []
  }
 ],
 "metadata": {
  "kernelspec": {
   "display_name": "Python 3",
   "language": "python",
   "name": "python3"
  },
  "language_info": {
   "codemirror_mode": {
    "name": "ipython",
    "version": 3
   },
   "file_extension": ".py",
   "mimetype": "text/x-python",
   "name": "python",
   "nbconvert_exporter": "python",
   "pygments_lexer": "ipython3",
   "version": "3.7.3"
  }
 },
 "nbformat": 4,
 "nbformat_minor": 2
}
