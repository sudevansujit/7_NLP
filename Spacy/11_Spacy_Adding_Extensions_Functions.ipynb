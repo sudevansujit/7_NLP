{
 "cells": [
  {
   "cell_type": "markdown",
   "metadata": {},
   "source": [
    "# Adding Extensions"
   ]
  },
  {
   "cell_type": "markdown",
   "metadata": {},
   "source": [
    "- Doc Document\n",
    "- Tokens\n",
    "- Span\n",
    "\n",
    "**Usefulness**\n",
    "- Allows you to add extra functionality to SpaCy\n",
    "- eg sentiment analysis\n",
    "- extend the API to become more accessible\n",
    "- Doc\n",
    "\n",
    "**Creating an Extension**\n",
    "- set_extension\n",
    "- 3 Types\n",
    "- Attribute Extension\n",
    "- Property Extension (getter,setter)\n",
    "- Method Extension(method)\n",
    "\n",
    "**Calling the extension**\n",
    "- . (Doc..myextension)"
   ]
  },
  {
   "cell_type": "code",
   "execution_count": 25,
   "metadata": {},
   "outputs": [],
   "source": [
    "import spacy\n",
    "nlp = spacy.load('en_core_web_sm')"
   ]
  },
  {
   "cell_type": "code",
   "execution_count": 26,
   "metadata": {},
   "outputs": [
    {
     "data": {
      "text/plain": [
       "[('tagger', <spacy.pipeline.pipes.Tagger at 0x18272b70>),\n",
       " ('parser', <spacy.pipeline.pipes.DependencyParser at 0x192d4648>),\n",
       " ('ner', <spacy.pipeline.pipes.EntityRecognizer at 0x192d46a8>)]"
      ]
     },
     "execution_count": 26,
     "metadata": {},
     "output_type": "execute_result"
    }
   ],
   "source": [
    "nlp.pipeline"
   ]
  },
  {
   "cell_type": "code",
   "execution_count": 27,
   "metadata": {},
   "outputs": [],
   "source": [
    "from spacy.tokens import Doc"
   ]
  },
  {
   "cell_type": "code",
   "execution_count": 30,
   "metadata": {},
   "outputs": [],
   "source": [
    "from nltk.sentiment.vader import SentimentIntensityAnalyzer"
   ]
  },
  {
   "cell_type": "code",
   "execution_count": 31,
   "metadata": {},
   "outputs": [],
   "source": [
    "sent_analyzer = SentimentIntensityAnalyzer()"
   ]
  },
  {
   "cell_type": "code",
   "execution_count": 38,
   "metadata": {},
   "outputs": [],
   "source": [
    "def sentiment_score(docx):\n",
    "    return sent_analyzer.polarity_scores(docx.text)"
   ]
  },
  {
   "cell_type": "code",
   "execution_count": 39,
   "metadata": {},
   "outputs": [],
   "source": [
    "Doc.set_extension('sentimenter', getter = sentiment_score, force = True)"
   ]
  },
  {
   "cell_type": "code",
   "execution_count": 40,
   "metadata": {},
   "outputs": [],
   "source": [
    "nlp1 = spacy.load('en_core_web_sm')"
   ]
  },
  {
   "cell_type": "code",
   "execution_count": 41,
   "metadata": {},
   "outputs": [],
   "source": [
    "ex1 = nlp1('This movie is very nice')"
   ]
  },
  {
   "cell_type": "code",
   "execution_count": 42,
   "metadata": {},
   "outputs": [
    {
     "name": "stdout",
     "output_type": "stream",
     "text": [
      "{'neg': 0.0, 'neu': 0.564, 'pos': 0.436, 'compound': 0.4754}\n"
     ]
    }
   ],
   "source": [
    "# Calling our extension\n",
    "\n",
    "print(ex1._.sentimenter)"
   ]
  },
  {
   "cell_type": "code",
   "execution_count": 43,
   "metadata": {},
   "outputs": [
    {
     "data": {
      "text/plain": [
       "Dr Sonya Babu-Narayan, Associate Medical Director at the British Heart Foundation and Honorary Consultant Cardiologist, said: \n",
       "\n",
       "“Every day we learn more about Covid-19. Information to date suggests that people with heart disease, or are at risk of heart disease due to factors such as high blood pressure, diabetes or being severely overweight with a body mass index higher than 40, are at an increased risk of complications caused by the virus.\n",
       "\n",
       "“If you have one of these conditions you should be taking all precautions possible to reduce your chance of catching the virus.\n",
       "\n",
       "“Viruses can cause significant inflammation which can injure the heart and can worsen a person’s existing heart condition even if the virus does not enter the heart directly.\n",
       "\n",
       "“Evidence shows that people with higher levels of a protein used to measure heart injury in their blood are more likely to die after contracting Covid-19. \n",
       "\n",
       "“However this kind of observational evidence can’t tell us why some people suffer heart damage, whether this is caused by the virus or how exactly this may lead to worse outcomes. It is now crucially important that we continue to research coronavirus, and how it affects the heart, to help us to save and improve as many lives as possible.”\n",
       "\n",
       " \n",
       "\n",
       "Hugo Pedder, Senior Research Associate in Statistical Modelling at the Bristol Medical School, University of Bristol, said:\n",
       "\n",
       "“Given the severity and speed of COVID-19’s impact globally, the quality of evidence that is available for us to draw on is currently very limited.\n",
       "\n",
       "“Guo et al. is a case series, which follows-up patients who have been infected by COVID-19 and try to draw conclusions regarding the impact of treatments and the pathophysiology of the disease on mortality. They report an association between myocardial injury and COVID-19 infection mortality. Given the observational nature of the data it is difficult to identify whether the link is causal, particularly as there can be other factors in addition to myocardial injury responsible for death in an individual that are not clearly identified within the data.\n",
       "\n",
       "“The small sample within Guo et al. is also from patients in a specific hospital. It is therefore quite selective and is likely to depend on specific factors associated with hospitalisation, which may not be generalisable to other countries/regions as it may depend on specific policies or bed availability as much as severity of symptoms.\n",
       "\n",
       "“The review by Madjid et al. reports the potential effects of coronaviruses on the cardiovascular system, but as this has not involved a systematic literature search the studies included may be selectively supportive of the authors’ conclusions.\n",
       "\n",
       "“Given what is known about coronaviruses and what has been found so far in terms of poorer outcomes for individuals with cardiovascular disease, these results are not surprising. They are however concerning and could be useful for helping to direct policy and triaging of patients with COVID-19 infection.\n",
       "\n",
       "“The comment in the press release – “It is likely that even in the absence of previous heart disease, the heart muscle can be affected by coronavirus disease,” said Mohammad Madjid, MD, MS, the study’s lead author and an assistant professor of cardiology at McGovern Medical School at UTHealth” – appears to be based in part on the effects of a previous coronavirus disease (SARS), though as there were relatively few cases this was difficult to confirm. The case report by Inciardi et al. suggests the effects could be similar for COVID-19, though it is a report from only a single patient, which makes it very difficult to make generalisations regarding this effect to the wider public.\n",
       "\n",
       "“Whilst this is clearly a very important area of research on which to focus, it is a conclusion that may cause unnecessary concern given the lack of evidence supporting it at this stage. There is however evidence supporting the statement that the risk of myocardial injury is higher in those who already have heart disease (see Guo et al.).”\n",
       "\n",
       " \n",
       "\n",
       "Prof Kevin McConway, Emeritus Professor of Applied Statistics, The Open University, said:\n",
       "\n",
       "“As a statistician, I can’t comment on the physiological and medical aspects of these reports. But, I’d say, the really important question is how likely effects on the heart might be, and we just can’t tell from the information that’s available so far. The case report of one patient who had serious heart symptoms after infection with the new virus does indicate that effects on the heart can happen, but it says nothing about how likely that is, and can’t say too much about how it can happen. The retrospective study of hospitalised patients in Wuhan (Guo et al.) throws slightly more light on the chances, but it examined only patients who were hospitalised (and most people with COVID-19 are not hospitalised). So it can’t tell us about the general chance of heart damage to people with COVID-19, including the majority who do not go to hospital as well as the minority who do. And the number of patients in that study was not large, and most of them had existing diseases that are already understood to increase their risks, so the study can’t really tie down the risks to people without underlying disease very precisely, even for those who are hospitalised.”\n",
       "\n",
       " \n",
       "\n",
       "Prof Naveed Sattar, Professor of Metabolic Medicine, University of Glasgow, said:\n",
       "\n",
       "These three papers provide further evidence for the potential of COVID19 to adversely affect the heart, which may be one reason for high mortality rates with this virus, but more robust studies to examine a potential “virus-to-heart” toxicity link are now needed.  I say this, since current studies have deficiencies and are as yet not considered definitive in the proof of this link.  I am sure more robust studies will be urgently started in differing parts of the world.  However, I agree with the authors that in the meantime, we should ensure good guideline recommended management of risk factors in people with risk factors for, or existing heart disease.”\n",
       "\n",
       " \n",
       "\n",
       "Prof Tim Chico, Professor of Cardiovascular Medicine and Honorary Consultant Cardiologist, University of Sheffield, said:\n",
       "\n",
       "“There have already been an impressive number of studies published that help us understand COVID-19. It is important to recognise we are only at the beginning of acquiring enough information about a very new disease, and larger and longer studies than those published so far will be needed. Doing this research presents many challenges given how overstretched the world’s healthcare systems are or will become, and the authors of these studies should be congratulated for their hard work.\n",
       "\n",
       "“Although COVID-19 is a new virus, cardiologists are already familiar with the effects of other viral infections on the heart. These often cause inflammation of the lining of the heart (pericarditis), the heart muscle (myocarditis) or trigger worsening of existing heart conditions such as heart attack or heart failure. All these complications are associated with other viral infections, and we are experienced in dealing with these, especially if we do not have to care for too many people at once. This is why the distancing measures and self-isolation in place are so essential to slow the numbers of people developing COVID-19.\n",
       "\n",
       "“Severe COVID-19 infection appears more likely than some other viral infections to cause damage to the heart muscle (detected by measuring a protein called Troponin in the blood). This heart damage is likely to be due to multiple reasons, and can happen in anyone, including those without heart disease.\n",
       "\n",
       "“Physicians, intensive care doctors and cardiologists are already very familiar with dealing with the heart problems that can be seen with COVID-19, such as abnormal heart rhythms, impaired pumping function, and inflammation. Although we do not have a specific treatment yet, it is possible to manage these complications until the patient recovers.”"
      ]
     },
     "execution_count": 43,
     "metadata": {},
     "output_type": "execute_result"
    }
   ],
   "source": [
    "doc_covid = nlp(open('covid_research.txt').read())\n",
    "doc_covid"
   ]
  },
  {
   "cell_type": "code",
   "execution_count": 44,
   "metadata": {},
   "outputs": [
    {
     "name": "stdout",
     "output_type": "stream",
     "text": [
      "{'neg': 0.08, 'neu': 0.858, 'pos': 0.063, 'compound': -0.9653}\n"
     ]
    }
   ],
   "source": [
    "print(doc_covid._.sentimenter)"
   ]
  },
  {
   "cell_type": "code",
   "execution_count": 55,
   "metadata": {},
   "outputs": [],
   "source": [
    "ex2 = nlp1('very poor')"
   ]
  },
  {
   "cell_type": "code",
   "execution_count": 56,
   "metadata": {},
   "outputs": [
    {
     "name": "stdout",
     "output_type": "stream",
     "text": [
      "{'neg': 0.772, 'neu': 0.228, 'pos': 0.0, 'compound': -0.5256}\n"
     ]
    }
   ],
   "source": [
    "print(ex2._.sentimenter)"
   ]
  },
  {
   "cell_type": "code",
   "execution_count": null,
   "metadata": {},
   "outputs": [],
   "source": []
  }
 ],
 "metadata": {
  "kernelspec": {
   "display_name": "Python 3",
   "language": "python",
   "name": "python3"
  },
  "language_info": {
   "codemirror_mode": {
    "name": "ipython",
    "version": 3
   },
   "file_extension": ".py",
   "mimetype": "text/x-python",
   "name": "python",
   "nbconvert_exporter": "python",
   "pygments_lexer": "ipython3",
   "version": "3.7.3"
  }
 },
 "nbformat": 4,
 "nbformat_minor": 2
}
