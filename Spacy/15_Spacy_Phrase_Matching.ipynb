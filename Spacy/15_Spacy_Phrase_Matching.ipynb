{
 "cells": [
  {
   "cell_type": "markdown",
   "metadata": {},
   "source": [
    "# Efficient Phrase Matching"
   ]
  },
  {
   "cell_type": "markdown",
   "metadata": {},
   "source": [
    "        If you need to match large terminology lists you can also use the PhraseMatcher and can create Doc objects instead of token patterns which is much more efficient. The Doc pattern can contain single or multiple tokens."
   ]
  },
  {
   "cell_type": "code",
   "execution_count": 3,
   "metadata": {},
   "outputs": [],
   "source": [
    "import spacy\n",
    "from spacy.matcher import PhraseMatcher"
   ]
  },
  {
   "cell_type": "code",
   "execution_count": 4,
   "metadata": {},
   "outputs": [],
   "source": [
    "nlp = spacy.load('en_core_web_sm')\n"
   ]
  },
  {
   "cell_type": "code",
   "execution_count": 15,
   "metadata": {},
   "outputs": [],
   "source": [
    "doc = nlp(open('mytext.txt').read())"
   ]
  },
  {
   "cell_type": "code",
   "execution_count": 16,
   "metadata": {},
   "outputs": [],
   "source": [
    "matcher = PhraseMatcher(nlp.vocab)"
   ]
  },
  {
   "cell_type": "code",
   "execution_count": 18,
   "metadata": {},
   "outputs": [],
   "source": [
    "terms = ['BARAC OBAMA', 'ANGELA MERKEL', 'WASHINGTON D. C.']"
   ]
  },
  {
   "cell_type": "code",
   "execution_count": 19,
   "metadata": {},
   "outputs": [
    {
     "data": {
      "text/plain": [
       "[BARAC OBAMA, ANGELA MERKEL, WASHINGTON D. C.]"
      ]
     },
     "execution_count": 19,
     "metadata": {},
     "output_type": "execute_result"
    }
   ],
   "source": [
    "pattern = [nlp.make_doc(text) for text in terms]\n",
    "pattern"
   ]
  },
  {
   "cell_type": "code",
   "execution_count": 20,
   "metadata": {},
   "outputs": [],
   "source": [
    "matcher.add('term', None, *pattern)"
   ]
  },
  {
   "cell_type": "code",
   "execution_count": 21,
   "metadata": {},
   "outputs": [
    {
     "data": {
      "text/plain": [
       "BERLIN — After Donald Trump was elected president on Nov. 8, 2016, his future German counterpart, Chancellor ANGELA MERKEL, offered him her “close cooperation,” at least if Trump respected common values such as “democracy, freedom, as well as respect for the rule of law and the dignity of each and every person, regardless of their origin, skin color, creed, gender, sexual orientation, or political views.”\n",
       "\n",
       "It appeared to be pure coincidence that less than two weeks later, Merkel also announced that she would run for a fourth term, after thinking about it “for an eternity.”\n",
       "\n",
       "In interviews at the time, her reasoning behind another run appeared to be mainly associated with the rise of populism in Germany. “Can I do something to facilitate cohesion in our polarized society? I think I can help to tone down the rhetoric: Instead of hating each other, we should debate like democrats.”\n",
       "\n",
       "While Merkel was referring to populists in Germany, the underlying message may very well also have been directed against Trump, according to a memoir being published next week. In “The World as It Is: A Memoir of the Obama White House,” Ben Rhodes, a former top adviser to President Barack Obama, recalls how Merkel told Obama after Trump’s victory that the election had contributed to her decision to run again, to defend the liberal world order, according to excerpts published by the New York Times on Thursday.\n",
       "\n",
       "BARAC OBAMA is in WASHINGTON D. C.\n",
       "\n",
       "German Chancellor Angela Merkel speaks with President Obama near Garmisch-Partenkirchen, Germany, during the Group of Seven summit on June 8, 2015. (Michael Kappeler/Pool/AP)\n",
       "German Chancellor Angela Merkel speaks with President Obama near Garmisch-Partenkirchen, Germany, during the Group of Seven summit on June 8, 2015. (Michael Kappeler/Pool/AP)\n",
       "In his book, Rhodes goes on to describe an emotional last goodbye between Merkel and Obama as president, writing that she had a single tear in her eye. “She’s all alone,” Rhodes quoted Obama as noting at the time.\n"
      ]
     },
     "execution_count": 21,
     "metadata": {},
     "output_type": "execute_result"
    }
   ],
   "source": [
    "doc"
   ]
  },
  {
   "cell_type": "code",
   "execution_count": 24,
   "metadata": {},
   "outputs": [],
   "source": [
    "matches = matcher(doc)"
   ]
  },
  {
   "cell_type": "code",
   "execution_count": 28,
   "metadata": {},
   "outputs": [
    {
     "name": "stdout",
     "output_type": "stream",
     "text": [
      "ANGELA MERKEL       ,20        ,22        \n",
      "BARAC OBAMA         ,283       ,285       \n",
      "WASHINGTON D. C.    ,287       ,290       \n"
     ]
    }
   ],
   "source": [
    "for match_id, start, end in matches:\n",
    "    span = doc[start:end]\n",
    "    print('{:<20},{:<10},{:<10}'.format(span.text, start, end))"
   ]
  },
  {
   "cell_type": "code",
   "execution_count": null,
   "metadata": {},
   "outputs": [],
   "source": []
  }
 ],
 "metadata": {
  "kernelspec": {
   "display_name": "Python 3",
   "language": "python",
   "name": "python3"
  },
  "language_info": {
   "codemirror_mode": {
    "name": "ipython",
    "version": 3
   },
   "file_extension": ".py",
   "mimetype": "text/x-python",
   "name": "python",
   "nbconvert_exporter": "python",
   "pygments_lexer": "ipython3",
   "version": "3.7.3"
  }
 },
 "nbformat": 4,
 "nbformat_minor": 2
}
