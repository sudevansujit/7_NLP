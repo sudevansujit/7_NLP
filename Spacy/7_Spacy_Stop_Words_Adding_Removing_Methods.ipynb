{
 "cells": [
  {
   "cell_type": "markdown",
   "metadata": {},
   "source": [
    "### Stop Words"
   ]
  },
  {
   "cell_type": "markdown",
   "metadata": {},
   "source": [
    "- words filtered out before preprocessing\n",
    "- most common words"
   ]
  },
  {
   "cell_type": "markdown",
   "metadata": {},
   "source": [
    "Uses\n",
    "\n",
    "- Improve performance in search engines eg sentiment analysis\n",
    "- Eliminate noise and distraction in sentiment classification\n",
    "- make ML faster due to less features\n",
    "- make prediction more accurate due to noise reduction\n"
   ]
  },
  {
   "cell_type": "code",
   "execution_count": 1,
   "metadata": {},
   "outputs": [],
   "source": [
    "import spacy\n",
    "nlp = spacy.load('en_core_web_md')"
   ]
  },
  {
   "cell_type": "code",
   "execution_count": 2,
   "metadata": {},
   "outputs": [],
   "source": [
    "from spacy.lang.en.stop_words import STOP_WORDS"
   ]
  },
  {
   "cell_type": "code",
   "execution_count": 3,
   "metadata": {},
   "outputs": [
    {
     "data": {
      "text/plain": [
       "326"
      ]
     },
     "execution_count": 3,
     "metadata": {},
     "output_type": "execute_result"
    }
   ],
   "source": [
    "len(STOP_WORDS)"
   ]
  },
  {
   "cell_type": "code",
   "execution_count": 6,
   "metadata": {},
   "outputs": [
    {
     "name": "stdout",
     "output_type": "stream",
     "text": [
      "{'either', 'something', 'should', 'always', 'hundred', 'serious', 'unless', 'your', 'get', 'both', 'whereby', 'whole', '‘ll', 'again', 'other', 'five', 'just', 'this', '’ve', 'becoming', 'otherwise', 'herself', 'more', 'less', 'whence', 'between', 'doing', 'own', 'often', 'whenever', 'four', 'throughout', 'several', 'ourselves', 'out', 'from', 'him', 'due', 'am', 'further', 'front', 'somewhere', 'myself', 'ever', 'in', 'his', 'who', 'for', 'ten', 'perhaps', 'eleven', 'third', 'make', 'beside', 'being', 'part', 'already', 'me', 'elsewhere', 'he', 'made', 'move', 'toward', 'or', 'will', 'below', 'themselves', 'sixty', 'when', 'whereafter', 'these', 'rather', 'off', 'except', 'that', 'go', 'though', 'if', 'top', 're', 'the', 'n’t', 'least', 'my', 'us', 'which', 'afterwards', 'almost', 'as', 'you', 'such', 'really', 'hereafter', 'of', 'everyone', 'they', 'its', 'towards', 'per', 'now', 'few', 'hereupon', 'did', 'mostly', 'six', 'where', 'since', 'still', 'does', 'whereupon', 'at', 'whether', 'nowhere', 'forty', 'amongst', 'anything', 'no', 'various', 'full', 'thereby', 'never', 'a', '’d', 'over', 'then', 'empty', 'fifteen', 'quite', 'than', 'using', 'have', 'else', 'onto', 'whatever', 'was', 'up', 'had', 'although', 'is', 'but', 'whither', 'twelve', 'during', 'our', 'what', 'an', 'do', 'side', 'done', 'there', 'very', \"'ll\", 'nothing', 'some', 'all', 'keep', 'thereafter', \"n't\", 'formerly', 'everywhere', '’s', 'can', \"'m\", 'must', 'somehow', 'among', \"'re\", 'wherever', 'herein', 'call', 'behind', 'please', 'with', 'thus', 'whereas', 'beforehand', 'seem', 'whose', 'many', 'were', 'first', 'around', 'becomes', 'ours', 'under', 'until', 'sometimes', '’ll', 'therefore', 'we', 'most', 'neither', 'see', 'through', 'i', 'by', 'next', 'two', 'yourself', 'because', 'anyone', 'much', 'someone', 'be', 'any', 'besides', 'along', 'why', 'while', 'others', 'via', 'not', 'only', 'nevertheless', 'across', 'cannot', 'whoever', 'therein', 'yours', 'upon', 'fifty', '‘m', \"'ve\", 'one', 'thru', '‘s', 'into', 'about', 'even', 'so', 'thereupon', 'beyond', 'how', 'take', 'could', 'seeming', 'wherein', 'eight', 'hers', 'also', 'sometime', 'give', 'here', 'within', 'and', 'those', 'namely', 'another', 'nor', 'their', 'mine', 'meanwhile', 'hence', 'each', 'name', 'latterly', 'together', 'used', \"'s\", 'against', 'regarding', 'above', 'same', 'noone', 'twenty', 'are', 'n‘t', 'show', 'put', 'on', 'before', '‘d', 'to', 'anywhere', 'down', 'without', 'well', 'amount', 'her', 'former', '‘re', 'moreover', 'itself', 'back', '’re', 'nine', 'everything', 'may', 'has', 'once', 'enough', 'hereby', 'too', 'became', 'ca', 'nobody', 'seemed', 'it', 'himself', 'might', 'latter', 'been', 'anyway', 'indeed', 'yourselves', 'would', 'bottom', '’m', 'alone', 'thence', 'whom', 'none', 'become', 'them', 'she', 'after', 'yet', 'seems', \"'d\", 'say', '‘ve', 'however', 'every', 'last', 'anyhow', 'three'}\n"
     ]
    }
   ],
   "source": [
    "print(STOP_WORDS)"
   ]
  },
  {
   "cell_type": "code",
   "execution_count": 44,
   "metadata": {},
   "outputs": [
    {
     "data": {
      "text/plain": [
       "True"
      ]
     },
     "execution_count": 44,
     "metadata": {},
     "output_type": "execute_result"
    }
   ],
   "source": [
    "# Checking if a word is a stop word\n",
    "\n",
    "nlp.vocab['the'].is_stop"
   ]
  },
  {
   "cell_type": "markdown",
   "metadata": {},
   "source": [
    "### Filtering non Stop words"
   ]
  },
  {
   "cell_type": "code",
   "execution_count": 13,
   "metadata": {},
   "outputs": [
    {
     "data": {
      "text/plain": [
       "Through the International Food Safety Authorities Network (INFOSAN),\n",
       "national food safety authorities are seeking more information on the\n",
       "potential for persistence of SARS-CoV-2, which causes COVID-19, on foods\n",
       "traded internationally as well as the potential role of food in the transmission\n",
       "of the virus. Currently, there are investigations conducted to evaluate the\n",
       "viability and survival time of SARS-CoV-2. As a general rule, the consumption\n",
       "of raw or undercooked animal products should be avoided. Raw meat, raw\n",
       "milk or raw animal organs should be handled with care to avoid crosscontamination with uncooked foods."
      ]
     },
     "execution_count": 13,
     "metadata": {},
     "output_type": "execute_result"
    }
   ],
   "source": [
    "doc_covid = nlp(open('covid19.txt').read())\n",
    "doc_covid"
   ]
  },
  {
   "cell_type": "code",
   "execution_count": 23,
   "metadata": {},
   "outputs": [
    {
     "name": "stdout",
     "output_type": "stream",
     "text": [
      "[International, Food, Safety, Authorities, Network, (, INFOSAN, ), ,, \n",
      ", national, food, safety, authorities, seeking, information, \n",
      ", potential, persistence, SARS, -, CoV-2, ,, causes, COVID-19, ,, foods, \n",
      ", traded, internationally, potential, role, food, transmission, \n",
      ", virus, ., Currently, ,, investigations, conducted, evaluate, \n",
      ", viability, survival, time, SARS, -, CoV-2, ., general, rule, ,, consumption, \n",
      ", raw, undercooked, animal, products, avoided, ., Raw, meat, ,, raw, \n",
      ", milk, raw, animal, organs, handled, care, avoid, crosscontamination, uncooked, foods, .]\n"
     ]
    }
   ],
   "source": [
    "#Filtering non stop words\n",
    "\n",
    "non_stop = [token for token in doc_covid if token.is_stop == False]\n",
    "print(non_stop)"
   ]
  },
  {
   "cell_type": "code",
   "execution_count": 24,
   "metadata": {},
   "outputs": [
    {
     "name": "stdout",
     "output_type": "stream",
     "text": [
      "[Through, the, are, more, on, the, for, of, which, on, as, well, as, the, of, in, the, of, the, there, are, to, the, and, of, As, a, the, of, or, should, be, or, should, be, with, to, with]\n"
     ]
    }
   ],
   "source": [
    "#Stop words\n",
    "only_stop = [token for token in doc_covid if token.is_stop == True]\n",
    "print(only_stop)"
   ]
  },
  {
   "cell_type": "markdown",
   "metadata": {},
   "source": [
    "### Adding Your stop words"
   ]
  },
  {
   "cell_type": "code",
   "execution_count": 77,
   "metadata": {},
   "outputs": [],
   "source": [
    "STOP_WORDS.add(\"lol\")"
   ]
  },
  {
   "cell_type": "code",
   "execution_count": 78,
   "metadata": {},
   "outputs": [
    {
     "data": {
      "text/plain": [
       "329"
      ]
     },
     "execution_count": 78,
     "metadata": {},
     "output_type": "execute_result"
    }
   ],
   "source": [
    "len(STOP_WORDS)"
   ]
  },
  {
   "cell_type": "code",
   "execution_count": 79,
   "metadata": {},
   "outputs": [],
   "source": [
    "nlp.vocab['lol'].is_stop = True"
   ]
  },
  {
   "cell_type": "code",
   "execution_count": 80,
   "metadata": {},
   "outputs": [
    {
     "data": {
      "text/plain": [
       "True"
      ]
     },
     "execution_count": 80,
     "metadata": {},
     "output_type": "execute_result"
    }
   ],
   "source": [
    "#Checking addition in STOP_WORDS\n",
    "\n",
    "'lol' in STOP_WORDS"
   ]
  },
  {
   "cell_type": "code",
   "execution_count": null,
   "metadata": {},
   "outputs": [],
   "source": [
    "len(STOP_WORDS)"
   ]
  },
  {
   "cell_type": "markdown",
   "metadata": {},
   "source": [
    "### Removing added Stop Word"
   ]
  },
  {
   "cell_type": "code",
   "execution_count": 81,
   "metadata": {},
   "outputs": [],
   "source": [
    "STOP_WORDS.remove('lol')"
   ]
  },
  {
   "cell_type": "code",
   "execution_count": 82,
   "metadata": {},
   "outputs": [
    {
     "data": {
      "text/plain": [
       "328"
      ]
     },
     "execution_count": 82,
     "metadata": {},
     "output_type": "execute_result"
    }
   ],
   "source": [
    "len(STOP_WORDS)"
   ]
  },
  {
   "cell_type": "code",
   "execution_count": 89,
   "metadata": {},
   "outputs": [
    {
     "data": {
      "text/plain": [
       "False"
      ]
     },
     "execution_count": 89,
     "metadata": {},
     "output_type": "execute_result"
    }
   ],
   "source": [
    "nlp.vocab['lol'].is_stop "
   ]
  },
  {
   "cell_type": "code",
   "execution_count": 85,
   "metadata": {},
   "outputs": [
    {
     "data": {
      "text/plain": [
       "328"
      ]
     },
     "execution_count": 85,
     "metadata": {},
     "output_type": "execute_result"
    }
   ],
   "source": [
    "len(STOP_WORDS)"
   ]
  },
  {
   "cell_type": "markdown",
   "metadata": {},
   "source": [
    "### To add several stopwords at once:\n"
   ]
  },
  {
   "cell_type": "code",
   "execution_count": 86,
   "metadata": {},
   "outputs": [],
   "source": [
    "nlp.Defaults.stop_words |= {\"my_new_stopword1\",\"my_new_stopword2\"}"
   ]
  },
  {
   "cell_type": "code",
   "execution_count": 87,
   "metadata": {},
   "outputs": [
    {
     "data": {
      "text/plain": [
       "328"
      ]
     },
     "execution_count": 87,
     "metadata": {},
     "output_type": "execute_result"
    }
   ],
   "source": [
    "len(STOP_WORDS)"
   ]
  },
  {
   "cell_type": "markdown",
   "metadata": {},
   "source": [
    "### 2nd Method"
   ]
  },
  {
   "cell_type": "code",
   "execution_count": 71,
   "metadata": {},
   "outputs": [
    {
     "name": "stdout",
     "output_type": "stream",
     "text": [
      "Original Article: Through the International Food Safety Authorities Network (INFOSAN),\n",
      "national food safety authorities are seeking more information on the\n",
      "potential for persistence of SARS-CoV-2, which causes COVID-19, on foods\n",
      "traded internationally as well as the potential role of food in the transmission\n",
      "of the virus. Currently, there are investigations conducted to evaluate the\n",
      "viability and survival time of SARS-CoV-2. As a general rule, the consumption\n",
      "of raw or undercooked animal products should be avoided. Raw meat, raw\n",
      "milk or raw animal organs should be handled with care to avoid crosscontamination with uncooked foods.\n",
      "\n",
      "['International', 'Food', 'Safety', 'Authorities', 'Network', '(', 'INFOSAN', ')', ',', '\\n', 'national', 'food', 'safety', 'authorities', 'seeking', 'information', '\\n', 'potential', 'persistence', 'SARS', '-', 'CoV-2', ',', 'causes', 'COVID-19', ',', 'foods', '\\n', 'traded', 'internationally', 'potential', 'role', 'food', 'transmission', '\\n', 'virus', '.', 'Currently', ',', 'investigations', 'conducted', 'evaluate', '\\n', 'viability', 'survival', 'time', 'SARS', '-', 'CoV-2', '.', 'general', 'rule', ',', 'consumption', '\\n', 'animal', 'products', 'avoided', '.', 'Raw', 'meat', ',', '\\n', 'milk', 'animal', 'organs', 'handled', 'care', 'avoid', 'crosscontamination', 'foods', '.']\n"
     ]
    }
   ],
   "source": [
    "customize_stop_words = ['uncooked', 'undercooked', 'raw']\n",
    "\n",
    "for w in customize_stop_words:\n",
    "    nlp.vocab[w].is_stop = True\n",
    "    \n",
    "\n",
    "tokens = [token.text for token in doc_covid if not token.is_stop]\n",
    "print('Original Article: %s' % (doc_covid))\n",
    "print()\n",
    "print(tokens)"
   ]
  },
  {
   "cell_type": "code",
   "execution_count": 88,
   "metadata": {},
   "outputs": [
    {
     "data": {
      "text/plain": [
       "328"
      ]
     },
     "execution_count": 88,
     "metadata": {},
     "output_type": "execute_result"
    }
   ],
   "source": [
    "len(STOP_WORDS)"
   ]
  },
  {
   "cell_type": "code",
   "execution_count": 91,
   "metadata": {},
   "outputs": [
    {
     "data": {
      "text/plain": [
       "'either'"
      ]
     },
     "execution_count": 91,
     "metadata": {},
     "output_type": "execute_result"
    }
   ],
   "source": [
    "STOP_WORDS.pop()"
   ]
  },
  {
   "cell_type": "code",
   "execution_count": 92,
   "metadata": {},
   "outputs": [
    {
     "data": {
      "text/plain": [
       "327"
      ]
     },
     "execution_count": 92,
     "metadata": {},
     "output_type": "execute_result"
    }
   ],
   "source": [
    "len(STOP_WORDS)"
   ]
  },
  {
   "cell_type": "code",
   "execution_count": 96,
   "metadata": {},
   "outputs": [],
   "source": [
    "nlp.Defaults.stop_words |= {'either'}"
   ]
  },
  {
   "cell_type": "code",
   "execution_count": 97,
   "metadata": {},
   "outputs": [
    {
     "data": {
      "text/plain": [
       "328"
      ]
     },
     "execution_count": 97,
     "metadata": {},
     "output_type": "execute_result"
    }
   ],
   "source": [
    "len(STOP_WORDS)"
   ]
  },
  {
   "cell_type": "code",
   "execution_count": 99,
   "metadata": {},
   "outputs": [],
   "source": [
    "STOP_WORDS.remove('my_new_stopword1')"
   ]
  },
  {
   "cell_type": "code",
   "execution_count": 100,
   "metadata": {},
   "outputs": [
    {
     "data": {
      "text/plain": [
       "327"
      ]
     },
     "execution_count": 100,
     "metadata": {},
     "output_type": "execute_result"
    }
   ],
   "source": [
    "len(STOP_WORDS)"
   ]
  }
 ],
 "metadata": {
  "kernelspec": {
   "display_name": "Python 3",
   "language": "python",
   "name": "python3"
  },
  "language_info": {
   "codemirror_mode": {
    "name": "ipython",
    "version": 3
   },
   "file_extension": ".py",
   "mimetype": "text/x-python",
   "name": "python",
   "nbconvert_exporter": "python",
   "pygments_lexer": "ipython3",
   "version": "3.7.3"
  }
 },
 "nbformat": 4,
 "nbformat_minor": 2
}
