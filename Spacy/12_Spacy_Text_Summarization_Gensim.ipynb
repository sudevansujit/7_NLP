{
 "cells": [
  {
   "cell_type": "markdown",
   "metadata": {},
   "source": [
    "# Text Summarization"
   ]
  },
  {
   "cell_type": "markdown",
   "metadata": {},
   "source": [
    "- Text summarization is the process of distilling the most important information from a source (or sources) to produce an abridged version for a particular user (or users) and task (or tasks).\n",
    "- Idea of summarization is to find a subset of data which contains the “information” of the entire set\n",
    "- Main Idea\n",
    "    - Text Preprocessing(remove stopwords,punctuations).\n",
    "    - Frequency table of words/Word Frequency Distribution - how many times each word appears in the document\n",
    "    - Score each sentence depending on the words it contains and the frequency table\n",
    "    - Build summary by joining every sentence above a certain score limit"
   ]
  },
  {
   "cell_type": "code",
   "execution_count": 80,
   "metadata": {},
   "outputs": [],
   "source": [
    "import spacy\n",
    "nlp = spacy.load('en_core_web_sm')\n",
    "from spacy.lang.en.stop_words import STOP_WORDS"
   ]
  },
  {
   "cell_type": "markdown",
   "metadata": {},
   "source": [
    "### Text Processing + Tokenization"
   ]
  },
  {
   "cell_type": "code",
   "execution_count": 2,
   "metadata": {},
   "outputs": [
    {
     "name": "stdout",
     "output_type": "stream",
     "text": [
      "['is', 'latterly', 'his', 'became', 'once', 'amongst', 'across', 'also', 'whither', 'however', 'least', 'since', 'must', 'will', \"'ll\", 'such', 'towards', 'get', 'twenty', 'were', 'along', \"'d\", 'still', 'done', 'a', 'down', 'someone', 'here', 'last', 'enough', 'becoming', 'somewhere', 'them', 'some', 'used', 'five', 'n’t', 'was', 'other', 'eight', 'serious', 'whole', '‘m', 'what', 'throughout', 'but', 'over', 'from', 'yet', 'whereby', 'either', 'eleven', 'cannot', 'fifteen', 'can', 'she', 'else', 'when', 'whenever', 'less', 'in', 'themselves', 'so', 'with', 'except', 'beside', 'our', 'due', 'one', 'hereupon', 'the', 'and', 'herein', 'your', '’m', 'after', 'another', 'move', 'please', 'twelve', 'their', 'to', 'seems', 'do', 'under', 'on', 'even', 'which', 'neither', 'see', 'n‘t', 'be', 'again', 'every', 'before', 'all', 'just', 'two', 'toward', 'these', 'meanwhile', 'thereupon', 'former', 'those', 'very', 'each', '’s', 'without', 'full', 'are', 'ca', 'how', 'does', 'myself', '‘ve', 'go', 'name', 'of', 'whose', 'made', 'four', 'there', 'for', 'quite', 'become', 'did', 'thus', 'thereafter', \"n't\", 'though', 'above', 'indeed', 'many', 'or', 'wherever', 'yours', 'it', 'same', 'you', 'ten', '‘d', '‘s', 'he', 'already', 'may', 'hence', 'i', 'why', 'various', 'sixty', 'among', 'him', 'nor', 'seemed', 'put', 'six', 'whence', 'something', 'few', 'amount', 'wherein', 'nothing', 'doing', 'where', 'part', 'say', 'perhaps', 're', 'others', 'own', '’ve', 'too', 'us', '’re', 'been', 'behind', 'thereby', 'around', 'could', 'had', 'during', 'hundred', 'my', 'together', 'therein', 'beforehand', 'noone', 'seeming', 'off', 'most', 'about', 'three', 'than', 'therefore', 'whereupon', 'both', 'next', 'unless', 'give', '‘re', 'forty', '’d', 'out', 'not', 'this', 'until', 'by', 'whereas', 'via', 'we', 'anywhere', 'within', 'using', 'as', 'never', 'everything', 'otherwise', 'hereafter', 'bottom', 'somehow', 'yourself', '’ll', 'none', 'who', 'although', 'mine', 'below', 'really', 'herself', 'nowhere', 'mostly', 'besides', 'keep', 'between', 'beyond', 'per', 'through', 'make', 'back', 'being', 'am', 'her', 'side', 'might', 'more', 'because', 'while', 'whoever', 'any', 'take', 'its', 'whereafter', 'thru', \"'s\", 'whom', '‘ll', 'then', 'everyone', 'has', 'upon', 'latter', 'anyway', 'further', 'now', 'ourselves', 'hers', 'third', 'thence', 'should', 'everywhere', 'itself', 'sometime', 'always', 'top', 'fifty', 'seem', 'have', 'they', 'nine', 'elsewhere', 'yourselves', 'an', 'me', 'nobody', 'namely', 'several', 'moreover', 'afterwards', \"'re\", 'anything', 'hereby', 'ours', 'show', 'into', 'onto', 'regarding', 'at', 'whatever', 'ever', \"'ve\", 'formerly', 'against', 'no', 'only', 'almost', 'much', 'empty', 'whether', 'becomes', 'would', 'often', 'first', 'rather', 'front', 'well', 'alone', 'himself', \"'m\", 'sometimes', 'anyone', 'call', 'up', 'anyhow', 'if', 'nevertheless', 'that']\n"
     ]
    }
   ],
   "source": [
    "stop_words = list(STOP_WORDS)\n",
    "print(stop_words)"
   ]
  },
  {
   "cell_type": "code",
   "execution_count": 3,
   "metadata": {},
   "outputs": [
    {
     "data": {
      "text/plain": [
       "326"
      ]
     },
     "execution_count": 3,
     "metadata": {},
     "output_type": "execute_result"
    }
   ],
   "source": [
    "len(stop_words)"
   ]
  },
  {
   "cell_type": "code",
   "execution_count": 47,
   "metadata": {},
   "outputs": [],
   "source": [
    "doc = nlp(open('covid19.txt').read())"
   ]
  },
  {
   "cell_type": "code",
   "execution_count": 48,
   "metadata": {},
   "outputs": [],
   "source": [
    "mytokens = [token.text for token in doc]"
   ]
  },
  {
   "cell_type": "markdown",
   "metadata": {},
   "source": [
    "### Word Frequency Table\n",
    "- Dictionary of words and their counts\n",
    "- How many times each word appears in the document\n",
    "- Using non-stopwords"
   ]
  },
  {
   "cell_type": "code",
   "execution_count": 49,
   "metadata": {},
   "outputs": [],
   "source": [
    "# Build Word Frequency\n",
    "# word.text is tokenization in spacy\n",
    "word_frequencies = {}\n",
    "for word in doc:\n",
    "    if word.text not in stop_words and word.is_punct != True and word.pos_ != 'SPACE' :\n",
    "            if word.text not in word_frequencies.keys():\n",
    "                word_frequencies[word.text] = 1\n",
    "            else:\n",
    "                word_frequencies[word.text] += 1"
   ]
  },
  {
   "cell_type": "code",
   "execution_count": 50,
   "metadata": {},
   "outputs": [
    {
     "data": {
      "text/plain": [
       "{'Through': 1,\n",
       " 'International': 1,\n",
       " 'Food': 2,\n",
       " 'Safety': 2,\n",
       " 'Authorities': 2,\n",
       " 'Network': 1,\n",
       " 'INFOSAN)and': 1,\n",
       " 'National': 1,\n",
       " 'seeking': 1,\n",
       " 'information': 1,\n",
       " 'potential': 2,\n",
       " 'persistence': 1,\n",
       " 'SARS': 2,\n",
       " 'CoV-2': 2,\n",
       " 'Which': 1,\n",
       " 'causes': 1,\n",
       " 'COVID-19': 1,\n",
       " 'foods': 2,\n",
       " 'traded': 1,\n",
       " 'internationally': 1,\n",
       " 'As': 2,\n",
       " 'role': 1,\n",
       " 'food': 1,\n",
       " 'transmission': 1,\n",
       " 'virus': 1,\n",
       " 'Currently': 1,\n",
       " 'investigations': 1,\n",
       " 'conducted': 1,\n",
       " 'evaluate': 1,\n",
       " 'viability': 1,\n",
       " 'survival': 1,\n",
       " 'time': 1,\n",
       " 'general': 1,\n",
       " 'rule': 1,\n",
       " 'consumption': 1,\n",
       " 'raw': 3,\n",
       " 'undercooked': 1,\n",
       " 'animal': 2,\n",
       " 'products': 1,\n",
       " 'avoided': 1,\n",
       " 'Raw': 1,\n",
       " 'meat': 1,\n",
       " 'milk': 1,\n",
       " 'organs': 1,\n",
       " 'handled': 1,\n",
       " 'care': 1,\n",
       " 'avoid': 1,\n",
       " 'crosscontamination': 1,\n",
       " 'uncooked': 1}"
      ]
     },
     "execution_count": 50,
     "metadata": {},
     "output_type": "execute_result"
    }
   ],
   "source": [
    "word_frequencies"
   ]
  },
  {
   "cell_type": "markdown",
   "metadata": {},
   "source": [
    "### Maximum Word Frequency\n",
    "- find the weighted frequency\n",
    "- Each word over most occurring word\n",
    "- Long sentence over short sentence"
   ]
  },
  {
   "cell_type": "code",
   "execution_count": 51,
   "metadata": {},
   "outputs": [
    {
     "data": {
      "text/plain": [
       "3"
      ]
     },
     "execution_count": 51,
     "metadata": {},
     "output_type": "execute_result"
    }
   ],
   "source": [
    "# Maximum Word Frequency\n",
    "maximum_frequency = max(word_frequencies.values())\n",
    "maximum_frequency"
   ]
  },
  {
   "cell_type": "code",
   "execution_count": 52,
   "metadata": {},
   "outputs": [],
   "source": [
    "for word in word_frequencies.keys():  \n",
    "    word_frequencies[word] = (word_frequencies[word]/maximum_frequency)"
   ]
  },
  {
   "cell_type": "markdown",
   "metadata": {},
   "source": [
    "### Word Frequency Distribution"
   ]
  },
  {
   "cell_type": "code",
   "execution_count": 53,
   "metadata": {},
   "outputs": [
    {
     "data": {
      "text/plain": [
       "{'Through': 0.3333333333333333,\n",
       " 'International': 0.3333333333333333,\n",
       " 'Food': 0.6666666666666666,\n",
       " 'Safety': 0.6666666666666666,\n",
       " 'Authorities': 0.6666666666666666,\n",
       " 'Network': 0.3333333333333333,\n",
       " 'INFOSAN)and': 0.3333333333333333,\n",
       " 'National': 0.3333333333333333,\n",
       " 'seeking': 0.3333333333333333,\n",
       " 'information': 0.3333333333333333,\n",
       " 'potential': 0.6666666666666666,\n",
       " 'persistence': 0.3333333333333333,\n",
       " 'SARS': 0.6666666666666666,\n",
       " 'CoV-2': 0.6666666666666666,\n",
       " 'Which': 0.3333333333333333,\n",
       " 'causes': 0.3333333333333333,\n",
       " 'COVID-19': 0.3333333333333333,\n",
       " 'foods': 0.6666666666666666,\n",
       " 'traded': 0.3333333333333333,\n",
       " 'internationally': 0.3333333333333333,\n",
       " 'As': 0.6666666666666666,\n",
       " 'role': 0.3333333333333333,\n",
       " 'food': 0.3333333333333333,\n",
       " 'transmission': 0.3333333333333333,\n",
       " 'virus': 0.3333333333333333,\n",
       " 'Currently': 0.3333333333333333,\n",
       " 'investigations': 0.3333333333333333,\n",
       " 'conducted': 0.3333333333333333,\n",
       " 'evaluate': 0.3333333333333333,\n",
       " 'viability': 0.3333333333333333,\n",
       " 'survival': 0.3333333333333333,\n",
       " 'time': 0.3333333333333333,\n",
       " 'general': 0.3333333333333333,\n",
       " 'rule': 0.3333333333333333,\n",
       " 'consumption': 0.3333333333333333,\n",
       " 'raw': 1.0,\n",
       " 'undercooked': 0.3333333333333333,\n",
       " 'animal': 0.6666666666666666,\n",
       " 'products': 0.3333333333333333,\n",
       " 'avoided': 0.3333333333333333,\n",
       " 'Raw': 0.3333333333333333,\n",
       " 'meat': 0.3333333333333333,\n",
       " 'milk': 0.3333333333333333,\n",
       " 'organs': 0.3333333333333333,\n",
       " 'handled': 0.3333333333333333,\n",
       " 'care': 0.3333333333333333,\n",
       " 'avoid': 0.3333333333333333,\n",
       " 'crosscontamination': 0.3333333333333333,\n",
       " 'uncooked': 0.3333333333333333}"
      ]
     },
     "execution_count": 53,
     "metadata": {},
     "output_type": "execute_result"
    }
   ],
   "source": [
    "# Frequency Table\n",
    "word_frequencies"
   ]
  },
  {
   "cell_type": "markdown",
   "metadata": {},
   "source": [
    "### Sentence Score and Ranking of Words in Each Sentence\n",
    "- Sentence Tokens\n",
    "- scoring every sentence based on number of words\n",
    "- non stopwords in our word frequency table"
   ]
  },
  {
   "cell_type": "code",
   "execution_count": 54,
   "metadata": {},
   "outputs": [
    {
     "name": "stdout",
     "output_type": "stream",
     "text": [
      "[Through the International Food Safety Authorities Network (, INFOSAN)and\n",
      ", National Food Safety Authorities are seeking more information on the\n",
      "potential for persistence of SARS-CoV-2., Which causes COVID-19 on foods\n",
      "traded internationally., As well as the potential role of food in the transmission\n",
      "of the virus., Currently there are investigations conducted to evaluate the\n",
      "viability and survival time of SARS-CoV-2., As a general rule, the consumption\n",
      "of raw or undercooked animal products should be avoided., Raw meat, raw\n",
      ", milk or raw animal, organs should be handled with care to avoid crosscontamination with uncooked foods.]\n"
     ]
    }
   ],
   "source": [
    "# Sentence Tokens\n",
    "sentence_list = [ sentence for sentence in doc.sents ]\n",
    "print(sentence_list)"
   ]
  },
  {
   "cell_type": "code",
   "execution_count": 57,
   "metadata": {},
   "outputs": [],
   "source": [
    "# Sentence Score via comparrng each word with sentence\n",
    "sentence_scores = {}  \n",
    "for sent in sentence_list:  \n",
    "    for word in sent:\n",
    "        if word.text.lower() in word_frequencies.keys():\n",
    "            if len(sent.text.split(' ')) < 30:\n",
    "                if sent not in sentence_scores.keys():\n",
    "                    sentence_scores[sent] = word_frequencies[word.text.lower()]\n",
    "                else:\n",
    "                    sentence_scores[sent] += word_frequencies[word.text.lower()]\n"
   ]
  },
  {
   "cell_type": "code",
   "execution_count": 58,
   "metadata": {},
   "outputs": [
    {
     "data": {
      "text/plain": [
       "{Through the International Food Safety Authorities Network (: 0.3333333333333333,\n",
       " National Food Safety Authorities are seeking more information on the\n",
       " potential for persistence of SARS-CoV-2.: 1.9999999999999998,\n",
       " Which causes COVID-19 on foods\n",
       " traded internationally.: 1.6666666666666665,\n",
       " As well as the potential role of food in the transmission\n",
       " of the virus.: 1.9999999999999998,\n",
       " Currently there are investigations conducted to evaluate the\n",
       " viability and survival time of SARS-CoV-2.: 1.9999999999999998,\n",
       " As a general rule, the consumption\n",
       " of raw or undercooked animal products should be avoided.: 3.666666666666667,\n",
       " Raw meat, raw: 2.333333333333333,\n",
       " milk or raw animal: 2.0,\n",
       " organs should be handled with care to avoid crosscontamination with uncooked foods.: 2.6666666666666665}"
      ]
     },
     "execution_count": 58,
     "metadata": {},
     "output_type": "execute_result"
    }
   ],
   "source": [
    "sentence_scores"
   ]
  },
  {
   "cell_type": "markdown",
   "metadata": {},
   "source": [
    "### Finding Top N Sentence with largest score\n",
    "**using heapq**"
   ]
  },
  {
   "cell_type": "code",
   "execution_count": 59,
   "metadata": {},
   "outputs": [],
   "source": [
    "from heapq import nlargest"
   ]
  },
  {
   "cell_type": "code",
   "execution_count": 60,
   "metadata": {},
   "outputs": [
    {
     "data": {
      "text/plain": [
       "[As a general rule, the consumption\n",
       " of raw or undercooked animal products should be avoided.,\n",
       " organs should be handled with care to avoid crosscontamination with uncooked foods.,\n",
       " Raw meat, raw,\n",
       " milk or raw animal]"
      ]
     },
     "execution_count": 60,
     "metadata": {},
     "output_type": "execute_result"
    }
   ],
   "source": [
    "summarized_sentences = nlargest(4, sentence_scores, key=sentence_scores.get)\n",
    "summarized_sentences"
   ]
  },
  {
   "cell_type": "markdown",
   "metadata": {},
   "source": [
    "### Convert fro spacy span to text"
   ]
  },
  {
   "cell_type": "code",
   "execution_count": 61,
   "metadata": {},
   "outputs": [
    {
     "name": "stdout",
     "output_type": "stream",
     "text": [
      "As a general rule, the consumption\n",
      "of raw or undercooked animal products should be avoided.\n",
      "organs should be handled with care to avoid crosscontamination with uncooked foods.\n",
      "Raw meat, raw\n",
      "\n",
      "milk or raw animal\n"
     ]
    }
   ],
   "source": [
    "# Convert Sentences from Spacy Span to Strings for joining entire sentence\n",
    "for w in summarized_sentences:\n",
    "    print(w.text)"
   ]
  },
  {
   "cell_type": "code",
   "execution_count": 64,
   "metadata": {},
   "outputs": [],
   "source": [
    "# List Comprehension of Sentences Converted From Spacy.span to strings\n",
    "final_sentences = [ w.text for w in summarized_sentences ]"
   ]
  },
  {
   "cell_type": "markdown",
   "metadata": {},
   "source": [
    "### Join sentences"
   ]
  },
  {
   "cell_type": "code",
   "execution_count": 65,
   "metadata": {},
   "outputs": [
    {
     "data": {
      "text/plain": [
       "'As a general rule, the consumption\\nof raw or undercooked animal products should be avoided. organs should be handled with care to avoid crosscontamination with uncooked foods. Raw meat, raw\\n milk or raw animal'"
      ]
     },
     "execution_count": 65,
     "metadata": {},
     "output_type": "execute_result"
    }
   ],
   "source": [
    "summary = ' '.join(final_sentences)\n",
    "summary"
   ]
  },
  {
   "cell_type": "markdown",
   "metadata": {},
   "source": [
    "## Gensim Summarization"
   ]
  },
  {
   "cell_type": "code",
   "execution_count": 74,
   "metadata": {},
   "outputs": [],
   "source": [
    "from gensim.summarization import summarize"
   ]
  },
  {
   "cell_type": "code",
   "execution_count": 77,
   "metadata": {},
   "outputs": [
    {
     "data": {
      "text/plain": [
       "'National Food Safety Authorities are seeking more information on the\\npotential for persistence of SARS-CoV-2.'"
      ]
     },
     "execution_count": 77,
     "metadata": {},
     "output_type": "execute_result"
    }
   ],
   "source": [
    "summarize(open('covid19.txt').read())"
   ]
  },
  {
   "cell_type": "markdown",
   "metadata": {},
   "source": [
    "### All in One Place"
   ]
  },
  {
   "cell_type": "code",
   "execution_count": 87,
   "metadata": {},
   "outputs": [],
   "source": [
    "# Place All As A Function For Reuseability\n",
    "def text_summarizer(raw_docx):\n",
    "    raw_text = raw_docx\n",
    "    docx = nlp(raw_text)\n",
    "    stopwords = list(STOP_WORDS)\n",
    "    # Build Word Frequency\n",
    "    # word.text is tokenization in spacy\n",
    "    word_frequencies = {}  \n",
    "    for word in docx:  \n",
    "        if word.text not in stopwords:\n",
    "            if word.text not in word_frequencies.keys():\n",
    "                word_frequencies[word.text] = 1\n",
    "            else:\n",
    "                word_frequencies[word.text] += 1\n",
    "\n",
    "\n",
    "    maximum_frequncy = max(word_frequencies.values())\n",
    "\n",
    "    for word in word_frequencies.keys():  \n",
    "        word_frequencies[word] = (word_frequencies[word]/maximum_frequncy)\n",
    "    # Sentence Tokens\n",
    "    sentence_list = [ sentence for sentence in docx.sents ]\n",
    "\n",
    "    # Calculate Sentence Score and Ranking\n",
    "    sentence_scores = {}  \n",
    "    for sent in sentence_list:  \n",
    "        for word in sent:\n",
    "            if word.text.lower() in word_frequencies.keys():\n",
    "                if len(sent.text.split(' ')) < 30:\n",
    "                    if sent not in sentence_scores.keys():\n",
    "                        sentence_scores[sent] = word_frequencies[word.text.lower()]\n",
    "                    else:\n",
    "                        sentence_scores[sent] += word_frequencies[word.text.lower()]\n",
    "\n",
    "    # Find N Largest\n",
    "    summary_sentences = nlargest(4, sentence_scores, key=sentence_scores.get)\n",
    "    final_sentences = [ w.text for w in summary_sentences ]\n",
    "    summary = ' '.join(final_sentences)\n",
    "    print(\"Original Document\\n\")\n",
    "    print(raw_docx)\n",
    "    print(\"Total Length:\",len(raw_docx))\n",
    "    print('\\n\\nSummarized Document\\n')\n",
    "    print(summary)\n",
    "    print(\"Total Length:\",len(summary))"
   ]
  },
  {
   "cell_type": "code",
   "execution_count": 88,
   "metadata": {},
   "outputs": [
    {
     "name": "stdout",
     "output_type": "stream",
     "text": [
      "Original Document\n",
      "\n",
      "Dr Sonya Babu-Narayan, Associate Medical Director at the British Heart Foundation and Honorary Consultant Cardiologist, said: \n",
      "\n",
      "“Every day we learn more about Covid-19. Information to date suggests that people with heart disease, or are at risk of heart disease due to factors such as high blood pressure, diabetes or being severely overweight with a body mass index higher than 40, are at an increased risk of complications caused by the virus.\n",
      "\n",
      "“If you have one of these conditions you should be taking all precautions possible to reduce your chance of catching the virus.\n",
      "\n",
      "“Viruses can cause significant inflammation which can injure the heart and can worsen a person’s existing heart condition even if the virus does not enter the heart directly.\n",
      "\n",
      "“Evidence shows that people with higher levels of a protein used to measure heart injury in their blood are more likely to die after contracting Covid-19. \n",
      "\n",
      "“However this kind of observational evidence can’t tell us why some people suffer heart damage, whether this is caused by the virus or how exactly this may lead to worse outcomes. It is now crucially important that we continue to research coronavirus, and how it affects the heart, to help us to save and improve as many lives as possible.”\n",
      "\n",
      " \n",
      "\n",
      "Hugo Pedder, Senior Research Associate in Statistical Modelling at the Bristol Medical School, University of Bristol, said:\n",
      "\n",
      "“Given the severity and speed of COVID-19’s impact globally, the quality of evidence that is available for us to draw on is currently very limited.\n",
      "\n",
      "“Guo et al. is a case series, which follows-up patients who have been infected by COVID-19 and try to draw conclusions regarding the impact of treatments and the pathophysiology of the disease on mortality. They report an association between myocardial injury and COVID-19 infection mortality. Given the observational nature of the data it is difficult to identify whether the link is causal, particularly as there can be other factors in addition to myocardial injury responsible for death in an individual that are not clearly identified within the data.\n",
      "\n",
      "“The small sample within Guo et al. is also from patients in a specific hospital. It is therefore quite selective and is likely to depend on specific factors associated with hospitalisation, which may not be generalisable to other countries/regions as it may depend on specific policies or bed availability as much as severity of symptoms.\n",
      "\n",
      "“The review by Madjid et al. reports the potential effects of coronaviruses on the cardiovascular system, but as this has not involved a systematic literature search the studies included may be selectively supportive of the authors’ conclusions.\n",
      "\n",
      "“Given what is known about coronaviruses and what has been found so far in terms of poorer outcomes for individuals with cardiovascular disease, these results are not surprising. They are however concerning and could be useful for helping to direct policy and triaging of patients with COVID-19 infection.\n",
      "\n",
      "“The comment in the press release – “It is likely that even in the absence of previous heart disease, the heart muscle can be affected by coronavirus disease,” said Mohammad Madjid, MD, MS, the study’s lead author and an assistant professor of cardiology at McGovern Medical School at UTHealth” – appears to be based in part on the effects of a previous coronavirus disease (SARS), though as there were relatively few cases this was difficult to confirm. The case report by Inciardi et al. suggests the effects could be similar for COVID-19, though it is a report from only a single patient, which makes it very difficult to make generalisations regarding this effect to the wider public.\n",
      "\n",
      "“Whilst this is clearly a very important area of research on which to focus, it is a conclusion that may cause unnecessary concern given the lack of evidence supporting it at this stage. There is however evidence supporting the statement that the risk of myocardial injury is higher in those who already have heart disease (see Guo et al.).”\n",
      "\n",
      " \n",
      "\n",
      "Prof Kevin McConway, Emeritus Professor of Applied Statistics, The Open University, said:\n",
      "\n",
      "“As a statistician, I can’t comment on the physiological and medical aspects of these reports. But, I’d say, the really important question is how likely effects on the heart might be, and we just can’t tell from the information that’s available so far. The case report of one patient who had serious heart symptoms after infection with the new virus does indicate that effects on the heart can happen, but it says nothing about how likely that is, and can’t say too much about how it can happen. The retrospective study of hospitalised patients in Wuhan (Guo et al.) throws slightly more light on the chances, but it examined only patients who were hospitalised (and most people with COVID-19 are not hospitalised). So it can’t tell us about the general chance of heart damage to people with COVID-19, including the majority who do not go to hospital as well as the minority who do. And the number of patients in that study was not large, and most of them had existing diseases that are already understood to increase their risks, so the study can’t really tie down the risks to people without underlying disease very precisely, even for those who are hospitalised.”\n",
      "\n",
      " \n",
      "\n",
      "Prof Naveed Sattar, Professor of Metabolic Medicine, University of Glasgow, said:\n",
      "\n",
      "These three papers provide further evidence for the potential of COVID19 to adversely affect the heart, which may be one reason for high mortality rates with this virus, but more robust studies to examine a potential “virus-to-heart” toxicity link are now needed.  I say this, since current studies have deficiencies and are as yet not considered definitive in the proof of this link.  I am sure more robust studies will be urgently started in differing parts of the world.  However, I agree with the authors that in the meantime, we should ensure good guideline recommended management of risk factors in people with risk factors for, or existing heart disease.”\n",
      "\n",
      " \n",
      "\n",
      "Prof Tim Chico, Professor of Cardiovascular Medicine and Honorary Consultant Cardiologist, University of Sheffield, said:\n",
      "\n",
      "“There have already been an impressive number of studies published that help us understand COVID-19. It is important to recognise we are only at the beginning of acquiring enough information about a very new disease, and larger and longer studies than those published so far will be needed. Doing this research presents many challenges given how overstretched the world’s healthcare systems are or will become, and the authors of these studies should be congratulated for their hard work.\n",
      "\n",
      "“Although COVID-19 is a new virus, cardiologists are already familiar with the effects of other viral infections on the heart. These often cause inflammation of the lining of the heart (pericarditis), the heart muscle (myocarditis) or trigger worsening of existing heart conditions such as heart attack or heart failure. All these complications are associated with other viral infections, and we are experienced in dealing with these, especially if we do not have to care for too many people at once. This is why the distancing measures and self-isolation in place are so essential to slow the numbers of people developing COVID-19.\n",
      "\n",
      "“Severe COVID-19 infection appears more likely than some other viral infections to cause damage to the heart muscle (detected by measuring a protein called Troponin in the blood). This heart damage is likely to be due to multiple reasons, and can happen in anyone, including those without heart disease.\n",
      "\n",
      "“Physicians, intensive care doctors and cardiologists are already very familiar with dealing with the heart problems that can be seen with COVID-19, such as abnormal heart rhythms, impaired pumping function, and inflammation. Although we do not have a specific treatment yet, it is possible to manage these complications until the patient recovers.”\n",
      "Total Length: 7930\n",
      "\n",
      "\n",
      "Summarized Document\n",
      "\n",
      "Prof Kevin McConway, Emeritus Professor of Applied Statistics, The Open University, said:\n",
      "\n",
      "“As a statistician, I can’t comment on the physiological and medical aspects of these reports. Prof Tim Chico, Professor of Cardiovascular Medicine and Honorary Consultant Cardiologist, University of Sheffield, said:\n",
      "\n",
      "“There have already been an impressive number of studies published that help us understand COVID-19. These often cause inflammation of the lining of the heart (pericarditis), the heart muscle (myocarditis) or trigger worsening of existing heart conditions such as heart attack or heart failure. But, I’d say, the really important question is how likely effects on the heart might be, and we just can’t tell from the information that’s available so far.\n",
      "Total Length: 761\n"
     ]
    }
   ],
   "source": [
    "text_summarizer(open('covid_research.txt').read())"
   ]
  },
  {
   "cell_type": "code",
   "execution_count": 89,
   "metadata": {},
   "outputs": [
    {
     "data": {
      "text/plain": [
       "'Information to date suggests that people with heart disease, or are at risk of heart disease due to factors such as high blood pressure, diabetes or being severely overweight with a body mass index higher than 40, are at an increased risk of complications caused by the virus.\\n“Evidence shows that people with higher levels of a protein used to measure heart injury in their blood are more likely to die after contracting Covid-19.\\n“However this kind of observational evidence can’t tell us why some people suffer heart damage, whether this is caused by the virus or how exactly this may lead to worse outcomes.\\nis a case series, which follows-up patients who have been infected by COVID-19 and try to draw conclusions regarding the impact of treatments and the pathophysiology of the disease on mortality.\\n“The comment in the press release – “It is likely that even in the absence of previous heart disease, the heart muscle can be affected by coronavirus disease,” said Mohammad Madjid, MD, MS, the study’s lead author and an assistant professor of cardiology at McGovern Medical School at UTHealth” – appears to be based in part on the effects of a previous coronavirus disease (SARS), though as there were relatively few cases this was difficult to confirm.\\nThe case report of one patient who had serious heart symptoms after infection with the new virus does indicate that effects on the heart can happen, but it says nothing about how likely that is, and can’t say too much about how it can happen.\\nSo it can’t tell us about the general chance of heart damage to people with COVID-19, including the majority who do not go to hospital as well as the minority who do.\\nThese three papers provide further evidence for the potential of COVID19 to adversely affect the heart, which may be one reason for high mortality rates with this virus, but more robust studies to examine a potential “virus-to-heart” toxicity link are now needed.\\n“Although COVID-19 is a new virus, cardiologists are already familiar with the effects of other viral infections on the heart.\\n“Severe COVID-19 infection appears more likely than some other viral infections to cause damage to the heart muscle (detected by measuring a protein called Troponin in the blood).'"
      ]
     },
     "execution_count": 89,
     "metadata": {},
     "output_type": "execute_result"
    }
   ],
   "source": [
    "summarize(open('covid_research.txt').read())"
   ]
  },
  {
   "cell_type": "code",
   "execution_count": null,
   "metadata": {},
   "outputs": [],
   "source": []
  }
 ],
 "metadata": {
  "kernelspec": {
   "display_name": "Python 3",
   "language": "python",
   "name": "python3"
  },
  "language_info": {
   "codemirror_mode": {
    "name": "ipython",
    "version": 3
   },
   "file_extension": ".py",
   "mimetype": "text/x-python",
   "name": "python",
   "nbconvert_exporter": "python",
   "pygments_lexer": "ipython3",
   "version": "3.7.3"
  }
 },
 "nbformat": 4,
 "nbformat_minor": 2
}
