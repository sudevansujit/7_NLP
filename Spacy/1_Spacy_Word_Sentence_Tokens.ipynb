{
 "cells": [
  {
   "cell_type": "code",
   "execution_count": 1,
   "metadata": {},
   "outputs": [],
   "source": [
    "import spacy\n"
   ]
  },
  {
   "cell_type": "code",
   "execution_count": 2,
   "metadata": {},
   "outputs": [],
   "source": [
    "nlp = spacy.load('en_core_web_sm')"
   ]
  },
  {
   "cell_type": "code",
   "execution_count": 3,
   "metadata": {},
   "outputs": [],
   "source": [
    "docx = nlp('Spacy is a cool tool')\n"
   ]
  },
  {
   "cell_type": "code",
   "execution_count": 18,
   "metadata": {},
   "outputs": [
    {
     "name": "stdout",
     "output_type": "stream",
     "text": [
      "Spacy\tSpacy\tNOUN\n",
      "is\tis\tVERB\n",
      "a\ta\tDET\n",
      "cool\tcool\tADJ\n",
      "tool\ttool\tNOUN\n"
     ]
    }
   ],
   "source": [
    "for token in docx:\n",
    "    print(token,  token.text, token.pos_, sep = '\\t')"
   ]
  },
  {
   "cell_type": "code",
   "execution_count": 20,
   "metadata": {},
   "outputs": [
    {
     "data": {
      "text/plain": [
       "Spacy is an amazing tool like NLTK"
      ]
     },
     "execution_count": 20,
     "metadata": {},
     "output_type": "execute_result"
    }
   ],
   "source": [
    "docx2 = nlp('Spacy is an amazing tool like NLTK')\n",
    "docx2"
   ]
  },
  {
   "cell_type": "markdown",
   "metadata": {},
   "source": [
    "### How to read a text file in Spacy"
   ]
  },
  {
   "cell_type": "code",
   "execution_count": 49,
   "metadata": {},
   "outputs": [
    {
     "name": "stdout",
     "output_type": "stream",
     "text": [
      "Through the International Food Safety Authorities Network (INFOSAN),\n",
      "national food safety authorities are seeking more information on the\n",
      "potential for persistence of SARS-CoV-2, which causes COVID-19, on foods\n",
      "traded internationally as well as the potential role of food in the transmission\n",
      "of the virus. Currently, there are investigations conducted to evaluate the\n",
      "viability and survival time of SARS-CoV-2. As a general rule, the consumption\n",
      "of raw or undercooked animal products should be avoided. Raw meat, raw\n",
      "milk or raw animal organs should be handled with care to avoid crosscontamination with uncooked foods.\n"
     ]
    }
   ],
   "source": [
    "myfile = open('covid19.txt').read()\n",
    "print(myfile)"
   ]
  },
  {
   "cell_type": "code",
   "execution_count": 23,
   "metadata": {},
   "outputs": [
    {
     "data": {
      "text/plain": [
       "Through the International Food Safety Authorities Network (INFOSAN),\n",
       "national food safety authorities are seeking more information on the\n",
       "potential for persistence of SARS-CoV-2, which causes COVID-19, on foods\n",
       "traded internationally as well as the potential role of food in the transmission\n",
       "of the virus. Currently, there are investigations conducted to evaluate the\n",
       "viability and survival time of SARS-CoV-2. As a general rule, the consumption\n",
       "of raw or undercooked animal products should be avoided. Raw meat, raw\n",
       "milk or raw animal organs should be handled with care to avoid crosscontamination with uncooked foods."
      ]
     },
     "execution_count": 23,
     "metadata": {},
     "output_type": "execute_result"
    }
   ],
   "source": [
    "doc_covid = nlp(myfile)\n",
    "doc_covid"
   ]
  },
  {
   "cell_type": "markdown",
   "metadata": {},
   "source": [
    "#### 2nd Method"
   ]
  },
  {
   "cell_type": "code",
   "execution_count": 27,
   "metadata": {},
   "outputs": [
    {
     "data": {
      "text/plain": [
       "Through the International Food Safety Authorities Network (INFOSAN),\n",
       "national food safety authorities are seeking more information on the\n",
       "potential for persistence of SARS-CoV-2, which causes COVID-19, on foods\n",
       "traded internationally as well as the potential role of food in the transmission\n",
       "of the virus. Currently, there are investigations conducted to evaluate the\n",
       "viability and survival time of SARS-CoV-2. As a general rule, the consumption\n",
       "of raw or undercooked animal products should be avoided. Raw meat, raw\n",
       "milk or raw animal organs should be handled with care to avoid crosscontamination with uncooked foods."
      ]
     },
     "execution_count": 27,
     "metadata": {},
     "output_type": "execute_result"
    }
   ],
   "source": [
    "docx_covid2 = nlp(open('covid19.txt').read())\n",
    "docx_covid2"
   ]
  },
  {
   "cell_type": "markdown",
   "metadata": {},
   "source": [
    "### Sentence Tokens"
   ]
  },
  {
   "cell_type": "code",
   "execution_count": 36,
   "metadata": {},
   "outputs": [
    {
     "name": "stdout",
     "output_type": "stream",
     "text": [
      "0: Through the International Food Safety Authorities Network (INFOSAN),\n",
      "national food safety authorities are seeking more information on the\n",
      "potential for persistence of SARS-CoV-2, which causes COVID-19, on foods\n",
      "traded internationally as well as the potential role of food in the transmission\n",
      "of the virus.\n",
      "1: Currently, there are investigations conducted to evaluate the\n",
      "viability and survival time of SARS-CoV-2.\n",
      "2: As a general rule, the consumption\n",
      "of raw or undercooked animal products should be avoided.\n",
      "3: Raw meat, raw\n",
      "milk or raw animal organs should be handled with care to avoid crosscontamination with uncooked foods.\n"
     ]
    }
   ],
   "source": [
    "for i , sentence in enumerate(doc_covid.sents):\n",
    "    print(f'{i}: {sentence}')"
   ]
  },
  {
   "cell_type": "markdown",
   "metadata": {},
   "source": [
    "### Word Tokens"
   ]
  },
  {
   "cell_type": "code",
   "execution_count": 37,
   "metadata": {},
   "outputs": [],
   "source": [
    "#Splitting or segmenting the text into words"
   ]
  },
  {
   "cell_type": "code",
   "execution_count": 38,
   "metadata": {},
   "outputs": [
    {
     "data": {
      "text/plain": [
       "['Spacy', 'is', 'an', 'amazing', 'tool', 'like', 'NLTK']"
      ]
     },
     "execution_count": 38,
     "metadata": {},
     "output_type": "execute_result"
    }
   ],
   "source": [
    "[token.text for token in  docx2]"
   ]
  },
  {
   "cell_type": "markdown",
   "metadata": {},
   "source": [
    "### Checking Shape"
   ]
  },
  {
   "cell_type": "code",
   "execution_count": 39,
   "metadata": {},
   "outputs": [
    {
     "name": "stdout",
     "output_type": "stream",
     "text": [
      "Spacy\tXxxxx\n",
      "is\txx\n",
      "an\txx\n",
      "amazing\txxxx\n",
      "tool\txxxx\n",
      "like\txxxx\n",
      "NLTK\tXXXX\n"
     ]
    }
   ],
   "source": [
    "for word in docx2:\n",
    "    print(word.text, word.shape_, sep = '\\t')"
   ]
  },
  {
   "cell_type": "code",
   "execution_count": 44,
   "metadata": {},
   "outputs": [
    {
     "name": "stdout",
     "output_type": "stream",
     "text": [
      "Through\tADP\tXxxxx\tTrue\tTrue\n",
      "the\tDET\txxx\tTrue\tTrue\n",
      "International\tPROPN\tXxxxx\tTrue\tFalse\n",
      "Food\tPROPN\tXxxx\tTrue\tFalse\n",
      "Safety\tPROPN\tXxxxx\tTrue\tFalse\n",
      "Authorities\tPROPN\tXxxxx\tTrue\tFalse\n",
      "Network\tPROPN\tXxxxx\tTrue\tFalse\n",
      "(\tPUNCT\t(\tFalse\tFalse\n",
      "INFOSAN\tPROPN\tXXXX\tTrue\tFalse\n",
      ")\tPUNCT\t)\tFalse\tFalse\n",
      ",\tPUNCT\t,\tFalse\tFalse\n",
      "\n",
      "\tSPACE\t\n",
      "\tFalse\tFalse\n",
      "national\tADJ\txxxx\tTrue\tFalse\n",
      "food\tNOUN\txxxx\tTrue\tFalse\n",
      "safety\tNOUN\txxxx\tTrue\tFalse\n",
      "authorities\tNOUN\txxxx\tTrue\tFalse\n",
      "are\tVERB\txxx\tTrue\tTrue\n",
      "seeking\tVERB\txxxx\tTrue\tFalse\n",
      "more\tADJ\txxxx\tTrue\tTrue\n",
      "information\tNOUN\txxxx\tTrue\tFalse\n",
      "on\tADP\txx\tTrue\tTrue\n",
      "the\tDET\txxx\tTrue\tTrue\n",
      "\n",
      "\tSPACE\t\n",
      "\tFalse\tFalse\n",
      "potential\tNOUN\txxxx\tTrue\tFalse\n",
      "for\tADP\txxx\tTrue\tTrue\n",
      "persistence\tNOUN\txxxx\tTrue\tFalse\n",
      "of\tADP\txx\tTrue\tTrue\n",
      "SARS\tPROPN\tXXXX\tTrue\tFalse\n",
      "-\tPUNCT\t-\tFalse\tFalse\n",
      "CoV-2\tPROPN\tXxX-d\tFalse\tFalse\n",
      ",\tPUNCT\t,\tFalse\tFalse\n",
      "which\tDET\txxxx\tTrue\tTrue\n",
      "causes\tVERB\txxxx\tTrue\tFalse\n",
      "COVID-19\tPROPN\tXXXX-dd\tFalse\tFalse\n",
      ",\tPUNCT\t,\tFalse\tFalse\n",
      "on\tADP\txx\tTrue\tTrue\n",
      "foods\tNOUN\txxxx\tTrue\tFalse\n",
      "\n",
      "\tSPACE\t\n",
      "\tFalse\tFalse\n",
      "traded\tVERB\txxxx\tTrue\tFalse\n",
      "internationally\tADV\txxxx\tTrue\tFalse\n",
      "as\tADV\txx\tTrue\tTrue\n",
      "well\tADV\txxxx\tTrue\tTrue\n",
      "as\tADP\txx\tTrue\tTrue\n",
      "the\tDET\txxx\tTrue\tTrue\n",
      "potential\tADJ\txxxx\tTrue\tFalse\n",
      "role\tNOUN\txxxx\tTrue\tFalse\n",
      "of\tADP\txx\tTrue\tTrue\n",
      "food\tNOUN\txxxx\tTrue\tFalse\n",
      "in\tADP\txx\tTrue\tTrue\n",
      "the\tDET\txxx\tTrue\tTrue\n",
      "transmission\tNOUN\txxxx\tTrue\tFalse\n",
      "\n",
      "\tSPACE\t\n",
      "\tFalse\tFalse\n",
      "of\tADP\txx\tTrue\tTrue\n",
      "the\tDET\txxx\tTrue\tTrue\n",
      "virus\tNOUN\txxxx\tTrue\tFalse\n",
      ".\tPUNCT\t.\tFalse\tFalse\n",
      "Currently\tADV\tXxxxx\tTrue\tFalse\n",
      ",\tPUNCT\t,\tFalse\tFalse\n",
      "there\tADV\txxxx\tTrue\tTrue\n",
      "are\tVERB\txxx\tTrue\tTrue\n",
      "investigations\tNOUN\txxxx\tTrue\tFalse\n",
      "conducted\tVERB\txxxx\tTrue\tFalse\n",
      "to\tPART\txx\tTrue\tTrue\n",
      "evaluate\tVERB\txxxx\tTrue\tFalse\n",
      "the\tDET\txxx\tTrue\tTrue\n",
      "\n",
      "\tSPACE\t\n",
      "\tFalse\tFalse\n",
      "viability\tNOUN\txxxx\tTrue\tFalse\n",
      "and\tCCONJ\txxx\tTrue\tTrue\n",
      "survival\tNOUN\txxxx\tTrue\tFalse\n",
      "time\tNOUN\txxxx\tTrue\tFalse\n",
      "of\tADP\txx\tTrue\tTrue\n",
      "SARS\tPROPN\tXXXX\tTrue\tFalse\n",
      "-\tPUNCT\t-\tFalse\tFalse\n",
      "CoV-2\tPROPN\tXxX-d\tFalse\tFalse\n",
      ".\tPUNCT\t.\tFalse\tFalse\n",
      "As\tADP\tXx\tTrue\tTrue\n",
      "a\tDET\tx\tTrue\tTrue\n",
      "general\tADJ\txxxx\tTrue\tFalse\n",
      "rule\tNOUN\txxxx\tTrue\tFalse\n",
      ",\tPUNCT\t,\tFalse\tFalse\n",
      "the\tDET\txxx\tTrue\tTrue\n",
      "consumption\tNOUN\txxxx\tTrue\tFalse\n",
      "\n",
      "\tSPACE\t\n",
      "\tFalse\tFalse\n",
      "of\tADP\txx\tTrue\tTrue\n",
      "raw\tADJ\txxx\tTrue\tFalse\n",
      "or\tCCONJ\txx\tTrue\tTrue\n",
      "undercooked\tADJ\txxxx\tTrue\tFalse\n",
      "animal\tNOUN\txxxx\tTrue\tFalse\n",
      "products\tNOUN\txxxx\tTrue\tFalse\n",
      "should\tVERB\txxxx\tTrue\tTrue\n",
      "be\tVERB\txx\tTrue\tTrue\n",
      "avoided\tVERB\txxxx\tTrue\tFalse\n",
      ".\tPUNCT\t.\tFalse\tFalse\n",
      "Raw\tADJ\tXxx\tTrue\tFalse\n",
      "meat\tNOUN\txxxx\tTrue\tFalse\n",
      ",\tPUNCT\t,\tFalse\tFalse\n",
      "raw\tADJ\txxx\tTrue\tFalse\n",
      "\n",
      "\tSPACE\t\n",
      "\tFalse\tFalse\n",
      "milk\tNOUN\txxxx\tTrue\tFalse\n",
      "or\tCCONJ\txx\tTrue\tTrue\n",
      "raw\tADJ\txxx\tTrue\tFalse\n",
      "animal\tNOUN\txxxx\tTrue\tFalse\n",
      "organs\tNOUN\txxxx\tTrue\tFalse\n",
      "should\tVERB\txxxx\tTrue\tTrue\n",
      "be\tVERB\txx\tTrue\tTrue\n",
      "handled\tVERB\txxxx\tTrue\tFalse\n",
      "with\tADP\txxxx\tTrue\tTrue\n",
      "care\tNOUN\txxxx\tTrue\tFalse\n",
      "to\tPART\txx\tTrue\tTrue\n",
      "avoid\tVERB\txxxx\tTrue\tFalse\n",
      "crosscontamination\tNOUN\txxxx\tTrue\tFalse\n",
      "with\tADP\txxxx\tTrue\tTrue\n",
      "uncooked\tADJ\txxxx\tTrue\tFalse\n",
      "foods\tNOUN\txxxx\tTrue\tFalse\n",
      ".\tPUNCT\t.\tFalse\tFalse\n"
     ]
    }
   ],
   "source": [
    "for word in doc_covid:\n",
    "    print(word.text,word.pos_, word.shape_, word.is_alpha, word.is_stop, sep = '\\t')"
   ]
  },
  {
   "cell_type": "code",
   "execution_count": 58,
   "metadata": {},
   "outputs": [
    {
     "name": "stdout",
     "output_type": "stream",
     "text": [
      "CoV-2\tPROPN\tXxX-d\tFalse\tFalse\n",
      "COVID-19\tPROPN\tXXXX-dd\tFalse\tFalse\n",
      "CoV-2\tPROPN\tXxX-d\tFalse\tFalse\n"
     ]
    }
   ],
   "source": [
    "#Separating CoV-2 and COVID-19\n",
    "\n",
    "for word in doc_covid:\n",
    "    if word.is_alpha == False and word.is_stop == False and word.text and word.pos_ != 'PUNCT' and word.pos_ != 'SPACE':\n",
    "        print(word.text,word.pos_, word.shape_, word.is_alpha, word.is_stop, sep = '\\t')"
   ]
  },
  {
   "cell_type": "code",
   "execution_count": null,
   "metadata": {},
   "outputs": [],
   "source": []
  }
 ],
 "metadata": {
  "kernelspec": {
   "display_name": "Python 3",
   "language": "python",
   "name": "python3"
  },
  "language_info": {
   "codemirror_mode": {
    "name": "ipython",
    "version": 3
   },
   "file_extension": ".py",
   "mimetype": "text/x-python",
   "name": "python",
   "nbconvert_exporter": "python",
   "pygments_lexer": "ipython3",
   "version": "3.7.3"
  }
 },
 "nbformat": 4,
 "nbformat_minor": 2
}
