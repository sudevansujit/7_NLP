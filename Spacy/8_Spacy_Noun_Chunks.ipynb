{
 "cells": [
  {
   "cell_type": "markdown",
   "metadata": {},
   "source": [
    "### Noun Chunks"
   ]
  },
  {
   "cell_type": "markdown",
   "metadata": {},
   "source": [
    "- noun + word describing the noun\n",
    "- noun phrases"
   ]
  },
  {
   "cell_type": "code",
   "execution_count": 1,
   "metadata": {},
   "outputs": [],
   "source": [
    "import spacy\n",
    "nlp = spacy.load('en_core_web_sm')"
   ]
  },
  {
   "cell_type": "code",
   "execution_count": 3,
   "metadata": {},
   "outputs": [
    {
     "data": {
      "text/plain": [
       "Through the International Food Safety Authorities Network (INFOSAN),\n",
       "national food safety authorities are seeking more information on the\n",
       "potential for persistence of SARS-CoV-2, which causes COVID-19, on foods\n",
       "traded internationally as well as the potential role of food in the transmission\n",
       "of the virus. Currently, there are investigations conducted to evaluate the\n",
       "viability and survival time of SARS-CoV-2. As a general rule, the consumption\n",
       "of raw or undercooked animal products should be avoided. Raw meat, raw\n",
       "milk or raw animal organs should be handled with care to avoid crosscontamination with uncooked foods."
      ]
     },
     "execution_count": 3,
     "metadata": {},
     "output_type": "execute_result"
    }
   ],
   "source": [
    "doc_covid = nlp(open('covid19.txt').read())\n",
    "doc_covid"
   ]
  },
  {
   "cell_type": "markdown",
   "metadata": {},
   "source": [
    "### Finding Noun Chunks"
   ]
  },
  {
   "cell_type": "code",
   "execution_count": 9,
   "metadata": {},
   "outputs": [
    {
     "name": "stdout",
     "output_type": "stream",
     "text": [
      "['the International Food Safety Authorities Network', 'INFOSAN', 'national food safety authorities', 'more information', 'the\\npotential', 'persistence', 'SARS-CoV-2', 'COVID-19', 'foods', 'the potential role', 'food', 'the transmission', 'the virus', 'investigations', 'the\\nviability', 'survival time', 'SARS-CoV-2', 'a general rule', 'the consumption', 'raw or undercooked animal products', 'Raw meat', 'raw\\nmilk', 'raw animal organs', 'care', 'crosscontamination', 'uncooked foods']\n"
     ]
    }
   ],
   "source": [
    "noun_chunk = [token.text for token in doc_covid.noun_chunks]\n",
    "print(noun_chunk)\n"
   ]
  },
  {
   "cell_type": "markdown",
   "metadata": {},
   "source": [
    "### Root Text"
   ]
  },
  {
   "cell_type": "code",
   "execution_count": 10,
   "metadata": {},
   "outputs": [
    {
     "name": "stdout",
     "output_type": "stream",
     "text": [
      "['Network', 'INFOSAN', 'authorities', 'information', 'potential', 'persistence', 'CoV-2', 'COVID-19', 'foods', 'role', 'food', 'transmission', 'virus', 'investigations', 'viability', 'time', 'CoV-2', 'rule', 'consumption', 'products', 'meat', 'milk', 'organs', 'care', 'crosscontamination', 'foods']\n"
     ]
    }
   ],
   "source": [
    "# Root Text\n",
    "# The main noun to the next\n",
    "\n",
    "noun_chunk_root = [token.root.text for token in doc_covid.noun_chunks]\n",
    "print(noun_chunk_root)"
   ]
  },
  {
   "cell_type": "markdown",
   "metadata": {},
   "source": [
    "### Root Token Head"
   ]
  },
  {
   "cell_type": "code",
   "execution_count": 53,
   "metadata": {},
   "outputs": [
    {
     "name": "stdout",
     "output_type": "stream",
     "text": [
      "Through             Connector_text      Network             \n",
      "Network             Connector_text      INFOSAN             \n",
      "seeking             Connector_text      authorities         \n",
      "seeking             Connector_text      information         \n",
      "on                  Connector_text      potential           \n",
      "for                 Connector_text      persistence         \n",
      "of                  Connector_text      CoV-2               \n",
      "causes              Connector_text      COVID-19            \n",
      "on                  Connector_text      foods               \n",
      "potential           Connector_text      role                \n",
      "of                  Connector_text      food                \n",
      "in                  Connector_text      transmission        \n",
      "of                  Connector_text      virus               \n",
      "are                 Connector_text      investigations      \n",
      "evaluate            Connector_text      viability           \n",
      "viability           Connector_text      time                \n",
      "of                  Connector_text      CoV-2               \n",
      "As                  Connector_text      rule                \n",
      "avoided             Connector_text      consumption         \n",
      "of                  Connector_text      products            \n",
      "handled             Connector_text      meat                \n",
      "meat                Connector_text      milk                \n",
      "milk                Connector_text      organs              \n",
      "with                Connector_text      care                \n",
      "avoid               Connector_text      crosscontamination  \n",
      "with                Connector_text      foods               \n"
     ]
    }
   ],
   "source": [
    "# Text of the root token head\n",
    "\n",
    "for token in doc_covid.noun_chunks:\n",
    "    print('{:<20}{:<20}{:<20}'.format(token.root.head.text, 'Connector_text',token.root.text))"
   ]
  },
  {
   "cell_type": "markdown",
   "metadata": {},
   "source": [
    "### Finding Nouns from POS"
   ]
  },
  {
   "cell_type": "code",
   "execution_count": 11,
   "metadata": {},
   "outputs": [
    {
     "name": "stdout",
     "output_type": "stream",
     "text": [
      "['food', 'safety', 'authorities', 'information', 'potential', 'persistence', 'foods', 'role', 'food', 'transmission', 'virus', 'investigations', 'viability', 'survival', 'time', 'rule', 'consumption', 'animal', 'products', 'meat', 'milk', 'animal', 'organs', 'care', 'crosscontamination', 'foods']\n"
     ]
    }
   ],
   "source": [
    "noun = [token.text for token in doc_covid if token.pos_ == 'NOUN' ]\n",
    "print(noun)"
   ]
  },
  {
   "cell_type": "code",
   "execution_count": 31,
   "metadata": {},
   "outputs": [],
   "source": [
    "l1 = ['food', 'safety', 'authorities', 'information', 'potential', 'persistence', 'foods', 'role', 'food', 'transmission', 'virus', 'investigations', 'viability', 'survival', 'time', 'rule', 'consumption', 'animal', 'products', 'meat', 'milk', 'animal', 'organs', 'care', 'crosscontamination', 'foods']\n",
    "l1.sort()"
   ]
  },
  {
   "cell_type": "code",
   "execution_count": 32,
   "metadata": {},
   "outputs": [],
   "source": [
    "l2 = ['Network', 'INFOSAN', 'authorities', 'information', 'potential', 'persistence', 'CoV-2', 'COVID-19', 'foods', 'role', 'food', 'transmission', 'virus', 'investigations', 'viability', 'time', 'CoV-2', 'rule', 'consumption', 'products', 'meat', 'milk', 'organs', 'care', 'crosscontamination', 'foods']\n",
    "l2.sort()"
   ]
  },
  {
   "cell_type": "code",
   "execution_count": 36,
   "metadata": {},
   "outputs": [
    {
     "name": "stdout",
     "output_type": "stream",
     "text": [
      "['consumption', 'survival', 'products', 'virus', 'information', 'care', 'CoV-2', 'crosscontamination', 'authorities', 'time', 'milk', 'Network', 'potential', 'viability', 'foods', 'persistence', 'safety', 'investigations', 'meat', 'animal', 'INFOSAN', 'rule', 'organs', 'food', 'role', 'COVID-19', 'transmission']\n"
     ]
    }
   ],
   "source": [
    "# Finding all Nouns\n",
    "\n",
    "all = l1 + l2\n",
    "nouns_all = list(set(all))\n",
    "print(nouns_all)"
   ]
  },
  {
   "cell_type": "code",
   "execution_count": 39,
   "metadata": {},
   "outputs": [
    {
     "data": {
      "text/plain": [
       "27"
      ]
     },
     "execution_count": 39,
     "metadata": {},
     "output_type": "execute_result"
    }
   ],
   "source": [
    "len(nouns_all)"
   ]
  },
  {
   "cell_type": "code",
   "execution_count": 38,
   "metadata": {},
   "outputs": [
    {
     "name": "stdout",
     "output_type": "stream",
     "text": [
      "['consumption', 'products', 'virus', 'information', 'care', 'crosscontamination', 'authorities', 'time', 'milk', 'potential', 'viability', 'foods', 'persistence', 'investigations', 'meat', 'rule', 'organs', 'food', 'role', 'transmission']\n"
     ]
    }
   ],
   "source": [
    "# Nouns common in both list\n",
    "set_l1 = set(l1)\n",
    "set_l2 = set(l2)\n",
    "common_nouns = set_l1.intersection(set_l2)\n",
    "common_nouns = list(common_nouns)\n",
    "print(common_nouns)"
   ]
  },
  {
   "cell_type": "code",
   "execution_count": 40,
   "metadata": {},
   "outputs": [
    {
     "data": {
      "text/plain": [
       "20"
      ]
     },
     "execution_count": 40,
     "metadata": {},
     "output_type": "execute_result"
    }
   ],
   "source": [
    "len(common_nouns)"
   ]
  },
  {
   "cell_type": "code",
   "execution_count": null,
   "metadata": {},
   "outputs": [],
   "source": []
  }
 ],
 "metadata": {
  "kernelspec": {
   "display_name": "Python 3",
   "language": "python",
   "name": "python3"
  },
  "language_info": {
   "codemirror_mode": {
    "name": "ipython",
    "version": 3
   },
   "file_extension": ".py",
   "mimetype": "text/x-python",
   "name": "python",
   "nbconvert_exporter": "python",
   "pygments_lexer": "ipython3",
   "version": "3.7.3"
  }
 },
 "nbformat": 4,
 "nbformat_minor": 2
}
