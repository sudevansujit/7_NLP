{
 "cells": [
  {
   "cell_type": "markdown",
   "metadata": {},
   "source": [
    "### Semantic Similarity"
   ]
  },
  {
   "cell_type": "markdown",
   "metadata": {},
   "source": [
    "- object1.similarity(object2)"
   ]
  },
  {
   "cell_type": "markdown",
   "metadata": {},
   "source": [
    "Uses\n",
    "\n",
    "- For Recommendation systems\n",
    "- Data Preprocessing \n",
    "> for removing duplicates\n",
    "\n",
    "> use 'en_core_web_lg"
   ]
  },
  {
   "cell_type": "code",
   "execution_count": 7,
   "metadata": {},
   "outputs": [],
   "source": [
    "import spacy\n",
    "nlp = spacy.load('en_core_web_md')"
   ]
  },
  {
   "cell_type": "code",
   "execution_count": 8,
   "metadata": {},
   "outputs": [],
   "source": [
    "doc1 = nlp('wolf')\n",
    "doc2 = nlp('dog')"
   ]
  },
  {
   "cell_type": "code",
   "execution_count": 9,
   "metadata": {},
   "outputs": [
    {
     "data": {
      "text/plain": [
       "0.5206573188004238"
      ]
     },
     "execution_count": 9,
     "metadata": {},
     "output_type": "execute_result"
    }
   ],
   "source": [
    "doc1.similarity(doc2)"
   ]
  },
  {
   "cell_type": "code",
   "execution_count": 10,
   "metadata": {},
   "outputs": [],
   "source": [
    "#Synonyms\n",
    "doc3 = nlp('clever')\n",
    "doc4 = nlp('smart')"
   ]
  },
  {
   "cell_type": "code",
   "execution_count": 11,
   "metadata": {},
   "outputs": [
    {
     "data": {
      "text/plain": [
       "0.6583482458106189"
      ]
     },
     "execution_count": 11,
     "metadata": {},
     "output_type": "execute_result"
    }
   ],
   "source": [
    "doc3.similarity(doc4)"
   ]
  },
  {
   "cell_type": "code",
   "execution_count": 21,
   "metadata": {},
   "outputs": [
    {
     "data": {
      "text/plain": [
       "food safely traded internationally transmission virus"
      ]
     },
     "execution_count": 21,
     "metadata": {},
     "output_type": "execute_result"
    }
   ],
   "source": [
    "doc_covid = nlp('food safely traded internationally transmission virus')\n",
    "doc_covid"
   ]
  },
  {
   "cell_type": "code",
   "execution_count": 23,
   "metadata": {},
   "outputs": [
    {
     "name": "stdout",
     "output_type": "stream",
     "text": [
      "food                :food                 :1.0                 \n",
      "food                :safely               :0.27979347109794617 \n",
      "food                :traded               :0.15414847433567047 \n",
      "food                :internationally      :0.25375282764434814 \n",
      "food                :transmission         :0.15381969511508942 \n",
      "food                :virus                :0.18666549026966095 \n",
      "safely              :food                 :0.27979347109794617 \n",
      "safely              :safely               :1.0                 \n",
      "safely              :traded               :0.17568489909172058 \n",
      "safely              :internationally      :0.2529754638671875  \n",
      "safely              :transmission         :0.1893715113401413  \n",
      "safely              :virus                :0.2541821002960205  \n",
      "traded              :food                 :0.15414847433567047 \n",
      "traded              :safely               :0.17568489909172058 \n",
      "traded              :traded               :1.0                 \n",
      "traded              :internationally      :0.23741725087165833 \n",
      "traded              :transmission         :0.09407266229391098 \n",
      "traded              :virus                :0.01390250027179718 \n",
      "internationally     :food                 :0.25375282764434814 \n",
      "internationally     :safely               :0.2529754638671875  \n",
      "internationally     :traded               :0.23741725087165833 \n",
      "internationally     :internationally      :1.0                 \n",
      "internationally     :transmission         :0.1131635457277298  \n",
      "internationally     :virus                :0.058430738747119904\n",
      "transmission        :food                 :0.15381969511508942 \n",
      "transmission        :safely               :0.1893715113401413  \n",
      "transmission        :traded               :0.09407266229391098 \n",
      "transmission        :internationally      :0.1131635457277298  \n",
      "transmission        :transmission         :1.0                 \n",
      "transmission        :virus                :0.34076330065727234 \n",
      "virus               :food                 :0.18666549026966095 \n",
      "virus               :safely               :0.2541821002960205  \n",
      "virus               :traded               :0.01390250027179718 \n",
      "virus               :internationally      :0.058430738747119904\n",
      "virus               :transmission         :0.34076330065727234 \n",
      "virus               :virus                :1.0                 \n"
     ]
    }
   ],
   "source": [
    "for token1 in doc_covid:\n",
    "    for token2 in doc_covid:\n",
    "        print('{:<20}:{:<20} :{:<20}'.format(token1.text, token2.text,token1.similarity(token2)))"
   ]
  },
  {
   "cell_type": "code",
   "execution_count": 25,
   "metadata": {},
   "outputs": [],
   "source": [
    "mylist = [(token1.text, token2.text, token1.similarity(token2)) for token1 in doc_covid for token2 in doc_covid]"
   ]
  },
  {
   "cell_type": "code",
   "execution_count": 26,
   "metadata": {},
   "outputs": [
    {
     "data": {
      "text/plain": [
       "[('food', 'food', 1.0),\n",
       " ('food', 'safely', 0.27979347),\n",
       " ('food', 'traded', 0.15414847),\n",
       " ('food', 'internationally', 0.25375283),\n",
       " ('food', 'transmission', 0.1538197),\n",
       " ('food', 'virus', 0.18666549),\n",
       " ('safely', 'food', 0.27979347),\n",
       " ('safely', 'safely', 1.0),\n",
       " ('safely', 'traded', 0.1756849),\n",
       " ('safely', 'internationally', 0.25297546),\n",
       " ('safely', 'transmission', 0.18937151),\n",
       " ('safely', 'virus', 0.2541821),\n",
       " ('traded', 'food', 0.15414847),\n",
       " ('traded', 'safely', 0.1756849),\n",
       " ('traded', 'traded', 1.0),\n",
       " ('traded', 'internationally', 0.23741725),\n",
       " ('traded', 'transmission', 0.09407266),\n",
       " ('traded', 'virus', 0.0139025),\n",
       " ('internationally', 'food', 0.25375283),\n",
       " ('internationally', 'safely', 0.25297546),\n",
       " ('internationally', 'traded', 0.23741725),\n",
       " ('internationally', 'internationally', 1.0),\n",
       " ('internationally', 'transmission', 0.113163546),\n",
       " ('internationally', 'virus', 0.05843074),\n",
       " ('transmission', 'food', 0.1538197),\n",
       " ('transmission', 'safely', 0.18937151),\n",
       " ('transmission', 'traded', 0.09407266),\n",
       " ('transmission', 'internationally', 0.113163546),\n",
       " ('transmission', 'transmission', 1.0),\n",
       " ('transmission', 'virus', 0.3407633),\n",
       " ('virus', 'food', 0.18666549),\n",
       " ('virus', 'safely', 0.2541821),\n",
       " ('virus', 'traded', 0.0139025),\n",
       " ('virus', 'internationally', 0.05843074),\n",
       " ('virus', 'transmission', 0.3407633),\n",
       " ('virus', 'virus', 1.0)]"
      ]
     },
     "execution_count": 26,
     "metadata": {},
     "output_type": "execute_result"
    }
   ],
   "source": [
    "mylist"
   ]
  },
  {
   "cell_type": "code",
   "execution_count": 27,
   "metadata": {},
   "outputs": [],
   "source": [
    "import pandas as pd"
   ]
  },
  {
   "cell_type": "code",
   "execution_count": 28,
   "metadata": {},
   "outputs": [
    {
     "data": {
      "text/html": [
       "<div>\n",
       "<style scoped>\n",
       "    .dataframe tbody tr th:only-of-type {\n",
       "        vertical-align: middle;\n",
       "    }\n",
       "\n",
       "    .dataframe tbody tr th {\n",
       "        vertical-align: top;\n",
       "    }\n",
       "\n",
       "    .dataframe thead th {\n",
       "        text-align: right;\n",
       "    }\n",
       "</style>\n",
       "<table border=\"1\" class=\"dataframe\">\n",
       "  <thead>\n",
       "    <tr style=\"text-align: right;\">\n",
       "      <th></th>\n",
       "      <th>Token1</th>\n",
       "      <th>Token2</th>\n",
       "      <th>Similarity</th>\n",
       "    </tr>\n",
       "  </thead>\n",
       "  <tbody>\n",
       "    <tr>\n",
       "      <th>0</th>\n",
       "      <td>food</td>\n",
       "      <td>food</td>\n",
       "      <td>1.000000</td>\n",
       "    </tr>\n",
       "    <tr>\n",
       "      <th>1</th>\n",
       "      <td>food</td>\n",
       "      <td>safely</td>\n",
       "      <td>0.279793</td>\n",
       "    </tr>\n",
       "    <tr>\n",
       "      <th>2</th>\n",
       "      <td>food</td>\n",
       "      <td>traded</td>\n",
       "      <td>0.154148</td>\n",
       "    </tr>\n",
       "    <tr>\n",
       "      <th>3</th>\n",
       "      <td>food</td>\n",
       "      <td>internationally</td>\n",
       "      <td>0.253753</td>\n",
       "    </tr>\n",
       "    <tr>\n",
       "      <th>4</th>\n",
       "      <td>food</td>\n",
       "      <td>transmission</td>\n",
       "      <td>0.153820</td>\n",
       "    </tr>\n",
       "  </tbody>\n",
       "</table>\n",
       "</div>"
      ],
      "text/plain": [
       "  Token1           Token2  Similarity\n",
       "0   food             food    1.000000\n",
       "1   food           safely    0.279793\n",
       "2   food           traded    0.154148\n",
       "3   food  internationally    0.253753\n",
       "4   food     transmission    0.153820"
      ]
     },
     "execution_count": 28,
     "metadata": {},
     "output_type": "execute_result"
    }
   ],
   "source": [
    "covid_df = pd.DataFrame(mylist, columns = ['Token1', 'Token2', 'Similarity'])\n",
    "covid_df.head()"
   ]
  },
  {
   "cell_type": "code",
   "execution_count": 34,
   "metadata": {},
   "outputs": [
    {
     "data": {
      "text/html": [
       "<div>\n",
       "<style scoped>\n",
       "    .dataframe tbody tr th:only-of-type {\n",
       "        vertical-align: middle;\n",
       "    }\n",
       "\n",
       "    .dataframe tbody tr th {\n",
       "        vertical-align: top;\n",
       "    }\n",
       "\n",
       "    .dataframe thead th {\n",
       "        text-align: right;\n",
       "    }\n",
       "</style>\n",
       "<table border=\"1\" class=\"dataframe\">\n",
       "  <thead>\n",
       "    <tr style=\"text-align: right;\">\n",
       "      <th></th>\n",
       "      <th>Token1</th>\n",
       "      <th>Token2</th>\n",
       "      <th>Similarity</th>\n",
       "    </tr>\n",
       "  </thead>\n",
       "  <tbody>\n",
       "    <tr>\n",
       "      <th>15</th>\n",
       "      <td>traded</td>\n",
       "      <td>internationally</td>\n",
       "      <td>0.237417</td>\n",
       "    </tr>\n",
       "    <tr>\n",
       "      <th>20</th>\n",
       "      <td>internationally</td>\n",
       "      <td>traded</td>\n",
       "      <td>0.237417</td>\n",
       "    </tr>\n",
       "    <tr>\n",
       "      <th>9</th>\n",
       "      <td>safely</td>\n",
       "      <td>internationally</td>\n",
       "      <td>0.252975</td>\n",
       "    </tr>\n",
       "    <tr>\n",
       "      <th>19</th>\n",
       "      <td>internationally</td>\n",
       "      <td>safely</td>\n",
       "      <td>0.252975</td>\n",
       "    </tr>\n",
       "    <tr>\n",
       "      <th>3</th>\n",
       "      <td>food</td>\n",
       "      <td>internationally</td>\n",
       "      <td>0.253753</td>\n",
       "    </tr>\n",
       "    <tr>\n",
       "      <th>18</th>\n",
       "      <td>internationally</td>\n",
       "      <td>food</td>\n",
       "      <td>0.253753</td>\n",
       "    </tr>\n",
       "    <tr>\n",
       "      <th>31</th>\n",
       "      <td>virus</td>\n",
       "      <td>safely</td>\n",
       "      <td>0.254182</td>\n",
       "    </tr>\n",
       "    <tr>\n",
       "      <th>11</th>\n",
       "      <td>safely</td>\n",
       "      <td>virus</td>\n",
       "      <td>0.254182</td>\n",
       "    </tr>\n",
       "    <tr>\n",
       "      <th>1</th>\n",
       "      <td>food</td>\n",
       "      <td>safely</td>\n",
       "      <td>0.279793</td>\n",
       "    </tr>\n",
       "    <tr>\n",
       "      <th>6</th>\n",
       "      <td>safely</td>\n",
       "      <td>food</td>\n",
       "      <td>0.279793</td>\n",
       "    </tr>\n",
       "    <tr>\n",
       "      <th>29</th>\n",
       "      <td>transmission</td>\n",
       "      <td>virus</td>\n",
       "      <td>0.340763</td>\n",
       "    </tr>\n",
       "    <tr>\n",
       "      <th>34</th>\n",
       "      <td>virus</td>\n",
       "      <td>transmission</td>\n",
       "      <td>0.340763</td>\n",
       "    </tr>\n",
       "    <tr>\n",
       "      <th>28</th>\n",
       "      <td>transmission</td>\n",
       "      <td>transmission</td>\n",
       "      <td>1.000000</td>\n",
       "    </tr>\n",
       "    <tr>\n",
       "      <th>0</th>\n",
       "      <td>food</td>\n",
       "      <td>food</td>\n",
       "      <td>1.000000</td>\n",
       "    </tr>\n",
       "    <tr>\n",
       "      <th>14</th>\n",
       "      <td>traded</td>\n",
       "      <td>traded</td>\n",
       "      <td>1.000000</td>\n",
       "    </tr>\n",
       "    <tr>\n",
       "      <th>7</th>\n",
       "      <td>safely</td>\n",
       "      <td>safely</td>\n",
       "      <td>1.000000</td>\n",
       "    </tr>\n",
       "    <tr>\n",
       "      <th>21</th>\n",
       "      <td>internationally</td>\n",
       "      <td>internationally</td>\n",
       "      <td>1.000000</td>\n",
       "    </tr>\n",
       "    <tr>\n",
       "      <th>35</th>\n",
       "      <td>virus</td>\n",
       "      <td>virus</td>\n",
       "      <td>1.000000</td>\n",
       "    </tr>\n",
       "  </tbody>\n",
       "</table>\n",
       "</div>"
      ],
      "text/plain": [
       "             Token1           Token2  Similarity\n",
       "15           traded  internationally    0.237417\n",
       "20  internationally           traded    0.237417\n",
       "9            safely  internationally    0.252975\n",
       "19  internationally           safely    0.252975\n",
       "3              food  internationally    0.253753\n",
       "18  internationally             food    0.253753\n",
       "31            virus           safely    0.254182\n",
       "11           safely            virus    0.254182\n",
       "1              food           safely    0.279793\n",
       "6            safely             food    0.279793\n",
       "29     transmission            virus    0.340763\n",
       "34            virus     transmission    0.340763\n",
       "28     transmission     transmission    1.000000\n",
       "0              food             food    1.000000\n",
       "14           traded           traded    1.000000\n",
       "7            safely           safely    1.000000\n",
       "21  internationally  internationally    1.000000\n",
       "35            virus            virus    1.000000"
      ]
     },
     "execution_count": 34,
     "metadata": {},
     "output_type": "execute_result"
    }
   ],
   "source": [
    "covid_df[covid_df['Similarity'] > 0.2 ].sort_values(by = 'Similarity')"
   ]
  },
  {
   "cell_type": "code",
   "execution_count": 49,
   "metadata": {},
   "outputs": [],
   "source": [
    "heat = covid_df[covid_df['Similarity'] > 0.2 ].sort_values(by = 'Similarity')[:12:2]"
   ]
  },
  {
   "cell_type": "code",
   "execution_count": 50,
   "metadata": {},
   "outputs": [
    {
     "data": {
      "text/html": [
       "<div>\n",
       "<style scoped>\n",
       "    .dataframe tbody tr th:only-of-type {\n",
       "        vertical-align: middle;\n",
       "    }\n",
       "\n",
       "    .dataframe tbody tr th {\n",
       "        vertical-align: top;\n",
       "    }\n",
       "\n",
       "    .dataframe thead th {\n",
       "        text-align: right;\n",
       "    }\n",
       "</style>\n",
       "<table border=\"1\" class=\"dataframe\">\n",
       "  <thead>\n",
       "    <tr style=\"text-align: right;\">\n",
       "      <th></th>\n",
       "      <th>Token1</th>\n",
       "      <th>Token2</th>\n",
       "      <th>Similarity</th>\n",
       "    </tr>\n",
       "  </thead>\n",
       "  <tbody>\n",
       "    <tr>\n",
       "      <th>15</th>\n",
       "      <td>traded</td>\n",
       "      <td>internationally</td>\n",
       "      <td>0.237417</td>\n",
       "    </tr>\n",
       "    <tr>\n",
       "      <th>9</th>\n",
       "      <td>safely</td>\n",
       "      <td>internationally</td>\n",
       "      <td>0.252975</td>\n",
       "    </tr>\n",
       "    <tr>\n",
       "      <th>3</th>\n",
       "      <td>food</td>\n",
       "      <td>internationally</td>\n",
       "      <td>0.253753</td>\n",
       "    </tr>\n",
       "    <tr>\n",
       "      <th>31</th>\n",
       "      <td>virus</td>\n",
       "      <td>safely</td>\n",
       "      <td>0.254182</td>\n",
       "    </tr>\n",
       "    <tr>\n",
       "      <th>1</th>\n",
       "      <td>food</td>\n",
       "      <td>safely</td>\n",
       "      <td>0.279793</td>\n",
       "    </tr>\n",
       "    <tr>\n",
       "      <th>29</th>\n",
       "      <td>transmission</td>\n",
       "      <td>virus</td>\n",
       "      <td>0.340763</td>\n",
       "    </tr>\n",
       "  </tbody>\n",
       "</table>\n",
       "</div>"
      ],
      "text/plain": [
       "          Token1           Token2  Similarity\n",
       "15        traded  internationally    0.237417\n",
       "9         safely  internationally    0.252975\n",
       "3           food  internationally    0.253753\n",
       "31         virus           safely    0.254182\n",
       "1           food           safely    0.279793\n",
       "29  transmission            virus    0.340763"
      ]
     },
     "execution_count": 50,
     "metadata": {},
     "output_type": "execute_result"
    }
   ],
   "source": [
    "heat"
   ]
  },
  {
   "cell_type": "code",
   "execution_count": 51,
   "metadata": {},
   "outputs": [],
   "source": [
    "heat = heat.replace({'traded': 0, 'internationally': 1, 'safely':2, 'food': 3, 'virus': 4, 'transmission':5})"
   ]
  },
  {
   "cell_type": "code",
   "execution_count": 52,
   "metadata": {},
   "outputs": [],
   "source": [
    "import matplotlib.pyplot as plt\n",
    "import seaborn as sns\n"
   ]
  },
  {
   "cell_type": "code",
   "execution_count": 53,
   "metadata": {},
   "outputs": [
    {
     "data": {
      "text/html": [
       "<div>\n",
       "<style scoped>\n",
       "    .dataframe tbody tr th:only-of-type {\n",
       "        vertical-align: middle;\n",
       "    }\n",
       "\n",
       "    .dataframe tbody tr th {\n",
       "        vertical-align: top;\n",
       "    }\n",
       "\n",
       "    .dataframe thead th {\n",
       "        text-align: right;\n",
       "    }\n",
       "</style>\n",
       "<table border=\"1\" class=\"dataframe\">\n",
       "  <thead>\n",
       "    <tr style=\"text-align: right;\">\n",
       "      <th></th>\n",
       "      <th>Token1</th>\n",
       "      <th>Token2</th>\n",
       "      <th>Similarity</th>\n",
       "    </tr>\n",
       "  </thead>\n",
       "  <tbody>\n",
       "    <tr>\n",
       "      <th>Token1</th>\n",
       "      <td>1.000000</td>\n",
       "      <td>0.778056</td>\n",
       "      <td>0.747390</td>\n",
       "    </tr>\n",
       "    <tr>\n",
       "      <th>Token2</th>\n",
       "      <td>0.778056</td>\n",
       "      <td>1.000000</td>\n",
       "      <td>0.949477</td>\n",
       "    </tr>\n",
       "    <tr>\n",
       "      <th>Similarity</th>\n",
       "      <td>0.747390</td>\n",
       "      <td>0.949477</td>\n",
       "      <td>1.000000</td>\n",
       "    </tr>\n",
       "  </tbody>\n",
       "</table>\n",
       "</div>"
      ],
      "text/plain": [
       "              Token1    Token2  Similarity\n",
       "Token1      1.000000  0.778056    0.747390\n",
       "Token2      0.778056  1.000000    0.949477\n",
       "Similarity  0.747390  0.949477    1.000000"
      ]
     },
     "execution_count": 53,
     "metadata": {},
     "output_type": "execute_result"
    }
   ],
   "source": [
    "heat.corr()"
   ]
  },
  {
   "cell_type": "code",
   "execution_count": 56,
   "metadata": {},
   "outputs": [
    {
     "data": {
      "text/plain": [
       "<matplotlib.axes._subplots.AxesSubplot at 0x159e2240>"
      ]
     },
     "execution_count": 56,
     "metadata": {},
     "output_type": "execute_result"
    },
    {
     "data": {
      "image/png": "[encoded data removed]",
      "text/plain": [
       "<Figure size 1440x720 with 2 Axes>"
      ]
     },
     "metadata": {
      "needs_background": "light"
     },
     "output_type": "display_data"
    }
   ],
   "source": [
    "plt.figure(figsize = (20, 10))\n",
    "sns.heatmap(heat, annot = True)"
   ]
  },
  {
   "cell_type": "code",
   "execution_count": null,
   "metadata": {},
   "outputs": [],
   "source": []
  }
 ],
 "metadata": {
  "kernelspec": {
   "display_name": "Python 3",
   "language": "python",
   "name": "python3"
  },
  "language_info": {
   "codemirror_mode": {
    "name": "ipython",
    "version": 3
   },
   "file_extension": ".py",
   "mimetype": "text/x-python",
   "name": "python",
   "nbconvert_exporter": "python",
   "pygments_lexer": "ipython3",
   "version": "3.7.3"
  }
 },
 "nbformat": 4,
 "nbformat_minor": 2
}
