{
 "cells": [
  {
   "cell_type": "markdown",
   "metadata": {},
   "source": [
    "## Redaction of Names from Documents Using SpaCy\n",
    "\n",
    "#### Applications of Named Entity Recognition\n",
    "- Sanitization is the process of removing sensitive information from a document or other message (or sometimes encrypting it), so that the document may be distributed to a broader audience \n",
    "\n",
    "#### Purpose of Sanitization/Redaction of Document\n",
    "- For anonymity of source in document\n",
    "- To ensure there is no sensitive or personally identifiable information in the document\n",
    "- Censorship"
   ]
  },
  {
   "cell_type": "code",
   "execution_count": 1,
   "metadata": {},
   "outputs": [],
   "source": [
    "import spacy\n",
    "nlp = spacy.load('en_core_web_sm')"
   ]
  },
  {
   "cell_type": "code",
   "execution_count": 2,
   "metadata": {},
   "outputs": [],
   "source": [
    "doc = nlp(open('covid_research.txt').read())"
   ]
  },
  {
   "cell_type": "code",
   "execution_count": 8,
   "metadata": {},
   "outputs": [
    {
     "name": "stdout",
     "output_type": "stream",
     "text": [
      "Sonya Babu-Narayan            PERSON                        \n",
      "Hugo Pedder                   PERSON                        \n",
      "Guo et al.                    PERSON                        \n",
      "Madjid et al.                 PERSON                        \n",
      "Mohammad Madjid               PERSON                        \n",
      "Guo                           PERSON                        \n",
      "Prof Kevin McConway           PERSON                        \n",
      "Guo et al.                    PERSON                        \n",
      "Prof Naveed Sattar            PERSON                        \n",
      "Prof Tim Chico                PERSON                        \n",
      "Troponin                      PERSON                        \n"
     ]
    }
   ],
   "source": [
    "for token in doc.ents:\n",
    "    if token.label_ == 'PERSON':\n",
    "        print('{:<30}{:<30}'.format(token.text, token.label_))"
   ]
  },
  {
   "cell_type": "code",
   "execution_count": 9,
   "metadata": {},
   "outputs": [],
   "source": [
    "# Function to Sanitize/Redact Names\n",
    "def sanitize_names(text):\n",
    "    docx = nlp(text)\n",
    "    redacted_sentences = []\n",
    "    for ent in docx.ents:\n",
    "        ent.merge()\n",
    "    for token in docx:\n",
    "        if token.ent_type_ == 'PERSON':\n",
    "            redacted_sentences.append(\"[REDACTED]\")\n",
    "        else:\n",
    "            redacted_sentences.append(token.string)\n",
    "    return \"\".join(redacted_sentences)"
   ]
  },
  {
   "cell_type": "code",
   "execution_count": 10,
   "metadata": {},
   "outputs": [],
   "source": [
    "ex1 = open('covid_research.txt').read()"
   ]
  },
  {
   "cell_type": "code",
   "execution_count": 11,
   "metadata": {},
   "outputs": [
    {
     "data": {
      "text/plain": [
       "'Dr [REDACTED], Associate Medical Director at the British Heart Foundation and Honorary Consultant Cardiologist, said: \\n\\n“Every day we learn more about Covid-19. Information to date suggests that people with heart disease, or are at risk of heart disease due to factors such as high blood pressure, diabetes or being severely overweight with a body mass index higher than 40, are at an increased risk of complications caused by the virus.\\n\\n“If you have one of these conditions you should be taking all precautions possible to reduce your chance of catching the virus.\\n\\n“Viruses can cause significant inflammation which can injure the heart and can worsen a person’s existing heart condition even if the virus does not enter the heart directly.\\n\\n“Evidence shows that people with higher levels of a protein used to measure heart injury in their blood are more likely to die after contracting Covid-19. \\n\\n“However this kind of observational evidence can’t tell us why some people suffer heart damage, whether this is caused by the virus or how exactly this may lead to worse outcomes. It is now crucially important that we continue to research coronavirus, and how it affects the heart, to help us to save and improve as many lives as possible.”\\n\\n \\n\\n[REDACTED], Senior Research Associate in Statistical Modelling at the Bristol Medical School, University of Bristol, said:\\n\\n“Given the severity and speed of COVID-19’s impact globally, the quality of evidence that is available for us to draw on is currently very limited.\\n\\n“Guo et al. is a case series, which follows-up patients who have been infected by COVID-19 and try to draw conclusions regarding the impact of treatments and the pathophysiology of the disease on mortality. They report an association between myocardial injury and COVID-19 infection mortality. Given the observational nature of the data it is difficult to identify whether the link is causal, particularly as there can be other factors in addition to myocardial injury responsible for death in an individual that are not clearly identified within the data.\\n\\n“The small sample within [REDACTED]is also from patients in a specific hospital. It is therefore quite selective and is likely to depend on specific factors associated with hospitalisation, which may not be generalisable to other countries/regions as it may depend on specific policies or bed availability as much as severity of symptoms.\\n\\n“The review by [REDACTED]reports the potential effects of coronaviruses on the cardiovascular system, but as this has not involved a systematic literature search the studies included may be selectively supportive of the authors’ conclusions.\\n\\n“Given what is known about coronaviruses and what has been found so far in terms of poorer outcomes for individuals with cardiovascular disease, these results are not surprising. They are however concerning and could be useful for helping to direct policy and triaging of patients with COVID-19 infection.\\n\\n“The comment in the press release – “It is likely that even in the absence of previous heart disease, the heart muscle can be affected by coronavirus disease,” said [REDACTED], MD, MS, the study’s lead author and an assistant professor of cardiology at McGovern Medical School at UTHealth” – appears to be based in part on the effects of a previous coronavirus disease (SARS), though as there were relatively few cases this was difficult to confirm. The case report by Inciardi et al. suggests the effects could be similar for COVID-19, though it is a report from only a single patient, which makes it very difficult to make generalisations regarding this effect to the wider public.\\n\\n“Whilst this is clearly a very important area of research on which to focus, it is a conclusion that may cause unnecessary concern given the lack of evidence supporting it at this stage. There is however evidence supporting the statement that the risk of myocardial injury is higher in those who already have heart disease (see [REDACTED]et al.).”\\n\\n \\n\\n[REDACTED], Emeritus Professor of Applied Statistics, The Open University, said:\\n\\n“As a statistician, I can’t comment on the physiological and medical aspects of these reports. But, I’d say, the really important question is how likely effects on the heart might be, and we just can’t tell from the information that’s available so far. The case report of one patient who had serious heart symptoms after infection with the new virus does indicate that effects on the heart can happen, but it says nothing about how likely that is, and can’t say too much about how it can happen. The retrospective study of hospitalised patients in Wuhan ([REDACTED]) throws slightly more light on the chances, but it examined only patients who were hospitalised (and most people with COVID-19 are not hospitalised). So it can’t tell us about the general chance of heart damage to people with COVID-19, including the majority who do not go to hospital as well as the minority who do. And the number of patients in that study was not large, and most of them had existing diseases that are already understood to increase their risks, so the study can’t really tie down the risks to people without underlying disease very precisely, even for those who are hospitalised.”\\n\\n \\n\\n[REDACTED], Professor of Metabolic Medicine, University of Glasgow, said:\\n\\nThese three papers provide further evidence for the potential of COVID19 to adversely affect the heart, which may be one reason for high mortality rates with this virus, but more robust studies to examine a potential “virus-to-heart” toxicity link are now needed.  I say this, since current studies have deficiencies and are as yet not considered definitive in the proof of this link.  I am sure more robust studies will be urgently started in differing parts of the world.  However, I agree with the authors that in the meantime, we should ensure good guideline recommended management of risk factors in people with risk factors for, or existing heart disease.”\\n\\n \\n\\n[REDACTED], Professor of Cardiovascular Medicine and Honorary Consultant Cardiologist, University of Sheffield, said:\\n\\n“There have already been an impressive number of studies published that help us understand COVID-19. It is important to recognise we are only at the beginning of acquiring enough information about a very new disease, and larger and longer studies than those published so far will be needed. Doing this research presents many challenges given how overstretched the world’s healthcare systems are or will become, and the authors of these studies should be congratulated for their hard work.\\n\\n“Although COVID-19 is a new virus, cardiologists are already familiar with the effects of other viral infections on the heart. These often cause inflammation of the lining of the heart (pericarditis), the heart muscle (myocarditis) or trigger worsening of existing heart conditions such as heart attack or heart failure. All these complications are associated with other viral infections, and we are experienced in dealing with these, especially if we do not have to care for too many people at once. This is why the distancing measures and self-isolation in place are so essential to slow the numbers of people developing COVID-19.\\n\\n“Severe COVID-19 infection appears more likely than some other viral infections to cause damage to the heart muscle (detected by measuring a protein called [REDACTED]in the blood). This heart damage is likely to be due to multiple reasons, and can happen in anyone, including those without heart disease.\\n\\n“Physicians, intensive care doctors and cardiologists are already very familiar with dealing with the heart problems that can be seen with COVID-19, such as abnormal heart rhythms, impaired pumping function, and inflammation. Although we do not have a specific treatment yet, it is possible to manage these complications until the patient recovers.”'"
      ]
     },
     "execution_count": 11,
     "metadata": {},
     "output_type": "execute_result"
    }
   ],
   "source": [
    "# Redact the Names\n",
    "sanitize_names(ex1)"
   ]
  },
  {
   "cell_type": "code",
   "execution_count": 12,
   "metadata": {},
   "outputs": [],
   "source": [
    "from spacy import displacy"
   ]
  },
  {
   "cell_type": "code",
   "execution_count": 18,
   "metadata": {},
   "outputs": [
    {
     "data": {
      "text/html": [
       "<span class=\"tex2jax_ignore\"><div class=\"entities\" style=\"line-height: 2.5; direction: ltr\">Dr \n",
       "<mark class=\"entity\" style=\"background: #aa9cfc; padding: 0.45em 0.6em; margin: 0 0.25em; line-height: 1; border-radius: 0.35em;\">\n",
       "    Sonya Babu-Narayan\n",
       "    <span style=\"font-size: 0.8em; font-weight: bold; line-height: 1; border-radius: 0.35em; text-transform: uppercase; vertical-align: middle; margin-left: 0.5rem\">PERSON</span>\n",
       "</mark>\n",
       ", \n",
       "<mark class=\"entity\" style=\"background: #7aecec; padding: 0.45em 0.6em; margin: 0 0.25em; line-height: 1; border-radius: 0.35em;\">\n",
       "    Associate Medical\n",
       "    <span style=\"font-size: 0.8em; font-weight: bold; line-height: 1; border-radius: 0.35em; text-transform: uppercase; vertical-align: middle; margin-left: 0.5rem\">ORG</span>\n",
       "</mark>\n",
       " Director at \n",
       "<mark class=\"entity\" style=\"background: #7aecec; padding: 0.45em 0.6em; margin: 0 0.25em; line-height: 1; border-radius: 0.35em;\">\n",
       "    the British Heart Foundation\n",
       "    <span style=\"font-size: 0.8em; font-weight: bold; line-height: 1; border-radius: 0.35em; text-transform: uppercase; vertical-align: middle; margin-left: 0.5rem\">ORG</span>\n",
       "</mark>\n",
       " and Honorary Consultant Cardiologist, said: </br></br>“Every day we learn more about Covid-19. Information to date suggests that people with heart disease, or are at risk of heart disease due to factors such as high blood pressure, diabetes or being severely overweight with a body mass index higher than \n",
       "<mark class=\"entity\" style=\"background: #e4e7d2; padding: 0.45em 0.6em; margin: 0 0.25em; line-height: 1; border-radius: 0.35em;\">\n",
       "    40\n",
       "    <span style=\"font-size: 0.8em; font-weight: bold; line-height: 1; border-radius: 0.35em; text-transform: uppercase; vertical-align: middle; margin-left: 0.5rem\">CARDINAL</span>\n",
       "</mark>\n",
       ", are at an increased risk of complications caused by the virus.</br></br>“If you have one of these conditions you should be taking all precautions possible to reduce your chance of catching the virus.</br></br>“Viruses can cause significant inflammation which can injure the heart and can worsen a person’s existing heart condition even if the virus does not enter the heart directly.</br></br>“Evidence shows that people with higher levels of a protein used to measure heart injury in their blood are more likely to die after contracting Covid-19. </br></br>“However this kind of observational evidence can’t tell us why some people suffer heart damage, whether this is caused by the virus or how exactly this may lead to worse outcomes. It is now crucially important that we continue to research coronavirus, and how it affects the heart, to help us to save and improve as many lives as possible.”</br></br> </br></br>\n",
       "<mark class=\"entity\" style=\"background: #aa9cfc; padding: 0.45em 0.6em; margin: 0 0.25em; line-height: 1; border-radius: 0.35em;\">\n",
       "    Hugo Pedder\n",
       "    <span style=\"font-size: 0.8em; font-weight: bold; line-height: 1; border-radius: 0.35em; text-transform: uppercase; vertical-align: middle; margin-left: 0.5rem\">PERSON</span>\n",
       "</mark>\n",
       ", Senior Research Associate in Statistical Modelling at the \n",
       "<mark class=\"entity\" style=\"background: #7aecec; padding: 0.45em 0.6em; margin: 0 0.25em; line-height: 1; border-radius: 0.35em;\">\n",
       "    Bristol Medical School\n",
       "    <span style=\"font-size: 0.8em; font-weight: bold; line-height: 1; border-radius: 0.35em; text-transform: uppercase; vertical-align: middle; margin-left: 0.5rem\">ORG</span>\n",
       "</mark>\n",
       ", \n",
       "<mark class=\"entity\" style=\"background: #7aecec; padding: 0.45em 0.6em; margin: 0 0.25em; line-height: 1; border-radius: 0.35em;\">\n",
       "    University of Bristol\n",
       "    <span style=\"font-size: 0.8em; font-weight: bold; line-height: 1; border-radius: 0.35em; text-transform: uppercase; vertical-align: middle; margin-left: 0.5rem\">ORG</span>\n",
       "</mark>\n",
       ", said:</br></br>“Given the severity and speed of COVID-19’s impact globally, the quality of evidence that is available for us to draw on is currently very limited.</br></br>“\n",
       "<mark class=\"entity\" style=\"background: #f0d0ff; padding: 0.45em 0.6em; margin: 0 0.25em; line-height: 1; border-radius: 0.35em;\">\n",
       "    Guo et al.\n",
       "    <span style=\"font-size: 0.8em; font-weight: bold; line-height: 1; border-radius: 0.35em; text-transform: uppercase; vertical-align: middle; margin-left: 0.5rem\">WORK_OF_ART</span>\n",
       "</mark>\n",
       " is a case series, which follows-up patients who have been infected by COVID-19 and try to draw conclusions regarding the impact of treatments and the pathophysiology of the disease on mortality. They report an association between myocardial injury and COVID-19 infection mortality. Given the observational nature of the data it is difficult to identify whether the link is causal, particularly as there can be other factors in addition to myocardial injury responsible for death in an individual that are not clearly identified within the data.</br></br>“The small sample within \n",
       "<mark class=\"entity\" style=\"background: #aa9cfc; padding: 0.45em 0.6em; margin: 0 0.25em; line-height: 1; border-radius: 0.35em;\">\n",
       "    Guo et al.\n",
       "    <span style=\"font-size: 0.8em; font-weight: bold; line-height: 1; border-radius: 0.35em; text-transform: uppercase; vertical-align: middle; margin-left: 0.5rem\">PERSON</span>\n",
       "</mark>\n",
       " is also from patients in a specific hospital. It is therefore quite selective and is likely to depend on specific factors associated with hospitalisation, which may not be generalisable to other countries/regions as it may depend on specific policies or bed availability as much as severity of symptoms.</br></br>“The review by \n",
       "<mark class=\"entity\" style=\"background: #aa9cfc; padding: 0.45em 0.6em; margin: 0 0.25em; line-height: 1; border-radius: 0.35em;\">\n",
       "    Madjid et al.\n",
       "    <span style=\"font-size: 0.8em; font-weight: bold; line-height: 1; border-radius: 0.35em; text-transform: uppercase; vertical-align: middle; margin-left: 0.5rem\">PERSON</span>\n",
       "</mark>\n",
       " reports the potential effects of coronaviruses on the cardiovascular system, but as this has not involved a systematic literature search the studies included may be selectively supportive of the authors’ conclusions.</br></br>“Given what is known about coronaviruses and what has been found so far in terms of poorer outcomes for individuals with cardiovascular disease, these results are not surprising. They are however concerning and could be useful for helping to direct policy and triaging of patients with COVID-19 infection.</br></br>“The comment in the press release – “It is likely that even in the absence of previous heart disease, the heart muscle can be affected by coronavirus disease,” said \n",
       "<mark class=\"entity\" style=\"background: #aa9cfc; padding: 0.45em 0.6em; margin: 0 0.25em; line-height: 1; border-radius: 0.35em;\">\n",
       "    Mohammad Madjid\n",
       "    <span style=\"font-size: 0.8em; font-weight: bold; line-height: 1; border-radius: 0.35em; text-transform: uppercase; vertical-align: middle; margin-left: 0.5rem\">PERSON</span>\n",
       "</mark>\n",
       ", \n",
       "<mark class=\"entity\" style=\"background: #7aecec; padding: 0.45em 0.6em; margin: 0 0.25em; line-height: 1; border-radius: 0.35em;\">\n",
       "    MD\n",
       "    <span style=\"font-size: 0.8em; font-weight: bold; line-height: 1; border-radius: 0.35em; text-transform: uppercase; vertical-align: middle; margin-left: 0.5rem\">ORG</span>\n",
       "</mark>\n",
       ", MS, the study’s lead author and an assistant professor of cardiology at \n",
       "<mark class=\"entity\" style=\"background: #7aecec; padding: 0.45em 0.6em; margin: 0 0.25em; line-height: 1; border-radius: 0.35em;\">\n",
       "    McGovern Medical School\n",
       "    <span style=\"font-size: 0.8em; font-weight: bold; line-height: 1; border-radius: 0.35em; text-transform: uppercase; vertical-align: middle; margin-left: 0.5rem\">ORG</span>\n",
       "</mark>\n",
       " at UTHealth” – appears to be based in part on the effects of a previous coronavirus disease (SARS), though as there were relatively few cases this was difficult to confirm. The case report by \n",
       "<mark class=\"entity\" style=\"background: #7aecec; padding: 0.45em 0.6em; margin: 0 0.25em; line-height: 1; border-radius: 0.35em;\">\n",
       "    Inciardi\n",
       "    <span style=\"font-size: 0.8em; font-weight: bold; line-height: 1; border-radius: 0.35em; text-transform: uppercase; vertical-align: middle; margin-left: 0.5rem\">ORG</span>\n",
       "</mark>\n",
       " et al. suggests the effects could be similar for COVID-19, though it is a report from only a single patient, which makes it very difficult to make generalisations regarding this effect to the wider public.</br></br>“Whilst this is clearly a very important area of research on which to focus, it is a conclusion that may cause unnecessary concern given the lack of evidence supporting it at this stage. There is however evidence supporting the statement that the risk of myocardial injury is higher in those who already have heart disease (see \n",
       "<mark class=\"entity\" style=\"background: #aa9cfc; padding: 0.45em 0.6em; margin: 0 0.25em; line-height: 1; border-radius: 0.35em;\">\n",
       "    Guo\n",
       "    <span style=\"font-size: 0.8em; font-weight: bold; line-height: 1; border-radius: 0.35em; text-transform: uppercase; vertical-align: middle; margin-left: 0.5rem\">PERSON</span>\n",
       "</mark>\n",
       " et al.).”</br></br> </br></br>\n",
       "<mark class=\"entity\" style=\"background: #aa9cfc; padding: 0.45em 0.6em; margin: 0 0.25em; line-height: 1; border-radius: 0.35em;\">\n",
       "    Prof Kevin McConway\n",
       "    <span style=\"font-size: 0.8em; font-weight: bold; line-height: 1; border-radius: 0.35em; text-transform: uppercase; vertical-align: middle; margin-left: 0.5rem\">PERSON</span>\n",
       "</mark>\n",
       ", \n",
       "<mark class=\"entity\" style=\"background: #7aecec; padding: 0.45em 0.6em; margin: 0 0.25em; line-height: 1; border-radius: 0.35em;\">\n",
       "    Emeritus\n",
       "    <span style=\"font-size: 0.8em; font-weight: bold; line-height: 1; border-radius: 0.35em; text-transform: uppercase; vertical-align: middle; margin-left: 0.5rem\">ORG</span>\n",
       "</mark>\n",
       " Professor of \n",
       "<mark class=\"entity\" style=\"background: #7aecec; padding: 0.45em 0.6em; margin: 0 0.25em; line-height: 1; border-radius: 0.35em;\">\n",
       "    Applied Statistics\n",
       "    <span style=\"font-size: 0.8em; font-weight: bold; line-height: 1; border-radius: 0.35em; text-transform: uppercase; vertical-align: middle; margin-left: 0.5rem\">ORG</span>\n",
       "</mark>\n",
       ", \n",
       "<mark class=\"entity\" style=\"background: #7aecec; padding: 0.45em 0.6em; margin: 0 0.25em; line-height: 1; border-radius: 0.35em;\">\n",
       "    The Open University\n",
       "    <span style=\"font-size: 0.8em; font-weight: bold; line-height: 1; border-radius: 0.35em; text-transform: uppercase; vertical-align: middle; margin-left: 0.5rem\">ORG</span>\n",
       "</mark>\n",
       ", said:</br></br>“As a statistician, I can’t comment on the physiological and medical aspects of these reports. But, I’d say, the really important question is how likely effects on the heart might be, and we just can’t tell from the information that’s available so far. The case report of \n",
       "<mark class=\"entity\" style=\"background: #e4e7d2; padding: 0.45em 0.6em; margin: 0 0.25em; line-height: 1; border-radius: 0.35em;\">\n",
       "    one\n",
       "    <span style=\"font-size: 0.8em; font-weight: bold; line-height: 1; border-radius: 0.35em; text-transform: uppercase; vertical-align: middle; margin-left: 0.5rem\">CARDINAL</span>\n",
       "</mark>\n",
       " patient who had serious heart symptoms after infection with the new virus does indicate that effects on the heart can happen, but it says nothing about how likely that is, and can’t say too much about how it can happen. The retrospective study of hospitalised patients in \n",
       "<mark class=\"entity\" style=\"background: #feca74; padding: 0.45em 0.6em; margin: 0 0.25em; line-height: 1; border-radius: 0.35em;\">\n",
       "    Wuhan\n",
       "    <span style=\"font-size: 0.8em; font-weight: bold; line-height: 1; border-radius: 0.35em; text-transform: uppercase; vertical-align: middle; margin-left: 0.5rem\">GPE</span>\n",
       "</mark>\n",
       " (\n",
       "<mark class=\"entity\" style=\"background: #aa9cfc; padding: 0.45em 0.6em; margin: 0 0.25em; line-height: 1; border-radius: 0.35em;\">\n",
       "    Guo et al.\n",
       "    <span style=\"font-size: 0.8em; font-weight: bold; line-height: 1; border-radius: 0.35em; text-transform: uppercase; vertical-align: middle; margin-left: 0.5rem\">PERSON</span>\n",
       "</mark>\n",
       ") throws slightly more light on the chances, but it examined only patients who were hospitalised (and most people with COVID-19 are not hospitalised). So it can’t tell us about the general chance of heart damage to people with COVID-19, including the majority who do not go to hospital as well as the minority who do. And the number of patients in that study was not large, and most of them had existing diseases that are already understood to increase their risks, so the study can’t really tie down the risks to people without underlying disease very precisely, even for those who are hospitalised.”</br></br> </br></br>\n",
       "<mark class=\"entity\" style=\"background: #aa9cfc; padding: 0.45em 0.6em; margin: 0 0.25em; line-height: 1; border-radius: 0.35em;\">\n",
       "    Prof Naveed Sattar\n",
       "    <span style=\"font-size: 0.8em; font-weight: bold; line-height: 1; border-radius: 0.35em; text-transform: uppercase; vertical-align: middle; margin-left: 0.5rem\">PERSON</span>\n",
       "</mark>\n",
       ", Professor of Metabolic Medicine, \n",
       "<mark class=\"entity\" style=\"background: #7aecec; padding: 0.45em 0.6em; margin: 0 0.25em; line-height: 1; border-radius: 0.35em;\">\n",
       "    University of Glasgow\n",
       "    <span style=\"font-size: 0.8em; font-weight: bold; line-height: 1; border-radius: 0.35em; text-transform: uppercase; vertical-align: middle; margin-left: 0.5rem\">ORG</span>\n",
       "</mark>\n",
       ", said:</br></br>These \n",
       "<mark class=\"entity\" style=\"background: #e4e7d2; padding: 0.45em 0.6em; margin: 0 0.25em; line-height: 1; border-radius: 0.35em;\">\n",
       "    three\n",
       "    <span style=\"font-size: 0.8em; font-weight: bold; line-height: 1; border-radius: 0.35em; text-transform: uppercase; vertical-align: middle; margin-left: 0.5rem\">CARDINAL</span>\n",
       "</mark>\n",
       " papers provide further evidence for the potential of COVID19 to adversely affect the heart, which may be \n",
       "<mark class=\"entity\" style=\"background: #e4e7d2; padding: 0.45em 0.6em; margin: 0 0.25em; line-height: 1; border-radius: 0.35em;\">\n",
       "    one\n",
       "    <span style=\"font-size: 0.8em; font-weight: bold; line-height: 1; border-radius: 0.35em; text-transform: uppercase; vertical-align: middle; margin-left: 0.5rem\">CARDINAL</span>\n",
       "</mark>\n",
       " reason for high mortality rates with this virus, but more robust studies to examine a potential “virus-to-heart” toxicity link are now needed.  I say this, since current studies have deficiencies and are as yet not considered definitive in the proof of this link.  I am sure more robust studies will be urgently started in differing parts of the world.  However, I agree with the authors that in the meantime, we should ensure good guideline recommended management of risk factors in people with risk factors for, or existing heart disease.”</br></br> </br></br>\n",
       "<mark class=\"entity\" style=\"background: #aa9cfc; padding: 0.45em 0.6em; margin: 0 0.25em; line-height: 1; border-radius: 0.35em;\">\n",
       "    Prof Tim Chico\n",
       "    <span style=\"font-size: 0.8em; font-weight: bold; line-height: 1; border-radius: 0.35em; text-transform: uppercase; vertical-align: middle; margin-left: 0.5rem\">PERSON</span>\n",
       "</mark>\n",
       ", Professor of Cardiovascular Medicine and Honorary Consultant Cardiologist, \n",
       "<mark class=\"entity\" style=\"background: #7aecec; padding: 0.45em 0.6em; margin: 0 0.25em; line-height: 1; border-radius: 0.35em;\">\n",
       "    University of Sheffield\n",
       "    <span style=\"font-size: 0.8em; font-weight: bold; line-height: 1; border-radius: 0.35em; text-transform: uppercase; vertical-align: middle; margin-left: 0.5rem\">ORG</span>\n",
       "</mark>\n",
       ", said:</br></br>“There have already been an impressive number of studies published that help us understand COVID-19. It is important to recognise we are only at the beginning of acquiring enough information about a very new disease, and larger and longer studies than those published so far will be needed. Doing this research presents many challenges given how overstretched the world’s healthcare systems are or will become, and the authors of these studies should be congratulated for their hard work.</br></br>“Although COVID-19 is a new virus, cardiologists are already familiar with the effects of other viral infections on the heart. These often cause inflammation of the lining of the heart (pericarditis), the heart muscle (myocarditis) or trigger worsening of existing heart conditions such as heart attack or heart failure. All these complications are associated with other viral infections, and we are experienced in dealing with these, especially if we do not have to care for too many people at once. This is why the distancing measures and self-isolation in place are so essential to slow the numbers of people developing COVID-19.</br></br>“Severe COVID-19 infection appears more likely than some other viral infections to cause damage to the heart muscle (detected by measuring a protein called \n",
       "<mark class=\"entity\" style=\"background: #aa9cfc; padding: 0.45em 0.6em; margin: 0 0.25em; line-height: 1; border-radius: 0.35em;\">\n",
       "    Troponin\n",
       "    <span style=\"font-size: 0.8em; font-weight: bold; line-height: 1; border-radius: 0.35em; text-transform: uppercase; vertical-align: middle; margin-left: 0.5rem\">PERSON</span>\n",
       "</mark>\n",
       " in the blood). This heart damage is likely to be due to multiple reasons, and can happen in anyone, including those without heart disease.</br></br>“\n",
       "<mark class=\"entity\" style=\"background: #c887fb; padding: 0.45em 0.6em; margin: 0 0.25em; line-height: 1; border-radius: 0.35em;\">\n",
       "    Physicians\n",
       "    <span style=\"font-size: 0.8em; font-weight: bold; line-height: 1; border-radius: 0.35em; text-transform: uppercase; vertical-align: middle; margin-left: 0.5rem\">NORP</span>\n",
       "</mark>\n",
       ", intensive care doctors and cardiologists are already very familiar with dealing with the heart problems that can be seen with COVID-19, such as abnormal heart rhythms, impaired pumping function, and inflammation. Although we do not have a specific treatment yet, it is possible to manage these complications until the patient recovers.”</div></span>"
      ],
      "text/plain": [
       "<IPython.core.display.HTML object>"
      ]
     },
     "metadata": {},
     "output_type": "display_data"
    }
   ],
   "source": [
    "displacy.render(doc, style = 'ent')"
   ]
  },
  {
   "cell_type": "code",
   "execution_count": 16,
   "metadata": {},
   "outputs": [],
   "source": [
    "mytext = nlp(sanitize_names(ex1))"
   ]
  },
  {
   "cell_type": "code",
   "execution_count": 17,
   "metadata": {},
   "outputs": [
    {
     "data": {
      "text/html": [
       "<span class=\"tex2jax_ignore\"><div class=\"entities\" style=\"line-height: 2.5; direction: ltr\">Dr [REDACTED], \n",
       "<mark class=\"entity\" style=\"background: #7aecec; padding: 0.45em 0.6em; margin: 0 0.25em; line-height: 1; border-radius: 0.35em;\">\n",
       "    Associate Medical\n",
       "    <span style=\"font-size: 0.8em; font-weight: bold; line-height: 1; border-radius: 0.35em; text-transform: uppercase; vertical-align: middle; margin-left: 0.5rem\">ORG</span>\n",
       "</mark>\n",
       " Director at \n",
       "<mark class=\"entity\" style=\"background: #7aecec; padding: 0.45em 0.6em; margin: 0 0.25em; line-height: 1; border-radius: 0.35em;\">\n",
       "    the British Heart Foundation\n",
       "    <span style=\"font-size: 0.8em; font-weight: bold; line-height: 1; border-radius: 0.35em; text-transform: uppercase; vertical-align: middle; margin-left: 0.5rem\">ORG</span>\n",
       "</mark>\n",
       " and Honorary Consultant Cardiologist, said: </br></br>“Every day we learn more about Covid-19. Information to date suggests that people with heart disease, or are at risk of heart disease due to factors such as high blood pressure, diabetes or being severely overweight with a body mass index higher than \n",
       "<mark class=\"entity\" style=\"background: #e4e7d2; padding: 0.45em 0.6em; margin: 0 0.25em; line-height: 1; border-radius: 0.35em;\">\n",
       "    40\n",
       "    <span style=\"font-size: 0.8em; font-weight: bold; line-height: 1; border-radius: 0.35em; text-transform: uppercase; vertical-align: middle; margin-left: 0.5rem\">CARDINAL</span>\n",
       "</mark>\n",
       ", are at an increased risk of complications caused by the virus.</br></br>“If you have one of these conditions you should be taking all precautions possible to reduce your chance of catching the virus.</br></br>“Viruses can cause significant inflammation which can injure the heart and can worsen a person’s existing heart condition even if the virus does not enter the heart directly.</br></br>“Evidence shows that people with higher levels of a protein used to measure heart injury in their blood are more likely to die after contracting Covid-19. </br></br>“However this kind of observational evidence can’t tell us why some people suffer heart damage, whether this is caused by the virus or how exactly this may lead to worse outcomes. It is now crucially important that we continue to research coronavirus, and how it affects the heart, to help us to save and improve as many lives as possible.”</br></br> </br></br>[REDACTED], Senior Research Associate in Statistical Modelling at the \n",
       "<mark class=\"entity\" style=\"background: #7aecec; padding: 0.45em 0.6em; margin: 0 0.25em; line-height: 1; border-radius: 0.35em;\">\n",
       "    Bristol Medical School\n",
       "    <span style=\"font-size: 0.8em; font-weight: bold; line-height: 1; border-radius: 0.35em; text-transform: uppercase; vertical-align: middle; margin-left: 0.5rem\">ORG</span>\n",
       "</mark>\n",
       ", \n",
       "<mark class=\"entity\" style=\"background: #7aecec; padding: 0.45em 0.6em; margin: 0 0.25em; line-height: 1; border-radius: 0.35em;\">\n",
       "    University of Bristol\n",
       "    <span style=\"font-size: 0.8em; font-weight: bold; line-height: 1; border-radius: 0.35em; text-transform: uppercase; vertical-align: middle; margin-left: 0.5rem\">ORG</span>\n",
       "</mark>\n",
       ", said:</br></br>“Given the severity and speed of COVID-19’s impact globally, the quality of evidence that is available for us to draw on is currently very limited.</br></br>“\n",
       "<mark class=\"entity\" style=\"background: #f0d0ff; padding: 0.45em 0.6em; margin: 0 0.25em; line-height: 1; border-radius: 0.35em;\">\n",
       "    Guo et al.\n",
       "    <span style=\"font-size: 0.8em; font-weight: bold; line-height: 1; border-radius: 0.35em; text-transform: uppercase; vertical-align: middle; margin-left: 0.5rem\">WORK_OF_ART</span>\n",
       "</mark>\n",
       " is a case series, which follows-up patients who have been infected by COVID-19 and try to draw conclusions regarding the impact of treatments and the pathophysiology of the disease on mortality. They report an association between myocardial injury and COVID-19 infection mortality. Given the observational nature of the data it is difficult to identify whether the link is causal, particularly as there can be other factors in addition to myocardial injury responsible for death in an individual that are not clearly identified within the data.</br></br>“The small sample within [REDACTED]is also from patients in a specific hospital. It is therefore quite selective and is likely to depend on specific factors associated with hospitalisation, which may not be generalisable to other countries/regions as it may depend on specific policies or bed availability as much as severity of symptoms.</br></br>“The review by [REDACTED]reports the potential effects of coronaviruses on the cardiovascular system, but as this has not involved a systematic literature search the studies included may be selectively supportive of the authors’ conclusions.</br></br>“Given what is known about coronaviruses and what has been found so far in terms of poorer outcomes for individuals with cardiovascular disease, these results are not surprising. They are however concerning and could be useful for helping to direct policy and triaging of patients with COVID-19 infection.</br></br>“The comment in the press release – “It is likely that even in the absence of previous heart disease, the heart muscle can be affected by coronavirus disease,” said [REDACTED], \n",
       "<mark class=\"entity\" style=\"background: #7aecec; padding: 0.45em 0.6em; margin: 0 0.25em; line-height: 1; border-radius: 0.35em;\">\n",
       "    MD\n",
       "    <span style=\"font-size: 0.8em; font-weight: bold; line-height: 1; border-radius: 0.35em; text-transform: uppercase; vertical-align: middle; margin-left: 0.5rem\">ORG</span>\n",
       "</mark>\n",
       ", \n",
       "<mark class=\"entity\" style=\"background: #7aecec; padding: 0.45em 0.6em; margin: 0 0.25em; line-height: 1; border-radius: 0.35em;\">\n",
       "    MS\n",
       "    <span style=\"font-size: 0.8em; font-weight: bold; line-height: 1; border-radius: 0.35em; text-transform: uppercase; vertical-align: middle; margin-left: 0.5rem\">ORG</span>\n",
       "</mark>\n",
       ", the study’s lead author and an assistant professor of cardiology at \n",
       "<mark class=\"entity\" style=\"background: #7aecec; padding: 0.45em 0.6em; margin: 0 0.25em; line-height: 1; border-radius: 0.35em;\">\n",
       "    McGovern Medical School\n",
       "    <span style=\"font-size: 0.8em; font-weight: bold; line-height: 1; border-radius: 0.35em; text-transform: uppercase; vertical-align: middle; margin-left: 0.5rem\">ORG</span>\n",
       "</mark>\n",
       " at UTHealth” – appears to be based in part on the effects of a previous coronavirus disease (SARS), though as there were relatively few cases this was difficult to confirm. The case report by \n",
       "<mark class=\"entity\" style=\"background: #7aecec; padding: 0.45em 0.6em; margin: 0 0.25em; line-height: 1; border-radius: 0.35em;\">\n",
       "    Inciardi\n",
       "    <span style=\"font-size: 0.8em; font-weight: bold; line-height: 1; border-radius: 0.35em; text-transform: uppercase; vertical-align: middle; margin-left: 0.5rem\">ORG</span>\n",
       "</mark>\n",
       " et al. suggests the effects could be similar for COVID-19, though it is a report from only a single patient, which makes it very difficult to make generalisations regarding this effect to the wider public.</br></br>“Whilst this is clearly a very important area of research on which to focus, it is a conclusion that may cause unnecessary concern given the lack of evidence supporting it at this stage. There is however evidence supporting the statement that the risk of myocardial injury is higher in those who already have heart disease (see [REDACTED]et al.).”</br></br> </br></br>[REDACTED], \n",
       "<mark class=\"entity\" style=\"background: #7aecec; padding: 0.45em 0.6em; margin: 0 0.25em; line-height: 1; border-radius: 0.35em;\">\n",
       "    Emeritus\n",
       "    <span style=\"font-size: 0.8em; font-weight: bold; line-height: 1; border-radius: 0.35em; text-transform: uppercase; vertical-align: middle; margin-left: 0.5rem\">ORG</span>\n",
       "</mark>\n",
       " Professor of Applied Statistics, \n",
       "<mark class=\"entity\" style=\"background: #7aecec; padding: 0.45em 0.6em; margin: 0 0.25em; line-height: 1; border-radius: 0.35em;\">\n",
       "    The Open University\n",
       "    <span style=\"font-size: 0.8em; font-weight: bold; line-height: 1; border-radius: 0.35em; text-transform: uppercase; vertical-align: middle; margin-left: 0.5rem\">ORG</span>\n",
       "</mark>\n",
       ", said:</br></br>“As a statistician, I can’t comment on the physiological and medical aspects of these reports. But, I’d say, the really important question is how likely effects on the heart might be, and we just can’t tell from the information that’s available so far. The case report of \n",
       "<mark class=\"entity\" style=\"background: #e4e7d2; padding: 0.45em 0.6em; margin: 0 0.25em; line-height: 1; border-radius: 0.35em;\">\n",
       "    one\n",
       "    <span style=\"font-size: 0.8em; font-weight: bold; line-height: 1; border-radius: 0.35em; text-transform: uppercase; vertical-align: middle; margin-left: 0.5rem\">CARDINAL</span>\n",
       "</mark>\n",
       " patient who had serious heart symptoms after infection with the new virus does indicate that effects on the heart can happen, but it says nothing about how likely that is, and can’t say too much about how it can happen. The retrospective study of hospitalised patients in \n",
       "<mark class=\"entity\" style=\"background: #feca74; padding: 0.45em 0.6em; margin: 0 0.25em; line-height: 1; border-radius: 0.35em;\">\n",
       "    Wuhan\n",
       "    <span style=\"font-size: 0.8em; font-weight: bold; line-height: 1; border-radius: 0.35em; text-transform: uppercase; vertical-align: middle; margin-left: 0.5rem\">GPE</span>\n",
       "</mark>\n",
       " ([REDACTED]) throws slightly more light on the chances, but it examined only patients who were hospitalised (and most people with COVID-19 are not hospitalised). So it can’t tell us about the general chance of heart damage to people with COVID-19, including the majority who do not go to hospital as well as the minority who do. And the number of patients in that study was not large, and most of them had existing diseases that are already understood to increase their risks, so the study can’t really tie down the risks to people without underlying disease very precisely, even for those who are hospitalised.”</br></br> </br></br>[REDACTED], Professor of Metabolic Medicine, \n",
       "<mark class=\"entity\" style=\"background: #7aecec; padding: 0.45em 0.6em; margin: 0 0.25em; line-height: 1; border-radius: 0.35em;\">\n",
       "    University of Glasgow\n",
       "    <span style=\"font-size: 0.8em; font-weight: bold; line-height: 1; border-radius: 0.35em; text-transform: uppercase; vertical-align: middle; margin-left: 0.5rem\">ORG</span>\n",
       "</mark>\n",
       ", said:</br></br>These \n",
       "<mark class=\"entity\" style=\"background: #e4e7d2; padding: 0.45em 0.6em; margin: 0 0.25em; line-height: 1; border-radius: 0.35em;\">\n",
       "    three\n",
       "    <span style=\"font-size: 0.8em; font-weight: bold; line-height: 1; border-radius: 0.35em; text-transform: uppercase; vertical-align: middle; margin-left: 0.5rem\">CARDINAL</span>\n",
       "</mark>\n",
       " papers provide further evidence for the potential of COVID19 to adversely affect the heart, which may be \n",
       "<mark class=\"entity\" style=\"background: #e4e7d2; padding: 0.45em 0.6em; margin: 0 0.25em; line-height: 1; border-radius: 0.35em;\">\n",
       "    one\n",
       "    <span style=\"font-size: 0.8em; font-weight: bold; line-height: 1; border-radius: 0.35em; text-transform: uppercase; vertical-align: middle; margin-left: 0.5rem\">CARDINAL</span>\n",
       "</mark>\n",
       " reason for high mortality rates with this virus, but more robust studies to examine a potential “virus-to-heart” toxicity link are now needed.  I say this, since current studies have deficiencies and are as yet not considered definitive in the proof of this link.  I am sure more robust studies will be urgently started in differing parts of the world.  However, I agree with the authors that in the meantime, we should ensure good guideline recommended management of risk factors in people with risk factors for, or existing heart disease.”</br></br> </br></br>[REDACTED], Professor of Cardiovascular Medicine and Honorary Consultant Cardiologist, \n",
       "<mark class=\"entity\" style=\"background: #7aecec; padding: 0.45em 0.6em; margin: 0 0.25em; line-height: 1; border-radius: 0.35em;\">\n",
       "    University of Sheffield\n",
       "    <span style=\"font-size: 0.8em; font-weight: bold; line-height: 1; border-radius: 0.35em; text-transform: uppercase; vertical-align: middle; margin-left: 0.5rem\">ORG</span>\n",
       "</mark>\n",
       ", said:</br></br>“There have already been an impressive number of studies published that help us understand COVID-19. It is important to recognise we are only at the beginning of acquiring enough information about a very new disease, and larger and longer studies than those published so far will be needed. Doing this research presents many challenges given how overstretched the world’s healthcare systems are or will become, and the authors of these studies should be congratulated for their hard work.</br></br>“Although COVID-19 is a new virus, cardiologists are already familiar with the effects of other viral infections on the heart. These often cause inflammation of the lining of the heart (pericarditis), the heart muscle (myocarditis) or trigger worsening of existing heart conditions such as heart attack or heart failure. All these complications are associated with other viral infections, and we are experienced in dealing with these, especially if we do not have to care for too many people at once. This is why the distancing measures and self-isolation in place are so essential to slow the numbers of people developing COVID-19.</br></br>“Severe COVID-19 infection appears more likely than some other viral infections to cause damage to the heart muscle (detected by measuring a protein called [REDACTED]in the blood). This heart damage is likely to be due to multiple reasons, and can happen in anyone, including those without heart disease.</br></br>“\n",
       "<mark class=\"entity\" style=\"background: #c887fb; padding: 0.45em 0.6em; margin: 0 0.25em; line-height: 1; border-radius: 0.35em;\">\n",
       "    Physicians\n",
       "    <span style=\"font-size: 0.8em; font-weight: bold; line-height: 1; border-radius: 0.35em; text-transform: uppercase; vertical-align: middle; margin-left: 0.5rem\">NORP</span>\n",
       "</mark>\n",
       ", intensive care doctors and cardiologists are already very familiar with dealing with the heart problems that can be seen with COVID-19, such as abnormal heart rhythms, impaired pumping function, and inflammation. Although we do not have a specific treatment yet, it is possible to manage these complications until the patient recovers.”</div></span>"
      ],
      "text/plain": [
       "<IPython.core.display.HTML object>"
      ]
     },
     "metadata": {},
     "output_type": "display_data"
    }
   ],
   "source": [
    "displacy.render(mytext, style = 'ent')"
   ]
  },
  {
   "cell_type": "code",
   "execution_count": null,
   "metadata": {},
   "outputs": [],
   "source": []
  }
 ],
 "metadata": {
  "kernelspec": {
   "display_name": "Python 3",
   "language": "python",
   "name": "python3"
  },
  "language_info": {
   "codemirror_mode": {
    "name": "ipython",
    "version": 3
   },
   "file_extension": ".py",
   "mimetype": "text/x-python",
   "name": "python",
   "nbconvert_exporter": "python",
   "pygments_lexer": "ipython3",
   "version": "3.7.3"
  }
 },
 "nbformat": 4,
 "nbformat_minor": 2
}
