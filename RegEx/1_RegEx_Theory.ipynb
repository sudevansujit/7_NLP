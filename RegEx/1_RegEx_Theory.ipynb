{
 "cells": [
  {
   "cell_type": "markdown",
   "metadata": {},
   "source": [
    "# Regular Expression 1"
   ]
  },
  {
   "cell_type": "markdown",
   "metadata": {},
   "source": [
    "### RegEx Methods"
   ]
  },
  {
   "cell_type": "markdown",
   "metadata": {},
   "source": [
    "FUNCTIONS\n",
    "\n",
    "        compile(pattern, flags=0)\n",
    "\n",
    "        escape(pattern)\n",
    "\n",
    "        findall(pattern, string, flags=0)\n",
    "\n",
    "        finditer(pattern, string, flags=0)\n",
    "\n",
    "        fullmatch(pattern, string, flags=0)\n",
    "\n",
    "        match(pattern, string, flags=0)\n",
    "\n",
    "        purge()\n",
    "\n",
    "        search(pattern, string, flags=0)\n",
    "\n",
    "        split(pattern, string, maxsplit=0, flags=0)\n",
    "\n",
    "        sub(pattern, repl, string, count=0, flags=0)\n",
    "\n",
    "        subn(pattern, repl, string, count=0, flags=0)\n",
    "\n",
    "        template(pattern, flags=0)\n"
   ]
  },
  {
   "cell_type": "markdown",
   "metadata": {},
   "source": [
    "#### The special characters are:\n",
    "\n",
    "        \".\"      Matches any character except a newline.\n",
    "        \"^\"      Matches the start of the string.\n",
    "        \"$\"      Matches the end of the string or just before the newline at\n",
    "                 the end of the string.\n",
    "        \"*\"      Matches 0 or more (greedy) repetitions of the preceding RE.\n",
    "                 Greedy means that it will match as many repetitions as possible.\n",
    "        \"+\"      Matches 1 or more (greedy) repetitions of the preceding RE.\n",
    "        \"?\"      Matches 0 or 1 (greedy) of the preceding RE.\n",
    "        \n",
    "        \n",
    "        *?,+?,?? Non-greedy versions of the previous three special characters.\n",
    "        \n",
    "        {m,n}    Matches from m to n repetitions of the preceding RE.\n",
    "        {m,n}?   Non-greedy version of the above.\n",
    "        \n",
    "        \"\\\\\"     Either escapes special characters or signals a special sequence.\n",
    "        []       Indicates a set of characters.\n",
    "                 A \"^\" as the first character indicates a complementing set.\n",
    "                 \n",
    "        \"|\"      A|B, creates an RE that will match either A or B.\n",
    "        \n",
    "        (...)    Matches the RE inside the parentheses.\n",
    "                 The contents can be retrieved or matched later in the string.\n",
    "        (?aiLmsux) Set the A, I, L, M, S, U, or X flag for the RE (see below).\n",
    "        (?:...)  Non-grouping version of regular parentheses.\n",
    "        (?P<name>...) The substring matched by the group is accessible by name.\n",
    "        (?P=name)     Matches the text matched earlier by the group named name.\n",
    "        (?#...)  A comment; ignored.\n",
    "        (?=...)  Matches if ... matches next, but doesn't consume the string.\n",
    "        (?!...)  Matches if ... doesn't match next.\n",
    "        (?<=...) Matches if preceded by ... (must be fixed length).\n",
    "        (?<!...) Matches if not preceded by ... (must be fixed length).\n",
    "        (?(id/name)yes|no) Matches yes pattern if the group with id/name matched,\n",
    "                           the (optional) no pattern otherwise.\n",
    "    \n",
    "#### The special sequences consist of \"\\\\\" and a character from the list below.  If the ordinary character is not on the list, then the resulting RE will match the second character.\n",
    "\n",
    "        \\number  Matches the contents of the group of the same number.\n",
    "        \\A       Matches only at the start of the string.\n",
    "        \\Z       Matches only at the end of the string.\n",
    "        \\b       Matches the empty string, but only at the start or end of a word.\n",
    "        \\B       Matches the empty string, but not at the start or end of a word.\n",
    "        \\d       Matches any decimal digit; equivalent to the set [0-9] in\n",
    "                 bytes patterns or string patterns with the ASCII flag.\n",
    "                 In string patterns without the ASCII flag, it will match the whole\n",
    "                 range of Unicode digits.\n",
    "        \\D       Matches any non-digit character; equivalent to [^\\d].\n",
    "        \\s       Matches any whitespace character; equivalent to [ \\t\\n\\r\\f\\v] in\n",
    "                 bytes patterns or string patterns with the ASCII flag.\n",
    "                 In string patterns without the ASCII flag, it will match the whole\n",
    "                 range of Unicode whitespace characters.\n",
    "        \\S       Matches any non-whitespace character; equivalent to [^\\s].\n",
    "        \\w       Matches any alphanumeric character; equivalent to [a-zA-Z0-9_]\n",
    "                 in bytes patterns or string patterns with the ASCII flag.\n",
    "                 In string patterns without the ASCII flag, it will match the\n",
    "                 range of Unicode alphanumeric characters (letters plus digits\n",
    "                 plus underscore).\n",
    "                 With LOCALE, it will match the set [0-9_] plus characters defined\n",
    "                 as letters for the current locale.\n",
    "        \\W       Matches the complement of \\w.\n",
    "        \\\\       Matches a literal backslash."
   ]
  },
  {
   "cell_type": "markdown",
   "metadata": {},
   "source": [
    "#### Some of the functions in this module takes flags as optional parameters:\n",
    "\n",
    "        A  ASCII       For string patterns, make \\w, \\W, \\b, \\B, \\d, \\D\n",
    "                       match the corresponding ASCII character categories\n",
    "                       (rather than the whole Unicode categories, which is the\n",
    "                       default).\n",
    "                       For bytes patterns, this flag is the only available\n",
    "                       behaviour and needn't be specified.\n",
    "        I  IGNORECASE  Perform case-insensitive matching.\n",
    "        L  LOCALE      Make \\w, \\W, \\b, \\B, dependent on the current locale.\n",
    "        M  MULTILINE   \"^\" matches the beginning of lines (after a newline)\n",
    "                       as well as the string.\n",
    "                       \n",
    "                       \"$\" matches the end of lines (before a newline) as well\n",
    "                       as the end of the string.\n",
    "                       \n",
    "        S  DOTALL      \".\" matches any character at all, including the newline.\n",
    "        X  VERBOSE     Ignore whitespace and comments for nicer looking RE's.\n",
    "        U  UNICODE     For compatibility only. Ignored for string patterns (it\n",
    "                       is the default), and forbidden for bytes patterns."
   ]
  },
  {
   "cell_type": "markdown",
   "metadata": {},
   "source": [
    "## Basic Tutorial"
   ]
  },
  {
   "cell_type": "markdown",
   "metadata": {},
   "source": [
    "### Anchors — ^ and $\n",
    "\n",
    "        ^The        matches any string that starts with The \n",
    "\n",
    "        end$        matches a string that ends with end\n",
    "\n",
    "        ^The end$   exact string match (starts and ends with The end)\n",
    "\n",
    "        roar        matches any string that has the text roar in it"
   ]
  },
  {
   "cell_type": "markdown",
   "metadata": {},
   "source": [
    "### Quantifiers — * + ? and {}\n",
    "\n",
    "        abc*        matches a string that has ab followed by zero or more c \n",
    "        abc+        matches a string that has ab followed by one or more c\n",
    "        abc?        matches a string that has ab followed by zero or one c\n",
    "        abc{2}      matches a string that has ab followed by 2 c\n",
    "        abc{2,}     matches a string that has ab followed by 2 or more c\n",
    "        abc{2,5}    matches a string that has ab followed by 2 up to 5 c\n",
    "        a(bc)*      matches a string that has a followed by  zero or more copies of the sequence bc\n",
    "        a(bc){2,5}  matches a string that has a followed by  2 up to 5 copies of the sequence bc"
   ]
  },
  {
   "cell_type": "markdown",
   "metadata": {},
   "source": [
    "### OR operator — | or []\n",
    "\n",
    "        a(b|c)     matches a string that has a followed by b or c \n",
    "        a[bc]      same as previous"
   ]
  },
  {
   "cell_type": "markdown",
   "metadata": {},
   "source": [
    "### Character classes — \\d \\w \\s and .\n",
    "\n",
    "        \\d         matches a single character that is a digit \n",
    "        \\w         matches a word character (alphanumeric character plus underscore) \n",
    "        \\s         matches a whitespace character (includes tabs and line breaks)\n",
    "        .          matches any character \n",
    "\n",
    "        \\d, \\w and \\s also present their negations with \\D, \\W and \\S respectively.\n",
    "\n",
    "        \\D         matches a single non-digit character "
   ]
  },
  {
   "cell_type": "markdown",
   "metadata": {},
   "source": [
    " ### In order to be taken literally, you must escape the characters \n",
    "        \n",
    "        ^.[$()|*+?{\\with a backslash \\ as they have special meaning.\n",
    "\n",
    "        \\$\\d       matches a string that has a $ before one digit\n",
    "\n",
    "        Notice that you can match also non-printable characters like \n",
    "        tabs \\t, new-lines \\n, carriage returns \\r"
   ]
  },
  {
   "cell_type": "markdown",
   "metadata": {},
   "source": [
    " ### Flags\n",
    "        We are learning how to construct a regex but forgetting a fundamental concept: flags.\n",
    "\n",
    "        A regex usually comes within this form /abc/, \n",
    "        where the search pattern is delimited by two slash characters /. \n",
    "        At the end we can specify a flag with these values (we can also combine them each other):\n",
    "\n",
    "        g (global) does not return after the first match, \n",
    "        restarting the subsequent searches from the end of the  previous match  \n",
    "          \n",
    "\n",
    "        m (multi-line) when enabled ^ and $ will match the start and end of a line, \n",
    "        instead of the whole string\n",
    "        \n",
    "        i (insensitive) makes the whole expression case-insensitive (for instance /aBc/i would match AbC)"
   ]
  },
  {
   "cell_type": "markdown",
   "metadata": {},
   "source": [
    "## Intermediate topics"
   ]
  },
  {
   "cell_type": "markdown",
   "metadata": {},
   "source": [
    "### Grouping and capturing — ()\n",
    "\n",
    "        a(bc)           parentheses create a capturing group with value bc \n",
    "        a(?:bc)*        using ?: we disable the capturing group \n",
    "        a(?<foo>bc)     using ?<foo> we put a name to the group \n",
    "\n",
    "\n",
    "        This operator is very useful when we need to extract information from strings or data using your preferred programming language. Any multiple occurrences captured by several groups will be exposed in the form of a classical array: we will access their values specifying using an index on the result of the match.\n",
    "\n",
    "        If we choose to put a name to the groups (using (?<foo>...)) we will be able to retrieve the group values using the match result like a dictionary where the keys will be the name of each group."
   ]
  },
  {
   "cell_type": "markdown",
   "metadata": {},
   "source": [
    "### Bracket expressions — []\n",
    "\n",
    "        [abc]            matches a string that has either an a or a b or a c -> is the same as a|b|c \n",
    "        [a-c]            same as previous\n",
    "        [a-fA-F0-9]      a string that represents a single hexadecimal digit, case insensitively \n",
    "        [0-9]%           a string that has a character from 0 to 9 before a % sign\n",
    "        [^a-zA-Z]        a string that has not a letter from a to z or from A to Z. \n",
    "                             In this case the ^ is used as negation of the expression \n",
    "\n",
    "\n",
    "        Remember that inside bracket expressions all special characters (including the backslash \\)\n",
    "        lose their special powers: thus we will not apply the “escape rule”.     "
   ]
  },
  {
   "cell_type": "markdown",
   "metadata": {},
   "source": [
    "### Greedy and Lazy match\n",
    "\n",
    "        The quantifiers ( * + {}) are greedy operators, \n",
    "        so they expand the match as far as they can through the provided text.\n",
    "\n",
    "        For example, <.+> matches <div>simple div</div> in This is a <div> simple div</div> test. \n",
    "        In order to catch only the div tag we can use a ? to make it lazy:\n",
    "\n",
    "        <.+?>            matches any character one or more times included inside < and >, expanding as needed\n",
    "\n",
    "        Notice that a better solution should avoid the usage of . in favor of a more strict regex:\n",
    "\n",
    "        <[^<>]+>         matches any character except < or > one or more times included inside < and >"
   ]
  },
  {
   "cell_type": "markdown",
   "metadata": {},
   "source": [
    "## Advanced topics"
   ]
  },
  {
   "cell_type": "markdown",
   "metadata": {},
   "source": [
    "### Boundaries — \\b and \\B\n",
    "\n",
    "        \\babc\\b        performs a \"whole words only\" search\n",
    "\n",
    "        \\b             represents an anchor like caret (it is similar to $ and ^) matching positions where one                        side is a word character (like \\w) and the other side is not a word character (for                              instance it may be the beginning of the string or a space character).\n",
    "\n",
    "                       It comes with its negation, \\B. This matches all positions where \\b doesn’t match and                          could be if we want to find a search pattern fully surrounded by word characters.\n",
    "\n",
    "        \\Babc\\B          matches only if the pattern is fully surrounded by word characters"
   ]
  },
  {
   "cell_type": "markdown",
   "metadata": {},
   "source": [
    "### Back-references — \\1\n",
    "\n",
    "        ([abc])\\1              using \\1 it matches the same text that was matched by the first capturing group \n",
    "\n",
    "        ([abc])([de])\\2\\1      we can use \\2 (\\3, \\4, etc.) to identify the same text that was matched by the                                  second (third, fourth, etc.) capturing group \n",
    "\n",
    "        (?<foo>[abc])\\k<foo>   we put the name foo to the group and we reference it later (\\k<foo>). \n",
    "                               The result is the same of the first regex "
   ]
  },
  {
   "cell_type": "markdown",
   "metadata": {},
   "source": [
    "### Look-ahead and Look-behind — (?=) and (?<=)\n",
    "\n",
    "        d(?=r)       matches a d only if is followed by r, \n",
    "                     but r will not be part of the overall regex match \n",
    "\n",
    "        (?<=r)d      matches a d only if is preceded by an r, \n",
    "                     but r will not be part of the overall regex match\n",
    "\n",
    "\n",
    "\n",
    "### You can use also the negation operator!\n",
    "\n",
    "        d(?!r)       matches a d only if is not followed by r, \n",
    "                     but r will not be part of the overall regex match \n",
    "\n",
    "        (?<!r)d      matches a d only if is not preceded by an r, \n",
    "                     but r will not be part of the overall regex match"
   ]
  },
  {
   "cell_type": "code",
   "execution_count": null,
   "metadata": {},
   "outputs": [],
   "source": []
  }
 ],
 "metadata": {
  "kernelspec": {
   "display_name": "Python 3",
   "language": "python",
   "name": "python3"
  },
  "language_info": {
   "codemirror_mode": {
    "name": "ipython",
    "version": 3
   },
   "file_extension": ".py",
   "mimetype": "text/x-python",
   "name": "python",
   "nbconvert_exporter": "python",
   "pygments_lexer": "ipython3",
   "version": "3.7.3"
  }
 },
 "nbformat": 4,
 "nbformat_minor": 2
}
