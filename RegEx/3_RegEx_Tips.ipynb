{
 "cells": [
  {
   "cell_type": "markdown",
   "metadata": {},
   "source": [
    "# Regular Expressions"
   ]
  },
  {
   "cell_type": "markdown",
   "metadata": {},
   "source": [
    "### The most common uses of regular expressions are:\n",
    "\n",
    "- Search a string (search and match)\n",
    "- Finding a string (findall)\n",
    "- Break string into a sub strings (split)\n",
    "- Replace part of a string (sub)"
   ]
  },
  {
   "cell_type": "raw",
   "metadata": {},
   "source": [
    "re.match()\n",
    "re.search()\n",
    "re.findall()\n",
    "re.split()\n",
    "re.sub()\n",
    "re.compile()"
   ]
  },
  {
   "cell_type": "markdown",
   "metadata": {},
   "source": [
    "### Match"
   ]
  },
  {
   "cell_type": "code",
   "execution_count": 48,
   "metadata": {},
   "outputs": [
    {
     "data": {
      "text/plain": [
       "<re.Match object; span=(0, 2), match='AV'>"
      ]
     },
     "execution_count": 48,
     "metadata": {},
     "output_type": "execute_result"
    }
   ],
   "source": [
    "import re\n",
    "mystring =  'AV Analytics AV'\n",
    "re.match(r'AV', mystring)"
   ]
  },
  {
   "cell_type": "markdown",
   "metadata": {},
   "source": [
    "    It matches at the beginning of the string"
   ]
  },
  {
   "cell_type": "markdown",
   "metadata": {},
   "source": [
    "### Search"
   ]
  },
  {
   "cell_type": "code",
   "execution_count": 4,
   "metadata": {},
   "outputs": [
    {
     "name": "stdout",
     "output_type": "stream",
     "text": [
      "Analytics\n"
     ]
    }
   ],
   "source": [
    "result = re.search(r'Analytics', 'AV Analytics Vidhya AV')\n",
    "print (result.group(0))"
   ]
  },
  {
   "cell_type": "code",
   "execution_count": 5,
   "metadata": {},
   "outputs": [
    {
     "name": "stdout",
     "output_type": "stream",
     "text": [
      "<re.Match object; span=(3, 12), match='Analytics'>\n"
     ]
    }
   ],
   "source": [
    "print(result)"
   ]
  },
  {
   "cell_type": "code",
   "execution_count": 20,
   "metadata": {},
   "outputs": [],
   "source": [
    "result2 = re.search(r'AV', 'AV Analytics Vidhya AV')"
   ]
  },
  {
   "cell_type": "code",
   "execution_count": 21,
   "metadata": {},
   "outputs": [
    {
     "name": "stdout",
     "output_type": "stream",
     "text": [
      "<re.Match object; span=(0, 2), match='AV'>\n"
     ]
    }
   ],
   "source": [
    "print (result2)"
   ]
  },
  {
   "cell_type": "code",
   "execution_count": 22,
   "metadata": {},
   "outputs": [
    {
     "name": "stdout",
     "output_type": "stream",
     "text": [
      "AV\n"
     ]
    }
   ],
   "source": [
    "print (result2.group(0))"
   ]
  },
  {
   "cell_type": "markdown",
   "metadata": {},
   "source": [
    "    Here you can see that, search() method is able to find a pattern from any position \n",
    "    of the string but it only returns the first occurrence of the search pattern."
   ]
  },
  {
   "cell_type": "markdown",
   "metadata": {},
   "source": [
    "### Findall"
   ]
  },
  {
   "cell_type": "code",
   "execution_count": 16,
   "metadata": {},
   "outputs": [
    {
     "name": "stdout",
     "output_type": "stream",
     "text": [
      "['AV', 'AV']\n"
     ]
    }
   ],
   "source": [
    "result3 = re.findall(r'AV', 'AV Analytics Vidhya AV')\n",
    "print (result3)"
   ]
  },
  {
   "cell_type": "markdown",
   "metadata": {},
   "source": [
    "    It helps to get a list of all matching patterns. It has no constraints of searching from start or end. If we will use method findall to search ‘AV’ in given string it will return both occurrence of AV. While searching a string, I would recommend you to use re.findall() always, it can work like re.search() and re.match() both."
   ]
  },
  {
   "cell_type": "markdown",
   "metadata": {},
   "source": [
    "### Split"
   ]
  },
  {
   "cell_type": "markdown",
   "metadata": {},
   "source": [
    "    This methods helps to split string by the occurrences of given pattern"
   ]
  },
  {
   "cell_type": "code",
   "execution_count": 24,
   "metadata": {},
   "outputs": [
    {
     "data": {
      "text/plain": [
       "['An', 'lytics']"
      ]
     },
     "execution_count": 24,
     "metadata": {},
     "output_type": "execute_result"
    }
   ],
   "source": [
    "result4 = re.split(r'a', 'Analytics')\n",
    "result4"
   ]
  },
  {
   "cell_type": "code",
   "execution_count": 30,
   "metadata": {},
   "outputs": [
    {
     "data": {
      "text/plain": [
       "['This is correct.', 'This is also correct']"
      ]
     },
     "execution_count": 30,
     "metadata": {},
     "output_type": "execute_result"
    }
   ],
   "source": [
    "result4 = re.split(r'\\.\\.\\b', 'This is correct...This is also correct')\n",
    "result4"
   ]
  },
  {
   "cell_type": "code",
   "execution_count": 34,
   "metadata": {},
   "outputs": [
    {
     "data": {
      "text/plain": [
       "['This is correct', '.This is also correct']"
      ]
     },
     "execution_count": 34,
     "metadata": {},
     "output_type": "execute_result"
    }
   ],
   "source": [
    "result4 = re.split(r'\\.\\.', 'This is correct...This is also correct')\n",
    "result4"
   ]
  },
  {
   "cell_type": "markdown",
   "metadata": {},
   "source": [
    "**Method split() has another argument “maxsplit“.**"
   ]
  },
  {
   "cell_type": "code",
   "execution_count": 35,
   "metadata": {},
   "outputs": [
    {
     "data": {
      "text/plain": [
       "['Th', 's ', 's correct...Th', 's ', 's also correct']"
      ]
     },
     "execution_count": 35,
     "metadata": {},
     "output_type": "execute_result"
    }
   ],
   "source": [
    "result4 = re.split(r'i', 'This is correct...This is also correct')\n",
    "result4"
   ]
  },
  {
   "cell_type": "code",
   "execution_count": 36,
   "metadata": {},
   "outputs": [
    {
     "data": {
      "text/plain": [
       "['Th', 's ', 's correct...This is also correct']"
      ]
     },
     "execution_count": 36,
     "metadata": {},
     "output_type": "execute_result"
    }
   ],
   "source": [
    "result4 = re.split(r'i', 'This is correct...This is also correct', maxsplit = 2)\n",
    "result4"
   ]
  },
  {
   "cell_type": "markdown",
   "metadata": {},
   "source": [
    "### Sub"
   ]
  },
  {
   "cell_type": "code",
   "execution_count": 49,
   "metadata": {},
   "outputs": [
    {
     "name": "stdout",
     "output_type": "stream",
     "text": [
      "AV is largest Analytics community of the World\n"
     ]
    }
   ],
   "source": [
    "result5 = re.sub('India','the World','AV is largest Analytics community of India')\n",
    "print(result5) "
   ]
  },
  {
   "cell_type": "markdown",
   "metadata": {},
   "source": [
    "### Compile"
   ]
  },
  {
   "cell_type": "markdown",
   "metadata": {},
   "source": [
    "    We can combine a regular expression pattern into pattern objects, which can be used for pattern matching. It also helps to search a pattern again without rewriting it."
   ]
  },
  {
   "cell_type": "code",
   "execution_count": 39,
   "metadata": {},
   "outputs": [
    {
     "data": {
      "text/plain": [
       "['AV', 'AV']"
      ]
     },
     "execution_count": 39,
     "metadata": {},
     "output_type": "execute_result"
    }
   ],
   "source": [
    "pattern = re.compile(r'AV')\n",
    "result6 = pattern.findall('AV is Analytics vidhya AV')\n",
    "result6"
   ]
  },
  {
   "cell_type": "code",
   "execution_count": 47,
   "metadata": {},
   "outputs": [
    {
     "name": "stdout",
     "output_type": "stream",
     "text": [
      "['AV']\n"
     ]
    }
   ],
   "source": [
    "result6 = pattern.findall('AV is largest analytics community of India')\n",
    "print (result6)"
   ]
  },
  {
   "cell_type": "markdown",
   "metadata": {},
   "source": [
    "### Most commonly used operators"
   ]
  },
  {
   "cell_type": "markdown",
   "metadata": {},
   "source": [
    "    .\t Matches with any single character except newline ‘\\n’.\n",
    "    ?\t match 0 or 1 occurrence of the pattern to its left\n",
    "    +\t 1 or more occurrences of the pattern to its left\n",
    "    *\t 0 or more occurrences of the pattern to its left\n",
    "    \\w\t Matches with a alphanumeric character whereas \\W (upper case W) matches non alphanumeric character.\n",
    "    \\d\t  Matches with digits [0-9] and /D (upper case D) matches with non-digits.\n",
    "    \\s\t Matches with a single white space character (space, newline, return, tab, form) and \\S (upper case S) matches any non-white space character.\n",
    "    \\b\t boundary between word and non-word and /B is opposite of /b\n",
    "    [..]\t Matches any single character in a square bracket and [^..] matches any single character not in square bracket\n",
    "    \\\t It is used for special meaning characters like \\. to match a period or \\+ for plus sign.\n",
    "    ^ and $\t ^ and $ match the start or end of the string respectively\n",
    "    {n,m}\t Matches at least n and at most m occurrences of preceding expression if we write it as {,m} then it will return at least any minimum occurrence to max m preceding expression.\n",
    "    a| b\t Matches either a or b\n",
    "    ( )\tGroups regular expressions and returns matched text\n",
    "    \\t, \\n, \\r\t Matches tab, newline, return"
   ]
  },
  {
   "cell_type": "markdown",
   "metadata": {},
   "source": [
    "#### Extract each character (using “\\w“)"
   ]
  },
  {
   "cell_type": "code",
   "execution_count": 65,
   "metadata": {},
   "outputs": [],
   "source": [
    "pattern = re.compile(r'\\w')"
   ]
  },
  {
   "cell_type": "code",
   "execution_count": 68,
   "metadata": {},
   "outputs": [
    {
     "name": "stdout",
     "output_type": "stream",
     "text": [
      "['D', 'a', 't', 'a', 'i', 's', 't', 'h', 'e', 'n', 'e', 'w', 'o', 'i', 'l', '1', '2', '3']\n"
     ]
    }
   ],
   "source": [
    "mytext = 'Data is the new oil123.'\n",
    "result = pattern.findall(mytext)\n",
    "print(result)"
   ]
  },
  {
   "cell_type": "markdown",
   "metadata": {},
   "source": [
    "#### Extract each word (using “\\w” and “\\b“)"
   ]
  },
  {
   "cell_type": "code",
   "execution_count": 69,
   "metadata": {},
   "outputs": [
    {
     "name": "stdout",
     "output_type": "stream",
     "text": [
      "['Dat', 'the', 'new', 'oil', '123']\n"
     ]
    }
   ],
   "source": [
    "pattern = re.compile(r'\\w{3}')         # Extractin three letter word\n",
    "mytext = 'Data is the new oil123.'\n",
    "result = pattern.findall(mytext)\n",
    "print(result)"
   ]
  },
  {
   "cell_type": "code",
   "execution_count": 70,
   "metadata": {},
   "outputs": [
    {
     "name": "stdout",
     "output_type": "stream",
     "text": [
      "['ata', 'the', 'new', '123']\n"
     ]
    }
   ],
   "source": [
    "pattern = re.compile(r'\\w{3}\\b')         # Extractin three letter word having space in the end\n",
    "mytext = 'Data is the new oil123.'\n",
    "result = pattern.findall(mytext)\n",
    "print(result)"
   ]
  },
  {
   "cell_type": "code",
   "execution_count": 72,
   "metadata": {},
   "outputs": [
    {
     "name": "stdout",
     "output_type": "stream",
     "text": [
      "['Dat', 'the', 'new', 'oil']\n"
     ]
    }
   ],
   "source": [
    "pattern = re.compile(r'\\b\\w{3}')         # Extractin three letter word having space at the start\n",
    "mytext = 'Data is the new oil123.'\n",
    "result = pattern.findall(mytext)\n",
    "print(result)"
   ]
  },
  {
   "cell_type": "code",
   "execution_count": 73,
   "metadata": {},
   "outputs": [
    {
     "name": "stdout",
     "output_type": "stream",
     "text": [
      "['the', 'new']\n"
     ]
    }
   ],
   "source": [
    "pattern = re.compile(r'\\b\\w{3}\\b')         # Extractin three letter word having space at both ends\n",
    "mytext = 'Data is the new oil123.'\n",
    "result = pattern.findall(mytext)\n",
    "print(result)"
   ]
  },
  {
   "cell_type": "markdown",
   "metadata": {},
   "source": [
    "#### Extract each word (using “*” and “+“)"
   ]
  },
  {
   "cell_type": "code",
   "execution_count": 82,
   "metadata": {},
   "outputs": [
    {
     "name": "stdout",
     "output_type": "stream",
     "text": [
      "['Data', 'is', 'the', 'new', 'oil123']\n"
     ]
    }
   ],
   "source": [
    "mytext = 'Data is the new oil123.'              #Finding all words in a text\n",
    "result = re.findall(r'\\w+',mytext)\n",
    "print(result) \n"
   ]
  },
  {
   "cell_type": "code",
   "execution_count": 83,
   "metadata": {},
   "outputs": [
    {
     "name": "stdout",
     "output_type": "stream",
     "text": [
      "['Data']\n"
     ]
    }
   ],
   "source": [
    "mytext = 'Data is the new oil123.'              #Finding all words starting a sntence\n",
    "result = re.findall(r'^\\w+',mytext)\n",
    "print(result) "
   ]
  },
  {
   "cell_type": "code",
   "execution_count": 98,
   "metadata": {},
   "outputs": [
    {
     "name": "stdout",
     "output_type": "stream",
     "text": [
      "['oil123']\n"
     ]
    }
   ],
   "source": [
    "mytext = 'Data is the123 new oil123'              #Finding all words ending a sentence\n",
    "result = re.findall(r'\\w+$',mytext)\n",
    "print(result) "
   ]
  },
  {
   "cell_type": "code",
   "execution_count": 99,
   "metadata": {},
   "outputs": [
    {
     "name": "stdout",
     "output_type": "stream",
     "text": [
      "['oil123.']\n"
     ]
    }
   ],
   "source": [
    "mytext = 'Data is the123 new oil123.'              #Finding all words ending a sentence with full stop.\n",
    "result = re.findall(r'\\w+\\.$',mytext)\n",
    "print(result)"
   ]
  },
  {
   "cell_type": "markdown",
   "metadata": {},
   "source": [
    "### Return the first two character of each word"
   ]
  },
  {
   "cell_type": "code",
   "execution_count": 100,
   "metadata": {},
   "outputs": [
    {
     "name": "stdout",
     "output_type": "stream",
     "text": [
      "['Da', 'ta', 'is', 'th', 'e1', '23', 'ne', 'oi', 'l1', '23']\n"
     ]
    }
   ],
   "source": [
    "mytext = 'Data is the123 new oil123.'              #Finding all words ending a sentence with full stop.\n",
    "result = re.findall(r'\\w\\w',mytext)\n",
    "print(result)"
   ]
  },
  {
   "cell_type": "code",
   "execution_count": 101,
   "metadata": {},
   "outputs": [
    {
     "name": "stdout",
     "output_type": "stream",
     "text": [
      "['Da', 'is', 'th', 'ne', 'oi']\n"
     ]
    }
   ],
   "source": [
    "mytext = 'Data is the123 new oil123.'   # two characters those available at start of word boundary (using “\\b“)\n",
    "result = re.findall(r'\\b\\w\\w',mytext)\n",
    "print(result)"
   ]
  },
  {
   "cell_type": "markdown",
   "metadata": {},
   "source": [
    "### Return the domain type of given email-ids"
   ]
  },
  {
   "cell_type": "code",
   "execution_count": 106,
   "metadata": {},
   "outputs": [
    {
     "data": {
      "text/plain": [
       "['@gmail', '@test', '@analyticsvidhya', '@rest']"
      ]
     },
     "execution_count": 106,
     "metadata": {},
     "output_type": "execute_result"
    }
   ],
   "source": [
    "#Extract all characters after “@”\n",
    "\n",
    "mytext = '''@\\w+','abc.test@gmail.com, xyz@test.in,           \n",
    "           test.first@analyticsvidhya.com, first.test@rest.biz'''\n",
    "result = re.findall(r'@\\w+', mytext)                  \n",
    "result "
   ]
  },
  {
   "cell_type": "code",
   "execution_count": 108,
   "metadata": {},
   "outputs": [
    {
     "data": {
      "text/plain": [
       "['@gmail.com', '@test.in', '@analyticsvidhya.com', '@rest.biz']"
      ]
     },
     "execution_count": 108,
     "metadata": {},
     "output_type": "execute_result"
    }
   ],
   "source": [
    "#“.com”, “.in” part is not extracted. To add it, we will go with below code.\n",
    "\n",
    "mytext = '''@\\w+','abc.test@gmail.com, xyz@test.in,           \n",
    "           test.first@analyticsvidhya.com, first.test@rest.biz'''\n",
    "result = re.findall(r'@\\w+\\.\\w+', mytext)                  \n",
    "result "
   ]
  },
  {
   "cell_type": "code",
   "execution_count": 111,
   "metadata": {},
   "outputs": [
    {
     "data": {
      "text/plain": [
       "['com', 'in', 'com', 'biz']"
      ]
     },
     "execution_count": 111,
     "metadata": {},
     "output_type": "execute_result"
    }
   ],
   "source": [
    "#  Extract only domain name using “( )”\n",
    "\n",
    "mytext = '''@\\w+','abc.test@gmail.com, xyz@test.in,           \n",
    "           test.first@analyticsvidhya.com, first.test@rest.biz'''\n",
    "result = re.findall(r'@\\w+\\.(\\w+)', mytext)                  \n",
    "result "
   ]
  },
  {
   "cell_type": "markdown",
   "metadata": {},
   "source": [
    "### Return date from given string"
   ]
  },
  {
   "cell_type": "code",
   "execution_count": 113,
   "metadata": {},
   "outputs": [
    {
     "data": {
      "text/plain": [
       "['12-05-2007', '11-11-2011', '12-01-2009']"
      ]
     },
     "execution_count": 113,
     "metadata": {},
     "output_type": "execute_result"
    }
   ],
   "source": [
    "mystring = '''Amit 34-3456 12-05-2007, XYZ 56-4532 11-11-2011, ABC 67-8945 12-01-2009'''\n",
    "result = re.findall(r'\\d{2}-\\d{2}-\\d{4}', mystring)\n",
    "result"
   ]
  },
  {
   "cell_type": "code",
   "execution_count": 114,
   "metadata": {},
   "outputs": [
    {
     "data": {
      "text/plain": [
       "['2007', '2011', '2009']"
      ]
     },
     "execution_count": 114,
     "metadata": {},
     "output_type": "execute_result"
    }
   ],
   "source": [
    "#extract only year again parenthesis “( )” will help you.\n",
    "\n",
    "mystring = '''Amit 34-3456 12-05-2007, XYZ 56-4532 11-11-2011, ABC 67-8945 12-01-2009'''\n",
    "result = re.findall(r'\\d{2}-\\d{2}-(\\d{4})', mystring)\n",
    "result"
   ]
  },
  {
   "cell_type": "markdown",
   "metadata": {},
   "source": [
    "### Return all words of a string those starts with vowel"
   ]
  },
  {
   "cell_type": "code",
   "execution_count": 116,
   "metadata": {},
   "outputs": [
    {
     "name": "stdout",
     "output_type": "stream",
     "text": [
      "['is', 'oil123']\n"
     ]
    }
   ],
   "source": [
    "# Return words starts with alphabets (using [])\n",
    "\n",
    "mytext = 'Data is the123 new oil123.'   \n",
    "result = re.findall(r'\\b[aeiouAEIOU]\\w+',mytext)\n",
    "print(result)"
   ]
  },
  {
   "cell_type": "code",
   "execution_count": 128,
   "metadata": {},
   "outputs": [
    {
     "name": "stdout",
     "output_type": "stream",
     "text": [
      "['Data', ' is', ' the123', ' new', ' oil123']\n"
     ]
    }
   ],
   "source": [
    "#extract words those starts with consonents using “^” within square bracket.\n",
    "mytext = 'Data is the123 new oil123.'   \n",
    "result = re.findall(r'\\b[^aeiouAEIOU]\\w+',mytext) # Note here space is selected \n",
    "print(result)"
   ]
  },
  {
   "cell_type": "code",
   "execution_count": 127,
   "metadata": {},
   "outputs": [
    {
     "name": "stdout",
     "output_type": "stream",
     "text": [
      "['Data', 'the123', 'new']\n"
     ]
    }
   ],
   "source": [
    "#extract words those starts with consonents using “^” within square bracket.\n",
    "\n",
    "mytext = 'Data is the123 new oil123.'   \n",
    "result = re.findall(r'\\b[^aeiouAEIOU ]\\w+',mytext) # Note here space is provided inside square bracket\n",
    "print(result)"
   ]
  },
  {
   "cell_type": "markdown",
   "metadata": {},
   "source": [
    "### Validate a phone number (phone number must be of 10 digits and starts with 8 or 9) "
   ]
  },
  {
   "cell_type": "code",
   "execution_count": 129,
   "metadata": {},
   "outputs": [
    {
     "name": "stdout",
     "output_type": "stream",
     "text": [
      "yes\n",
      "no\n",
      "no\n"
     ]
    }
   ],
   "source": [
    "phone = ['9999999999','999999-999','99999x9999']\n",
    "\n",
    "for val in phone:\n",
    "    if re.match(r'[8-9]{1}[0-9]{9}',val) and len(val) == 10:\n",
    "        print('yes')\n",
    "    else:\n",
    "        print('no')"
   ]
  },
  {
   "cell_type": "markdown",
   "metadata": {},
   "source": [
    "### Split a string with multiple delimiters"
   ]
  },
  {
   "cell_type": "code",
   "execution_count": 130,
   "metadata": {},
   "outputs": [
    {
     "name": "stdout",
     "output_type": "stream",
     "text": [
      "['asdf', 'fjdk', 'afed', 'fjek', 'asdf', 'foo']\n"
     ]
    }
   ],
   "source": [
    "line = 'asdf fjdk;afed,fjek,asdf,foo'             # String has multiple delimiters (\";\",\",\",\" \").\n",
    "\n",
    "result= re.split(r'[;,\\s]', line)\n",
    "print(result)\n"
   ]
  },
  {
   "cell_type": "raw",
   "metadata": {},
   "source": [
    "Summary\n",
    "Using match, search, findall, split, sub, compile\n",
    "Extracting words beginning, ending, handling space\n",
    "Domain Name of email id, only domain name\n",
    "Finding date, year from a string\n",
    "Finding words starting with vowels and consonents\n",
    "Validating 10 digit phone number starting with 8 or 9 \n",
    "Splitting string with multiple delimiters\n",
    "\n",
    "Thank you Analytics Vidhya\n"
   ]
  },
  {
   "cell_type": "code",
   "execution_count": null,
   "metadata": {},
   "outputs": [],
   "source": []
  }
 ],
 "metadata": {
  "kernelspec": {
   "display_name": "Python 3",
   "language": "python",
   "name": "python3"
  },
  "language_info": {
   "codemirror_mode": {
    "name": "ipython",
    "version": 3
   },
   "file_extension": ".py",
   "mimetype": "text/x-python",
   "name": "python",
   "nbconvert_exporter": "python",
   "pygments_lexer": "ipython3",
   "version": "3.7.3"
  }
 },
 "nbformat": 4,
 "nbformat_minor": 2
}
