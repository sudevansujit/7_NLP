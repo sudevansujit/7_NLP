{
 "cells": [
  {
   "cell_type": "markdown",
   "metadata": {},
   "source": [
    "# RegEx_2"
   ]
  },
  {
   "cell_type": "code",
   "execution_count": 5,
   "metadata": {},
   "outputs": [],
   "source": [
    "import re"
   ]
  },
  {
   "cell_type": "code",
   "execution_count": 42,
   "metadata": {},
   "outputs": [],
   "source": [
    "text = \"\"\"abcdefghijklmnopqrstuvwxyz\n",
    "ABCDEHIJKLMNOPQRSTUVWXYZ\n",
    "1234567890\n",
    "\n",
    "MetaCharacters need to be escaped:\n",
    ".^$*+?{}[]()\\|\n",
    "\n",
    "jupyter.com\n",
    "\n",
    "Ha HaHa\n",
    "321-555-4321\n",
    "123.555.1234\n",
    "234*666*1989\n",
    "321--555--4321\n",
    "\n",
    "800-555-4321\n",
    "900.555.1234\n",
    "\n",
    "Mr. Schafer\n",
    "Mr. Smith\n",
    "Ms Davis\n",
    "Mrs Robinson\n",
    "Mr T\n",
    "Hello John 123 how 456789 are you1\"\n",
    "\"\"\""
   ]
  },
  {
   "cell_type": "markdown",
   "metadata": {},
   "source": [
    "### re.compile, and re.compile().finditer"
   ]
  },
  {
   "cell_type": "code",
   "execution_count": 43,
   "metadata": {},
   "outputs": [],
   "source": [
    "# finding position of 'Hello' in text\n",
    "result = re.compile('Hello')"
   ]
  },
  {
   "cell_type": "code",
   "execution_count": 44,
   "metadata": {},
   "outputs": [],
   "source": [
    "matches = result.finditer(text)"
   ]
  },
  {
   "cell_type": "code",
   "execution_count": 45,
   "metadata": {},
   "outputs": [
    {
     "name": "stdout",
     "output_type": "stream",
     "text": [
      "<re.Match object; span=(267, 272), match='Hello'>\n"
     ]
    }
   ],
   "source": [
    "for match in matches:\n",
    "    print(match)"
   ]
  },
  {
   "cell_type": "code",
   "execution_count": 46,
   "metadata": {},
   "outputs": [
    {
     "data": {
      "text/plain": [
       "'Hello'"
      ]
     },
     "execution_count": 46,
     "metadata": {},
     "output_type": "execute_result"
    }
   ],
   "source": [
    "text[267:272]"
   ]
  },
  {
   "cell_type": "code",
   "execution_count": 47,
   "metadata": {},
   "outputs": [
    {
     "name": "stdout",
     "output_type": "stream",
     "text": [
      "<re.Match object; span=(140, 143), match='555'>\n",
      "<re.Match object; span=(153, 156), match='555'>\n",
      "<re.Match object; span=(180, 183), match='555'>\n",
      "<re.Match object; span=(195, 198), match='555'>\n",
      "<re.Match object; span=(208, 211), match='555'>\n"
     ]
    }
   ],
   "source": [
    "# finding position of '555' in text\n",
    "matches2 = re.compile('555').finditer(text)\n",
    "for match2 in matches2:\n",
    "    print(match2)"
   ]
  },
  {
   "cell_type": "code",
   "execution_count": 48,
   "metadata": {},
   "outputs": [
    {
     "name": "stdout",
     "output_type": "stream",
     "text": [
      "<re.Match object; span=(52, 55), match='123'>\n",
      "<re.Match object; span=(55, 58), match='456'>\n",
      "<re.Match object; span=(58, 61), match='789'>\n",
      "<re.Match object; span=(136, 139), match='321'>\n",
      "<re.Match object; span=(140, 143), match='555'>\n",
      "<re.Match object; span=(144, 147), match='432'>\n",
      "<re.Match object; span=(149, 152), match='123'>\n",
      "<re.Match object; span=(153, 156), match='555'>\n",
      "<re.Match object; span=(157, 160), match='123'>\n",
      "<re.Match object; span=(162, 165), match='234'>\n",
      "<re.Match object; span=(166, 169), match='666'>\n",
      "<re.Match object; span=(170, 173), match='198'>\n",
      "<re.Match object; span=(175, 178), match='321'>\n",
      "<re.Match object; span=(180, 183), match='555'>\n",
      "<re.Match object; span=(185, 188), match='432'>\n",
      "<re.Match object; span=(191, 194), match='800'>\n",
      "<re.Match object; span=(195, 198), match='555'>\n",
      "<re.Match object; span=(199, 202), match='432'>\n",
      "<re.Match object; span=(204, 207), match='900'>\n",
      "<re.Match object; span=(208, 211), match='555'>\n",
      "<re.Match object; span=(212, 215), match='123'>\n",
      "<re.Match object; span=(278, 281), match='123'>\n",
      "<re.Match object; span=(286, 289), match='456'>\n",
      "<re.Match object; span=(289, 292), match='789'>\n"
     ]
    }
   ],
   "source": [
    "#\\d  Matches any decimal digit; equivalent to the set [0-9]\n",
    "# to match any three digit number we use '\\d{3}'\n",
    "\n",
    "matches3 = re.compile('\\d{3}').finditer(text)\n",
    "for match3 in matches3:\n",
    "    print(match3)"
   ]
  },
  {
   "cell_type": "code",
   "execution_count": 49,
   "metadata": {},
   "outputs": [
    {
     "name": "stdout",
     "output_type": "stream",
     "text": [
      "<re.Match object; span=(297, 301), match='you1'>\n"
     ]
    }
   ],
   "source": [
    "# finding three letter word ending with 1 eg you1\n",
    "\n",
    "result2 = re.compile('[a-z][a-z][a-z]1').finditer(text)\n",
    "for match4 in result2:\n",
    "    print(match4) "
   ]
  },
  {
   "cell_type": "code",
   "execution_count": 50,
   "metadata": {},
   "outputs": [
    {
     "name": "stdout",
     "output_type": "stream",
     "text": [
      "['3456654367', '2345987645', '7867564556', '6765545678']\n"
     ]
    }
   ],
   "source": [
    "# To find phone numbers 10 digit number\n",
    "\n",
    "var = \"hi my num is 3456654367 and 2345987645 and 7867564556 and 6765545678\"\n",
    "\n",
    "res = re.findall('[0-9]{10}', var)\n",
    "\n",
    "print(res)"
   ]
  },
  {
   "cell_type": "code",
   "execution_count": 51,
   "metadata": {},
   "outputs": [
    {
     "name": "stdout",
     "output_type": "stream",
     "text": [
      "<re.Match object; span=(136, 148), match='321-555-4321'>\n",
      "<re.Match object; span=(149, 161), match='123.555.1234'>\n",
      "<re.Match object; span=(162, 174), match='234*666*1989'>\n",
      "<re.Match object; span=(191, 203), match='800-555-4321'>\n",
      "<re.Match object; span=(204, 216), match='900.555.1234'>\n"
     ]
    }
   ],
   "source": [
    "# Finding phone numbers in text\n",
    "matches5 = re.compile(r'\\d{3}.\\d{3}.\\d{4}').finditer(text)\n",
    "for match5 in matches5:\n",
    "    print(match5)"
   ]
  },
  {
   "cell_type": "code",
   "execution_count": 52,
   "metadata": {},
   "outputs": [
    {
     "name": "stdout",
     "output_type": "stream",
     "text": [
      "<re.Match object; span=(136, 148), match='321-555-4321'>\n",
      "<re.Match object; span=(149, 161), match='123.555.1234'>\n",
      "<re.Match object; span=(162, 174), match='234*666*1989'>\n",
      "<re.Match object; span=(175, 189), match='321--555--4321'>\n",
      "<re.Match object; span=(191, 203), match='800-555-4321'>\n",
      "<re.Match object; span=(204, 216), match='900.555.1234'>\n"
     ]
    }
   ],
   "source": [
    "#Finding phone numbers with \"--\" in between\n",
    "matches6 = re.compile(r'\\d{3}.+\\d{3}.+\\d{4}').finditer(text)\n",
    "for match6 in matches6:\n",
    "    print(match6)"
   ]
  },
  {
   "cell_type": "code",
   "execution_count": 53,
   "metadata": {},
   "outputs": [
    {
     "name": "stdout",
     "output_type": "stream",
     "text": [
      "<re.Match object; span=(115, 126), match='jupyter.com'>\n",
      "(115, 126)\n"
     ]
    }
   ],
   "source": [
    "# \\In order for '.' to be taken literally\n",
    "\n",
    "matches7 = re.compile(r'jupyter\\.com').finditer(text)\n",
    "\n",
    "for match7 in matches7:\n",
    "    print(match7)  \n",
    "    print(match7.span())"
   ]
  },
  {
   "cell_type": "code",
   "execution_count": 54,
   "metadata": {},
   "outputs": [
    {
     "name": "stdout",
     "output_type": "stream",
     "text": [
      "jupyter.com\n"
     ]
    }
   ],
   "source": [
    "print(text[115:126])"
   ]
  },
  {
   "cell_type": "code",
   "execution_count": 56,
   "metadata": {},
   "outputs": [
    {
     "name": "stdout",
     "output_type": "stream",
     "text": [
      "<re.Match object; span=(128, 130), match='Ha'>\n",
      "<re.Match object; span=(131, 133), match='Ha'>\n"
     ]
    }
   ],
   "source": [
    "# Word Boundary\n",
    "#\\b represents an anchor like caret (it is similar to $ and ^)\n",
    "#matching positions where one side is a word character (like \\w) and the other side is not a word character \n",
    "#(for instance it may be the beginning of the string or a space character).\n",
    "\n",
    "#  Ha HaHa  The 'Ha' having space before will be selected \n",
    "\n",
    "matches8 = re.compile(r'\\bHa').finditer(text)\n",
    "\n",
    "for match8 in matches8:\n",
    "    print(match8)"
   ]
  },
  {
   "cell_type": "code",
   "execution_count": 58,
   "metadata": {},
   "outputs": [
    {
     "name": "stdout",
     "output_type": "stream",
     "text": [
      "<re.Match object; span=(133, 135), match='Ha'>\n"
     ]
    }
   ],
   "source": [
    "# Not a word Boundary\n",
    "#\\Babc\\B          matches only if the pattern is fully surrounded by word characters\n",
    "# \\BHa  selects Ha surrounded by words\n",
    "\n",
    "pattern2 = re.compile(r'\\BHa')     \n",
    "\n",
    "matches9 = pattern2.finditer(text)\n",
    "\n",
    "for match9 in matches9:\n",
    "    print(match9)"
   ]
  },
  {
   "cell_type": "code",
   "execution_count": 59,
   "metadata": {},
   "outputs": [
    {
     "name": "stdout",
     "output_type": "stream",
     "text": [
      "<re.Match object; span=(99, 100), match='.'>\n",
      "<re.Match object; span=(122, 123), match='.'>\n",
      "<re.Match object; span=(152, 153), match='.'>\n",
      "<re.Match object; span=(156, 157), match='.'>\n",
      "<re.Match object; span=(207, 208), match='.'>\n",
      "<re.Match object; span=(211, 212), match='.'>\n",
      "<re.Match object; span=(220, 221), match='.'>\n",
      "<re.Match object; span=(232, 233), match='.'>\n"
     ]
    }
   ],
   "source": [
    "# To search for dot '.'\n",
    "\n",
    "matches10 = re.compile(r'\\.').finditer(text)\n",
    "\n",
    "for match10 in matches10:\n",
    "    print(match10)"
   ]
  },
  {
   "cell_type": "code",
   "execution_count": 60,
   "metadata": {},
   "outputs": [
    {
     "name": "stdout",
     "output_type": "stream",
     "text": [
      "<re.Match object; span=(218, 229), match='Mr. Schafer'>\n",
      "<re.Match object; span=(230, 239), match='Mr. Smith'>\n",
      "<re.Match object; span=(262, 266), match='Mr T'>\n"
     ]
    }
   ],
   "source": [
    "# To match prefix Mr. and name after that\n",
    "\n",
    "pattern3 = re.compile(r'Mr\\.?\\s[A-Z]\\w*')       \n",
    "\n",
    "# \\.   considers it as dot \".\"\n",
    "# \\.?  considers it as zero or one dot\n",
    "# \\s   is space\n",
    "# \\w*  means zero or more alphabets\n",
    "\n",
    "matches11 = pattern3.finditer(text)\n",
    "\n",
    "for match11 in matches11:\n",
    "    print(match11)     "
   ]
  },
  {
   "cell_type": "code",
   "execution_count": 61,
   "metadata": {},
   "outputs": [
    {
     "name": "stdout",
     "output_type": "stream",
     "text": [
      "<re.Match object; span=(218, 229), match='Mr. Schafer'>\n",
      "<re.Match object; span=(230, 239), match='Mr. Smith'>\n",
      "<re.Match object; span=(240, 248), match='Ms Davis'>\n",
      "<re.Match object; span=(249, 261), match='Mrs Robinson'>\n",
      "<re.Match object; span=(262, 266), match='Mr T'>\n"
     ]
    }
   ],
   "source": [
    "# Use of group ()\n",
    "pattern4 = re.compile(r'M(r|s|rs)\\.?\\s[A-Z]\\w*')   \n",
    "\n",
    "# \"|\"  means or,  r|s|rs   r or s or rs\n",
    "matches12 = pattern4.finditer(text)\n",
    "\n",
    "for match12 in matches12:\n",
    "    print(match12)"
   ]
  },
  {
   "cell_type": "code",
   "execution_count": 62,
   "metadata": {},
   "outputs": [
    {
     "name": "stdout",
     "output_type": "stream",
     "text": [
      "Country Name : ['INDIA', 'USA', 'AUSTRALIA']\n",
      "Person_Name : ['Sandy', 'Mike', 'Joel', 'John']\n",
      "IP_address : ['12.144.13.12', '155.16.32.14', '1.1.1.3', '122.144.133.11']\n"
     ]
    }
   ],
   "source": [
    "var2 = \"\"\" INDIA ip is 12.144.13.12 Sandy\n",
    "          USA   ip is 155.16.32.14 Mike\n",
    "          UK ip is 1.1.1.3 Joel\n",
    "          AUSTRALIA ip is 122.144.133.11 John \"\"\"\n",
    "\n",
    "country = re.findall('[A-Z]{3,}', var2)\n",
    "\n",
    "names = re.findall('[A-Z][a-z]{1,}', var2)\n",
    "\n",
    "ip_add = re.findall('[0-9]{1,3}[.][0-9]{1,3}[.][0-9]{1,3}[.][0-9]{1,3}', var2)\n",
    "\n",
    "print('Country Name :',country)                               \n",
    "print('Person_Name :', names)                              \n",
    "print('IP_address :', ip_add)"
   ]
  },
  {
   "cell_type": "code",
   "execution_count": 64,
   "metadata": {},
   "outputs": [
    {
     "name": "stdout",
     "output_type": "stream",
     "text": [
      "['04/01/1985', '12.11.1989', '06@09@1991', '12:12:1996']\n",
      " ABC DOB is 04/01/1985\n",
      "         DEf DOB is 12/11/1989\n",
      "        CXY DOB is 06/09/1991\n",
      "        JPY DOB is 12/12/1996 \n"
     ]
    }
   ],
   "source": [
    "var3 = \"\"\" ABC DOB is 04/01/1985\n",
    "         DEf DOB is 12.11.1989\n",
    "        CXY DOB is 06@09@1991\n",
    "        JPY DOB is 12:12:1996 \"\"\"\n",
    "\n",
    "pat = re.findall('[0-9]{2}[/.@:][0-9]{2}[/.@:][0-9]{4}' , var3)\n",
    "\n",
    "print(pat)\n",
    "\n",
    "res3 = re.sub(\"[/.@:]\", '/', var3)\n",
    "\n",
    "print(res3)"
   ]
  },
  {
   "cell_type": "code",
   "execution_count": null,
   "metadata": {},
   "outputs": [],
   "source": [
    "References\n",
    "\n",
    "https://medium.com/factory-mind/regex-tutorial-a-simple-cheatsheet-by-examples-649dc1c3f285"
   ]
  }
 ],
 "metadata": {
  "kernelspec": {
   "display_name": "Python 3",
   "language": "python",
   "name": "python3"
  },
  "language_info": {
   "codemirror_mode": {
    "name": "ipython",
    "version": 3
   },
   "file_extension": ".py",
   "mimetype": "text/x-python",
   "name": "python",
   "nbconvert_exporter": "python",
   "pygments_lexer": "ipython3",
   "version": "3.7.3"
  }
 },
 "nbformat": 4,
 "nbformat_minor": 2
}
