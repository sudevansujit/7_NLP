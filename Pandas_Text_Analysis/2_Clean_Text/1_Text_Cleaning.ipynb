{
 "cells": [
  {
   "cell_type": "code",
   "execution_count": 28,
   "metadata": {},
   "outputs": [],
   "source": [
    "document = \"\"\"Developing the Package Index\n",
    "PyPI.nextgen:\n",
    "Currently, as of 2013-11-11, PyPI is undergoing a complete rewrite from scratch, and as a result much of the information on this page is not actual. You can see preview of the new site at:\n",
    "\n",
    "https://pypi.org/\n",
    "\n",
    "The development moved from Mercurial (Python) to Git (C, shell). License changed from BSD-3 to Apache 2.0. Project code named 'warehouse' can be downloaded from:\n",
    "\n",
    "https://github.com/pypa/warehouse\n",
    "\n",
    "Previous PyPI version\n",
    "\"previous\" version of PyPI is the code that was running on http://pypi.python.org from ... till the end of 2013. It was originally written by ... and was running on ... . The information below should help you get around the code.\n",
    "\n",
    "The PyPI code was hosted under the Python Packaging Authority project: https://bitbucket.org/pypa/pypi and is now on GItHub: https://github.com/pypa/pypi-legacy\n",
    "\n",
    "Bug and patch tracker https://github.com/pypa/pypi-legacy/issues\n",
    "\n",
    "Mailing List (Gmane web interface)\n",
    "\n",
    "API that is used by easy_install http://peak.telecommunity.com/DevCenter/EasyInstall#package-index-api\n",
    "\n",
    "PyPIOAuth - authentication library for Google and Launchpad logins\n",
    "\n",
    "PyPI architecture and endpoints\n",
    "PyPI is a WSGI application that can be executed standalone using python pypi.wsgi command if all requirements are met. pypi.wsgi contains usual WSGI wrapper code and delegates request processing to WebUI.run() method from webui.py. This method just opens DB and handles exceptions, actual request processing is done in WebUI.inner_run(). This method analyzes URL endpoint and executes appropriate handler. As of 2011-04, the rules to match endpoints to handlers are the following:\n",
    "\n",
    "/simple\n",
    "\n",
    "WebUI.run_simple()\n",
    "\n",
    "dump all package names on single html page\n",
    "\n",
    "/simple/(.+)/\n",
    "\n",
    "WebUI.run_simple()\n",
    "\n",
    "dump all links for a package in html list\n",
    "\n",
    "/serversig/(.+)/\n",
    "\n",
    ".run_simple_sign()\n",
    "\n",
    "save as above, but signed by server\n",
    "\n",
    "/mirrors\n",
    "\n",
    ".mirrors()\n",
    "\n",
    "display static page with a list of mirrors\n",
    "\n",
    "/daytime\n",
    "\n",
    ".daytime()\n",
    "\n",
    "display current server time\n",
    "\n",
    "...\n",
    "\n",
    "XML-RPC requests are detected by CONTENT_TYPE=text/xml variable in CGI environment and processed by rpc.RequestHandler().__call__(). List of XML-RPC \"endpoints\" is available on PyPIXmlRpc page.\n",
    "\n",
    "Testing Your Stuff Against PyPI\n",
    "If you need to test stuff against PyPI (registration, uploading, API activities) then please use the alternative server \"testpypi.python.org\".\n",
    "\n",
    "TO-DO list\n",
    "A dump of download counts.\n",
    "A big structured dump of all package meta-data.\n",
    "A link from package to RTFD.\n",
    "PEP for metadata 1.2 -- not finished and needs more catalog-sig discussion)\n",
    "\n",
    "documented procedures for \"taking over\" entries should the original owner of the entry go away (and any required system support)\n",
    "tooltips for field labels\n",
    "change notification emails\n",
    "per-classifier \"wiki\" content to allow description and discussion around each classifier (perhaps what packages are available and how they relate to one another)\n",
    "screenshot images (with thumbnailing and a \"latest screenshot\" on the front page?) - or perhaps icons instead of thumbnails for some packages?\n",
    "Something that's been requested, but needs much more thought and analysis to see whether it causes any problems: the ability to treat project names and versions as case-insensitive, while removing extraneous characters (as in pkg_resources.safe_name()) for purposes both of searching and determining name uniqueness when registering.\n",
    "\n",
    "Done\n",
    "command-line tool to query pypi and fetch entries: yolk\n",
    "\n",
    "Not Going TO-DO\n",
    "Edit PEP 243 to reflect reality. The interface is implemented in the distutils register and upload commands. This code is good enough for documentation, especially because it's the only implementation necessary.\n",
    "\n",
    "moderated user reviews and ratings (this would require quite a lot of support from volunteers though)\n",
    "Proposals\n",
    "EnhancedPyPI Enhance multiple package index servers support in Distutils.\n",
    "\n",
    "Development Environment Hints\n",
    "WARNING: Most of the information in here are out of date, see the instruction on the PyPI-legacy GitHub repository for more information, and most likely ask the developers for hints before trying to work on PyPI locally on your own !\n",
    "\n",
    "PyPI uses postgresql 9.5 as a database, with a roll it yourself web framework based on different python modules. It uses apache2 as the web server.\n",
    "\n",
    "It can run using wsgi, cgi, fcgi and mod_python.\n",
    "\n",
    "Before restoring database, \"pypi\" role must exists:\n",
    "Ask RichardJones if you need a database dump. Note that dumps should not be imported into an existing database that has had the pkdump_schema.sql DDL script run against it. The pg_dump file will create all of the database tables, columns, indexes, foreign keys, etc. that are required.\n",
    "\n",
    "if your config.ini isn't in /tmp/pypi.ini. You can leave it as 'config.ini' if it's in the same directory as pypi.py.\n",
    "\n",
    "You will need to add cheesecake_password=yourpasshere into the config.ini in the webui section.\n",
    "\n",
    "To integrate it with Apache, we recommend to use WSGI through mod_wsgi. Your configuration should look like this:. \"\"\""
   ]
  },
  {
   "cell_type": "code",
   "execution_count": 29,
   "metadata": {},
   "outputs": [
    {
     "data": {
      "text/plain": [
       "'Developing the Package Index PyPI.nextgen: Currently, as of 2013-11-11, PyPI is undergoing a complete rewrite from scratch, and as a result much of the information on this page is not actual. You can see preview of the new site at:.https://pypi.org/.The development moved from Mercurial (Python) to Git (C, shell). License changed from BSD-3 to Apache 2.0. Project code named \\'warehouse\\' can be downloaded from:.https://github.com/pypa/warehouse.Previous PyPI version \"previous\" version of PyPI is the code that was running on http://pypi.python.org from  till the end of 2013. It was originally written by  and was running on  . The information below should help you get around the code.The PyPI code was hosted under the Python Packaging Authority project: https://bitbucket.org/pypa/pypi and is now on GItHub: https://github.com/pypa/pypi-legacy.Bug and patch tracker https://github.com/pypa/pypi-legacy/issues.Mailing List (Gmane web interface).API that is used by easy_install http://peak.telecommunity.com/DevCenter/EasyInstall#package-index-api.PyPIOAuth - authentication library for Google and Launchpad logins.PyPI architecture and endpoints PyPI is a WSGI application that can be executed standalone using python pypi.wsgi command if all requirements are met. pypi.wsgi contains usual WSGI wrapper code and delegates request processing to WebUI.run() method from webui.py. This method just opens DB and handles exceptions, actual request processing is done in WebUI.inner_run(). This method analyzes URL endpoint and executes appropriate handler. As of 2011-04, the rules to match endpoints to handlers are the following:./simple.WebUI.run_simple().dump all package names on single html page./simple/(.+)/.WebUI.run_simple().dump all links for a package in html list./serversig/(.+)/.run_simple_sign().save as above, but signed by server./mirrors.mirrors().display static page with a list of mirrors./daytime.daytime().display current server time.XML-RPC requests are detected by CONTENT_TYPE=text/xml variable in CGI environment and processed by rpc.RequestHandler().__call__(). List of XML-RPC \"endpoints\" is available on PyPIXmlRpc page.Testing Your Stuff Against PyPI If you need to test stuff against PyPI (registration, uploading, API activities) then please use the alternative server \"testpypi.python.org\".TO-DO list A dump of download counts. A big structured dump of all package meta-data. A link from package to RTFD. PEP for metadata 1.2 -- not finished and needs more catalog-sig discussion).documented procedures for \"taking over\" entries should the original owner of the entry go away (and any required system support) tooltips for field labels change notification emails per-classifier \"wiki\" content to allow description and discussion around each classifier (perhaps what packages are available and how they relate to one another) screenshot images (with thumbnailing and a \"latest screenshot\" on the front page?) - or perhaps icons instead of thumbnails for some packages? Something that\\'s been requested, but needs much more thought and analysis to see whether it causes any problems: the ability to treat project names and versions as case-insensitive, while removing extraneous characters (as in pkg_resources.safe_name()) for purposes both of searching and determining name uniqueness when registering.Done command-line tool to query pypi and fetch entries: yolk.Not Going TO-DO Edit PEP 243 to reflect reality. The interface is implemented in the distutils register and upload commands. This code is good enough for documentation, especially because it\\'s the only implementation necessary.moderated user reviews and ratings (this would require quite a lot of support from volunteers though) Proposals EnhancedPyPI Enhance multiple package index servers support in Distutils.Development Environment Hints WARNING: Most of the information in here are out of date, see the instruction on the PyPI-legacy GitHub repository for more information, and most likely ask the developers for hints before trying to work on PyPI locally on your own !.PyPI uses postgresql 9.5 as a database, with a roll it yourself web framework based on different python modules. It uses apache2 as the web server.It can run using wsgi, cgi, fcgi and mod_python.Before restoring database, \"pypi\" role must exists: Ask RichardJones if you need a database dump. Note that dumps should not be imported into an existing database that has had the pkdump_schema.sql DDL script run against it. The pg_dump file will create all of the database tables, columns, indexes, foreign keys, etc. that are required.if your config.ini isn\\'t in /tmp/pypi.ini. You can leave it as \\'config.ini\\' if it\\'s in the same directory as pypi.py.You will need to add cheesecake_password=yourpasshere into the config.ini in the webui section.To integrate it with Apache, we recommend to use WSGI through mod_wsgi. Your configuration should look like this:.'"
      ]
     },
     "execution_count": 29,
     "metadata": {},
     "output_type": "execute_result"
    }
   ],
   "source": [
    "document = document.replace('\\n', ' ')\n",
    "document = document.replace('  ', '.')\n",
    "\n",
    "document = document.strip()\n",
    "document = document.replace('...', '')\n",
    "document = document.replace('..', '.')\n",
    "document"
   ]
  },
  {
   "cell_type": "code",
   "execution_count": 30,
   "metadata": {},
   "outputs": [],
   "source": [
    "import spacy\n",
    "nlp = spacy.load('en_core_web_sm')\n",
    "doc = nlp(document)"
   ]
  },
  {
   "cell_type": "code",
   "execution_count": 31,
   "metadata": {},
   "outputs": [
    {
     "name": "stdout",
     "output_type": "stream",
     "text": [
      "0   Developing the Package Index PyPI.nextgen:\n",
      "1   Currently, as of 2013-11-11, PyPI is undergoing a complete rewrite from scratch, and as a result much of the information on this page is not actual.\n",
      "2   You can see preview of the new site at:.https://pypi.org/.The\n",
      "3   development moved from Mercurial (Python) to Git (C, shell).\n",
      "4   License changed from BSD-3 to Apache 2.0.\n",
      "5   Project code named 'warehouse' can be downloaded from:.https://github.com/pypa/warehouse.\n",
      "6   Previous PyPI version \"previous\" version of PyPI is the code that was running on http://pypi.python.org from  till the end of 2013.\n",
      "7   It was originally written by  and was running on  .\n",
      "8   The information below should help you get around the code.\n",
      "9   The PyPI code was hosted under the Python Packaging Authority project: https://bitbucket.org/pypa/pypi and is now on GItHub:\n",
      "10   https://github.com/pypa/pypi-legacy.Bug and\n",
      "11   patch tracker https://github.com/pypa/pypi-legacy/issues.Mailing List (Gmane web interface).API that is used by easy_install http://peak.telecommunity.com/DevCenter/EasyInstall#package-index-api.PyPIOAuth - authentication library for Google and Launchpad logins.\n",
      "12   PyPI architecture and endpoints PyPI is a WSGI application that can be executed standalone using python pypi.wsgi command if all requirements are met.\n",
      "13   pypi.wsgi contains usual WSGI wrapper code and delegates request processing to WebUI.run() method from webui.py.\n",
      "14   This method just opens DB and handles exceptions, actual request processing is done in WebUI.inner_run().\n",
      "15   This method analyzes URL endpoint and executes appropriate handler.\n",
      "16   As of 2011-04, the rules to match endpoints to handlers are the following:./simple.\n",
      "17   WebUI.run_simple().dump\n",
      "18   all package names on single html page./simple/(.+)/.WebUI.run_simple().dump all links for a package in html list./serversig/(.+)/.run_simple_sign().save as above, but signed by server./mirrors.mirrors().display static page with a list of mirrors./daytime.daytime().display current server time.\n",
      "19   XML-RPC requests are detected by CONTENT_TYPE=text/xml variable in CGI environment and processed by rpc.\n",
      "20   RequestHandler().__call__\n",
      "21   ().\n",
      "22   List of XML-RPC \"endpoints\" is available on PyPIXmlRpc page.\n",
      "23   Testing Your Stuff Against PyPI\n",
      "24   If you need to test stuff against PyPI (registration, uploading, API activities)\n",
      "25   then please use the alternative server \"testpypi.python.org\".\n",
      "26   TO-DO list A dump of download counts.\n",
      "27   A big structured dump of all package meta-data.\n",
      "28   A link from package to RTFD.\n",
      "29   PEP for metadata 1.2 -- not finished and needs more catalog-sig discussion).documented procedures for \"taking over\" entries should the original owner of the entry go away (and any required system support)\n",
      "30   tooltips for field labels change notification emails per-classifier \"wiki\" content to allow description and discussion around each classifier\n",
      "31   (perhaps what packages are available and how they relate to one another) screenshot images (with thumbnailing and a \"latest screenshot\" on the front page?)\n",
      "32   - or perhaps icons instead of thumbnails for some packages?\n",
      "33   Something that's been requested, but needs much more thought and analysis to see whether it causes any problems: the ability to treat project names and versions as case-insensitive, while removing extraneous characters (as in pkg_resources.safe_name())\n",
      "34   for purposes both of searching and determining name uniqueness when registering.\n",
      "35   Done command-line tool to query pypi and fetch entries: yolk.\n",
      "36   Not Going TO-DO\n",
      "37   Edit PEP 243 to reflect reality.\n",
      "38   The interface is implemented in the distutils register and upload commands.\n",
      "39   This code is good enough for documentation, especially because it's the only implementation necessary.moderated user reviews and ratings (this would require quite a lot of support from volunteers though)\n",
      "40   Proposals EnhancedPyPI\n",
      "41   Enhance multiple package index servers support in Distutils.\n",
      "42   Development Environment Hints WARNING:\n",
      "43   Most of the information in here are out of date, see the instruction on the PyPI-legacy GitHub repository for more information, and most likely ask the developers for hints before trying to work on PyPI locally on your own !\n",
      "44   .PyPI\n",
      "45   uses postgresql 9.5 as a database, with a roll\n",
      "46   it yourself web framework based on different python modules.\n",
      "47   It uses apache2 as the web server.\n",
      "48   It can run using wsgi, cgi, fcgi and mod_python.\n",
      "49   Before restoring database, \"pypi\" role must exists:\n",
      "50   Ask RichardJones if you need a database dump.\n",
      "51   Note that dumps should not be imported into an existing database that has had the pkdump_schema.sql DDL script run against it.\n",
      "52   The pg_dump file will create all of the database tables, columns, indexes, foreign keys, etc.\n",
      "53   that are required.if your config.ini isn't in /tmp/pypi.ini.\n",
      "54   You can leave it as 'config.ini' if it's in the same directory as pypi.py.\n",
      "55   You will need to add cheesecake_password=yourpasshere into the config.ini in the webui section.\n",
      "56   To integrate it with Apache, we recommend to use WSGI through mod_wsgi.\n",
      "57   Your configuration should look like this:.\n"
     ]
    }
   ],
   "source": [
    "for i, sent in enumerate(doc.sents):\n",
    "    print(i, ' ' ,sent)"
   ]
  },
  {
   "cell_type": "code",
   "execution_count": 58,
   "metadata": {},
   "outputs": [
    {
     "data": {
      "text/plain": [
       "."
      ]
     },
     "execution_count": 58,
     "metadata": {},
     "output_type": "execute_result"
    }
   ],
   "source": [
    "#Dot '.'\n",
    "doc[sent.end -1]"
   ]
  },
  {
   "cell_type": "code",
   "execution_count": 57,
   "metadata": {},
   "outputs": [
    {
     "name": "stdout",
     "output_type": "stream",
     "text": [
      "1   Currently, as of 2013-11-11, PyPI is undergoing a complete rewrite from scratch, and as a result much of the information on this page is not actual.\n",
      "4   License changed from BSD-3 to Apache 2.0.\n",
      "5   Project code named 'warehouse' can be downloaded from:.https://github.com/pypa/warehouse.\n",
      "6   Previous PyPI version \"previous\" version of PyPI is the code that was running on http://pypi.python.org from  till the end of 2013.\n",
      "7   It was originally written by  and was running on  .\n",
      "8   The information below should help you get around the code.\n",
      "14   This method just opens DB and handles exceptions, actual request processing is done in WebUI.inner_run().\n",
      "15   This method analyzes URL endpoint and executes appropriate handler.\n",
      "16   As of 2011-04, the rules to match endpoints to handlers are the following:./simple.\n",
      "22   List of XML-RPC \"endpoints\" is available on PyPIXmlRpc page.\n",
      "27   A big structured dump of all package meta-data.\n",
      "28   A link from package to RTFD.\n",
      "35   Done command-line tool to query pypi and fetch entries: yolk.\n",
      "37   Edit PEP 243 to reflect reality.\n",
      "38   The interface is implemented in the distutils register and upload commands.\n",
      "41   Enhance multiple package index servers support in Distutils.\n",
      "47   It uses apache2 as the web server.\n",
      "48   It can run using wsgi, cgi, fcgi and mod_python.\n",
      "50   Ask RichardJones if you need a database dump.\n",
      "51   Note that dumps should not be imported into an existing database that has had the pkdump_schema.sql DDL script run against it.\n",
      "52   The pg_dump file will create all of the database tables, columns, indexes, foreign keys, etc.\n",
      "54   You can leave it as 'config.ini' if it's in the same directory as pypi.py.\n",
      "55   You will need to add cheesecake_password=yourpasshere into the config.ini in the webui section.\n",
      "56   To integrate it with Apache, we recommend to use WSGI through mod_wsgi.\n",
      "57   Your configuration should look like this:.\n"
     ]
    }
   ],
   "source": [
    "for i, sent in enumerate(doc.sents):\n",
    "    if doc[sent.start].is_title == True and doc[sent.end - 1].text == '.' :\n",
    "        print(i, ' ' ,sent)"
   ]
  },
  {
   "cell_type": "code",
   "execution_count": null,
   "metadata": {},
   "outputs": [],
   "source": []
  }
 ],
 "metadata": {
  "kernelspec": {
   "display_name": "Python 3",
   "language": "python",
   "name": "python3"
  },
  "language_info": {
   "codemirror_mode": {
    "name": "ipython",
    "version": 3
   },
   "file_extension": ".py",
   "mimetype": "text/x-python",
   "name": "python",
   "nbconvert_exporter": "python",
   "pygments_lexer": "ipython3",
   "version": "3.7.3"
  }
 },
 "nbformat": 4,
 "nbformat_minor": 2
}
